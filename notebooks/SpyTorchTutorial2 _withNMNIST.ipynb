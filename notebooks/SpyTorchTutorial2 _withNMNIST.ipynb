{
 "cells": [
  {
   "cell_type": "markdown",
   "metadata": {
    "id": "JKJ0BjXaUwcT"
   },
   "source": [
    "# Tutorial 2: Training a spiking neural network on a simple vision dataset\n",
    "\n",
    "Friedemann Zenke (https://fzenke.net)"
   ]
  },
  {
   "cell_type": "markdown",
   "metadata": {
    "id": "JblnYVhuUwcW"
   },
   "source": [
    "> For more details on surrogate gradient learning, please see:\n",
    "> Neftci, E.O., Mostafa, H., and Zenke, F. (2019). Surrogate Gradient Learning in Spiking Neural Networks.\n",
    "> https://arxiv.org/abs/1901.09948"
   ]
  },
  {
   "cell_type": "markdown",
   "metadata": {
    "id": "LSbGiuOkUwcW"
   },
   "source": [
    "In Tutorial 1, we have seen how to train a simple multi-layer spiking neural network on a small synthetic dataset. In this tutorial, we will apply what we have learned so far to a slightly larger dataset.\n",
    "Concretely, we will use the [Fashion MNIST dataset](https://github.com/zalandoresearch/fashion-mnist)."
   ]
  },
  {
   "cell_type": "code",
   "execution_count": 193,
   "metadata": {
    "colab": {
     "base_uri": "https://localhost:8080/"
    },
    "executionInfo": {
     "elapsed": 2544,
     "status": "ok",
     "timestamp": 1741063343202,
     "user": {
      "displayName": "Nalini Ramanathan",
      "userId": "15018175460010335567"
     },
     "user_tz": 300
    },
    "id": "h7VNlYaJWxMa",
    "outputId": "dbd03e68-42ff-419d-cade-09226cf402ae"
   },
   "outputs": [],
   "source": [
    "# !pip install tonic"
   ]
  },
  {
   "cell_type": "code",
   "execution_count": 194,
   "metadata": {
    "id": "2MjziHmvUwcW"
   },
   "outputs": [],
   "source": [
    "import os\n",
    "\n",
    "import numpy as np\n",
    "import matplotlib.pyplot as plt\n",
    "from matplotlib.gridspec import GridSpec\n",
    "import seaborn as sns\n",
    "\n",
    "import torch\n",
    "import torch.nn as nn\n",
    "import torchvision"
   ]
  },
  {
   "cell_type": "code",
   "execution_count": 195,
   "metadata": {
    "colab": {
     "base_uri": "https://localhost:8080/",
     "height": 35
    },
    "executionInfo": {
     "elapsed": 32,
     "status": "ok",
     "timestamp": 1741063343278,
     "user": {
      "displayName": "Nalini Ramanathan",
      "userId": "15018175460010335567"
     },
     "user_tz": 300
    },
    "id": "4-wgCxnXUwcX",
    "outputId": "39bb8fc9-5b2a-401b-fbac-7ea890febc0d"
   },
   "outputs": [
    {
     "data": {
      "text/plain": [
       "'2.6.0'"
      ]
     },
     "execution_count": 195,
     "metadata": {},
     "output_type": "execute_result"
    }
   ],
   "source": [
    "torch.__version__"
   ]
  },
  {
   "cell_type": "code",
   "execution_count": 196,
   "metadata": {
    "id": "-9vv4MEfUwcY"
   },
   "outputs": [],
   "source": [
    "# The coarse network structure is dicated by the Fashion MNIST dataset.\n",
    "nb_inputs  = 34*34 # https://greg-cohen.com/project/datasets/\n",
    "nb_hidden  = 100\n",
    "nb_outputs = 10\n",
    "\n",
    "time_step = 1e-3\n",
    "nb_steps  = 100\n",
    "\n",
    "batch_size = 1"
   ]
  },
  {
   "cell_type": "code",
   "execution_count": 197,
   "metadata": {
    "colab": {
     "base_uri": "https://localhost:8080/"
    },
    "executionInfo": {
     "elapsed": 117,
     "status": "ok",
     "timestamp": 1741063343434,
     "user": {
      "displayName": "Nalini Ramanathan",
      "userId": "15018175460010335567"
     },
     "user_tz": 300
    },
    "id": "2IjPt1OVUwcY",
    "outputId": "63fc1995-47f8-4988-930e-a82a073c974a"
   },
   "outputs": [
    {
     "data": {
      "text/plain": [
       "True"
      ]
     },
     "execution_count": 197,
     "metadata": {},
     "output_type": "execute_result"
    }
   ],
   "source": [
    "torch.backends.mps.is_available()"
   ]
  },
  {
   "cell_type": "code",
   "execution_count": 198,
   "metadata": {
    "id": "TsIXd7vdUwcY"
   },
   "outputs": [],
   "source": [
    "dtype = torch.float\n",
    "\n",
    "# Check whether a GPU is available\n",
    "if torch.cuda.is_available():\n",
    "    device = torch.device(\"cuda\")\n",
    "elif torch.backends.mps.is_available():\n",
    "    device = torch.device(\"mps\")\n",
    "else:\n",
    "    device = torch.device(\"cpu\")"
   ]
  },
  {
   "cell_type": "code",
   "execution_count": null,
   "metadata": {
    "id": "z9tzC5HVWvZc"
   },
   "outputs": [],
   "source": []
  },
  {
   "cell_type": "code",
   "execution_count": 199,
   "metadata": {
    "id": "eg-xUwQTUwcY"
   },
   "outputs": [],
   "source": [
    "## Load in the N-MNIST dataset\n",
    "import tonic\n",
    "\n",
    "# train_dataset = tonic.datasets.NMNIST(save_to='./data', train=True, transform=None, target_transform=None)\n",
    "test_dataset = tonic.datasets.NMNIST(save_to='./data', train=False, transform=None, target_transform=None)"
   ]
  },
  {
   "cell_type": "code",
   "execution_count": 200,
   "metadata": {
    "colab": {
     "base_uri": "https://localhost:8080/"
    },
    "executionInfo": {
     "elapsed": 14,
     "status": "ok",
     "timestamp": 1741063343896,
     "user": {
      "displayName": "Nalini Ramanathan",
      "userId": "15018175460010335567"
     },
     "user_tz": 300
    },
    "id": "FUZ1T8_rUwcY",
    "outputId": "43d33f49-f156-4c2c-b7de-5722fc1dfee0"
   },
   "outputs": [],
   "source": [
    "# sample = train_dataset[0]\n",
    "# print(sample)\n"
   ]
  },
  {
   "cell_type": "code",
   "execution_count": 201,
   "metadata": {
    "id": "OL5LBL9XUwcZ"
   },
   "outputs": [],
   "source": [
    "import torch.nn.functional as F\n",
    "\n",
    "def preprocess_spike_events(spike_events, nb_steps=nb_steps, nb_units=nb_inputs):\n",
    "    \"\"\"\n",
    "    Convert spike events into a binned spike train.\n",
    "\n",
    "    Args:\n",
    "        spike_events: Structured NumPy array of spike events (x, y, t, p).\n",
    "        nb_steps: Number of time steps to bin the spikes into.\n",
    "        nb_units: Number of neurons (x * y resolution).\n",
    "\n",
    "    Returns:\n",
    "        A binned spike train of shape (nb_steps, nb_units).\n",
    "    \"\"\"\n",
    "    spike_train = np.zeros((nb_steps, nb_units), dtype=np.float32)\n",
    "    for x, y, t, p in spike_events:\n",
    "        if p == 1:  # Only process the event if p indicates a spike\n",
    "            time_bin = min(int(t / 1000), nb_steps - 1)  # Bin time into steps\n",
    "            neuron_id = x + y * int(np.sqrt(nb_inputs))  # Flatten 2D coordinates into 1D neuron ID\n",
    "            spike_train[time_bin, neuron_id] += 1\n",
    "\n",
    "    return torch.tensor(spike_train, dtype=torch.float32)\n",
    "\n",
    "def custom_collate_fn(batch, num_classes=10):\n",
    "    \"\"\"\n",
    "    Custom collate function to handle structured data and one-hot encode the labels.\n",
    "\n",
    "    Args:\n",
    "        batch: A list of samples (spike_events, label).\n",
    "        num_classes: Number of classes for one-hot encoding.\n",
    "\n",
    "    Returns:\n",
    "        A tuple (spike_tensors, one_hot_labels).\n",
    "    \"\"\"\n",
    "    spike_tensors = []\n",
    "    labels = []\n",
    "\n",
    "    for spike_events, label in batch:\n",
    "        # Preprocess spike events\n",
    "        spike_tensor = preprocess_spike_events(spike_events)\n",
    "        spike_tensors.append(spike_tensor)\n",
    "\n",
    "        # One-hot encode the label\n",
    "        one_hot_label = F.one_hot(torch.tensor(label, dtype=torch.int64), num_classes=num_classes)\n",
    "        labels.append(one_hot_label)\n",
    "\n",
    "    # Stack spike tensors and labels into batches\n",
    "    spike_tensors = torch.stack(spike_tensors)\n",
    "    labels = torch.stack(labels)  # Convert list of one-hot labels into a batch\n",
    "    return spike_tensors, labels\n"
   ]
  },
  {
   "cell_type": "code",
   "execution_count": 202,
   "metadata": {
    "id": "nvaoctQLUwcZ"
   },
   "outputs": [],
   "source": [
    "# REDO - get the representative split for the subset retrieval\n",
    "\n",
    "def get_representative_subset_indices(data, limit, num_inputs = 10):\n",
    "    \"\"\"\n",
    "    Selects a representative subset of data point indices for PyTorch Subset,\n",
    "    using the number of unique labels as the number of representatives.\n",
    "\n",
    "    Args:\n",
    "        labels (np.ndarray or list): Array/list of labels for each data point.\n",
    "\n",
    "    Returns:\n",
    "        torch.Tensor: Tensor of indices of the selected representative data points.\n",
    "    \"\"\"\n",
    "\n",
    "    num_representatives = len(data)  # Use number of unique labels\n",
    "\n",
    "    representatives_per_class = num_representatives//num_inputs\n",
    "    sample_per_class = limit // num_inputs\n",
    "    selected_indices = []\n",
    "    for i in range(num_inputs):\n",
    "        range_v = np.arange(i*representatives_per_class, (i+1)*representatives_per_class)\n",
    "        selected_indices.extend(np.random.choice(range_v, sample_per_class, replace=False))\n",
    "        # selected_indices.append(np.random.choice(indices, 1, replace=False).item()) #ensure only one item is selected.\n",
    "\n",
    "    return torch.tensor(selected_indices)\n"
   ]
  },
  {
   "cell_type": "code",
   "execution_count": 203,
   "metadata": {
    "id": "AtZamOqVUwcZ"
   },
   "outputs": [],
   "source": [
    "from torch.utils.data import DataLoader, Subset\n",
    "\n",
    "train_limit = 100\n",
    "test_limit = 100\n",
    "train_dataset = test_dataset\n",
    "train_subset_indices = get_representative_subset_indices(train_dataset, train_limit)\n",
    "test_subset_indices = get_representative_subset_indices(test_dataset, test_limit)\n",
    "\n",
    "train_subset = torch.utils.data.Subset(train_dataset, train_subset_indices)\n",
    "test_subset = torch.utils.data.Subset(test_dataset, test_subset_indices)\n",
    "\n",
    "train_loader = DataLoader(\n",
    "    train_subset,\n",
    "    batch_size=batch_size,\n",
    "    shuffle=True,\n",
    "    collate_fn=custom_collate_fn,  # Use the custom collate function\n",
    "    # num_workers=4,\n",
    "    pin_memory=True,\n",
    "    drop_last=True\n",
    ")\n",
    "\n",
    "test_loader = DataLoader(\n",
    "    test_subset,\n",
    "    batch_size=batch_size,\n",
    "    shuffle=True,\n",
    "    collate_fn=custom_collate_fn,  # Use the custom collate function\n",
    "    # num_workers=4,\n",
    "    pin_memory=True,\n",
    "    drop_last=True\n",
    ")\n",
    "# test_loader = DataLoader(test_dataset, batch_size=batch_size, shuffle=False, num_workers=4, pin_memory=True)\n",
    "\n",
    "# nb_steps = train_dataset[0][0].shape[0] # Get the number of time steps\n",
    "nb_inputs = 34 * 34"
   ]
  },
  {
   "cell_type": "code",
   "execution_count": 204,
   "metadata": {},
   "outputs": [
    {
     "data": {
      "text/plain": [
       "(array([(16, 25,    430, 0), (15, 25,   1521, 0), (19, 12,   2013, 0), ...,\n",
       "        (11,  3, 307666, 1), ( 7, 15, 308156, 0), (23, 17, 308274, 0)],\n",
       "       dtype=[('x', '<i8'), ('y', '<i8'), ('t', '<i8'), ('p', '<i8')]),\n",
       " 0)"
      ]
     },
     "execution_count": 204,
     "metadata": {},
     "output_type": "execute_result"
    }
   ],
   "source": [
    "train_subset[0]"
   ]
  },
  {
   "cell_type": "code",
   "execution_count": 205,
   "metadata": {},
   "outputs": [
    {
     "data": {
      "image/png": "[encoded data removed]",
      "text/plain": [
       "<Figure size 640x480 with 1 Axes>"
      ]
     },
     "metadata": {},
     "output_type": "display_data"
    },
    {
     "data": {
      "image/png": "[encoded data removed]",
      "text/plain": [
       "<Figure size 640x480 with 1 Axes>"
      ]
     },
     "metadata": {},
     "output_type": "display_data"
    }
   ],
   "source": [
    "# Check distribution for each subset using train_loader.dataset[i][1]\n",
    "train_labels = [train_loader.dataset[i][1] for i in range(len(train_loader.dataset))]\n",
    "test_labels = [test_loader.dataset[i][1] for i in range(len(test_loader.dataset))]\n",
    "sns.histplot(train_labels, discrete=True)\n",
    "plt.title('Train Subset Label Distribution')\n",
    "plt.show()\n",
    "sns.histplot(test_labels, discrete=True)\n",
    "plt.title('Test Subset Label Distribution')\n",
    "plt.show()"
   ]
  },
  {
   "cell_type": "code",
   "execution_count": null,
   "metadata": {},
   "outputs": [],
   "source": []
  },
  {
   "cell_type": "code",
   "execution_count": 206,
   "metadata": {
    "colab": {
     "base_uri": "https://localhost:8080/"
    },
    "executionInfo": {
     "elapsed": 57,
     "status": "ok",
     "timestamp": 1741063344010,
     "user": {
      "displayName": "Nalini Ramanathan",
      "userId": "15018175460010335567"
     },
     "user_tz": 300
    },
    "id": "G1k9Y9TWUwcZ",
    "outputId": "2fa10f4a-d531-4e5b-fde9-d2e8f3c392e6"
   },
   "outputs": [
    {
     "name": "stdout",
     "output_type": "stream",
     "text": [
      "100\n"
     ]
    }
   ],
   "source": [
    "print(len(train_loader))"
   ]
  },
  {
   "cell_type": "markdown",
   "metadata": {
    "id": "lXGM0v_PUwcZ"
   },
   "source": [
    "Since we are working with spiking neural networks, we ideally want to use a temporal code to make use of spike timing. To that end, we will use a spike latency code to feed spikes to our network."
   ]
  },
  {
   "cell_type": "markdown",
   "metadata": {
    "id": "YBu9tx1lUwcZ"
   },
   "source": [
    "### Setup of the spiking network model"
   ]
  },
  {
   "cell_type": "code",
   "execution_count": 207,
   "metadata": {
    "id": "VdomR_nnUwcZ"
   },
   "outputs": [],
   "source": [
    "tau_mem = 10e-3\n",
    "tau_syn = 5e-3\n",
    "\n",
    "alpha   = float(np.exp(-time_step/tau_syn))\n",
    "beta    = float(np.exp(-time_step/tau_mem))"
   ]
  },
  {
   "cell_type": "code",
   "execution_count": 208,
   "metadata": {
    "colab": {
     "base_uri": "https://localhost:8080/"
    },
    "executionInfo": {
     "elapsed": 18,
     "status": "ok",
     "timestamp": 1741063344040,
     "user": {
      "displayName": "Nalini Ramanathan",
      "userId": "15018175460010335567"
     },
     "user_tz": 300
    },
    "id": "7xx1F6fPUwcZ",
    "outputId": "ebfb54fb-ddcc-435f-8cbd-4171470e1f30"
   },
   "outputs": [
    {
     "name": "stdout",
     "output_type": "stream",
     "text": [
      "init done\n"
     ]
    }
   ],
   "source": [
    "weight_scale = 7*(1.0-beta) # this should give us some spikes to begin with\n",
    "\n",
    "w1 = torch.empty((nb_inputs, nb_hidden),  device=device, dtype=dtype, requires_grad=True)\n",
    "torch.nn.init.normal_(w1, mean=0.0, std=weight_scale/np.sqrt(nb_inputs))\n",
    "\n",
    "w2 = torch.empty((nb_hidden, nb_outputs), device=device, dtype=dtype, requires_grad=True)\n",
    "torch.nn.init.normal_(w2, mean=0.0, std=weight_scale/np.sqrt(nb_hidden))\n",
    "\n",
    "print(\"init done\")"
   ]
  },
  {
   "cell_type": "code",
   "execution_count": 209,
   "metadata": {
    "id": "-AjbWEQSUwca"
   },
   "outputs": [],
   "source": [
    "def plot_voltage_traces(mem, spk=None, dim=(3,5), spike_height=5):\n",
    "    gs=GridSpec(*dim)\n",
    "    if spk is not None:\n",
    "        dat = 1.0*mem\n",
    "        dat[spk>0.0] = spike_height\n",
    "        dat = dat.detach().cpu().numpy()\n",
    "    else:\n",
    "        dat = mem.detach().cpu().numpy()\n",
    "    for i in range(np.prod(dim)):\n",
    "        if i==0: a0=ax=plt.subplot(gs[i])\n",
    "        else: ax=plt.subplot(gs[i],sharey=a0)\n",
    "        ax.plot(dat[i])\n",
    "        ax.axis(\"off\")"
   ]
  },
  {
   "cell_type": "markdown",
   "metadata": {
    "id": "cQqtCHbRUwca"
   },
   "source": [
    "We can now run this code and plot the output layer \"membrane potentials\" below. As desired, these potentials do not have spikes riding on them."
   ]
  },
  {
   "cell_type": "markdown",
   "metadata": {
    "id": "g5C7SzdTUwca"
   },
   "source": [
    "## Training the network"
   ]
  },
  {
   "cell_type": "code",
   "execution_count": 210,
   "metadata": {
    "id": "5bkf1vVzUwca"
   },
   "outputs": [],
   "source": [
    "class SurrGradSpike(torch.autograd.Function):\n",
    "    \"\"\"\n",
    "    Here we implement our spiking nonlinearity which also implements\n",
    "    the surrogate gradient. By subclassing torch.autograd.Function,\n",
    "    we will be able to use all of PyTorch's autograd functionality.\n",
    "    Here we use the normalized negative part of a fast sigmoid\n",
    "    as this was done in Zenke & Ganguli (2018).\n",
    "    \"\"\"\n",
    "\n",
    "    scale = 100.0 # controls steepness of surrogate gradient\n",
    "\n",
    "    @staticmethod\n",
    "    def forward(ctx, input):\n",
    "        \"\"\"\n",
    "        In the forward pass we compute a step function of the input Tensor\n",
    "        and return it. ctx is a context object that we use to stash information which\n",
    "        we need to later backpropagate our error signals. To achieve this we use the\n",
    "        ctx.save_for_backward method.\n",
    "        \"\"\"\n",
    "        ctx.save_for_backward(input)\n",
    "        out = torch.zeros_like(input)\n",
    "        out[input > 0] = 1.0\n",
    "        return out\n",
    "\n",
    "    @staticmethod\n",
    "    def backward(ctx, grad_output):\n",
    "        \"\"\"\n",
    "        In the backward pass we receive a Tensor we need to compute the\n",
    "        surrogate gradient of the loss with respect to the input.\n",
    "        Here we use the normalized negative part of a fast sigmoid\n",
    "        as this was done in Zenke & Ganguli (2018).\n",
    "        \"\"\"\n",
    "        input, = ctx.saved_tensors\n",
    "        grad_input = grad_output.clone()\n",
    "        grad = grad_input/(SurrGradSpike.scale*torch.abs(input)+1.0)**2\n",
    "        return grad\n",
    "\n",
    "# here we overwrite our naive spike function by the \"SurrGradSpike\" nonlinearity which implements a surrogate gradient\n",
    "spike_fn  = SurrGradSpike.apply"
   ]
  },
  {
   "cell_type": "code",
   "execution_count": 211,
   "metadata": {
    "id": "s0txOrAMUwca"
   },
   "outputs": [],
   "source": [
    "def run_snn(inputs):\n",
    "    h1 = torch.einsum(\"abc,cd->abd\", (inputs, w1))\n",
    "    syn = torch.zeros((batch_size,nb_hidden), device=device, dtype=dtype)\n",
    "    mem = torch.zeros((batch_size,nb_hidden), device=device, dtype=dtype)\n",
    "\n",
    "    mem_rec = []\n",
    "    spk_rec = []\n",
    "\n",
    "    # Compute hidden layer activity\n",
    "    for t in range(nb_steps):\n",
    "        mthr = mem-1.0\n",
    "        out = spike_fn(mthr)\n",
    "        rst = out.detach() # We do not want to backprop through the reset\n",
    "        # print(f\"h1[:, t] shape: {h1[:, t].shape}\")\n",
    "        # print(f\"syn shape: {syn.shape}\")\n",
    "\n",
    "        new_syn = alpha*syn +h1[:,t]\n",
    "        new_mem = (beta*mem +syn)*(1.0-rst)\n",
    "\n",
    "        mem_rec.append(mem)\n",
    "        spk_rec.append(out)\n",
    "\n",
    "        mem = new_mem\n",
    "        syn = new_syn\n",
    "\n",
    "    mem_rec = torch.stack(mem_rec,dim=1)\n",
    "    spk_rec = torch.stack(spk_rec,dim=1)\n",
    "\n",
    "    # Readout layer\n",
    "    h2= torch.einsum(\"abc,cd->abd\", (spk_rec, w2))\n",
    "    flt = torch.zeros((batch_size,nb_outputs), device=device, dtype=dtype)\n",
    "    out = torch.zeros((batch_size,nb_outputs), device=device, dtype=dtype)\n",
    "    out_rec = [out]\n",
    "    for t in range(nb_steps):\n",
    "        new_flt = alpha*flt +h2[:,t]\n",
    "        new_out = beta*out +flt\n",
    "\n",
    "        flt = new_flt\n",
    "        out = new_out\n",
    "\n",
    "        out_rec.append(out)\n",
    "\n",
    "    out_rec = torch.stack(out_rec,dim=1)\n",
    "    other_recs = [mem_rec, spk_rec]\n",
    "    return out_rec, other_recs"
   ]
  },
  {
   "cell_type": "code",
   "execution_count": 212,
   "metadata": {
    "id": "M6_fzI_OUwca"
   },
   "outputs": [],
   "source": [
    "from tqdm import tqdm  # Import tqdm\n",
    "\n",
    "import torch.optim as optim\n",
    "\n",
    "def train(train_loader, lr=2e-3, nb_epochs=10):\n",
    "    params = [w1,w2]\n",
    "    optimizer = torch.optim.Adam(params, lr=lr, betas=(0.9,0.999))\n",
    "\n",
    "    log_softmax_fn = nn.LogSoftmax(dim=1)\n",
    "    loss_fn = nn.NLLLoss()\n",
    "\n",
    "    loss_hist = []\n",
    "\n",
    "    # scaler = torch.amp.GradScaler(device=device) if device.type == 'cuda' else None\n",
    "\n",
    "    for e in range(nb_epochs):\n",
    "        local_loss = []\n",
    "        with tqdm(train_loader, desc=f\"Epoch {e+1}/{nb_epochs}\", unit=\"batch\") as t:\n",
    "            for x_local, y_local in t:\n",
    "                x_local = x_local.to(device)\n",
    "                y_local = y_local.to(device)\n",
    "\n",
    "                # print(f\"Input dimensions: x_local.shape = {x_local.shape}, y_local.shape = {y_local.shape}\")\n",
    "\n",
    "                # # with torch.amp.autocast(device_type=device.type, enabled=(scaler is not None)):  # Mixed Precision\n",
    "\n",
    "                #     print(f\"Output dimensions: output.shape = {output.shape}\")\n",
    "\n",
    "                output, _ = run_snn(x_local)  # Assuming run_snn() is integrated into model\n",
    "                log_p_y = log_softmax_fn(output)  # LogSoftmax across all classes\n",
    "                loss_val = loss_fn(log_p_y, y_local)\n",
    "\n",
    "                # Backward pass\n",
    "                # if scaler:  # Mixed precision handling\n",
    "                #     scaler.scale(loss_val).backward()\n",
    "                #     scaler.step(optimizer)\n",
    "                #     scaler.update()\n",
    "                # else:\n",
    "                loss_val.backward()\n",
    "                optimizer.step()\n",
    "\n",
    "                t.set_postfix(loss=loss_val.item())\n",
    "\n",
    "                local_loss.append(loss_val.item())\n",
    "        mean_loss = np.mean(local_loss)\n",
    "        print(\"Epoch %i: loss=%.5f\"%(e+1,mean_loss))\n",
    "        loss_hist.append(mean_loss)\n",
    "\n",
    "    return loss_hist\n",
    "\n",
    "\n",
    "def compute_classification_accuracy(data_loader):\n",
    "    \"\"\" Computes classification accuracy on supplied data in batches. \"\"\"\n",
    "    accs = []\n",
    "    for x_local, y_local in data_loader:\n",
    "        x_local, y_local = x_local.to(device), y_local.to(device)\n",
    "        output,_ = run_snn(x_local)\n",
    "        m,_= torch.max(output,1) # max over time\n",
    "        _,am=torch.max(m,1)      # argmax over output units\n",
    "        tmp = np.mean((y_local==am).detach().cpu().numpy()) # compare to labels\n",
    "        accs.append(tmp)\n",
    "    return np.mean(accs)"
   ]
  },
  {
   "cell_type": "code",
   "execution_count": 213,
   "metadata": {},
   "outputs": [
    {
     "data": {
      "text/plain": [
       "<torch.utils.data.dataloader.DataLoader at 0x168b5a450>"
      ]
     },
     "execution_count": 213,
     "metadata": {},
     "output_type": "execute_result"
    }
   ],
   "source": [
    "train_loader"
   ]
  },
  {
   "cell_type": "code",
   "execution_count": null,
   "metadata": {
    "colab": {
     "base_uri": "https://localhost:8080/",
     "height": 346
    },
    "executionInfo": {
     "elapsed": 52452,
     "status": "error",
     "timestamp": 1741063396566,
     "user": {
      "displayName": "Nalini Ramanathan",
      "userId": "15018175460010335567"
     },
     "user_tz": 300
    },
    "id": "1F1sUPDdUwca",
    "outputId": "06971a3b-889b-43ad-8c3a-e8c1d1f8b8c4"
   },
   "outputs": [
    {
     "name": "stderr",
     "output_type": "stream",
     "text": [
      "Epoch 1/10: 100%|██████████| 100/100 [00:21<00:00,  4.55batch/s, loss=2.89]\n"
     ]
    },
    {
     "name": "stdout",
     "output_type": "stream",
     "text": [
      "Epoch 1: loss=3.46148\n"
     ]
    },
    {
     "name": "stderr",
     "output_type": "stream",
     "text": [
      "Epoch 2/10: 100%|██████████| 100/100 [00:22<00:00,  4.46batch/s, loss=2.6]\n"
     ]
    },
    {
     "name": "stdout",
     "output_type": "stream",
     "text": [
      "Epoch 2: loss=2.78516\n"
     ]
    },
    {
     "name": "stderr",
     "output_type": "stream",
     "text": [
      "Epoch 3/10: 100%|██████████| 100/100 [00:23<00:00,  4.17batch/s, loss=2.22]\n"
     ]
    },
    {
     "name": "stdout",
     "output_type": "stream",
     "text": [
      "Epoch 3: loss=2.55529\n"
     ]
    },
    {
     "name": "stderr",
     "output_type": "stream",
     "text": [
      "Epoch 4/10: 100%|██████████| 100/100 [00:22<00:00,  4.43batch/s, loss=2.1]\n"
     ]
    },
    {
     "name": "stdout",
     "output_type": "stream",
     "text": [
      "Epoch 4: loss=2.42340\n"
     ]
    },
    {
     "name": "stderr",
     "output_type": "stream",
     "text": [
      "Epoch 5/10: 100%|██████████| 100/100 [00:22<00:00,  4.45batch/s, loss=2.42]\n"
     ]
    },
    {
     "name": "stdout",
     "output_type": "stream",
     "text": [
      "Epoch 5: loss=2.31929\n"
     ]
    },
    {
     "name": "stderr",
     "output_type": "stream",
     "text": [
      "Epoch 6/10: 100%|██████████| 100/100 [00:22<00:00,  4.47batch/s, loss=2.49]\n"
     ]
    },
    {
     "name": "stdout",
     "output_type": "stream",
     "text": [
      "Epoch 6: loss=2.24127\n"
     ]
    },
    {
     "name": "stderr",
     "output_type": "stream",
     "text": [
      "Epoch 7/10: 100%|██████████| 100/100 [00:23<00:00,  4.31batch/s, loss=2.3]\n"
     ]
    },
    {
     "name": "stdout",
     "output_type": "stream",
     "text": [
      "Epoch 7: loss=2.18062\n"
     ]
    },
    {
     "name": "stderr",
     "output_type": "stream",
     "text": [
      "Epoch 8/10: 100%|██████████| 100/100 [00:23<00:00,  4.32batch/s, loss=2.08]\n"
     ]
    },
    {
     "name": "stdout",
     "output_type": "stream",
     "text": [
      "Epoch 8: loss=2.13263\n"
     ]
    },
    {
     "name": "stderr",
     "output_type": "stream",
     "text": [
      "Epoch 9/10:  68%|██████▊   | 68/100 [00:15<00:07,  4.21batch/s, loss=2.04]"
     ]
    }
   ],
   "source": [
    "loss_hist = train(train_loader, lr=2e-4, nb_epochs=10)"
   ]
  },
  {
   "cell_type": "code",
   "execution_count": null,
   "metadata": {
    "id": "Sgr01yk8Uwca"
   },
   "outputs": [
    {
     "data": {
      "image/png": "[encoded data removed]",
      "text/plain": [
       "<Figure size 495x300 with 1 Axes>"
      ]
     },
     "metadata": {},
     "output_type": "display_data"
    }
   ],
   "source": [
    "plt.figure(figsize=(3.3,2),dpi=150)\n",
    "plt.plot(loss_hist)\n",
    "plt.xlabel(\"Epoch\")\n",
    "plt.ylabel(\"Loss\")\n",
    "sns.despine()"
   ]
  },
  {
   "cell_type": "code",
   "execution_count": null,
   "metadata": {
    "id": "Wnp_xQkmUwca"
   },
   "outputs": [
    {
     "name": "stdout",
     "output_type": "stream",
     "text": [
      "Training accuracy: 0.061\n",
      "Test accuracy: 0.107\n"
     ]
    }
   ],
   "source": [
    "print(\"Training accuracy: %.3f\"%(compute_classification_accuracy(train_loader)))\n",
    "print(\"Test accuracy: %.3f\"%(compute_classification_accuracy(test_loader)))"
   ]
  },
  {
   "cell_type": "code",
   "execution_count": null,
   "metadata": {
    "id": "VpdPDu3zUwcb"
   },
   "outputs": [],
   "source": [
    "def get_mini_batch(data_loader, shuffle=False):\n",
    "    for ret in data_loader:\n",
    "        return ret"
   ]
  },
  {
   "cell_type": "code",
   "execution_count": null,
   "metadata": {
    "id": "1LEuTXUiUwcb"
   },
   "outputs": [],
   "source": [
    "x_batch, y_batch = get_mini_batch(test_loader)\n",
    "x_batch = x_batch.to(device)\n",
    "output, other_recordings = run_snn(x_batch)\n",
    "mem_rec, spk_rec = other_recordings"
   ]
  },
  {
   "cell_type": "code",
   "execution_count": null,
   "metadata": {
    "id": "4-DlHE6_Uwcb"
   },
   "outputs": [
    {
     "ename": "IndexError",
     "evalue": "index 1 is out of bounds for axis 0 with size 1",
     "output_type": "error",
     "traceback": [
      "\u001b[0;31m---------------------------------------------------------------------------\u001b[0m",
      "\u001b[0;31mIndexError\u001b[0m                                Traceback (most recent call last)",
      "Cell \u001b[0;32mIn[190], line 2\u001b[0m\n\u001b[1;32m      1\u001b[0m fig\u001b[38;5;241m=\u001b[39mplt\u001b[38;5;241m.\u001b[39mfigure(dpi\u001b[38;5;241m=\u001b[39m\u001b[38;5;241m100\u001b[39m)\n\u001b[0;32m----> 2\u001b[0m \u001b[43mplot_voltage_traces\u001b[49m\u001b[43m(\u001b[49m\u001b[43mmem_rec\u001b[49m\u001b[43m,\u001b[49m\u001b[43m \u001b[49m\u001b[43mspk_rec\u001b[49m\u001b[43m)\u001b[49m\n",
      "Cell \u001b[0;32mIn[180], line 12\u001b[0m, in \u001b[0;36mplot_voltage_traces\u001b[0;34m(mem, spk, dim, spike_height)\u001b[0m\n\u001b[1;32m     10\u001b[0m \u001b[38;5;28;01mif\u001b[39;00m i\u001b[38;5;241m==\u001b[39m\u001b[38;5;241m0\u001b[39m: a0\u001b[38;5;241m=\u001b[39max\u001b[38;5;241m=\u001b[39mplt\u001b[38;5;241m.\u001b[39msubplot(gs[i])\n\u001b[1;32m     11\u001b[0m \u001b[38;5;28;01melse\u001b[39;00m: ax\u001b[38;5;241m=\u001b[39mplt\u001b[38;5;241m.\u001b[39msubplot(gs[i],sharey\u001b[38;5;241m=\u001b[39ma0)\n\u001b[0;32m---> 12\u001b[0m ax\u001b[38;5;241m.\u001b[39mplot(\u001b[43mdat\u001b[49m\u001b[43m[\u001b[49m\u001b[43mi\u001b[49m\u001b[43m]\u001b[49m)\n\u001b[1;32m     13\u001b[0m ax\u001b[38;5;241m.\u001b[39maxis(\u001b[38;5;124m\"\u001b[39m\u001b[38;5;124moff\u001b[39m\u001b[38;5;124m\"\u001b[39m)\n",
      "\u001b[0;31mIndexError\u001b[0m: index 1 is out of bounds for axis 0 with size 1"
     ]
    },
    {
     "data": {
      "image/png": "[encoded data removed]",
      "text/plain": [
       "<Figure size 640x480 with 2 Axes>"
      ]
     },
     "metadata": {},
     "output_type": "display_data"
    }
   ],
   "source": [
    "fig=plt.figure(dpi=100)\n",
    "plot_voltage_traces(mem_rec, spk_rec)"
   ]
  },
  {
   "cell_type": "code",
   "execution_count": null,
   "metadata": {
    "id": "eq0vUeX8Uwcb"
   },
   "outputs": [
    {
     "ename": "IndexError",
     "evalue": "index 1 is out of bounds for axis 0 with size 1",
     "output_type": "error",
     "traceback": [
      "\u001b[0;31m---------------------------------------------------------------------------\u001b[0m",
      "\u001b[0;31mIndexError\u001b[0m                                Traceback (most recent call last)",
      "Cell \u001b[0;32mIn[191], line 2\u001b[0m\n\u001b[1;32m      1\u001b[0m fig\u001b[38;5;241m=\u001b[39mplt\u001b[38;5;241m.\u001b[39mfigure(dpi\u001b[38;5;241m=\u001b[39m\u001b[38;5;241m100\u001b[39m)\n\u001b[0;32m----> 2\u001b[0m \u001b[43mplot_voltage_traces\u001b[49m\u001b[43m(\u001b[49m\u001b[43moutput\u001b[49m\u001b[43m)\u001b[49m\n",
      "Cell \u001b[0;32mIn[180], line 12\u001b[0m, in \u001b[0;36mplot_voltage_traces\u001b[0;34m(mem, spk, dim, spike_height)\u001b[0m\n\u001b[1;32m     10\u001b[0m \u001b[38;5;28;01mif\u001b[39;00m i\u001b[38;5;241m==\u001b[39m\u001b[38;5;241m0\u001b[39m: a0\u001b[38;5;241m=\u001b[39max\u001b[38;5;241m=\u001b[39mplt\u001b[38;5;241m.\u001b[39msubplot(gs[i])\n\u001b[1;32m     11\u001b[0m \u001b[38;5;28;01melse\u001b[39;00m: ax\u001b[38;5;241m=\u001b[39mplt\u001b[38;5;241m.\u001b[39msubplot(gs[i],sharey\u001b[38;5;241m=\u001b[39ma0)\n\u001b[0;32m---> 12\u001b[0m ax\u001b[38;5;241m.\u001b[39mplot(\u001b[43mdat\u001b[49m\u001b[43m[\u001b[49m\u001b[43mi\u001b[49m\u001b[43m]\u001b[49m)\n\u001b[1;32m     13\u001b[0m ax\u001b[38;5;241m.\u001b[39maxis(\u001b[38;5;124m\"\u001b[39m\u001b[38;5;124moff\u001b[39m\u001b[38;5;124m\"\u001b[39m)\n",
      "\u001b[0;31mIndexError\u001b[0m: index 1 is out of bounds for axis 0 with size 1"
     ]
    },
    {
     "data": {
      "image/png": "[encoded data removed]",
      "text/plain": [
       "<Figure size 640x480 with 2 Axes>"
      ]
     },
     "metadata": {},
     "output_type": "display_data"
    }
   ],
   "source": [
    "fig=plt.figure(dpi=100)\n",
    "plot_voltage_traces(output)"
   ]
  },
  {
   "cell_type": "code",
   "execution_count": null,
   "metadata": {
    "id": "Ki31od_GUwcb"
   },
   "outputs": [
    {
     "ename": "IndexError",
     "evalue": "index 1 is out of bounds for dimension 0 with size 1",
     "output_type": "error",
     "traceback": [
      "\u001b[0;31m---------------------------------------------------------------------------\u001b[0m",
      "\u001b[0;31mIndexError\u001b[0m                                Traceback (most recent call last)",
      "Cell \u001b[0;32mIn[192], line 8\u001b[0m\n\u001b[1;32m      6\u001b[0m \u001b[38;5;28;01mfor\u001b[39;00m i \u001b[38;5;129;01min\u001b[39;00m \u001b[38;5;28mrange\u001b[39m(nb_plt):\n\u001b[1;32m      7\u001b[0m     plt\u001b[38;5;241m.\u001b[39msubplot(gs[i])\n\u001b[0;32m----> 8\u001b[0m     plt\u001b[38;5;241m.\u001b[39mimshow(\u001b[43mspk_rec\u001b[49m\u001b[43m[\u001b[49m\u001b[43mi\u001b[49m\u001b[43m]\u001b[49m\u001b[38;5;241m.\u001b[39mdetach()\u001b[38;5;241m.\u001b[39mcpu()\u001b[38;5;241m.\u001b[39mnumpy()\u001b[38;5;241m.\u001b[39mT,cmap\u001b[38;5;241m=\u001b[39mplt\u001b[38;5;241m.\u001b[39mcm\u001b[38;5;241m.\u001b[39mgray_r, origin\u001b[38;5;241m=\u001b[39m\u001b[38;5;124m\"\u001b[39m\u001b[38;5;124mlower\u001b[39m\u001b[38;5;124m\"\u001b[39m )\n\u001b[1;32m      9\u001b[0m     \u001b[38;5;28;01mif\u001b[39;00m i\u001b[38;5;241m==\u001b[39m\u001b[38;5;241m0\u001b[39m:\n\u001b[1;32m     10\u001b[0m         plt\u001b[38;5;241m.\u001b[39mxlabel(\u001b[38;5;124m\"\u001b[39m\u001b[38;5;124mTime\u001b[39m\u001b[38;5;124m\"\u001b[39m)\n",
      "\u001b[0;31mIndexError\u001b[0m: index 1 is out of bounds for dimension 0 with size 1"
     ]
    },
    {
     "data": {
      "image/png": "[encoded data removed]",
      "text/plain": [
       "<Figure size 1050x450 with 2 Axes>"
      ]
     },
     "metadata": {},
     "output_type": "display_data"
    }
   ],
   "source": [
    "# Let's plot the hiddden layer spiking activity for some input stimuli\n",
    "\n",
    "nb_plt = 4\n",
    "gs = GridSpec(1,nb_plt)\n",
    "fig= plt.figure(figsize=(7,3),dpi=150)\n",
    "for i in range(nb_plt):\n",
    "    plt.subplot(gs[i])\n",
    "    plt.imshow(spk_rec[i].detach().cpu().numpy().T,cmap=plt.cm.gray_r, origin=\"lower\" )\n",
    "    if i==0:\n",
    "        plt.xlabel(\"Time\")\n",
    "        plt.ylabel(\"Units\")\n",
    "\n",
    "    sns.despine()"
   ]
  },
  {
   "cell_type": "markdown",
   "metadata": {
    "id": "ZlvGIJ3fUwcb"
   },
   "source": [
    "In conclusion, we see that already this simple spiking network solves the classification problem with ~85% accuracy, and there is plenty of room left for tweaking. However, the hidden layer activities do not look very biological. Although the network displays population sparseness in that only a subset of neurons are active at any given time, the individual neurons' firing rates are pathologically high. This pathology is not too surprising since we have not incentivized low activity levels in any way. We will create such an incentive to address this issue by activity regularization in one of the next tutorials."
   ]
  },
  {
   "cell_type": "markdown",
   "metadata": {
    "id": "1CveITSXUwcb"
   },
   "source": [
    "<a rel=\"license\" href=\"http://creativecommons.org/licenses/by/4.0/\"><img alt=\"Creative Commons License\" style=\"border-width:0\" src=\"https://i.creativecommons.org/l/by/4.0/88x31.png\" /></a><br />This work is licensed under a <a rel=\"license\" href=\"http://creativecommons.org/licenses/by/4.0/\">Creative Commons Attribution 4.0 International License</a>."
   ]
  },
  {
   "cell_type": "code",
   "execution_count": null,
   "metadata": {
    "id": "ZGmZF44qUwcc"
   },
   "outputs": [],
   "source": []
  },
  {
   "cell_type": "code",
   "execution_count": null,
   "metadata": {
    "id": "BEFZBr_xUwcc"
   },
   "outputs": [],
   "source": []
  },
  {
   "cell_type": "code",
   "execution_count": null,
   "metadata": {
    "id": "AO3SgdWFUwcc"
   },
   "outputs": [],
   "source": []
  }
 ],
 "metadata": {
  "accelerator": "GPU",
  "colab": {
   "gpuType": "T4",
   "provenance": []
  },
  "kernelspec": {
   "display_name": "snn_hybrid",
   "language": "python",
   "name": "python3"
  },
  "language_info": {
   "codemirror_mode": {
    "name": "ipython",
    "version": 3
   },
   "file_extension": ".py",
   "mimetype": "text/x-python",
   "name": "python",
   "nbconvert_exporter": "python",
   "pygments_lexer": "ipython3",
   "version": "3.13.2"
  }
 },
 "nbformat": 4,
 "nbformat_minor": 0
}
