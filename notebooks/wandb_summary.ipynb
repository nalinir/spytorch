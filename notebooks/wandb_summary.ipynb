{
 "cells": [
  {
   "cell_type": "code",
   "execution_count": 1,
   "metadata": {},
   "outputs": [],
   "source": [
    "import wandb"
   ]
  },
  {
   "cell_type": "code",
   "execution_count": 2,
   "metadata": {},
   "outputs": [],
   "source": [
    "# Wandb aggregation\n",
    "\n",
    "api = wandb.Api()\n",
    "entity = \"nar8991-new-york-university\"  # Replace with your entity\n",
    "project = \"SNN_test_optimize\"  # Replace with your project\n",
    "\n",
    "runs = api.runs(entity + \"/\" + project)\n"
   ]
  },
  {
   "cell_type": "code",
   "execution_count": 4,
   "metadata": {},
   "outputs": [
    {
     "data": {
      "text/plain": [
       "<Runs nar8991-new-york-university/SNN_test_optimize>"
      ]
     },
     "execution_count": 4,
     "metadata": {},
     "output_type": "execute_result"
    }
   ],
   "source": [
    "runs"
   ]
  },
  {
   "cell_type": "code",
   "execution_count": 20,
   "metadata": {},
   "outputs": [
    {
     "name": "stdout",
     "output_type": "stream",
     "text": [
      "Best Test Accuracies per Model:\n",
      "- SNN: 0.99609375\n",
      "- SNN_recurrent: 0.9609375\n",
      "- ANN_non_recurrent_with_LIF_output: 0.99609375\n",
      "- RNN_with_LIF_output: 0.99609375\n",
      "- Hybrid_ANN_non_recurrent: 1\n",
      "- Hybrid_RNN: 1\n",
      "- Hybrid_RNN_SNN_rec: 0.9921875\n",
      "- Hybrid_RNN_SNN_V1_same_layer: 0.796875\n"
     ]
    }
   ],
   "source": [
    "best_accuracies = {}\n",
    "average_spikes = {}\n",
    "\n",
    "for run in runs:\n",
    "    model_name = run.config.get(\"model_name\")\n",
    "    if model_name is None:\n",
    "        # print(\"Model name not found in run config.\")\n",
    "        continue\n",
    "    final_test_accuracy = run.summary.get('final_test_accuracy')\n",
    "    if final_test_accuracy is None:\n",
    "        # print(\"Final test accuracy not found in run summary.\")\n",
    "        continue\n",
    "    # Access run summary (best practice for final or best metrics)\n",
    "    if (model_name not in best_accuracies or final_test_accuracy > best_accuracies[model_name]):\n",
    "            best_accuracies[model_name] = final_test_accuracy\n",
    "            average_spikes[model_name] = run.summary.get('spike_count_val_epoch')\n",
    "print(\"Best Test Accuracies per Model:\")\n",
    "for model, accuracy in best_accuracies.items():\n",
    "    print(f\"- {model}: {accuracy}\")"
   ]
  },
  {
   "cell_type": "code",
   "execution_count": 21,
   "metadata": {},
   "outputs": [
    {
     "name": "stdout",
     "output_type": "stream",
     "text": [
      "Best Test Accuracies per Model:\n",
      "- SNN: 5251\n",
      "- SNN_recurrent: 4270\n",
      "- ANN_non_recurrent_with_LIF_output: None\n",
      "- RNN_with_LIF_output: None\n",
      "- Hybrid_ANN_non_recurrent: 1497\n",
      "- Hybrid_RNN: 3106\n",
      "- Hybrid_RNN_SNN_rec: 5067\n",
      "- Hybrid_RNN_SNN_V1_same_layer: 36490\n"
     ]
    }
   ],
   "source": [
    "print(\"Best Test Accuracies per Model:\")\n",
    "for model, accuracy in average_spikes.items():\n",
    "    print(f\"- {model}: {accuracy}\")"
   ]
  }
 ],
 "metadata": {
  "kernelspec": {
   "display_name": "snn_hybrid",
   "language": "python",
   "name": "python3"
  },
  "language_info": {
   "codemirror_mode": {
    "name": "ipython",
    "version": 3
   },
   "file_extension": ".py",
   "mimetype": "text/x-python",
   "name": "python",
   "nbconvert_exporter": "python",
   "pygments_lexer": "ipython3",
   "version": "3.13.2"
  }
 },
 "nbformat": 4,
 "nbformat_minor": 2
}
