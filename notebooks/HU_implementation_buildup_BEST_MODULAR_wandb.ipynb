{
 "cells": [
  {
   "cell_type": "markdown",
   "metadata": {},
   "source": [
    "## Imports"
   ]
  },
  {
   "cell_type": "code",
   "execution_count": 2,
   "metadata": {},
   "outputs": [],
   "source": [
    "%matplotlib inline\n",
    "import matplotlib.pyplot as plt\n",
    "from matplotlib.gridspec import GridSpec\n",
    "import seaborn as sns\n",
    "import numpy as np\n",
    "import os, sys\n",
    "import torch\n",
    "import random\n",
    "import wandb  # Import the Weights & Biases library\n",
    "\n",
    "from torch.utils.data import TensorDataset, random_split\n",
    "import torch.nn as nn\n",
    "from sklearn.metrics import confusion_matrix\n",
    "import sys"
   ]
  },
  {
   "cell_type": "code",
   "execution_count": 3,
   "metadata": {},
   "outputs": [],
   "source": [
    "sys.path.append(\"/Users/naliniramanathan/projects/snn_project/randman\")\n",
    "import randman\n",
    "from randman import Randman"
   ]
  },
  {
   "cell_type": "markdown",
   "metadata": {},
   "source": [
    "## Universal Model Settings\n",
    "\n",
    "We set them up here since some of the random manifold components are dependent on this so it has the right structure"
   ]
  },
  {
   "cell_type": "code",
   "execution_count": 4,
   "metadata": {},
   "outputs": [],
   "source": [
    "# Settings\n",
    "nb_inputs  = 100\n",
    "nb_hidden  = 4\n",
    "nb_outputs = 2\n",
    "\n",
    "time_step = 1e-3\n",
    "nb_steps  = 200\n",
    "\n",
    "batch_size = 128*nb_outputs\n"
   ]
  },
  {
   "cell_type": "code",
   "execution_count": 5,
   "metadata": {},
   "outputs": [],
   "source": [
    "if torch.cuda.is_available():\n",
    "    device = torch.device(\"cuda\")\n",
    "elif torch.backends.mps.is_available():\n",
    "    device = torch.device(\"mps\")\n",
    "else:\n",
    "    device = torch.device(\"cpu\")\n",
    "\n",
    "dtype = torch.float"
   ]
  },
  {
   "cell_type": "code",
   "execution_count": 6,
   "metadata": {},
   "outputs": [],
   "source": [
    "tau_mem = 10e-3\n",
    "tau_syn = 5e-3\n",
    "\n",
    "alpha   = float(np.exp(-time_step/tau_syn))\n",
    "beta    = float(np.exp(-time_step/tau_mem))\n",
    "\n",
    "weight_scale = 7*(1.0-beta) # this should give us some spikes to begin with\n",
    "\n",
    "w1 = torch.empty((nb_inputs, nb_hidden),  device=device, dtype=dtype, requires_grad=True)\n",
    "w2 = torch.empty((nb_hidden, nb_outputs), device=device, dtype=dtype, requires_grad=True)\n",
    "v1 = torch.empty((nb_hidden, nb_hidden), device=device, dtype=dtype, requires_grad=True)"
   ]
  },
  {
   "cell_type": "markdown",
   "metadata": {},
   "source": [
    "## Create the Random Manifolds"
   ]
  },
  {
   "cell_type": "code",
   "execution_count": 7,
   "metadata": {},
   "outputs": [],
   "source": [
    "def standardize(x,eps=1e-7):\n",
    "    mi,_ = x.min(0)\n",
    "    ma,_ = x.max(0)\n",
    "    return (x-mi)/(ma-mi+eps)\n",
    "\n",
    "def make_spiking_dataset(nb_classes=10, nb_units=100, nb_steps=100, step_frac=1.0, dim_manifold=2, nb_spikes=1, nb_samples=1000, alpha=2.0, shuffle=True, classification=True, seed=None):\n",
    "    \"\"\" Generates event-based generalized spiking randman classification/regression dataset. \n",
    "    In this dataset each unit fires a fixed number of spikes. So ratebased or spike count based decoding won't work. \n",
    "    All the information is stored in the relative timing between spikes.\n",
    "    For regression datasets the intrinsic manifold coordinates are returned for each target.\n",
    "    Args: \n",
    "        nb_classes: The number of classes to generate\n",
    "        nb_units: The number of units to assume\n",
    "        nb_steps: The number of time steps to assume\n",
    "        step_frac: Fraction of time steps from beginning of each to contain spikes (default 1.0)\n",
    "        nb_spikes: The number of spikes per unit\n",
    "        nb_samples: Number of samples from each manifold per class\n",
    "        alpha: Randman smoothness parameter\n",
    "        shuffe: Whether to shuffle the dataset\n",
    "        classification: Whether to generate a classification (default) or regression dataset\n",
    "        seed: The random seed (default: None)\n",
    "    Returns: \n",
    "        A tuple of data,labels. The data is structured as numpy array \n",
    "        (sample x event x 2 ) where the last dimension contains \n",
    "        the relative [0,1] (time,unit) coordinates and labels.\n",
    "    \"\"\"\n",
    "  \n",
    "    data = []\n",
    "    labels = []\n",
    "    targets = []\n",
    "\n",
    "    if seed is not None:\n",
    "        np.random.seed(seed)\n",
    "    \n",
    "    max_value = np.iinfo(np.int64).max\n",
    "    randman_seeds = np.random.randint(max_value, size=(nb_classes,nb_spikes) )\n",
    "\n",
    "    for k in range(nb_classes):\n",
    "        x = np.random.rand(nb_samples,dim_manifold)\n",
    "        submans = [ randman.Randman(nb_units, dim_manifold, alpha=alpha, seed=randman_seeds[k,i]) for i in range(nb_spikes) ]\n",
    "        units = []\n",
    "        times = []\n",
    "        for i,rm in enumerate(submans):\n",
    "            y = rm.eval_manifold(x)\n",
    "            y = standardize(y)\n",
    "            units.append(np.repeat(np.arange(nb_units).reshape(1,-1),nb_samples,axis=0))\n",
    "            times.append(y.numpy())\n",
    "\n",
    "        units = np.concatenate(units,axis=1)\n",
    "        times = np.concatenate(times,axis=1)\n",
    "        events = np.stack([times,units],axis=2)\n",
    "        data.append(events)\n",
    "        labels.append(k*np.ones(len(units)))\n",
    "        targets.append(x)\n",
    "\n",
    "    data = np.concatenate(data, axis=0)\n",
    "    labels = np.array(np.concatenate(labels, axis=0), dtype=np.int64)\n",
    "    targets = np.concatenate(targets, axis=0)\n",
    "\n",
    "    if shuffle:\n",
    "        idx = np.arange(len(data))\n",
    "        np.random.shuffle(idx)\n",
    "        data = data[idx]\n",
    "        labels = labels[idx]\n",
    "        targets = targets[idx]\n",
    "\n",
    "    data[:,:,0] *= nb_steps*step_frac\n",
    "    # data = np.array(data, dtype=int)\n",
    "\n",
    "    if classification:\n",
    "        return data, labels\n",
    "    else:\n",
    "        return data, targets"
   ]
  },
  {
   "cell_type": "markdown",
   "metadata": {},
   "source": [
    "### Data Preparation for Model Training"
   ]
  },
  {
   "cell_type": "code",
   "execution_count": 8,
   "metadata": {},
   "outputs": [],
   "source": [
    "# Convert the spike events to a tensor format suitable for our SNN PyTorch implementation\n",
    "\n",
    "def convert_to_x_data(spike_events, nb_steps, nb_units):\n",
    "    # Initialize a tensor of zeros (nb_steps, nb_units)\n",
    "    x_data = torch.zeros((nb_steps, nb_units), dtype=torch.float32)\n",
    "    \n",
    "    # Iterate through each spike event (time, unit)\n",
    "    for event in spike_events:\n",
    "        time_step = int(event[0])  # Convert time to an index in the range [0, nb_steps-1]\n",
    "        unit_id = int(event[1])  # Unit index (neuron)\n",
    "        x_data[time_step, unit_id] = 1  # Mark the spike at the correct time step and unit\n",
    "    \n",
    "    return x_data\n",
    "\n",
    "def create_x_data(data):\n",
    "    x_data = []\n",
    "    for sample in data:\n",
    "        x_data.append(convert_to_x_data(sample, nb_steps, nb_units=nb_inputs))\n",
    "\n",
    "    # Convert list of tensors into a single PyTorch tensor (batch of samples)\n",
    "    x_data = torch.stack(x_data)  # Shape: (num_samples, nb_steps, nb_units)\n",
    "    return x_data"
   ]
  },
  {
   "cell_type": "code",
   "execution_count": 9,
   "metadata": {},
   "outputs": [],
   "source": [
    "# x_data = create_x_data(data)"
   ]
  },
  {
   "cell_type": "code",
   "execution_count": 10,
   "metadata": {},
   "outputs": [],
   "source": [
    "# data_tensor = torch.tensor(x_data, dtype=torch.float32)  # Shape: (num_samples, num_events, 2)\n",
    "# labels_tensor = torch.tensor(labels, dtype=torch.int64)  # Shape: (num_samples,)\n",
    "\n",
    "# # Combine data and labels into a PyTorch Dataset\n",
    "# dataset = TensorDataset(data_tensor, labels_tensor)\n",
    "\n",
    "# total_size = len(dataset)\n",
    "# subset_size = total_size // 3\n",
    "\n",
    "# # Ensure that the sizes add up correctly, handling potential remainder\n",
    "# remaining_size = total_size - 2 * subset_size\n",
    "\n",
    "# # Split the dataset into train, validation, and test subsets\n",
    "# train_subset, val_subset, test_subset = random_split(dataset, [subset_size, subset_size, remaining_size])\n",
    "\n",
    "# # Convert back to x_data and y_data for train subset\n",
    "# x_train = [data for data, _ in train_subset]\n",
    "# x_train = torch.stack(x_train).to(device)\n",
    "# y_train = [label for _, label in train_subset]\n",
    "# y_train = torch.tensor(y_train, dtype=torch.int64).to(device)\n",
    "\n",
    "# # Convert back to x_data and y_data for validation subset\n",
    "# x_val = [data for data, _ in val_subset]\n",
    "# x_val = torch.stack(x_val).to(device)\n",
    "# y_val = [label for _, label in val_subset]\n",
    "# y_val = torch.tensor(y_val, dtype=torch.int64).to(device)\n",
    "\n",
    "# # Convert back to x_data and y_data for test subset\n",
    "# x_test = [data for data, _ in test_subset]\n",
    "# x_test = torch.stack(x_test).to(device)\n",
    "# y_test = [label for _, label in test_subset]\n",
    "# y_test = torch.tensor(y_test, dtype=torch.int64).to(device)\n",
    "\n",
    "# # Now you have x_train, y_train, x_val, y_val, x_test, y_test\n",
    "# print(f\"Train set size: {len(train_subset)}\")\n",
    "# print(f\"Validation set size: {len(val_subset)}\")\n",
    "# print(f\"Test set size: {len(test_subset)}\")\n",
    "# print(f\"x_train shape: {x_train.shape}, y_train shape: {y_train.shape}\")\n",
    "# print(f\"x_val shape: {x_val.shape}, y_val shape: {y_val.shape}\")\n",
    "# print(f\"x_test shape: {x_test.shape}, y_test shape: {y_test.shape}\")"
   ]
  },
  {
   "cell_type": "code",
   "execution_count": 11,
   "metadata": {},
   "outputs": [],
   "source": [
    "# data_id = 2\n",
    "# plt.imshow(x_test[data_id].cpu().t(), cmap=plt.cm.gray_r, aspect=\"auto\")\n",
    "# plt.xlabel(\"Time (ms)\")\n",
    "# plt.ylabel(\"Unit\")\n",
    "# sns.despine()"
   ]
  },
  {
   "cell_type": "markdown",
   "metadata": {},
   "source": [
    "## Create a Baseline SNN Hybrid Model"
   ]
  },
  {
   "cell_type": "markdown",
   "metadata": {},
   "source": [
    "### Model Implementation - No Recurrent Weights\n",
    "\n",
    "The input is a set of spikes. At each timestep, certain SNN neurons fire in response to those inputs. The ANNs act as recurrent units within the network. We'll exclude the recurrent weights to simplify things to start."
   ]
  },
  {
   "cell_type": "markdown",
   "metadata": {},
   "source": [
    "#### SNN Only"
   ]
  },
  {
   "cell_type": "code",
   "execution_count": 12,
   "metadata": {},
   "outputs": [],
   "source": [
    "def spike_fn(x):\n",
    "    out = torch.zeros_like(x)\n",
    "    out[x > 0] = 1.0\n",
    "    return out\n",
    "\n",
    "def SNN(inputs, timesteps=nb_steps):\n",
    "    inputs = inputs.to(device)\n",
    "    h1 = torch.einsum(\"abc,cd->abd\", (inputs, w1))\n",
    "    syn = torch.zeros((batch_size,nb_hidden), device=device, dtype=dtype)\n",
    "    mem = torch.zeros((batch_size,nb_hidden), device=device, dtype=dtype)\n",
    "\n",
    "    mem_rec = []\n",
    "    spk_rec = []\n",
    "\n",
    "    # Compute hidden layer activity\n",
    "    for t in range(timesteps):\n",
    "        mthr = mem-1.0\n",
    "        out = spike_fn(mthr)\n",
    "        rst = out.detach() # We do not want to backprop through the reset\n",
    "\n",
    "        new_syn = alpha*syn +h1[:,t]\n",
    "        new_mem = (beta*mem +syn)*(1.0-rst)\n",
    "\n",
    "        mem_rec.append(mem)\n",
    "        spk_rec.append(out)\n",
    "        \n",
    "        mem = new_mem\n",
    "        syn = new_syn\n",
    "\n",
    "    mem_rec = torch.stack(mem_rec,dim=1)\n",
    "    spk_rec = torch.stack(spk_rec,dim=1)\n",
    "\n",
    "    # Readout layer\n",
    "    h2= torch.einsum(\"abc,cd->abd\", (spk_rec, w2))\n",
    "    flt = torch.zeros((batch_size,nb_outputs), device=device, dtype=dtype)\n",
    "    out = torch.zeros((batch_size,nb_outputs), device=device, dtype=dtype)\n",
    "    out_rec = [out]\n",
    "    for t in range(timesteps):\n",
    "        new_flt = alpha*flt +h2[:,t]\n",
    "        new_out = beta*out +flt\n",
    "\n",
    "        flt = new_flt\n",
    "        out = new_out\n",
    "\n",
    "        out_rec.append(out)\n",
    "\n",
    "    out_rec = torch.stack(out_rec,dim=1)\n",
    "    other_recs = [mem_rec, spk_rec]\n",
    "    return out_rec, other_recs"
   ]
  },
  {
   "cell_type": "code",
   "execution_count": 13,
   "metadata": {},
   "outputs": [],
   "source": [
    "def plot_voltage_traces(mem, spk=None, dim=(3,5), spike_height=5):\n",
    "    gs=GridSpec(*dim)\n",
    "    if spk is not None:\n",
    "        dat = 1.0*mem\n",
    "        dat[spk>0.0] = spike_height\n",
    "        dat = dat.detach().cpu().numpy()\n",
    "    else:\n",
    "        dat = mem.detach().cpu().numpy()\n",
    "    for i in range(np.prod(dim)):\n",
    "        if i==0: a0=ax=plt.subplot(gs[i])\n",
    "        else: ax=plt.subplot(gs[i],sharey=a0)\n",
    "        ax.plot(dat[i])\n",
    "        ax.axis(\"off\")"
   ]
  },
  {
   "cell_type": "markdown",
   "metadata": {},
   "source": [
    "##### SNN Regularization"
   ]
  },
  {
   "cell_type": "code",
   "execution_count": null,
   "metadata": {},
   "outputs": [],
   "source": []
  },
  {
   "cell_type": "markdown",
   "metadata": {},
   "source": [
    "##### SNN Recurrent"
   ]
  },
  {
   "cell_type": "code",
   "execution_count": 15,
   "metadata": {},
   "outputs": [],
   "source": [
    "def SNN_recurrent(inputs, timesteps=nb_steps):\n",
    "    inputs = inputs.to(device)\n",
    "    syn = torch.zeros((batch_size,nb_hidden), device=device, dtype=dtype)\n",
    "    mem = torch.zeros((batch_size,nb_hidden), device=device, dtype=dtype)\n",
    "    mem_rec = []\n",
    "    spk_rec = []\n",
    "    out = torch.zeros((batch_size, nb_hidden), device=device, dtype=dtype)\n",
    "    h1_from_input = torch.einsum(\"abc,cd->abd\", (inputs, w1))\n",
    "    # Compute hidden layer activity\n",
    "    for t in range(timesteps):\n",
    "        h1 = h1_from_input[:,t] + torch.einsum(\"ab,bc->ac\", (out, v1))\n",
    "        mthr = mem-1.0\n",
    "        out = spike_fn(mthr)\n",
    "        rst = out.detach() # We do not want to backprop through the reset\n",
    "\n",
    "        new_syn = alpha*syn +h1\n",
    "        new_mem = (beta*mem +syn)*(1.0-rst)\n",
    "\n",
    "        mem_rec.append(mem)\n",
    "        spk_rec.append(out)\n",
    "        \n",
    "        mem = new_mem\n",
    "        syn = new_syn\n",
    "\n",
    "    mem_rec = torch.stack(mem_rec,dim=1)\n",
    "    spk_rec = torch.stack(spk_rec,dim=1)\n",
    "\n",
    "    # Readout layer\n",
    "    h2= torch.einsum(\"abc,cd->abd\", (spk_rec, w2))\n",
    "    flt = torch.zeros((batch_size,nb_outputs), device=device, dtype=dtype)\n",
    "    out = torch.zeros((batch_size,nb_outputs), device=device, dtype=dtype)\n",
    "    out_rec = [out]\n",
    "    for t in range(timesteps):\n",
    "        new_flt = alpha*flt +h2[:,t]\n",
    "        new_out = beta*out +flt\n",
    "\n",
    "        flt = new_flt\n",
    "        out = new_out\n",
    "\n",
    "        out_rec.append(out)\n",
    "\n",
    "    out_rec = torch.stack(out_rec,dim=1)\n",
    "    other_recs = [mem_rec, spk_rec]\n",
    "    return out_rec, other_recs"
   ]
  },
  {
   "cell_type": "markdown",
   "metadata": {},
   "source": [
    "#### ANN Only\n",
    "\n",
    "Let's model an RNN with a similar structure to our SNN. It will take in our temporal data (spikes), and then transform it accordingly in each layer using the weights.\n",
    "\n",
    "Since we take spikes, weight them, and then output them using traditional tanh, we don't really need to worry about conversion.\n",
    "\n",
    "We'd usually have recurrent weights for the RNN, but since we excluded them for the SNN we'll do the same here.\n"
   ]
  },
  {
   "cell_type": "code",
   "execution_count": 16,
   "metadata": {},
   "outputs": [],
   "source": [
    "def ANN_non_recurrent_with_LIF_output(inputs, timesteps=nb_steps):\n",
    "    inputs = inputs.to(device)\n",
    "    \n",
    "    # Weights for the hidden layer for RNN is just w1 -- multiplying by inputs just gives us the output at each timestep\n",
    "    h1 = torch.einsum(\"abc,cd->abd\", (inputs, w1))\n",
    "    # We could also add a bias term but let's exclude for now to make the merging more simple\n",
    "\n",
    "    interim_rec = []\n",
    "\n",
    "    # The difference for a pure ANN is that the hidden and the output layer usually happen at the same time\n",
    "    # It's really fine that they're different here though if we just compute them sequentially\n",
    "\n",
    "    for t in range(timesteps):\n",
    "\n",
    "        layer_weights = h1[:,t]\n",
    "\n",
    "        # Use a tanh function similar to what's done in other models\n",
    "        out = torch.tanh(layer_weights)\n",
    "        interim_rec.append(out)\n",
    "\n",
    "    interim_rec = torch.stack(interim_rec,dim=1)\n",
    "    # We will use the same LIF model as before, and just use the raw output as an input to start since it has a window of 1\n",
    "\n",
    "    # Readout layer\n",
    "    h2= torch.einsum(\"abc,cd->abd\", (interim_rec, w2))\n",
    "    flt = torch.zeros((batch_size,nb_outputs), device=device, dtype=dtype)\n",
    "    out = torch.zeros((batch_size,nb_outputs), device=device, dtype=dtype)\n",
    "    out_rec = [out]\n",
    "\n",
    "    # Convert the h2 readout layer to a rate that can be transmitted to the output layer\n",
    "    \n",
    "    for t in range(nb_steps):\n",
    "        new_flt = alpha*flt +h2[:,t]\n",
    "        new_out = beta*out +flt\n",
    "\n",
    "        flt = new_flt\n",
    "        out = new_out\n",
    "\n",
    "        out_rec.append(out)\n",
    "\n",
    "    out_rec = torch.stack(out_rec,dim=1)\n",
    "    other_recs = interim_rec\n",
    "    return out_rec, other_recs"
   ]
  },
  {
   "cell_type": "markdown",
   "metadata": {},
   "source": [
    "##### With Recurrent Network"
   ]
  },
  {
   "cell_type": "code",
   "execution_count": 17,
   "metadata": {},
   "outputs": [],
   "source": [
    "def RNN_with_LIF_output(inputs, timesteps=nb_steps):\n",
    "    inputs = inputs.to(device)\n",
    "\n",
    "    # Weights for the hidden layer for RNN is just w1 -- multiplying by inputs just gives us the output at each timestep\n",
    "    h1 = torch.einsum(\"abc,cd->abd\", (inputs, w1))\n",
    "    # We could also add a bias term but let's exclude for now to make the merging more simple\n",
    "\n",
    "    interim_rec = []\n",
    "    \n",
    "    # The difference for a pure ANN is that the hidden and the output layer usually happen at the same time\n",
    "    # It's really fine that they're different here though if we just compute them sequentially\n",
    "    out = torch.zeros((batch_size, nb_hidden), device=device, dtype=dtype)\n",
    "\n",
    "    for t in range(timesteps):\n",
    "\n",
    "        layer_weights = h1[:,t] + torch.einsum(\"ab,bc->ac\", (out, v1))\n",
    "\n",
    "        # Use a tanh function similar to what's done in other models\n",
    "        out = torch.tanh(layer_weights)\n",
    "        interim_rec.append(out)\n",
    "\n",
    "    interim_rec = torch.stack(interim_rec,dim=1)\n",
    "    # We will use the same LIF model as before, and just use the raw output as an input to start since it has a window of 1\n",
    "\n",
    "    # Readout layer\n",
    "    h2= torch.einsum(\"abc,cd->abd\", (interim_rec, w2))\n",
    "    flt = torch.zeros((batch_size,nb_outputs), device=device, dtype=dtype)\n",
    "    out = torch.zeros((batch_size,nb_outputs), device=device, dtype=dtype)\n",
    "    out_rec = [out]\n",
    "\n",
    "    # Convert the h2 readout layer to a rate that can be transmitted to the output layer\n",
    "    \n",
    "    for t in range(nb_steps):\n",
    "        new_flt = alpha*flt +h2[:,t]\n",
    "        new_out = beta*out +flt\n",
    "\n",
    "        flt = new_flt\n",
    "        out = new_out\n",
    "\n",
    "        out_rec.append(out)\n",
    "\n",
    "    out_rec = torch.stack(out_rec,dim=1)\n",
    "    other_recs = interim_rec\n",
    "    return out_rec, other_recs"
   ]
  },
  {
   "cell_type": "markdown",
   "metadata": {},
   "source": [
    "#### ANN and SNN - Network to Network\n",
    "\n",
    "For this implementation, we just have 1 timestep, so we don't need to worry about converting ANN to SNN or any of the intermediary weights."
   ]
  },
  {
   "cell_type": "code",
   "execution_count": 18,
   "metadata": {},
   "outputs": [
    {
     "data": {
      "text/plain": [
       "tensor([1., 1., 0., 0.], device='mps:0')"
      ]
     },
     "execution_count": 18,
     "metadata": {},
     "output_type": "execute_result"
    }
   ],
   "source": [
    "torch.manual_seed(42)\n",
    "snn_mask = torch.randint(0, 2, (nb_hidden,), dtype=torch.float32, device=device)  # Randomly assign spiking or analog neurons\n",
    "snn_mask # 1 is spiking"
   ]
  },
  {
   "cell_type": "markdown",
   "metadata": {},
   "source": [
    "Options for SNN to ANN conversion include:\n",
    "1. Time of first spike (this makes less sense with a window of size one)\n",
    "2. Rate (this also makes less sense with a window of size one)\n",
    "3. ISI (it's a difference between spikes so I think this also makes less sense)\n",
    "4. Just take it and weight it (learnable) --> trying this first"
   ]
  },
  {
   "cell_type": "code",
   "execution_count": 19,
   "metadata": {},
   "outputs": [],
   "source": [
    "def Hybrid_ANN_non_recurrent(inputs, timesteps=nb_steps):\n",
    "    inputs = inputs.to(device)\n",
    "    # Weight matrix for training, I think this can be used for both SNN and ANN but the training may have to be different\n",
    "    h1 = torch.einsum(\"abc,cd->abd\", (inputs, w1))\n",
    "    # Let's just do 2 matrices to keep it clean for now\n",
    "    h1_ann = h1.clone() * (1.0-snn_mask)  # ANN neurons\n",
    "    h1_snn = h1.clone() * snn_mask  # SNN neurons\n",
    "    syn = torch.zeros((batch_size,nb_hidden), device=device, dtype=dtype)\n",
    "    mem = torch.zeros((batch_size,nb_hidden), device=device, dtype=dtype)\n",
    "\n",
    "    mem_rec = []\n",
    "    spk_rec = []\n",
    "    ann_rec = []\n",
    "\n",
    "    # Compute hidden layer activity\n",
    "    for t in range(timesteps):\n",
    "\n",
    "        # SNN neurons\n",
    "\n",
    "        # Apply the mask to the synaptic input to ensure SNN neurons are only updated with spiking rules\n",
    "        mem = mem*snn_mask\n",
    "        syn = syn*snn_mask\n",
    "\n",
    "        mthr = mem-1.0\n",
    "        out_snn = spike_fn(mthr)\n",
    "        rst = out_snn.detach() # We do not want to backprop through the reset\n",
    "\n",
    "        new_syn = alpha*syn +h1_snn[:,t]\n",
    "        new_mem = (beta*mem +syn)*(1.0-rst)\n",
    "\n",
    "        mem_rec.append(mem)\n",
    "        spk_rec.append(out_snn)\n",
    "\n",
    "        # ANN neurons - don't interact with the synaptic input at all to start\n",
    "        out_ann = torch.tanh(h1_ann[:,t])\n",
    "        ann_rec.append(out_ann)\n",
    "        \n",
    "        mem = new_mem\n",
    "        syn = new_syn\n",
    "\n",
    "    mem_rec = torch.stack(mem_rec,dim=1)\n",
    "    spk_rec = torch.stack(spk_rec,dim=1)\n",
    "    ann_rec = torch.stack(ann_rec,dim=1)\n",
    "\n",
    "    h2_snn = torch.einsum(\"abc,cd->abd\", (spk_rec, w2))\n",
    "    h2_ann= torch.einsum(\"abc,cd->abd\", (ann_rec, w2))\n",
    "\n",
    "    # We can add the two together to get the final output since the two do not interact at all\n",
    "    h2 = h2_snn + h2_ann\n",
    "\n",
    "    flt = torch.zeros((batch_size,nb_outputs), device=device, dtype=dtype)\n",
    "    out = torch.zeros((batch_size,nb_outputs), device=device, dtype=dtype)\n",
    "    out_rec = [out]\n",
    "    for t in range(timesteps):\n",
    "        new_flt = alpha*flt +h2[:,t]\n",
    "        new_out = beta*out +flt\n",
    "\n",
    "        flt = new_flt\n",
    "        out = new_out\n",
    "\n",
    "        out_rec.append(out)\n",
    "\n",
    "    out_rec = torch.stack(out_rec,dim=1)\n",
    "    other_recs = [mem_rec, spk_rec, ann_rec]\n",
    "    return out_rec, other_recs"
   ]
  },
  {
   "cell_type": "markdown",
   "metadata": {},
   "source": [
    "##### With Recurrent Network"
   ]
  },
  {
   "cell_type": "code",
   "execution_count": 20,
   "metadata": {},
   "outputs": [],
   "source": [
    "def Hybrid_RNN(inputs, timesteps=nb_steps):\n",
    "    inputs = inputs.to(device)\n",
    "    # Weight matrix for training, I think this can be used for both SNN and ANN but the training may have to be different\n",
    "    h1 = torch.einsum(\"abc,cd->abd\", (inputs, w1))\n",
    "    # Let's just do 2 matrices to keep it clean for now\n",
    "    h1_ann = h1.clone() * (1.0-snn_mask)  # ANN neurons\n",
    "    h1_snn = h1.clone() * snn_mask  # SNN neurons\n",
    "    syn = torch.zeros((batch_size,nb_hidden), device=device, dtype=dtype)\n",
    "    mem = torch.zeros((batch_size,nb_hidden), device=device, dtype=dtype)\n",
    "\n",
    "    mem_rec = []\n",
    "    spk_rec = []\n",
    "    ann_rec = []\n",
    "\n",
    "    out_ann = torch.zeros((batch_size, nb_hidden), device=device, dtype=dtype)\n",
    "    \n",
    "    # Compute hidden layer activity\n",
    "    for t in range(timesteps):\n",
    "\n",
    "        # SNN neurons\n",
    "\n",
    "        # Apply the mask to the synaptic input to ensure SNN neurons are only updated with spiking rules\n",
    "        mem = mem*snn_mask\n",
    "        syn = syn*snn_mask\n",
    "\n",
    "        mthr = mem-1.0\n",
    "        out_snn = spike_fn(mthr)\n",
    "        rst = out_snn.detach() # We do not want to backprop through the reset\n",
    "\n",
    "        new_syn = alpha*syn +h1_snn[:,t]\n",
    "        new_mem = (beta*mem +syn)*(1.0-rst)\n",
    "\n",
    "        mem_rec.append(mem)\n",
    "        spk_rec.append(out_snn)\n",
    "\n",
    "        # ANN neurons - don't interact with the synaptic input at all to start\n",
    "        out_ann = torch.tanh(h1_ann[:,t]) + torch.einsum(\"ab,bc->ac\", (out_ann, v1))\n",
    "        ann_rec.append(out_ann)\n",
    "        \n",
    "        mem = new_mem\n",
    "        syn = new_syn\n",
    "\n",
    "    mem_rec = torch.stack(mem_rec,dim=1)\n",
    "    spk_rec = torch.stack(spk_rec,dim=1)\n",
    "    ann_rec = torch.stack(ann_rec,dim=1)\n",
    "\n",
    "    h2_snn = torch.einsum(\"abc,cd->abd\", (spk_rec, w2))\n",
    "    h2_ann= torch.einsum(\"abc,cd->abd\", (ann_rec, w2))\n",
    "\n",
    "    # We can add the two together to get the final output since the two do not interact at all\n",
    "    h2 = h2_snn + h2_ann\n",
    "\n",
    "    flt = torch.zeros((batch_size,nb_outputs), device=device, dtype=dtype)\n",
    "    out = torch.zeros((batch_size,nb_outputs), device=device, dtype=dtype)\n",
    "    out_rec = [out]\n",
    "    for t in range(timesteps):\n",
    "        new_flt = alpha*flt +h2[:,t]\n",
    "        new_out = beta*out +flt\n",
    "\n",
    "        flt = new_flt\n",
    "        out = new_out\n",
    "\n",
    "        out_rec.append(out)\n",
    "\n",
    "    out_rec = torch.stack(out_rec,dim=1)\n",
    "    other_recs = [mem_rec, spk_rec, ann_rec]\n",
    "    return out_rec, other_recs"
   ]
  },
  {
   "cell_type": "markdown",
   "metadata": {},
   "source": [
    "##### Recurrent SNN Network"
   ]
  },
  {
   "cell_type": "code",
   "execution_count": 21,
   "metadata": {},
   "outputs": [],
   "source": [
    "def Hybrid_RNN_SNN_rec(inputs, timesteps=nb_steps):\n",
    "    inputs = inputs.to(device)\n",
    "    # Weight matrix for training, I think this can be used for both SNN and ANN but the training may have to be different\n",
    "    h1 = torch.einsum(\"abc,cd->abd\", (inputs, w1))\n",
    "    # Let's just do 2 matrices to keep it clean for now\n",
    "    h1_ann = h1.clone() * (1.0-snn_mask)  # ANN neurons\n",
    "    h1_snn_input = h1.clone() * snn_mask  # SNN neurons\n",
    "    syn = torch.zeros((batch_size,nb_hidden), device=device, dtype=dtype)\n",
    "    mem = torch.zeros((batch_size,nb_hidden), device=device, dtype=dtype)\n",
    "\n",
    "    mem_rec = []\n",
    "    spk_rec = []\n",
    "    ann_rec = []\n",
    "\n",
    "    out_ann = torch.zeros((batch_size, nb_hidden), device=device, dtype=dtype)\n",
    "    out_snn = torch.zeros((batch_size, nb_hidden), device=device, dtype=dtype)\n",
    "    # Compute hidden layer activity\n",
    "    for t in range(timesteps):\n",
    "        h1_snn = h1_snn_input[:,t] + torch.einsum(\"ab,bc->ac\", (out_snn, v1))\n",
    "        # SNN neurons\n",
    "\n",
    "        # Apply the mask to the synaptic input to ensure SNN neurons are only updated with spiking rules\n",
    "        mem = mem*snn_mask\n",
    "        syn = syn*snn_mask\n",
    "\n",
    "        mthr = mem-1.0\n",
    "        out_snn = spike_fn(mthr)\n",
    "        rst = out_snn.detach() # We do not want to backprop through the reset\n",
    "\n",
    "        new_syn = alpha*syn +h1_snn\n",
    "        new_mem = (beta*mem +syn)*(1.0-rst)\n",
    "\n",
    "        mem_rec.append(mem)\n",
    "        spk_rec.append(out_snn)\n",
    "\n",
    "        # ANN neurons - don't interact with the synaptic input at all to start\n",
    "        out_ann = torch.tanh(h1_ann[:,t]) + torch.einsum(\"ab,bc->ac\", (out_ann, v1))\n",
    "        ann_rec.append(out_ann)\n",
    "        \n",
    "        mem = new_mem\n",
    "        syn = new_syn\n",
    "\n",
    "    mem_rec = torch.stack(mem_rec,dim=1)\n",
    "    spk_rec = torch.stack(spk_rec,dim=1)\n",
    "    ann_rec = torch.stack(ann_rec,dim=1)\n",
    "\n",
    "    h2_snn = torch.einsum(\"abc,cd->abd\", (spk_rec, w2))\n",
    "    h2_ann= torch.einsum(\"abc,cd->abd\", (ann_rec, w2))\n",
    "\n",
    "    # We can add the two together to get the final output since the two do not interact at all\n",
    "    h2 = h2_snn + h2_ann\n",
    "\n",
    "    flt = torch.zeros((batch_size,nb_outputs), device=device, dtype=dtype)\n",
    "    out = torch.zeros((batch_size,nb_outputs), device=device, dtype=dtype)\n",
    "    out_rec = [out]\n",
    "    for t in range(timesteps):\n",
    "        new_flt = alpha*flt +h2[:,t]\n",
    "        new_out = beta*out +flt\n",
    "\n",
    "        flt = new_flt\n",
    "        out = new_out\n",
    "\n",
    "        out_rec.append(out)\n",
    "\n",
    "    out_rec = torch.stack(out_rec,dim=1)\n",
    "    other_recs = [mem_rec, spk_rec, ann_rec]\n",
    "    return out_rec, other_recs"
   ]
  },
  {
   "cell_type": "markdown",
   "metadata": {},
   "source": [
    "### ANN and SNN - Layer to Layer"
   ]
  },
  {
   "cell_type": "code",
   "execution_count": 22,
   "metadata": {},
   "outputs": [],
   "source": [
    "def Hybrid_RNN_SNN_V1_same_layer(inputs, timesteps=nb_steps):\n",
    "    inputs = inputs.to(device)\n",
    "    # Weight matrix for training, I think this can be used for both SNN and ANN but the training may have to be different\n",
    "    h1 = torch.einsum(\"abc,cd->abd\", (inputs, w1))\n",
    "    # Let's just do 2 matrices to keep it clean for now\n",
    "    h1_ann = h1.clone() * (1.0-snn_mask)  # ANN neurons\n",
    "    h1_snn_input = h1.clone() * snn_mask  # SNN neurons\n",
    "    syn = torch.zeros((batch_size,nb_hidden), device=device, dtype=dtype)\n",
    "    mem = torch.zeros((batch_size,nb_hidden), device=device, dtype=dtype)\n",
    "\n",
    "    mem_rec = []\n",
    "    spk_rec = []\n",
    "    ann_rec = []\n",
    "    # (O_A + O_S) * W_2 = (O_A * W_2 + O_S * W_2) by distributive property, no theoretical change there apart from H1\n",
    "    # Prove/think about this after more after test it\n",
    "    out_ann = torch.zeros((batch_size, nb_hidden), device=device, dtype=dtype)\n",
    "    out_snn = torch.zeros((batch_size, nb_hidden), device=device, dtype=dtype)\n",
    "    # Compute hidden layer activity\n",
    "    for t in range(timesteps):\n",
    "        out = out_ann + out_snn\n",
    "        h1_snn = h1_snn_input[:,t] + torch.einsum(\"ab,bc->ac\", (out, v1))\n",
    "        # SNN neurons\n",
    "\n",
    "        # Apply the mask to the synaptic input to ensure SNN neurons are only updated with spiking rules\n",
    "        mem = mem*snn_mask\n",
    "        syn = syn*snn_mask\n",
    "\n",
    "        mthr = mem-1.0\n",
    "        out_snn = spike_fn(mthr)\n",
    "        rst = out_snn.detach() # We do not want to backprop through the reset\n",
    "\n",
    "        new_syn = alpha*syn +h1_snn\n",
    "        new_mem = (beta*mem +syn)*(1.0-rst)\n",
    "\n",
    "        mem_rec.append(mem)\n",
    "        spk_rec.append(out_snn)\n",
    "\n",
    "        # ANN neurons - don't interact with the synaptic input at all to start\n",
    "        out_ann = torch.tanh(h1_ann[:,t]) + torch.einsum(\"ab,bc->ac\", (out, v1))\n",
    "        ann_rec.append(out_ann)\n",
    "        \n",
    "        mem = new_mem\n",
    "        syn = new_syn\n",
    "\n",
    "    mem_rec = torch.stack(mem_rec,dim=1)\n",
    "    spk_rec = torch.stack(spk_rec,dim=1)\n",
    "    ann_rec = torch.stack(ann_rec,dim=1)\n",
    "\n",
    "    h2_snn = torch.einsum(\"abc,cd->abd\", (spk_rec, w2))\n",
    "    h2_ann = torch.einsum(\"abc,cd->abd\", (ann_rec, w2))\n",
    "\n",
    "    # We can add the two together to get the final output since the two do not interact at all\n",
    "    h2 = h2_snn + h2_ann\n",
    "\n",
    "    flt = torch.zeros((batch_size,nb_outputs), device=device, dtype=dtype)\n",
    "    out = torch.zeros((batch_size,nb_outputs), device=device, dtype=dtype)\n",
    "    out_rec = [out]\n",
    "    for t in range(timesteps):\n",
    "        new_flt = alpha*flt +h2[:,t]\n",
    "        new_out = beta*out +flt\n",
    "\n",
    "        flt = new_flt\n",
    "        out = new_out\n",
    "\n",
    "        out_rec.append(out)\n",
    "\n",
    "    out_rec = torch.stack(out_rec,dim=1)\n",
    "    other_recs = [mem_rec, spk_rec, ann_rec]\n",
    "    return out_rec, other_recs"
   ]
  },
  {
   "cell_type": "markdown",
   "metadata": {},
   "source": [
    "### With Training (Surrogate Gradient)"
   ]
  },
  {
   "cell_type": "code",
   "execution_count": 23,
   "metadata": {},
   "outputs": [],
   "source": [
    "class SurrGradSpike(torch.autograd.Function):\n",
    "    \"\"\"\n",
    "    Here we implement our spiking nonlinearity which also implements \n",
    "    the surrogate gradient. By subclassing torch.autograd.Function, \n",
    "    we will be able to use all of PyTorch's autograd functionality.\n",
    "    Here we use the normalized negative part of a fast sigmoid \n",
    "    as this was done in Zenke & Ganguli (2018).\n",
    "    \"\"\"\n",
    "    \n",
    "    scale = 100.0 # controls steepness of surrogate gradient\n",
    "\n",
    "    @staticmethod\n",
    "    def forward(ctx, input):\n",
    "        \"\"\"\n",
    "        In the forward pass we compute a step function of the input Tensor\n",
    "        and return it. ctx is a context object that we use to stash information which \n",
    "        we need to later backpropagate our error signals. To achieve this we use the \n",
    "        ctx.save_for_backward method.\n",
    "        \"\"\"\n",
    "        ctx.save_for_backward(input)\n",
    "        out = torch.zeros_like(input)\n",
    "        out[input > 0] = 1.0\n",
    "        return out\n",
    "\n",
    "    @staticmethod\n",
    "    def backward(ctx, grad_output):\n",
    "        \"\"\"\n",
    "        In the backward pass we receive a Tensor we need to compute the \n",
    "        surrogate gradient of the loss with respect to the input. \n",
    "        Here we use the normalized negative part of a fast sigmoid \n",
    "        as this was done in Zenke & Ganguli (2018).\n",
    "        \"\"\"\n",
    "        input, = ctx.saved_tensors\n",
    "        grad_input = grad_output.clone()\n",
    "        grad = grad_input/(SurrGradSpike.scale*torch.abs(input)+1.0)**2\n",
    "        return grad\n",
    "    \n",
    "# here we overwrite our naive spike function by the \"SurrGradSpike\" nonlinearity which implements a surrogate gradient\n",
    "spike_fn = SurrGradSpike.apply"
   ]
  },
  {
   "cell_type": "code",
   "execution_count": 24,
   "metadata": {},
   "outputs": [],
   "source": [
    "def compute_classification_accuracy(x_data, y_data, model=SNN):\n",
    "    \"\"\" \n",
    "    Computes classification accuracy and confusion matrix on supplied data in batches.\n",
    "    \n",
    "    Returns:\n",
    "        accuracy: Overall classification accuracy.\n",
    "        conf_matrix: Confusion matrix of shape (num_classes, num_classes).\n",
    "    \"\"\"\n",
    "    all_preds = []\n",
    "    all_labels = []\n",
    "\n",
    "    output,recs = model(x_data)\n",
    "    spike_count = 0\n",
    "    m,_=torch.max(output,1)\n",
    "    if \"Hybrid\" or \"SNN\" in model.__name__:\n",
    "        spks = recs[1]\n",
    "        spks[spks>0.0] = 1.0\n",
    "        spks[spks<0.0] = 0.0\n",
    "        spike_count = torch.sum(spks).detach().cpu().numpy()\n",
    "    # Compute training accuracy\n",
    "    _,am=torch.max(m,1)\n",
    "    acc = np.mean((y_data==am).detach().cpu().numpy())\n",
    "    all_preds.extend(am.cpu().numpy())\n",
    "    all_labels.extend(y_data.cpu().numpy())\n",
    "    \n",
    "    # Compute overall accuracy\n",
    "\n",
    "    # Compute confusion matrix\n",
    "    conf_matrix = confusion_matrix(all_labels, all_preds)\n",
    "    \n",
    "\n",
    "    return acc, conf_matrix, spike_count\n",
    "    \n",
    "def plot_confusion_matrix(conf_matrix, class_names, title):\n",
    "    \"\"\" Plots the confusion matrix. \"\"\"\n",
    "    plt.figure(figsize=(8, 6))\n",
    "    sns.heatmap(conf_matrix, annot=True, fmt=\"d\", cmap=\"Blues\", xticklabels=class_names, yticklabels=class_names)\n",
    "    plt.xlabel(\"Predicted\")\n",
    "    plt.ylabel(\"True\")\n",
    "    plt.title(f\"{title} Confusion Matrix - Random Manifolds\")\n",
    "    plt.show()"
   ]
  },
  {
   "cell_type": "code",
   "execution_count": 25,
   "metadata": {},
   "outputs": [],
   "source": [
    "def train_and_print_results(model, x_train, y_train, x_val, y_val, x_test, y_test, epochs=100, regularization=False, lr=2e-3, l1=1e-5, l2=1e-5, wandb_run=None):\n",
    "    global w1, w2, v1\n",
    "    # The following lines will reinitialize the weights at the start of each run\n",
    "    with torch.no_grad():\n",
    "        torch.nn.init.normal_(w1, mean=0.0, std=weight_scale/np.sqrt(nb_inputs))\n",
    "        torch.nn.init.normal_(w2, mean=0.0, std=weight_scale/np.sqrt(nb_hidden))\n",
    "        torch.nn.init.normal_(v1, mean=0.0, std=weight_scale/np.sqrt(nb_hidden))\n",
    "\n",
    "    print(\"init done\")\n",
    "\n",
    "    params = [w1, w2, v1]\n",
    "    optimizer = torch.optim.Adam(params, lr=lr, betas=(0.9, 0.999))\n",
    "    log_softmax_fn = nn.LogSoftmax(dim=1)\n",
    "    loss_fn = nn.NLLLoss()\n",
    "    loss_hist_train = []\n",
    "    loss_hist_val = []\n",
    "    val_accuracy_hist = []\n",
    "    spike_count_train_epoch = 0\n",
    "    spike_count_val_epoch = 0\n",
    "\n",
    "    for e in range(epochs):\n",
    "        # --- Training Phase ---\n",
    "        output_train, other_recs_train = model(x_train)\n",
    "        m,_=torch.max(output_train,1)\n",
    "        log_p_y_train = log_softmax_fn(m)\n",
    "        loss_val_train = loss_fn(log_p_y_train, y_train)\n",
    "\n",
    "        if regularization:\n",
    "            spks = other_recs_train[1]\n",
    "            reg_loss = l1 * torch.sum(spks)\n",
    "            reg_loss += l2 * torch.mean(torch.sum(torch.sum(spks, dim=0), dim=0)**2)\n",
    "            loss_val_train += reg_loss\n",
    "\n",
    "        optimizer.zero_grad()\n",
    "        loss_val_train.backward()\n",
    "        optimizer.step()\n",
    "        loss_hist_train.append(loss_val_train.item())\n",
    "\n",
    "        if \"SNN\" in model.__name__ or \"Hybrid\" in model.__name__:\n",
    "            spks_train_epoch = torch.sum(other_recs_train[1][other_recs_train[1] >= 1.0]).detach().cpu().numpy()\n",
    "\n",
    "        # --- Validation Phase ---\n",
    "        with torch.no_grad():\n",
    "            output_val, other_recs_val = model(x_val)\n",
    "            m,_=torch.max(output_val,1)\n",
    "\n",
    "            log_p_y_val = log_softmax_fn(m)\n",
    "            loss_val_val = loss_fn(log_p_y_val, y_val)\n",
    "\n",
    "            val_accuracy, _, _ = compute_classification_accuracy(x_val, y_val, model=model)\n",
    "            val_accuracy_hist.append(val_accuracy)\n",
    "            loss_hist_val.append(loss_val_val.item())\n",
    "\n",
    "            if \"SNN\" in model.__name__ or \"Hybrid\" in model.__name__:\n",
    "                spike_count_val_epoch = torch.sum(other_recs_val[1][other_recs_val[1] >= 1.0]).detach().cpu().numpy()\n",
    "\n",
    "            # Log metrics to Wandb\n",
    "            if wandb_run:\n",
    "                wandb_run.log({\"train_loss\": loss_val_train.item(),\n",
    "                               \"val_loss\": loss_val_val.item(),\n",
    "                               \"val_accuracy\": val_accuracy,\n",
    "                               \"epoch\": e})\n",
    "                if \"SNN\" in model.__name__ or \"Hybrid\" in model.__name__:\n",
    "                    wandb_run.log({\"spike_count_train_epoch\": spike_count_train_epoch,\n",
    "                                   \"spike_count_val_epoch\": spike_count_val_epoch})\n",
    "\n",
    "    # Evaluation after training loop\n",
    "    train_accuracy, train_conf_matrix, _ = compute_classification_accuracy(x_train, y_train, model=model)\n",
    "    test_accuracy, test_conf_matrix, _ = compute_classification_accuracy(x_test, y_test, model=model)\n",
    "    val_accuracy_final, val_conf_matrix, _ = compute_classification_accuracy(x_val, y_val, model=model)\n",
    "\n",
    "    print(f\"Final Train Accuracy: {train_accuracy * 100:.2f}%\")\n",
    "    print(f\"Final Validation Accuracy: {val_accuracy_final * 100:.2f}%\")\n",
    "    print(f\"Final Test Accuracy: {test_accuracy * 100:.2f}%\")\n",
    "\n",
    "    if wandb_run:\n",
    "        wandb_run.log({\"final_train_accuracy\": train_accuracy,\n",
    "                       \"final_test_accuracy\": test_accuracy,\n",
    "                       \"final_val_accuracy\": val_accuracy})\n",
    "\n",
    "    return val_accuracy # For training sweeps"
   ]
  },
  {
   "cell_type": "markdown",
   "metadata": {},
   "source": [
    "### Train with wandb"
   ]
  },
  {
   "cell_type": "code",
   "execution_count": 26,
   "metadata": {},
   "outputs": [],
   "source": [
    "function_mappings = {\n",
    "    'SNN': SNN,\n",
    "    'SNN_recurrent': SNN_recurrent,\n",
    "    'ANN_non_recurrent_with_LIF_output': ANN_non_recurrent_with_LIF_output,\n",
    "    'RNN_with_LIF_output': RNN_with_LIF_output,\n",
    "    'Hybrid_ANN_non_recurrent': Hybrid_ANN_non_recurrent,\n",
    "    'Hybrid_RNN': Hybrid_RNN,\n",
    "    'Hybrid_RNN_SNN_rec': Hybrid_RNN_SNN_rec,\n",
    "    'Hybrid_RNN_SNN_V1_same_layer': Hybrid_RNN_SNN_V1_same_layer\n",
    "}"
   ]
  },
  {
   "cell_type": "code",
   "execution_count": 27,
   "metadata": {},
   "outputs": [],
   "source": [
    "# x_train.shape, y_train.shape, x_val.shape, y_val.shape, x_test.shape, y_test.shape"
   ]
  },
  {
   "cell_type": "code",
   "execution_count": 28,
   "metadata": {},
   "outputs": [],
   "source": [
    "# # Define the number of runs\n",
    "# num_runs = 5\n",
    "# all_test_accuracies = []\n",
    "\n",
    "# # Define your hyperparameters\n",
    "# config = {\n",
    "#     \"epochs\": 150,\n",
    "#     \"regularization\": True,\n",
    "#     \"l1\": 5e-6,\n",
    "#     \"l2\": 1e-6,\n",
    "#     \"learning_rate\": 2e-3,\n",
    "#     \"optimizer\": \"Adam\",\n",
    "#     \"model_name\": \"SNN\" # Add a name for grouping\n",
    "# }\n",
    "\n",
    "# # Assume x_data and labels are defined globally or loaded here\n",
    "# # Example (replace with your actual data loading):\n",
    "\n",
    "# for run_idx in range(num_runs):\n",
    "#     # Set a different random seed for each run\n",
    "#     seed = 42 + run_idx\n",
    "#     torch.manual_seed(seed)\n",
    "#     np.random.seed(seed)\n",
    "#     random.seed(seed)\n",
    "#     data,labels = make_spiking_dataset(nb_classes=nb_outputs, nb_units=nb_inputs, nb_steps=nb_steps, dim_manifold=1, seed=seed, nb_samples=int(batch_size/nb_outputs)*3)\n",
    "    \n",
    "#     x_data = create_x_data(data)    \n",
    "#     # Reinitialize the dataset and split it\n",
    "#     data_tensor = torch.tensor(x_data, dtype=torch.float32)\n",
    "#     labels_tensor = torch.tensor(labels, dtype=torch.int64)\n",
    "#     dataset = TensorDataset(data_tensor, labels_tensor)\n",
    "\n",
    "#     total_size = len(dataset)\n",
    "#     third_size = total_size // 3  # Integer division to get the base size\n",
    "\n",
    "#     train_size = third_size\n",
    "#     val_size = third_size\n",
    "#     remaining_size = total_size - train_size - val_size\n",
    "#     test_size = remaining_size  # The rest of the data goes to the test set\n",
    "\n",
    "#     train_dataset, val_dataset, test_dataset = random_split(dataset, [train_size, val_size, test_size])\n",
    "\n",
    "#     x_train = torch.stack([data for data, _ in train_dataset]).to(device)\n",
    "#     y_train = torch.tensor([label for _, label in train_dataset], dtype=torch.int64).to(device)\n",
    "#     x_val = torch.stack([data for data, _ in val_dataset]).to(device)\n",
    "#     y_val = torch.tensor([label for _, label in val_dataset], dtype=torch.int64).to(device)\n",
    "#     x_test = torch.stack([data for data, _ in test_dataset]).to(device)\n",
    "#     y_test = torch.tensor([label for _, label in test_dataset], dtype=torch.int64).to(device)\n",
    "\n",
    "#     # Initialize Wandb run\n",
    "#     wandb_run = wandb.init(project=\"SNN_test\",\n",
    "#                             name=f\"{config['model_name']}_run_{run_idx}\",\n",
    "#                             config=config,\n",
    "#                             group=config['model_name'])\n",
    "\n",
    "#     model = function_mappings[config[\"model_name\"]]\n",
    "#     # Train and get results for the current run\n",
    "#     test_accuracy = train_and_print_results(model, x_train, y_train, x_val, y_val, x_test, y_test,\n",
    "#                                             epochs=config[\"epochs\"],\n",
    "#                                             regularization=config[\"regularization\"],\n",
    "#                                             lr=config[\"learning_rate\"],\n",
    "#                                             l1=config[\"l1\"],\n",
    "#                                             l2=config[\"l2\"],\n",
    "#                                             wandb_run=wandb_run)\n",
    "\n",
    "#     all_test_accuracies.append(test_accuracy)\n",
    "#     # Finish the Wandb run for this initialization\n",
    "#     wandb_run.finish()\n",
    "\n",
    "# # Print overall average results\n",
    "# print(\"\\n--- Average Results Across Runs ---\")\n",
    "# print(f\"Average Test Accuracy: {np.mean(all_test_accuracies) * 100:.2f}%\")\n"
   ]
  },
  {
   "cell_type": "code",
   "execution_count": 29,
   "metadata": {},
   "outputs": [],
   "source": [
    "# def model_wandb(num_runs, epochs, model):\n",
    "#     all_test_accuracies = []\n",
    "\n",
    "#     # Define your hyperparameters\n",
    "#     config = {\n",
    "#         \"epochs\": epochs,\n",
    "#         \"regularization\": True,\n",
    "#         \"l1\": 5e-6,\n",
    "#         \"l2\": 1e-6,\n",
    "#         \"learning_rate\": 2e-3,\n",
    "#         \"optimizer\": \"Adam\",\n",
    "#         \"model_name\": model # Add a name for grouping\n",
    "#     }\n",
    "\n",
    "#     # Assume x_data and labels are defined globally or loaded here\n",
    "#     # Example (replace with your actual data loading):\n",
    "\n",
    "#     for run_idx in range(num_runs):\n",
    "#         # Set a different random seed for each run\n",
    "#         seed = 42 + run_idx\n",
    "#         torch.manual_seed(seed)\n",
    "#         np.random.seed(seed)\n",
    "#         random.seed(seed)\n",
    "#         data,labels = make_spiking_dataset(nb_classes=nb_outputs, nb_units=nb_inputs, nb_steps=nb_steps, dim_manifold=1, seed=seed, nb_samples=int(batch_size/nb_outputs)*3)\n",
    "        \n",
    "#         x_data = create_x_data(data)    \n",
    "#         # Reinitialize the dataset and split it\n",
    "#         data_tensor = torch.tensor(x_data, dtype=torch.float32)\n",
    "#         labels_tensor = torch.tensor(labels, dtype=torch.int64)\n",
    "#         dataset = TensorDataset(data_tensor, labels_tensor)\n",
    "\n",
    "#         total_size = len(dataset)\n",
    "#         third_size = total_size // 3  # Integer division to get the base size\n",
    "\n",
    "#         train_size = third_size\n",
    "#         val_size = third_size\n",
    "#         remaining_size = total_size - train_size - val_size\n",
    "#         test_size = remaining_size  # The rest of the data goes to the test set\n",
    "\n",
    "#         train_dataset, val_dataset, test_dataset = random_split(dataset, [train_size, val_size, test_size])\n",
    "\n",
    "#         x_train = torch.stack([data for data, _ in train_dataset]).to(device)\n",
    "#         y_train = torch.tensor([label for _, label in train_dataset], dtype=torch.int64).to(device)\n",
    "#         x_val = torch.stack([data for data, _ in val_dataset]).to(device)\n",
    "#         y_val = torch.tensor([label for _, label in val_dataset], dtype=torch.int64).to(device)\n",
    "#         x_test = torch.stack([data for data, _ in test_dataset]).to(device)\n",
    "#         y_test = torch.tensor([label for _, label in test_dataset], dtype=torch.int64).to(device)\n",
    "\n",
    "#         # Initialize Wandb run\n",
    "#         wandb_run = wandb.init(project=\"SNN_test\",\n",
    "#                                 name=f\"{config['model_name']}_run_{run_idx}\",\n",
    "#                                 config=config,\n",
    "#                                 group=config['model_name'])\n",
    "\n",
    "#         model = function_mappings[config[\"model_name\"]]\n",
    "#         # Train and get results for the current run\n",
    "#         test_accuracy = train_and_print_results(model, x_train, y_train, x_val, y_val, x_test, y_test,\n",
    "#                                                 epochs=config[\"epochs\"],\n",
    "#                                                 regularization=config[\"regularization\"],\n",
    "#                                                 l1=config[\"l1\"],\n",
    "#                                                 l2=config[\"l2\"],\n",
    "#                                                 wandb_run=wandb_run)\n",
    "\n",
    "#         all_test_accuracies.append(test_accuracy)\n",
    "#         # Finish the Wandb run for this initialization\n",
    "#         wandb_run.finish()\n",
    "\n",
    "#     # Print overall average results\n",
    "#     print(\"\\n--- Average Results Across Runs ---\")\n",
    "#     print(f\"Average Test Accuracy: {np.mean(all_test_accuracies) * 100:.2f}%\")\n"
   ]
  },
  {
   "cell_type": "code",
   "execution_count": 30,
   "metadata": {},
   "outputs": [],
   "source": [
    "# # Now repeat the process for the other models\n",
    "# for model_name, model_func in function_mappings.items():\n",
    "#     model_wandb(num_runs=5, epochs=150, model=model_name)"
   ]
  },
  {
   "cell_type": "markdown",
   "metadata": {},
   "source": [
    "### Regularization Optimization"
   ]
  },
  {
   "cell_type": "code",
   "execution_count": 31,
   "metadata": {},
   "outputs": [],
   "source": [
    "def train_sweep():\n",
    "    # Initialize a Wandb run\n",
    "    with wandb.init(project=\"SNN_test_optimize\", config=wandb.config) as run:\n",
    "        config = wandb.config\n",
    "        model_name = config['model_name']\n",
    "        run.name = f\"{model_name}-l1_{config['l1']}-l2_{config['l2']}\"\n",
    "        data, labels = make_spiking_dataset(nb_classes=nb_outputs, nb_units=nb_inputs, nb_steps=nb_steps, dim_manifold=1, seed=42, nb_samples=int(batch_size/nb_outputs)*3)\n",
    "        # Load your data (ensure nb_outputs, device are defined)\n",
    "        x_data = create_x_data(data)    \n",
    "        # Reinitialize the dataset and split it\n",
    "        data_tensor = torch.tensor(x_data, dtype=torch.float32)\n",
    "        labels_tensor = torch.tensor(labels, dtype=torch.int64)\n",
    "        dataset = TensorDataset(data_tensor, labels_tensor)\n",
    "\n",
    "        total_size = len(dataset)\n",
    "        third_size = total_size // 3  # Integer division to get the base size\n",
    "\n",
    "        train_size = third_size\n",
    "        val_size = third_size\n",
    "        remaining_size = total_size - train_size - val_size\n",
    "        test_size = remaining_size  # The rest of the data goes to the test set\n",
    "\n",
    "        train_dataset, val_dataset, test_dataset = random_split(dataset, [train_size, val_size, test_size])\n",
    "\n",
    "        x_train = torch.stack([data for data, _ in train_dataset]).to(device)\n",
    "        y_train = torch.tensor([label for _, label in train_dataset], dtype=torch.int64).to(device)\n",
    "        x_val = torch.stack([data for data, _ in val_dataset]).to(device)\n",
    "        y_val = torch.tensor([label for _, label in val_dataset], dtype=torch.int64).to(device)\n",
    "        x_test = torch.stack([data for data, _ in test_dataset]).to(device)\n",
    "        y_test = torch.tensor([label for _, label in test_dataset], dtype=torch.int64).to(device)\n",
    "\n",
    "        # Instantiate your model (assuming Hybrid_RNN_SNN_rec is defined globally)\n",
    "        model = function_mappings[config[\"model_name\"]]\n",
    "\n",
    "        # Train the model\n",
    "        final_val_accuracy = train_and_print_results(model, x_train, y_train, x_val, y_val, x_test, y_test,epochs=config['epochs'], regularization=config['regularization'], wandb_run=run, l1=config['l1'], l2=config['l2'], lr=config['learning_rate'])"
   ]
  },
  {
   "cell_type": "code",
   "execution_count": 32,
   "metadata": {},
   "outputs": [],
   "source": [
    "# # Now let's do the sweep for regularization optimization (SNN models only)\n",
    "# sweep_config = {\n",
    "#     'method': 'grid',\n",
    "#     'name': 'SNN Regularization Sweep',\n",
    "#     'metric': {\n",
    "#         'name': 'val_accuracy',\n",
    "#         'goal': 'maximize'\n",
    "#     },\n",
    "#     'parameters': {\n",
    "#         'l1': {\n",
    "#             'values': [1e-6, 5e-6, 1e-5]\n",
    "#         },\n",
    "#         'l2': {\n",
    "#             'values': [1e-6, 5e-6, 1e-5]\n",
    "#         },\n",
    "#         'learning_rate': {\n",
    "#             'value': 2e-3 # Keep learning rate constant for this sweep\n",
    "#         },\n",
    "#         'epochs': {\n",
    "#             'value': 150 # Keep epochs constant for this sweep\n",
    "#         },\n",
    "#         'regularization':{\n",
    "#             'value': True # Ensure regularization is always on for this sweep\n",
    "#         },\n",
    "#         'optimizer': {\n",
    "#             'value': \"Adam\"\n",
    "#         },\n",
    "#         'model_name':{\n",
    "#             'value': \"SNN\"\n",
    "#         }\n",
    "#     }\n",
    "# }\n",
    "# sweep_id = wandb.sweep(sweep_config, project=\"SNN_test_optimize\")\n",
    "\n",
    "# wandb.agent(sweep_id, train_sweep, count=9) # Run all 3 x 3 combinations\n"
   ]
  },
  {
   "cell_type": "code",
   "execution_count": 33,
   "metadata": {},
   "outputs": [
    {
     "name": "stderr",
     "output_type": "stream",
     "text": [
      "\u001b[34m\u001b[1mwandb\u001b[0m: Using wandb-core as the SDK backend.  Please refer to https://wandb.me/wandb-core for more information.\n"
     ]
    },
    {
     "name": "stdout",
     "output_type": "stream",
     "text": [
      "Create sweep with ID: zfqum03h\n",
      "Sweep URL: https://wandb.ai/nar8991-new-york-university/SNN_test_optimize/sweeps/zfqum03h\n"
     ]
    },
    {
     "name": "stderr",
     "output_type": "stream",
     "text": [
      "\u001b[34m\u001b[1mwandb\u001b[0m: Agent Starting Run: j0qz4hl4 with config:\n",
      "\u001b[34m\u001b[1mwandb\u001b[0m: \tepochs: 150\n",
      "\u001b[34m\u001b[1mwandb\u001b[0m: \tl1: 1e-06\n",
      "\u001b[34m\u001b[1mwandb\u001b[0m: \tl2: 1e-06\n",
      "\u001b[34m\u001b[1mwandb\u001b[0m: \tlearning_rate: 0.002\n",
      "\u001b[34m\u001b[1mwandb\u001b[0m: \tmodel_name: Hybrid_RNN_SNN_V1_same_layer\n",
      "\u001b[34m\u001b[1mwandb\u001b[0m: \toptimizer: Adam\n",
      "\u001b[34m\u001b[1mwandb\u001b[0m: \tregularization: True\n",
      "\u001b[34m\u001b[1mwandb\u001b[0m: Currently logged in as: \u001b[33mnar8991\u001b[0m (\u001b[33mnar8991-new-york-university\u001b[0m) to \u001b[32mhttps://api.wandb.ai\u001b[0m. Use \u001b[1m`wandb login --relogin`\u001b[0m to force relogin\n"
     ]
    },
    {
     "data": {
      "text/html": [
       "Ignoring project 'SNN_test_optimize' when running a sweep."
      ],
      "text/plain": [
       "<IPython.core.display.HTML object>"
      ]
     },
     "metadata": {},
     "output_type": "display_data"
    },
    {
     "data": {
      "text/html": [
       "Tracking run with wandb version 0.19.9"
      ],
      "text/plain": [
       "<IPython.core.display.HTML object>"
      ]
     },
     "metadata": {},
     "output_type": "display_data"
    },
    {
     "data": {
      "text/html": [
       "Run data is saved locally in <code>/Users/naliniramanathan/projects/snn_project/spytorch/notebooks/wandb/run-20250417_031214-j0qz4hl4</code>"
      ],
      "text/plain": [
       "<IPython.core.display.HTML object>"
      ]
     },
     "metadata": {},
     "output_type": "display_data"
    },
    {
     "data": {
      "text/html": [
       "Syncing run <strong><a href='https://wandb.ai/nar8991-new-york-university/SNN_test_optimize/runs/j0qz4hl4' target=\"_blank\">restful-sweep-1</a></strong> to <a href='https://wandb.ai/nar8991-new-york-university/SNN_test_optimize' target=\"_blank\">Weights & Biases</a> (<a href='https://wandb.me/developer-guide' target=\"_blank\">docs</a>)<br>Sweep page: <a href='https://wandb.ai/nar8991-new-york-university/SNN_test_optimize/sweeps/zfqum03h' target=\"_blank\">https://wandb.ai/nar8991-new-york-university/SNN_test_optimize/sweeps/zfqum03h</a>"
      ],
      "text/plain": [
       "<IPython.core.display.HTML object>"
      ]
     },
     "metadata": {},
     "output_type": "display_data"
    },
    {
     "data": {
      "text/html": [
       " View project at <a href='https://wandb.ai/nar8991-new-york-university/SNN_test_optimize' target=\"_blank\">https://wandb.ai/nar8991-new-york-university/SNN_test_optimize</a>"
      ],
      "text/plain": [
       "<IPython.core.display.HTML object>"
      ]
     },
     "metadata": {},
     "output_type": "display_data"
    },
    {
     "data": {
      "text/html": [
       " View sweep at <a href='https://wandb.ai/nar8991-new-york-university/SNN_test_optimize/sweeps/zfqum03h' target=\"_blank\">https://wandb.ai/nar8991-new-york-university/SNN_test_optimize/sweeps/zfqum03h</a>"
      ],
      "text/plain": [
       "<IPython.core.display.HTML object>"
      ]
     },
     "metadata": {},
     "output_type": "display_data"
    },
    {
     "data": {
      "text/html": [
       " View run at <a href='https://wandb.ai/nar8991-new-york-university/SNN_test_optimize/runs/j0qz4hl4' target=\"_blank\">https://wandb.ai/nar8991-new-york-university/SNN_test_optimize/runs/j0qz4hl4</a>"
      ],
      "text/plain": [
       "<IPython.core.display.HTML object>"
      ]
     },
     "metadata": {},
     "output_type": "display_data"
    },
    {
     "name": "stderr",
     "output_type": "stream",
     "text": [
      "/var/folders/7b/0zqwym191dq_5jvhhbf5lfgr0000gn/T/ipykernel_69979/3981686502.py:11: UserWarning: To copy construct from a tensor, it is recommended to use sourceTensor.clone().detach() or sourceTensor.clone().detach().requires_grad_(True), rather than torch.tensor(sourceTensor).\n",
      "  data_tensor = torch.tensor(x_data, dtype=torch.float32)\n"
     ]
    },
    {
     "name": "stdout",
     "output_type": "stream",
     "text": [
      "init done\n",
      "Final Train Accuracy: 89.45%\n",
      "Final Validation Accuracy: 79.69%\n",
      "Final Test Accuracy: 78.52%\n"
     ]
    },
    {
     "data": {
      "text/html": [],
      "text/plain": [
       "<IPython.core.display.HTML object>"
      ]
     },
     "metadata": {},
     "output_type": "display_data"
    },
    {
     "data": {
      "text/html": [
       "<br>    <style><br>        .wandb-row {<br>            display: flex;<br>            flex-direction: row;<br>            flex-wrap: wrap;<br>            justify-content: flex-start;<br>            width: 100%;<br>        }<br>        .wandb-col {<br>            display: flex;<br>            flex-direction: column;<br>            flex-basis: 100%;<br>            flex: 1;<br>            padding: 10px;<br>        }<br>    </style><br><div class=\"wandb-row\"><div class=\"wandb-col\"><h3>Run history:</h3><br/><table class=\"wandb\"><tr><td>epoch</td><td>▁▁▂▂▂▂▂▃▃▃▄▄▄▄▅▅▅▅▅▆▆▆▆▆▆▆▇▇▇▇▇▇▇▇▇█████</td></tr><tr><td>final_test_accuracy</td><td>▁</td></tr><tr><td>final_train_accuracy</td><td>▁</td></tr><tr><td>final_val_accuracy</td><td>▁</td></tr><tr><td>spike_count_train_epoch</td><td>▁▁▁▁▁▁▁▁▁▁▁▁▁▁▁▁▁▁▁▁▁▁▁▁▁▁▁▁▁▁▁▁▁▁▁▁▁▁▁▁</td></tr><tr><td>spike_count_val_epoch</td><td>█▆▂▂▂▂▂▂▂▂▃▃▂▁▁▁▁▁▁▁▁▁▁▁▁▁▁▁▁▁▁▁▁▁▁▁▁▁▁▁</td></tr><tr><td>train_loss</td><td>█▃▂▂▂▂▂▂▃▃▁▁▁▁▁▁▁▁▁▁▁▁▁▁▁▁▁▁▁▁▁▁▁▁▁▁▁▁▁▁</td></tr><tr><td>val_accuracy</td><td>▄▃▂▁▁▁▁▁▁▂▂▂▃▃▃▃▄▅▅▅▆▆▆▆▆▆▆▆▆▆▇▇▇▇▇▇▇▇██</td></tr><tr><td>val_loss</td><td>▂▅█▂▂▂▂▂▂▂▂▂▂▂▂▂▂▂▂▂▂▂▂▁▁▁▁▁▁▁▁▁▁▁▁▁▁▁▁▁</td></tr></table><br/></div><div class=\"wandb-col\"><h3>Run summary:</h3><br/><table class=\"wandb\"><tr><td>epoch</td><td>149</td></tr><tr><td>final_test_accuracy</td><td>0.78516</td></tr><tr><td>final_train_accuracy</td><td>0.89453</td></tr><tr><td>final_val_accuracy</td><td>0.79688</td></tr><tr><td>spike_count_train_epoch</td><td>0</td></tr><tr><td>spike_count_val_epoch</td><td>3532</td></tr><tr><td>train_loss</td><td>1.64293</td></tr><tr><td>val_accuracy</td><td>0.79688</td></tr><tr><td>val_loss</td><td>0.52382</td></tr></table><br/></div></div>"
      ],
      "text/plain": [
       "<IPython.core.display.HTML object>"
      ]
     },
     "metadata": {},
     "output_type": "display_data"
    },
    {
     "data": {
      "text/html": [
       " View run <strong style=\"color:#cdcd00\">Hybrid_RNN_SNN_V1_same_layer-l1_1e-06-l2_1e-06</strong> at: <a href='https://wandb.ai/nar8991-new-york-university/SNN_test_optimize/runs/j0qz4hl4' target=\"_blank\">https://wandb.ai/nar8991-new-york-university/SNN_test_optimize/runs/j0qz4hl4</a><br> View project at: <a href='https://wandb.ai/nar8991-new-york-university/SNN_test_optimize' target=\"_blank\">https://wandb.ai/nar8991-new-york-university/SNN_test_optimize</a><br>Synced 5 W&B file(s), 0 media file(s), 0 artifact file(s) and 0 other file(s)"
      ],
      "text/plain": [
       "<IPython.core.display.HTML object>"
      ]
     },
     "metadata": {},
     "output_type": "display_data"
    },
    {
     "data": {
      "text/html": [
       "Find logs at: <code>./wandb/run-20250417_031214-j0qz4hl4/logs</code>"
      ],
      "text/plain": [
       "<IPython.core.display.HTML object>"
      ]
     },
     "metadata": {},
     "output_type": "display_data"
    },
    {
     "name": "stderr",
     "output_type": "stream",
     "text": [
      "\u001b[34m\u001b[1mwandb\u001b[0m: Agent Starting Run: cax0r7mf with config:\n",
      "\u001b[34m\u001b[1mwandb\u001b[0m: \tepochs: 150\n",
      "\u001b[34m\u001b[1mwandb\u001b[0m: \tl1: 1e-06\n",
      "\u001b[34m\u001b[1mwandb\u001b[0m: \tl2: 5e-06\n",
      "\u001b[34m\u001b[1mwandb\u001b[0m: \tlearning_rate: 0.002\n",
      "\u001b[34m\u001b[1mwandb\u001b[0m: \tmodel_name: Hybrid_RNN_SNN_V1_same_layer\n",
      "\u001b[34m\u001b[1mwandb\u001b[0m: \toptimizer: Adam\n",
      "\u001b[34m\u001b[1mwandb\u001b[0m: \tregularization: True\n"
     ]
    },
    {
     "data": {
      "text/html": [
       "Ignoring project 'SNN_test_optimize' when running a sweep."
      ],
      "text/plain": [
       "<IPython.core.display.HTML object>"
      ]
     },
     "metadata": {},
     "output_type": "display_data"
    },
    {
     "data": {
      "text/html": [
       "Tracking run with wandb version 0.19.9"
      ],
      "text/plain": [
       "<IPython.core.display.HTML object>"
      ]
     },
     "metadata": {},
     "output_type": "display_data"
    },
    {
     "data": {
      "text/html": [
       "Run data is saved locally in <code>/Users/naliniramanathan/projects/snn_project/spytorch/notebooks/wandb/run-20250417_031604-cax0r7mf</code>"
      ],
      "text/plain": [
       "<IPython.core.display.HTML object>"
      ]
     },
     "metadata": {},
     "output_type": "display_data"
    },
    {
     "data": {
      "text/html": [
       "Syncing run <strong><a href='https://wandb.ai/nar8991-new-york-university/SNN_test_optimize/runs/cax0r7mf' target=\"_blank\">autumn-sweep-2</a></strong> to <a href='https://wandb.ai/nar8991-new-york-university/SNN_test_optimize' target=\"_blank\">Weights & Biases</a> (<a href='https://wandb.me/developer-guide' target=\"_blank\">docs</a>)<br>Sweep page: <a href='https://wandb.ai/nar8991-new-york-university/SNN_test_optimize/sweeps/zfqum03h' target=\"_blank\">https://wandb.ai/nar8991-new-york-university/SNN_test_optimize/sweeps/zfqum03h</a>"
      ],
      "text/plain": [
       "<IPython.core.display.HTML object>"
      ]
     },
     "metadata": {},
     "output_type": "display_data"
    },
    {
     "data": {
      "text/html": [
       " View project at <a href='https://wandb.ai/nar8991-new-york-university/SNN_test_optimize' target=\"_blank\">https://wandb.ai/nar8991-new-york-university/SNN_test_optimize</a>"
      ],
      "text/plain": [
       "<IPython.core.display.HTML object>"
      ]
     },
     "metadata": {},
     "output_type": "display_data"
    },
    {
     "data": {
      "text/html": [
       " View sweep at <a href='https://wandb.ai/nar8991-new-york-university/SNN_test_optimize/sweeps/zfqum03h' target=\"_blank\">https://wandb.ai/nar8991-new-york-university/SNN_test_optimize/sweeps/zfqum03h</a>"
      ],
      "text/plain": [
       "<IPython.core.display.HTML object>"
      ]
     },
     "metadata": {},
     "output_type": "display_data"
    },
    {
     "data": {
      "text/html": [
       " View run at <a href='https://wandb.ai/nar8991-new-york-university/SNN_test_optimize/runs/cax0r7mf' target=\"_blank\">https://wandb.ai/nar8991-new-york-university/SNN_test_optimize/runs/cax0r7mf</a>"
      ],
      "text/plain": [
       "<IPython.core.display.HTML object>"
      ]
     },
     "metadata": {},
     "output_type": "display_data"
    },
    {
     "name": "stderr",
     "output_type": "stream",
     "text": [
      "/var/folders/7b/0zqwym191dq_5jvhhbf5lfgr0000gn/T/ipykernel_69979/3981686502.py:11: UserWarning: To copy construct from a tensor, it is recommended to use sourceTensor.clone().detach() or sourceTensor.clone().detach().requires_grad_(True), rather than torch.tensor(sourceTensor).\n",
      "  data_tensor = torch.tensor(x_data, dtype=torch.float32)\n"
     ]
    },
    {
     "name": "stdout",
     "output_type": "stream",
     "text": [
      "init done\n",
      "Final Train Accuracy: 68.36%\n",
      "Final Validation Accuracy: 63.28%\n",
      "Final Test Accuracy: 63.28%\n"
     ]
    },
    {
     "data": {
      "text/html": [],
      "text/plain": [
       "<IPython.core.display.HTML object>"
      ]
     },
     "metadata": {},
     "output_type": "display_data"
    },
    {
     "data": {
      "text/html": [
       "<br>    <style><br>        .wandb-row {<br>            display: flex;<br>            flex-direction: row;<br>            flex-wrap: wrap;<br>            justify-content: flex-start;<br>            width: 100%;<br>        }<br>        .wandb-col {<br>            display: flex;<br>            flex-direction: column;<br>            flex-basis: 100%;<br>            flex: 1;<br>            padding: 10px;<br>        }<br>    </style><br><div class=\"wandb-row\"><div class=\"wandb-col\"><h3>Run history:</h3><br/><table class=\"wandb\"><tr><td>epoch</td><td>▁▁▁▁▁▂▂▂▂▂▂▂▂▃▃▃▃▄▄▄▅▅▅▅▅▆▆▆▆▆▇▇▇▇▇▇▇███</td></tr><tr><td>final_test_accuracy</td><td>▁</td></tr><tr><td>final_train_accuracy</td><td>▁</td></tr><tr><td>final_val_accuracy</td><td>▁</td></tr><tr><td>spike_count_train_epoch</td><td>▁▁▁▁▁▁▁▁▁▁▁▁▁▁▁▁▁▁▁▁▁▁▁▁▁▁▁▁▁▁▁▁▁▁▁▁▁▁▁▁</td></tr><tr><td>spike_count_val_epoch</td><td>█▂▂▁▁▁▁▁▁▁▁▁▁▁▁▁▁▁▁▁▁▁▁▁▁▁▁▁▁▁▁▁▁▁▁▁▁▁▁▁</td></tr><tr><td>train_loss</td><td>█▇▃▁▁▁▁▁▁▁▁▁▁▁▁▁▁▁▁▁▁▁▁▁▁▁▁▁▁▁▁▁▁▁▁▁▁▁▁▁</td></tr><tr><td>val_accuracy</td><td>▃▁▁▂▃▃▃▃▃▃▃▃▃▃▃▄▄▄▄▄▆▆▆▆▆▆▆▆▆▇▇▇▇▇▇▇████</td></tr><tr><td>val_loss</td><td>▁▂▅█▅▄▃▃▂▂▂▂▂▂▂▂▂▂▂▂▂▁▁▁▁▁▁▁▁▁▁▁▁▁▁▁▁▁▁▁</td></tr></table><br/></div><div class=\"wandb-col\"><h3>Run summary:</h3><br/><table class=\"wandb\"><tr><td>epoch</td><td>149</td></tr><tr><td>final_test_accuracy</td><td>0.63281</td></tr><tr><td>final_train_accuracy</td><td>0.68359</td></tr><tr><td>final_val_accuracy</td><td>0.63281</td></tr><tr><td>spike_count_train_epoch</td><td>0</td></tr><tr><td>spike_count_val_epoch</td><td>0</td></tr><tr><td>train_loss</td><td>0.71962</td></tr><tr><td>val_accuracy</td><td>0.63281</td></tr><tr><td>val_loss</td><td>0.64217</td></tr></table><br/></div></div>"
      ],
      "text/plain": [
       "<IPython.core.display.HTML object>"
      ]
     },
     "metadata": {},
     "output_type": "display_data"
    },
    {
     "data": {
      "text/html": [
       " View run <strong style=\"color:#cdcd00\">Hybrid_RNN_SNN_V1_same_layer-l1_1e-06-l2_5e-06</strong> at: <a href='https://wandb.ai/nar8991-new-york-university/SNN_test_optimize/runs/cax0r7mf' target=\"_blank\">https://wandb.ai/nar8991-new-york-university/SNN_test_optimize/runs/cax0r7mf</a><br> View project at: <a href='https://wandb.ai/nar8991-new-york-university/SNN_test_optimize' target=\"_blank\">https://wandb.ai/nar8991-new-york-university/SNN_test_optimize</a><br>Synced 5 W&B file(s), 0 media file(s), 0 artifact file(s) and 0 other file(s)"
      ],
      "text/plain": [
       "<IPython.core.display.HTML object>"
      ]
     },
     "metadata": {},
     "output_type": "display_data"
    },
    {
     "data": {
      "text/html": [
       "Find logs at: <code>./wandb/run-20250417_031604-cax0r7mf/logs</code>"
      ],
      "text/plain": [
       "<IPython.core.display.HTML object>"
      ]
     },
     "metadata": {},
     "output_type": "display_data"
    },
    {
     "name": "stderr",
     "output_type": "stream",
     "text": [
      "\u001b[34m\u001b[1mwandb\u001b[0m: Agent Starting Run: yo50z609 with config:\n",
      "\u001b[34m\u001b[1mwandb\u001b[0m: \tepochs: 150\n",
      "\u001b[34m\u001b[1mwandb\u001b[0m: \tl1: 1e-06\n",
      "\u001b[34m\u001b[1mwandb\u001b[0m: \tl2: 1e-05\n",
      "\u001b[34m\u001b[1mwandb\u001b[0m: \tlearning_rate: 0.002\n",
      "\u001b[34m\u001b[1mwandb\u001b[0m: \tmodel_name: Hybrid_RNN_SNN_V1_same_layer\n",
      "\u001b[34m\u001b[1mwandb\u001b[0m: \toptimizer: Adam\n",
      "\u001b[34m\u001b[1mwandb\u001b[0m: \tregularization: True\n"
     ]
    },
    {
     "data": {
      "text/html": [
       "Ignoring project 'SNN_test_optimize' when running a sweep."
      ],
      "text/plain": [
       "<IPython.core.display.HTML object>"
      ]
     },
     "metadata": {},
     "output_type": "display_data"
    },
    {
     "data": {
      "text/html": [
       "Tracking run with wandb version 0.19.9"
      ],
      "text/plain": [
       "<IPython.core.display.HTML object>"
      ]
     },
     "metadata": {},
     "output_type": "display_data"
    },
    {
     "data": {
      "text/html": [
       "Run data is saved locally in <code>/Users/naliniramanathan/projects/snn_project/spytorch/notebooks/wandb/run-20250417_031913-yo50z609</code>"
      ],
      "text/plain": [
       "<IPython.core.display.HTML object>"
      ]
     },
     "metadata": {},
     "output_type": "display_data"
    },
    {
     "data": {
      "text/html": [
       "Syncing run <strong><a href='https://wandb.ai/nar8991-new-york-university/SNN_test_optimize/runs/yo50z609' target=\"_blank\">spring-sweep-3</a></strong> to <a href='https://wandb.ai/nar8991-new-york-university/SNN_test_optimize' target=\"_blank\">Weights & Biases</a> (<a href='https://wandb.me/developer-guide' target=\"_blank\">docs</a>)<br>Sweep page: <a href='https://wandb.ai/nar8991-new-york-university/SNN_test_optimize/sweeps/zfqum03h' target=\"_blank\">https://wandb.ai/nar8991-new-york-university/SNN_test_optimize/sweeps/zfqum03h</a>"
      ],
      "text/plain": [
       "<IPython.core.display.HTML object>"
      ]
     },
     "metadata": {},
     "output_type": "display_data"
    },
    {
     "data": {
      "text/html": [
       " View project at <a href='https://wandb.ai/nar8991-new-york-university/SNN_test_optimize' target=\"_blank\">https://wandb.ai/nar8991-new-york-university/SNN_test_optimize</a>"
      ],
      "text/plain": [
       "<IPython.core.display.HTML object>"
      ]
     },
     "metadata": {},
     "output_type": "display_data"
    },
    {
     "data": {
      "text/html": [
       " View sweep at <a href='https://wandb.ai/nar8991-new-york-university/SNN_test_optimize/sweeps/zfqum03h' target=\"_blank\">https://wandb.ai/nar8991-new-york-university/SNN_test_optimize/sweeps/zfqum03h</a>"
      ],
      "text/plain": [
       "<IPython.core.display.HTML object>"
      ]
     },
     "metadata": {},
     "output_type": "display_data"
    },
    {
     "data": {
      "text/html": [
       " View run at <a href='https://wandb.ai/nar8991-new-york-university/SNN_test_optimize/runs/yo50z609' target=\"_blank\">https://wandb.ai/nar8991-new-york-university/SNN_test_optimize/runs/yo50z609</a>"
      ],
      "text/plain": [
       "<IPython.core.display.HTML object>"
      ]
     },
     "metadata": {},
     "output_type": "display_data"
    },
    {
     "name": "stderr",
     "output_type": "stream",
     "text": [
      "/var/folders/7b/0zqwym191dq_5jvhhbf5lfgr0000gn/T/ipykernel_69979/3981686502.py:11: UserWarning: To copy construct from a tensor, it is recommended to use sourceTensor.clone().detach() or sourceTensor.clone().detach().requires_grad_(True), rather than torch.tensor(sourceTensor).\n",
      "  data_tensor = torch.tensor(x_data, dtype=torch.float32)\n"
     ]
    },
    {
     "name": "stdout",
     "output_type": "stream",
     "text": [
      "init done\n",
      "Final Train Accuracy: 64.84%\n",
      "Final Validation Accuracy: 63.67%\n",
      "Final Test Accuracy: 65.62%\n"
     ]
    },
    {
     "data": {
      "text/html": [],
      "text/plain": [
       "<IPython.core.display.HTML object>"
      ]
     },
     "metadata": {},
     "output_type": "display_data"
    },
    {
     "data": {
      "text/html": [
       "<br>    <style><br>        .wandb-row {<br>            display: flex;<br>            flex-direction: row;<br>            flex-wrap: wrap;<br>            justify-content: flex-start;<br>            width: 100%;<br>        }<br>        .wandb-col {<br>            display: flex;<br>            flex-direction: column;<br>            flex-basis: 100%;<br>            flex: 1;<br>            padding: 10px;<br>        }<br>    </style><br><div class=\"wandb-row\"><div class=\"wandb-col\"><h3>Run history:</h3><br/><table class=\"wandb\"><tr><td>epoch</td><td>▁▁▁▁▂▂▂▂▂▂▃▃▃▃▃▄▄▄▄▅▅▅▅▅▅▆▆▆▆▆▇▇▇▇▇█████</td></tr><tr><td>final_test_accuracy</td><td>▁</td></tr><tr><td>final_train_accuracy</td><td>▁</td></tr><tr><td>final_val_accuracy</td><td>▁</td></tr><tr><td>spike_count_train_epoch</td><td>▁▁▁▁▁▁▁▁▁▁▁▁▁▁▁▁▁▁▁▁▁▁▁▁▁▁▁▁▁▁▁▁▁▁▁▁▁▁▁▁</td></tr><tr><td>spike_count_val_epoch</td><td>██▃▂▁▁▁▁▁▁▁▁▁▁▁▁▁▁▁▁▁▁▁▁▁▁▁▁▁▁▁▁▁▁▁▁▁▁▁▁</td></tr><tr><td>train_loss</td><td>█▅▄▃▂▁▁▁▁▁▁▁▁▁▁▁▁▁▁▁▁▁▁▁▁▁▁▁▁▁▁▁▁▁▁▁▁▁▁▁</td></tr><tr><td>val_accuracy</td><td>▆▆▄▁▃▃▃▃▃▃▃▃▃▅▅▅▅▅▅▆▅▅▆▅▆▆▇▇▇▇▇▇▇▇▇▇▇▇██</td></tr><tr><td>val_loss</td><td>▁▂█▇▇▆▅▄▄▃▂▂▂▁▁▁▁▁▁▁▁▁▁▁▁▁▁▁▁▁▁▁▁▁▁▁▁▁▁▁</td></tr></table><br/></div><div class=\"wandb-col\"><h3>Run summary:</h3><br/><table class=\"wandb\"><tr><td>epoch</td><td>149</td></tr><tr><td>final_test_accuracy</td><td>0.65625</td></tr><tr><td>final_train_accuracy</td><td>0.64844</td></tr><tr><td>final_val_accuracy</td><td>0.63672</td></tr><tr><td>spike_count_train_epoch</td><td>0</td></tr><tr><td>spike_count_val_epoch</td><td>0</td></tr><tr><td>train_loss</td><td>0.65893</td></tr><tr><td>val_accuracy</td><td>0.63672</td></tr><tr><td>val_loss</td><td>0.66304</td></tr></table><br/></div></div>"
      ],
      "text/plain": [
       "<IPython.core.display.HTML object>"
      ]
     },
     "metadata": {},
     "output_type": "display_data"
    },
    {
     "data": {
      "text/html": [
       " View run <strong style=\"color:#cdcd00\">Hybrid_RNN_SNN_V1_same_layer-l1_1e-06-l2_1e-05</strong> at: <a href='https://wandb.ai/nar8991-new-york-university/SNN_test_optimize/runs/yo50z609' target=\"_blank\">https://wandb.ai/nar8991-new-york-university/SNN_test_optimize/runs/yo50z609</a><br> View project at: <a href='https://wandb.ai/nar8991-new-york-university/SNN_test_optimize' target=\"_blank\">https://wandb.ai/nar8991-new-york-university/SNN_test_optimize</a><br>Synced 5 W&B file(s), 0 media file(s), 0 artifact file(s) and 0 other file(s)"
      ],
      "text/plain": [
       "<IPython.core.display.HTML object>"
      ]
     },
     "metadata": {},
     "output_type": "display_data"
    },
    {
     "data": {
      "text/html": [
       "Find logs at: <code>./wandb/run-20250417_031913-yo50z609/logs</code>"
      ],
      "text/plain": [
       "<IPython.core.display.HTML object>"
      ]
     },
     "metadata": {},
     "output_type": "display_data"
    },
    {
     "name": "stderr",
     "output_type": "stream",
     "text": [
      "\u001b[34m\u001b[1mwandb\u001b[0m: Sweep Agent: Waiting for job.\n",
      "\u001b[34m\u001b[1mwandb\u001b[0m: Job received.\n",
      "\u001b[34m\u001b[1mwandb\u001b[0m: Agent Starting Run: 1hmbpbtr with config:\n",
      "\u001b[34m\u001b[1mwandb\u001b[0m: \tepochs: 150\n",
      "\u001b[34m\u001b[1mwandb\u001b[0m: \tl1: 5e-06\n",
      "\u001b[34m\u001b[1mwandb\u001b[0m: \tl2: 1e-06\n",
      "\u001b[34m\u001b[1mwandb\u001b[0m: \tlearning_rate: 0.002\n",
      "\u001b[34m\u001b[1mwandb\u001b[0m: \tmodel_name: Hybrid_RNN_SNN_V1_same_layer\n",
      "\u001b[34m\u001b[1mwandb\u001b[0m: \toptimizer: Adam\n",
      "\u001b[34m\u001b[1mwandb\u001b[0m: \tregularization: True\n"
     ]
    },
    {
     "data": {
      "text/html": [
       "Ignoring project 'SNN_test_optimize' when running a sweep."
      ],
      "text/plain": [
       "<IPython.core.display.HTML object>"
      ]
     },
     "metadata": {},
     "output_type": "display_data"
    },
    {
     "data": {
      "text/html": [
       "Tracking run with wandb version 0.19.9"
      ],
      "text/plain": [
       "<IPython.core.display.HTML object>"
      ]
     },
     "metadata": {},
     "output_type": "display_data"
    },
    {
     "data": {
      "text/html": [
       "Run data is saved locally in <code>/Users/naliniramanathan/projects/snn_project/spytorch/notebooks/wandb/run-20250417_032232-1hmbpbtr</code>"
      ],
      "text/plain": [
       "<IPython.core.display.HTML object>"
      ]
     },
     "metadata": {},
     "output_type": "display_data"
    },
    {
     "data": {
      "text/html": [
       "Syncing run <strong><a href='https://wandb.ai/nar8991-new-york-university/SNN_test_optimize/runs/1hmbpbtr' target=\"_blank\">charmed-sweep-4</a></strong> to <a href='https://wandb.ai/nar8991-new-york-university/SNN_test_optimize' target=\"_blank\">Weights & Biases</a> (<a href='https://wandb.me/developer-guide' target=\"_blank\">docs</a>)<br>Sweep page: <a href='https://wandb.ai/nar8991-new-york-university/SNN_test_optimize/sweeps/zfqum03h' target=\"_blank\">https://wandb.ai/nar8991-new-york-university/SNN_test_optimize/sweeps/zfqum03h</a>"
      ],
      "text/plain": [
       "<IPython.core.display.HTML object>"
      ]
     },
     "metadata": {},
     "output_type": "display_data"
    },
    {
     "data": {
      "text/html": [
       " View project at <a href='https://wandb.ai/nar8991-new-york-university/SNN_test_optimize' target=\"_blank\">https://wandb.ai/nar8991-new-york-university/SNN_test_optimize</a>"
      ],
      "text/plain": [
       "<IPython.core.display.HTML object>"
      ]
     },
     "metadata": {},
     "output_type": "display_data"
    },
    {
     "data": {
      "text/html": [
       " View sweep at <a href='https://wandb.ai/nar8991-new-york-university/SNN_test_optimize/sweeps/zfqum03h' target=\"_blank\">https://wandb.ai/nar8991-new-york-university/SNN_test_optimize/sweeps/zfqum03h</a>"
      ],
      "text/plain": [
       "<IPython.core.display.HTML object>"
      ]
     },
     "metadata": {},
     "output_type": "display_data"
    },
    {
     "data": {
      "text/html": [
       " View run at <a href='https://wandb.ai/nar8991-new-york-university/SNN_test_optimize/runs/1hmbpbtr' target=\"_blank\">https://wandb.ai/nar8991-new-york-university/SNN_test_optimize/runs/1hmbpbtr</a>"
      ],
      "text/plain": [
       "<IPython.core.display.HTML object>"
      ]
     },
     "metadata": {},
     "output_type": "display_data"
    },
    {
     "name": "stderr",
     "output_type": "stream",
     "text": [
      "/var/folders/7b/0zqwym191dq_5jvhhbf5lfgr0000gn/T/ipykernel_69979/3981686502.py:11: UserWarning: To copy construct from a tensor, it is recommended to use sourceTensor.clone().detach() or sourceTensor.clone().detach().requires_grad_(True), rather than torch.tensor(sourceTensor).\n",
      "  data_tensor = torch.tensor(x_data, dtype=torch.float32)\n"
     ]
    },
    {
     "name": "stdout",
     "output_type": "stream",
     "text": [
      "init done\n",
      "Final Train Accuracy: 89.84%\n",
      "Final Validation Accuracy: 78.91%\n",
      "Final Test Accuracy: 78.12%\n"
     ]
    },
    {
     "data": {
      "text/html": [],
      "text/plain": [
       "<IPython.core.display.HTML object>"
      ]
     },
     "metadata": {},
     "output_type": "display_data"
    },
    {
     "data": {
      "text/html": [
       "<br>    <style><br>        .wandb-row {<br>            display: flex;<br>            flex-direction: row;<br>            flex-wrap: wrap;<br>            justify-content: flex-start;<br>            width: 100%;<br>        }<br>        .wandb-col {<br>            display: flex;<br>            flex-direction: column;<br>            flex-basis: 100%;<br>            flex: 1;<br>            padding: 10px;<br>        }<br>    </style><br><div class=\"wandb-row\"><div class=\"wandb-col\"><h3>Run history:</h3><br/><table class=\"wandb\"><tr><td>epoch</td><td>▁▁▂▂▂▃▃▃▃▃▃▄▄▄▄▄▄▄▄▅▅▅▅▅▅▆▆▆▆▆▆▆▆▆▇▇▇███</td></tr><tr><td>final_test_accuracy</td><td>▁</td></tr><tr><td>final_train_accuracy</td><td>▁</td></tr><tr><td>final_val_accuracy</td><td>▁</td></tr><tr><td>spike_count_train_epoch</td><td>▁▁▁▁▁▁▁▁▁▁▁▁▁▁▁▁▁▁▁▁▁▁▁▁▁▁▁▁▁▁▁▁▁▁▁▁▁▁▁▁</td></tr><tr><td>spike_count_val_epoch</td><td>██▅▄▂▂▂▂▂▂▁▁▁▁▁▁▁▁▁▁▁▁▁▁▁▁▁▁▁▁▁▁▁▁▁▁▁▁▁▁</td></tr><tr><td>train_loss</td><td>█▄▃▂▁▁▁▁▁▁▁▁▁▁▁▁▁▁▁▁▁▁▁▁▁▁▁▁▁▁▁▁▁▁▁▁▁▁▁▁</td></tr><tr><td>val_accuracy</td><td>▄▄▃▂▁▁▁▁▂▂▃▃▃▃▅▆▆▆▆▆▆▇▇▇▇▇▇▇▇▇▇▇▇▇▇▇▇▇▇█</td></tr><tr><td>val_loss</td><td>▃█▇▆▄▃▃▃▂▂▂▂▂▂▂▂▂▂▂▂▂▂▂▁▁▁▁▁▁▁▁▁▁▁▁▁▁▁▁▁</td></tr></table><br/></div><div class=\"wandb-col\"><h3>Run summary:</h3><br/><table class=\"wandb\"><tr><td>epoch</td><td>149</td></tr><tr><td>final_test_accuracy</td><td>0.78125</td></tr><tr><td>final_train_accuracy</td><td>0.89844</td></tr><tr><td>final_val_accuracy</td><td>0.78906</td></tr><tr><td>spike_count_train_epoch</td><td>0</td></tr><tr><td>spike_count_val_epoch</td><td>3948</td></tr><tr><td>train_loss</td><td>1.52461</td></tr><tr><td>val_accuracy</td><td>0.78906</td></tr><tr><td>val_loss</td><td>0.52794</td></tr></table><br/></div></div>"
      ],
      "text/plain": [
       "<IPython.core.display.HTML object>"
      ]
     },
     "metadata": {},
     "output_type": "display_data"
    },
    {
     "data": {
      "text/html": [
       " View run <strong style=\"color:#cdcd00\">Hybrid_RNN_SNN_V1_same_layer-l1_5e-06-l2_1e-06</strong> at: <a href='https://wandb.ai/nar8991-new-york-university/SNN_test_optimize/runs/1hmbpbtr' target=\"_blank\">https://wandb.ai/nar8991-new-york-university/SNN_test_optimize/runs/1hmbpbtr</a><br> View project at: <a href='https://wandb.ai/nar8991-new-york-university/SNN_test_optimize' target=\"_blank\">https://wandb.ai/nar8991-new-york-university/SNN_test_optimize</a><br>Synced 5 W&B file(s), 0 media file(s), 0 artifact file(s) and 0 other file(s)"
      ],
      "text/plain": [
       "<IPython.core.display.HTML object>"
      ]
     },
     "metadata": {},
     "output_type": "display_data"
    },
    {
     "data": {
      "text/html": [
       "Find logs at: <code>./wandb/run-20250417_032232-1hmbpbtr/logs</code>"
      ],
      "text/plain": [
       "<IPython.core.display.HTML object>"
      ]
     },
     "metadata": {},
     "output_type": "display_data"
    },
    {
     "name": "stderr",
     "output_type": "stream",
     "text": [
      "\u001b[34m\u001b[1mwandb\u001b[0m: Agent Starting Run: z24bq25x with config:\n",
      "\u001b[34m\u001b[1mwandb\u001b[0m: \tepochs: 150\n",
      "\u001b[34m\u001b[1mwandb\u001b[0m: \tl1: 5e-06\n",
      "\u001b[34m\u001b[1mwandb\u001b[0m: \tl2: 5e-06\n",
      "\u001b[34m\u001b[1mwandb\u001b[0m: \tlearning_rate: 0.002\n",
      "\u001b[34m\u001b[1mwandb\u001b[0m: \tmodel_name: Hybrid_RNN_SNN_V1_same_layer\n",
      "\u001b[34m\u001b[1mwandb\u001b[0m: \toptimizer: Adam\n",
      "\u001b[34m\u001b[1mwandb\u001b[0m: \tregularization: True\n"
     ]
    },
    {
     "data": {
      "text/html": [
       "Ignoring project 'SNN_test_optimize' when running a sweep."
      ],
      "text/plain": [
       "<IPython.core.display.HTML object>"
      ]
     },
     "metadata": {},
     "output_type": "display_data"
    },
    {
     "data": {
      "text/html": [
       "Tracking run with wandb version 0.19.9"
      ],
      "text/plain": [
       "<IPython.core.display.HTML object>"
      ]
     },
     "metadata": {},
     "output_type": "display_data"
    },
    {
     "data": {
      "text/html": [
       "Run data is saved locally in <code>/Users/naliniramanathan/projects/snn_project/spytorch/notebooks/wandb/run-20250417_032622-z24bq25x</code>"
      ],
      "text/plain": [
       "<IPython.core.display.HTML object>"
      ]
     },
     "metadata": {},
     "output_type": "display_data"
    },
    {
     "data": {
      "text/html": [
       "Syncing run <strong><a href='https://wandb.ai/nar8991-new-york-university/SNN_test_optimize/runs/z24bq25x' target=\"_blank\">graceful-sweep-5</a></strong> to <a href='https://wandb.ai/nar8991-new-york-university/SNN_test_optimize' target=\"_blank\">Weights & Biases</a> (<a href='https://wandb.me/developer-guide' target=\"_blank\">docs</a>)<br>Sweep page: <a href='https://wandb.ai/nar8991-new-york-university/SNN_test_optimize/sweeps/zfqum03h' target=\"_blank\">https://wandb.ai/nar8991-new-york-university/SNN_test_optimize/sweeps/zfqum03h</a>"
      ],
      "text/plain": [
       "<IPython.core.display.HTML object>"
      ]
     },
     "metadata": {},
     "output_type": "display_data"
    },
    {
     "data": {
      "text/html": [
       " View project at <a href='https://wandb.ai/nar8991-new-york-university/SNN_test_optimize' target=\"_blank\">https://wandb.ai/nar8991-new-york-university/SNN_test_optimize</a>"
      ],
      "text/plain": [
       "<IPython.core.display.HTML object>"
      ]
     },
     "metadata": {},
     "output_type": "display_data"
    },
    {
     "data": {
      "text/html": [
       " View sweep at <a href='https://wandb.ai/nar8991-new-york-university/SNN_test_optimize/sweeps/zfqum03h' target=\"_blank\">https://wandb.ai/nar8991-new-york-university/SNN_test_optimize/sweeps/zfqum03h</a>"
      ],
      "text/plain": [
       "<IPython.core.display.HTML object>"
      ]
     },
     "metadata": {},
     "output_type": "display_data"
    },
    {
     "data": {
      "text/html": [
       " View run at <a href='https://wandb.ai/nar8991-new-york-university/SNN_test_optimize/runs/z24bq25x' target=\"_blank\">https://wandb.ai/nar8991-new-york-university/SNN_test_optimize/runs/z24bq25x</a>"
      ],
      "text/plain": [
       "<IPython.core.display.HTML object>"
      ]
     },
     "metadata": {},
     "output_type": "display_data"
    },
    {
     "name": "stderr",
     "output_type": "stream",
     "text": [
      "/var/folders/7b/0zqwym191dq_5jvhhbf5lfgr0000gn/T/ipykernel_69979/3981686502.py:11: UserWarning: To copy construct from a tensor, it is recommended to use sourceTensor.clone().detach() or sourceTensor.clone().detach().requires_grad_(True), rather than torch.tensor(sourceTensor).\n",
      "  data_tensor = torch.tensor(x_data, dtype=torch.float32)\n"
     ]
    },
    {
     "name": "stdout",
     "output_type": "stream",
     "text": [
      "init done\n",
      "Final Train Accuracy: 67.97%\n",
      "Final Validation Accuracy: 63.28%\n",
      "Final Test Accuracy: 63.28%\n"
     ]
    },
    {
     "data": {
      "text/html": [],
      "text/plain": [
       "<IPython.core.display.HTML object>"
      ]
     },
     "metadata": {},
     "output_type": "display_data"
    },
    {
     "data": {
      "text/html": [
       "<br>    <style><br>        .wandb-row {<br>            display: flex;<br>            flex-direction: row;<br>            flex-wrap: wrap;<br>            justify-content: flex-start;<br>            width: 100%;<br>        }<br>        .wandb-col {<br>            display: flex;<br>            flex-direction: column;<br>            flex-basis: 100%;<br>            flex: 1;<br>            padding: 10px;<br>        }<br>    </style><br><div class=\"wandb-row\"><div class=\"wandb-col\"><h3>Run history:</h3><br/><table class=\"wandb\"><tr><td>epoch</td><td>▁▁▂▂▂▂▂▂▃▃▃▃▄▄▄▄▄▄▄▅▅▅▅▅▅▆▆▆▆▆▆▆▇▇▇▇████</td></tr><tr><td>final_test_accuracy</td><td>▁</td></tr><tr><td>final_train_accuracy</td><td>▁</td></tr><tr><td>final_val_accuracy</td><td>▁</td></tr><tr><td>spike_count_train_epoch</td><td>▁▁▁▁▁▁▁▁▁▁▁▁▁▁▁▁▁▁▁▁▁▁▁▁▁▁▁▁▁▁▁▁▁▁▁▁▁▁▁▁</td></tr><tr><td>spike_count_val_epoch</td><td>██▇▃▂▁▁▁▁▁▁▁▁▁▁▁▁▁▁▁▁▁▁▁▁▁▁▁▁▁▁▁▁▁▁▁▁▁▁▁</td></tr><tr><td>train_loss</td><td>██▇▃▂▁▁▁▁▁▁▁▁▁▁▁▁▁▁▁▁▁▁▁▁▁▁▁▁▁▁▁▁▁▁▁▁▁▁▁</td></tr><tr><td>val_accuracy</td><td>▆▇▂▁▁▃▃▃▃▃▃▃▃▃▃▄▄▄▄▄▅▆▆▆▆▆▆▆▆▆▆▆▇▇▇▇████</td></tr><tr><td>val_loss</td><td>▁▁▅▇██▇▇▇▆▅▄▄▃▃▂▂▂▂▂▁▁▁▁▁▁▁▁▁▁▁▁▁▁▁▁▁▁▁▁</td></tr></table><br/></div><div class=\"wandb-col\"><h3>Run summary:</h3><br/><table class=\"wandb\"><tr><td>epoch</td><td>149</td></tr><tr><td>final_test_accuracy</td><td>0.63281</td></tr><tr><td>final_train_accuracy</td><td>0.67969</td></tr><tr><td>final_val_accuracy</td><td>0.63281</td></tr><tr><td>spike_count_train_epoch</td><td>0</td></tr><tr><td>spike_count_val_epoch</td><td>0</td></tr><tr><td>train_loss</td><td>0.72111</td></tr><tr><td>val_accuracy</td><td>0.63281</td></tr><tr><td>val_loss</td><td>0.64218</td></tr></table><br/></div></div>"
      ],
      "text/plain": [
       "<IPython.core.display.HTML object>"
      ]
     },
     "metadata": {},
     "output_type": "display_data"
    },
    {
     "data": {
      "text/html": [
       " View run <strong style=\"color:#cdcd00\">Hybrid_RNN_SNN_V1_same_layer-l1_5e-06-l2_5e-06</strong> at: <a href='https://wandb.ai/nar8991-new-york-university/SNN_test_optimize/runs/z24bq25x' target=\"_blank\">https://wandb.ai/nar8991-new-york-university/SNN_test_optimize/runs/z24bq25x</a><br> View project at: <a href='https://wandb.ai/nar8991-new-york-university/SNN_test_optimize' target=\"_blank\">https://wandb.ai/nar8991-new-york-university/SNN_test_optimize</a><br>Synced 5 W&B file(s), 0 media file(s), 0 artifact file(s) and 0 other file(s)"
      ],
      "text/plain": [
       "<IPython.core.display.HTML object>"
      ]
     },
     "metadata": {},
     "output_type": "display_data"
    },
    {
     "data": {
      "text/html": [
       "Find logs at: <code>./wandb/run-20250417_032622-z24bq25x/logs</code>"
      ],
      "text/plain": [
       "<IPython.core.display.HTML object>"
      ]
     },
     "metadata": {},
     "output_type": "display_data"
    },
    {
     "name": "stderr",
     "output_type": "stream",
     "text": [
      "\u001b[34m\u001b[1mwandb\u001b[0m: Agent Starting Run: x1wousjv with config:\n",
      "\u001b[34m\u001b[1mwandb\u001b[0m: \tepochs: 150\n",
      "\u001b[34m\u001b[1mwandb\u001b[0m: \tl1: 5e-06\n",
      "\u001b[34m\u001b[1mwandb\u001b[0m: \tl2: 1e-05\n",
      "\u001b[34m\u001b[1mwandb\u001b[0m: \tlearning_rate: 0.002\n",
      "\u001b[34m\u001b[1mwandb\u001b[0m: \tmodel_name: Hybrid_RNN_SNN_V1_same_layer\n",
      "\u001b[34m\u001b[1mwandb\u001b[0m: \toptimizer: Adam\n",
      "\u001b[34m\u001b[1mwandb\u001b[0m: \tregularization: True\n"
     ]
    },
    {
     "data": {
      "text/html": [
       "Ignoring project 'SNN_test_optimize' when running a sweep."
      ],
      "text/plain": [
       "<IPython.core.display.HTML object>"
      ]
     },
     "metadata": {},
     "output_type": "display_data"
    },
    {
     "data": {
      "text/html": [
       "Tracking run with wandb version 0.19.9"
      ],
      "text/plain": [
       "<IPython.core.display.HTML object>"
      ]
     },
     "metadata": {},
     "output_type": "display_data"
    },
    {
     "data": {
      "text/html": [
       "Run data is saved locally in <code>/Users/naliniramanathan/projects/snn_project/spytorch/notebooks/wandb/run-20250417_032916-x1wousjv</code>"
      ],
      "text/plain": [
       "<IPython.core.display.HTML object>"
      ]
     },
     "metadata": {},
     "output_type": "display_data"
    },
    {
     "data": {
      "text/html": [
       "Syncing run <strong><a href='https://wandb.ai/nar8991-new-york-university/SNN_test_optimize/runs/x1wousjv' target=\"_blank\">fresh-sweep-6</a></strong> to <a href='https://wandb.ai/nar8991-new-york-university/SNN_test_optimize' target=\"_blank\">Weights & Biases</a> (<a href='https://wandb.me/developer-guide' target=\"_blank\">docs</a>)<br>Sweep page: <a href='https://wandb.ai/nar8991-new-york-university/SNN_test_optimize/sweeps/zfqum03h' target=\"_blank\">https://wandb.ai/nar8991-new-york-university/SNN_test_optimize/sweeps/zfqum03h</a>"
      ],
      "text/plain": [
       "<IPython.core.display.HTML object>"
      ]
     },
     "metadata": {},
     "output_type": "display_data"
    },
    {
     "data": {
      "text/html": [
       " View project at <a href='https://wandb.ai/nar8991-new-york-university/SNN_test_optimize' target=\"_blank\">https://wandb.ai/nar8991-new-york-university/SNN_test_optimize</a>"
      ],
      "text/plain": [
       "<IPython.core.display.HTML object>"
      ]
     },
     "metadata": {},
     "output_type": "display_data"
    },
    {
     "data": {
      "text/html": [
       " View sweep at <a href='https://wandb.ai/nar8991-new-york-university/SNN_test_optimize/sweeps/zfqum03h' target=\"_blank\">https://wandb.ai/nar8991-new-york-university/SNN_test_optimize/sweeps/zfqum03h</a>"
      ],
      "text/plain": [
       "<IPython.core.display.HTML object>"
      ]
     },
     "metadata": {},
     "output_type": "display_data"
    },
    {
     "data": {
      "text/html": [
       " View run at <a href='https://wandb.ai/nar8991-new-york-university/SNN_test_optimize/runs/x1wousjv' target=\"_blank\">https://wandb.ai/nar8991-new-york-university/SNN_test_optimize/runs/x1wousjv</a>"
      ],
      "text/plain": [
       "<IPython.core.display.HTML object>"
      ]
     },
     "metadata": {},
     "output_type": "display_data"
    },
    {
     "name": "stderr",
     "output_type": "stream",
     "text": [
      "/var/folders/7b/0zqwym191dq_5jvhhbf5lfgr0000gn/T/ipykernel_69979/3981686502.py:11: UserWarning: To copy construct from a tensor, it is recommended to use sourceTensor.clone().detach() or sourceTensor.clone().detach().requires_grad_(True), rather than torch.tensor(sourceTensor).\n",
      "  data_tensor = torch.tensor(x_data, dtype=torch.float32)\n"
     ]
    },
    {
     "name": "stdout",
     "output_type": "stream",
     "text": [
      "init done\n",
      "Final Train Accuracy: 64.84%\n",
      "Final Validation Accuracy: 63.67%\n",
      "Final Test Accuracy: 65.62%\n"
     ]
    },
    {
     "data": {
      "text/html": [],
      "text/plain": [
       "<IPython.core.display.HTML object>"
      ]
     },
     "metadata": {},
     "output_type": "display_data"
    },
    {
     "data": {
      "text/html": [
       "<br>    <style><br>        .wandb-row {<br>            display: flex;<br>            flex-direction: row;<br>            flex-wrap: wrap;<br>            justify-content: flex-start;<br>            width: 100%;<br>        }<br>        .wandb-col {<br>            display: flex;<br>            flex-direction: column;<br>            flex-basis: 100%;<br>            flex: 1;<br>            padding: 10px;<br>        }<br>    </style><br><div class=\"wandb-row\"><div class=\"wandb-col\"><h3>Run history:</h3><br/><table class=\"wandb\"><tr><td>epoch</td><td>▁▁▁▁▁▂▂▂▂▂▃▃▄▄▄▄▄▄▅▅▅▅▅▅▆▆▆▆▆▆▇▇▇▇▇█████</td></tr><tr><td>final_test_accuracy</td><td>▁</td></tr><tr><td>final_train_accuracy</td><td>▁</td></tr><tr><td>final_val_accuracy</td><td>▁</td></tr><tr><td>spike_count_train_epoch</td><td>▁▁▁▁▁▁▁▁▁▁▁▁▁▁▁▁▁▁▁▁▁▁▁▁▁▁▁▁▁▁▁▁▁▁▁▁▁▁▁▁</td></tr><tr><td>spike_count_val_epoch</td><td>█▆▃▂▁▁▁▁▁▁▁▁▁▁▁▁▁▁▁▁▁▁▁▁▁▁▁▁▁▁▁▁▁▁▁▁▁▁▁▁</td></tr><tr><td>train_loss</td><td>█▅▁▁▁▁▁▁▁▁▁▁▁▁▁▁▁▁▁▁▁▁▁▁▁▁▁▁▁▁▁▁▁▁▁▁▁▁▁▁</td></tr><tr><td>val_accuracy</td><td>▆▁▁▁▁▁▁▁▁▁▁▁▁▁▁▃▃▄▄▅▅▅▅▅▅▆▆▆▆▆▆▆▇▇▇▇████</td></tr><tr><td>val_loss</td><td>▂▇██▇▃▃▃▂▂▁▁▁▁▁▁▁▁▁▁▁▁▁▁▁▁▁▁▁▁▁▁▁▁▁▁▁▁▁▁</td></tr></table><br/></div><div class=\"wandb-col\"><h3>Run summary:</h3><br/><table class=\"wandb\"><tr><td>epoch</td><td>149</td></tr><tr><td>final_test_accuracy</td><td>0.65625</td></tr><tr><td>final_train_accuracy</td><td>0.64844</td></tr><tr><td>final_val_accuracy</td><td>0.63672</td></tr><tr><td>spike_count_train_epoch</td><td>0</td></tr><tr><td>spike_count_val_epoch</td><td>0</td></tr><tr><td>train_loss</td><td>0.65893</td></tr><tr><td>val_accuracy</td><td>0.63672</td></tr><tr><td>val_loss</td><td>0.66304</td></tr></table><br/></div></div>"
      ],
      "text/plain": [
       "<IPython.core.display.HTML object>"
      ]
     },
     "metadata": {},
     "output_type": "display_data"
    },
    {
     "data": {
      "text/html": [
       " View run <strong style=\"color:#cdcd00\">Hybrid_RNN_SNN_V1_same_layer-l1_5e-06-l2_1e-05</strong> at: <a href='https://wandb.ai/nar8991-new-york-university/SNN_test_optimize/runs/x1wousjv' target=\"_blank\">https://wandb.ai/nar8991-new-york-university/SNN_test_optimize/runs/x1wousjv</a><br> View project at: <a href='https://wandb.ai/nar8991-new-york-university/SNN_test_optimize' target=\"_blank\">https://wandb.ai/nar8991-new-york-university/SNN_test_optimize</a><br>Synced 5 W&B file(s), 0 media file(s), 0 artifact file(s) and 0 other file(s)"
      ],
      "text/plain": [
       "<IPython.core.display.HTML object>"
      ]
     },
     "metadata": {},
     "output_type": "display_data"
    },
    {
     "data": {
      "text/html": [
       "Find logs at: <code>./wandb/run-20250417_032916-x1wousjv/logs</code>"
      ],
      "text/plain": [
       "<IPython.core.display.HTML object>"
      ]
     },
     "metadata": {},
     "output_type": "display_data"
    },
    {
     "name": "stderr",
     "output_type": "stream",
     "text": [
      "\u001b[34m\u001b[1mwandb\u001b[0m: Agent Starting Run: pwo0p38s with config:\n",
      "\u001b[34m\u001b[1mwandb\u001b[0m: \tepochs: 150\n",
      "\u001b[34m\u001b[1mwandb\u001b[0m: \tl1: 1e-05\n",
      "\u001b[34m\u001b[1mwandb\u001b[0m: \tl2: 1e-06\n",
      "\u001b[34m\u001b[1mwandb\u001b[0m: \tlearning_rate: 0.002\n",
      "\u001b[34m\u001b[1mwandb\u001b[0m: \tmodel_name: Hybrid_RNN_SNN_V1_same_layer\n",
      "\u001b[34m\u001b[1mwandb\u001b[0m: \toptimizer: Adam\n",
      "\u001b[34m\u001b[1mwandb\u001b[0m: \tregularization: True\n"
     ]
    },
    {
     "data": {
      "text/html": [
       "Ignoring project 'SNN_test_optimize' when running a sweep."
      ],
      "text/plain": [
       "<IPython.core.display.HTML object>"
      ]
     },
     "metadata": {},
     "output_type": "display_data"
    },
    {
     "data": {
      "text/html": [
       "Tracking run with wandb version 0.19.9"
      ],
      "text/plain": [
       "<IPython.core.display.HTML object>"
      ]
     },
     "metadata": {},
     "output_type": "display_data"
    },
    {
     "data": {
      "text/html": [
       "Run data is saved locally in <code>/Users/naliniramanathan/projects/snn_project/spytorch/notebooks/wandb/run-20250417_033210-pwo0p38s</code>"
      ],
      "text/plain": [
       "<IPython.core.display.HTML object>"
      ]
     },
     "metadata": {},
     "output_type": "display_data"
    },
    {
     "data": {
      "text/html": [
       "Syncing run <strong><a href='https://wandb.ai/nar8991-new-york-university/SNN_test_optimize/runs/pwo0p38s' target=\"_blank\">fearless-sweep-7</a></strong> to <a href='https://wandb.ai/nar8991-new-york-university/SNN_test_optimize' target=\"_blank\">Weights & Biases</a> (<a href='https://wandb.me/developer-guide' target=\"_blank\">docs</a>)<br>Sweep page: <a href='https://wandb.ai/nar8991-new-york-university/SNN_test_optimize/sweeps/zfqum03h' target=\"_blank\">https://wandb.ai/nar8991-new-york-university/SNN_test_optimize/sweeps/zfqum03h</a>"
      ],
      "text/plain": [
       "<IPython.core.display.HTML object>"
      ]
     },
     "metadata": {},
     "output_type": "display_data"
    },
    {
     "data": {
      "text/html": [
       " View project at <a href='https://wandb.ai/nar8991-new-york-university/SNN_test_optimize' target=\"_blank\">https://wandb.ai/nar8991-new-york-university/SNN_test_optimize</a>"
      ],
      "text/plain": [
       "<IPython.core.display.HTML object>"
      ]
     },
     "metadata": {},
     "output_type": "display_data"
    },
    {
     "data": {
      "text/html": [
       " View sweep at <a href='https://wandb.ai/nar8991-new-york-university/SNN_test_optimize/sweeps/zfqum03h' target=\"_blank\">https://wandb.ai/nar8991-new-york-university/SNN_test_optimize/sweeps/zfqum03h</a>"
      ],
      "text/plain": [
       "<IPython.core.display.HTML object>"
      ]
     },
     "metadata": {},
     "output_type": "display_data"
    },
    {
     "data": {
      "text/html": [
       " View run at <a href='https://wandb.ai/nar8991-new-york-university/SNN_test_optimize/runs/pwo0p38s' target=\"_blank\">https://wandb.ai/nar8991-new-york-university/SNN_test_optimize/runs/pwo0p38s</a>"
      ],
      "text/plain": [
       "<IPython.core.display.HTML object>"
      ]
     },
     "metadata": {},
     "output_type": "display_data"
    },
    {
     "name": "stderr",
     "output_type": "stream",
     "text": [
      "/var/folders/7b/0zqwym191dq_5jvhhbf5lfgr0000gn/T/ipykernel_69979/3981686502.py:11: UserWarning: To copy construct from a tensor, it is recommended to use sourceTensor.clone().detach() or sourceTensor.clone().detach().requires_grad_(True), rather than torch.tensor(sourceTensor).\n",
      "  data_tensor = torch.tensor(x_data, dtype=torch.float32)\n"
     ]
    },
    {
     "name": "stdout",
     "output_type": "stream",
     "text": [
      "init done\n",
      "Final Train Accuracy: 89.84%\n",
      "Final Validation Accuracy: 78.52%\n",
      "Final Test Accuracy: 77.73%\n"
     ]
    },
    {
     "data": {
      "text/html": [],
      "text/plain": [
       "<IPython.core.display.HTML object>"
      ]
     },
     "metadata": {},
     "output_type": "display_data"
    },
    {
     "data": {
      "text/html": [
       "<br>    <style><br>        .wandb-row {<br>            display: flex;<br>            flex-direction: row;<br>            flex-wrap: wrap;<br>            justify-content: flex-start;<br>            width: 100%;<br>        }<br>        .wandb-col {<br>            display: flex;<br>            flex-direction: column;<br>            flex-basis: 100%;<br>            flex: 1;<br>            padding: 10px;<br>        }<br>    </style><br><div class=\"wandb-row\"><div class=\"wandb-col\"><h3>Run history:</h3><br/><table class=\"wandb\"><tr><td>epoch</td><td>▁▁▂▂▂▂▃▃▃▃▄▄▄▄▄▅▅▅▅▅▅▆▆▆▆▆▆▆▆▆▇▇▇▇▇▇▇▇██</td></tr><tr><td>final_test_accuracy</td><td>▁</td></tr><tr><td>final_train_accuracy</td><td>▁</td></tr><tr><td>final_val_accuracy</td><td>▁</td></tr><tr><td>spike_count_train_epoch</td><td>▁▁▁▁▁▁▁▁▁▁▁▁▁▁▁▁▁▁▁▁▁▁▁▁▁▁▁▁▁▁▁▁▁▁▁▁▁▁▁▁</td></tr><tr><td>spike_count_val_epoch</td><td>█▆▅▂▂▃▃▃▂▁▁▁▁▁▁▁▁▁▁▁▁▁▁▁▁▁▁▁▁▁▁▁▁▁▁▁▁▁▁▂</td></tr><tr><td>train_loss</td><td>█▄▂▂▁▂▂▁▁▁▁▁▁▁▁▁▁▁▁▁▁▁▁▁▁▁▁▁▁▁▁▁▁▁▁▁▁▁▁▁</td></tr><tr><td>val_accuracy</td><td>▄▄▃▂▂▁▁▁▁▁▂▃▃▄▄▅▅▅▅▆▆▆▇▇▇▇▇█▇▇█▇▇██▇▇▇▇█</td></tr><tr><td>val_loss</td><td>▂▂▄▆██▇▆▃▃▂▂▂▂▂▂▂▂▂▂▂▂▂▂▂▂▂▂▂▁▁▁▁▁▁▁▁▁▁▁</td></tr></table><br/></div><div class=\"wandb-col\"><h3>Run summary:</h3><br/><table class=\"wandb\"><tr><td>epoch</td><td>149</td></tr><tr><td>final_test_accuracy</td><td>0.77734</td></tr><tr><td>final_train_accuracy</td><td>0.89844</td></tr><tr><td>final_val_accuracy</td><td>0.78516</td></tr><tr><td>spike_count_train_epoch</td><td>0</td></tr><tr><td>spike_count_val_epoch</td><td>3886</td></tr><tr><td>train_loss</td><td>1.75343</td></tr><tr><td>val_accuracy</td><td>0.78516</td></tr><tr><td>val_loss</td><td>0.52751</td></tr></table><br/></div></div>"
      ],
      "text/plain": [
       "<IPython.core.display.HTML object>"
      ]
     },
     "metadata": {},
     "output_type": "display_data"
    },
    {
     "data": {
      "text/html": [
       " View run <strong style=\"color:#cdcd00\">Hybrid_RNN_SNN_V1_same_layer-l1_1e-05-l2_1e-06</strong> at: <a href='https://wandb.ai/nar8991-new-york-university/SNN_test_optimize/runs/pwo0p38s' target=\"_blank\">https://wandb.ai/nar8991-new-york-university/SNN_test_optimize/runs/pwo0p38s</a><br> View project at: <a href='https://wandb.ai/nar8991-new-york-university/SNN_test_optimize' target=\"_blank\">https://wandb.ai/nar8991-new-york-university/SNN_test_optimize</a><br>Synced 5 W&B file(s), 0 media file(s), 0 artifact file(s) and 0 other file(s)"
      ],
      "text/plain": [
       "<IPython.core.display.HTML object>"
      ]
     },
     "metadata": {},
     "output_type": "display_data"
    },
    {
     "data": {
      "text/html": [
       "Find logs at: <code>./wandb/run-20250417_033210-pwo0p38s/logs</code>"
      ],
      "text/plain": [
       "<IPython.core.display.HTML object>"
      ]
     },
     "metadata": {},
     "output_type": "display_data"
    },
    {
     "name": "stderr",
     "output_type": "stream",
     "text": [
      "\u001b[34m\u001b[1mwandb\u001b[0m: Agent Starting Run: dje9igj9 with config:\n",
      "\u001b[34m\u001b[1mwandb\u001b[0m: \tepochs: 150\n",
      "\u001b[34m\u001b[1mwandb\u001b[0m: \tl1: 1e-05\n",
      "\u001b[34m\u001b[1mwandb\u001b[0m: \tl2: 5e-06\n",
      "\u001b[34m\u001b[1mwandb\u001b[0m: \tlearning_rate: 0.002\n",
      "\u001b[34m\u001b[1mwandb\u001b[0m: \tmodel_name: Hybrid_RNN_SNN_V1_same_layer\n",
      "\u001b[34m\u001b[1mwandb\u001b[0m: \toptimizer: Adam\n",
      "\u001b[34m\u001b[1mwandb\u001b[0m: \tregularization: True\n"
     ]
    },
    {
     "data": {
      "text/html": [
       "Ignoring project 'SNN_test_optimize' when running a sweep."
      ],
      "text/plain": [
       "<IPython.core.display.HTML object>"
      ]
     },
     "metadata": {},
     "output_type": "display_data"
    },
    {
     "data": {
      "text/html": [
       "Tracking run with wandb version 0.19.9"
      ],
      "text/plain": [
       "<IPython.core.display.HTML object>"
      ]
     },
     "metadata": {},
     "output_type": "display_data"
    },
    {
     "data": {
      "text/html": [
       "Run data is saved locally in <code>/Users/naliniramanathan/projects/snn_project/spytorch/notebooks/wandb/run-20250417_033605-dje9igj9</code>"
      ],
      "text/plain": [
       "<IPython.core.display.HTML object>"
      ]
     },
     "metadata": {},
     "output_type": "display_data"
    },
    {
     "data": {
      "text/html": [
       "Syncing run <strong><a href='https://wandb.ai/nar8991-new-york-university/SNN_test_optimize/runs/dje9igj9' target=\"_blank\">cool-sweep-8</a></strong> to <a href='https://wandb.ai/nar8991-new-york-university/SNN_test_optimize' target=\"_blank\">Weights & Biases</a> (<a href='https://wandb.me/developer-guide' target=\"_blank\">docs</a>)<br>Sweep page: <a href='https://wandb.ai/nar8991-new-york-university/SNN_test_optimize/sweeps/zfqum03h' target=\"_blank\">https://wandb.ai/nar8991-new-york-university/SNN_test_optimize/sweeps/zfqum03h</a>"
      ],
      "text/plain": [
       "<IPython.core.display.HTML object>"
      ]
     },
     "metadata": {},
     "output_type": "display_data"
    },
    {
     "data": {
      "text/html": [
       " View project at <a href='https://wandb.ai/nar8991-new-york-university/SNN_test_optimize' target=\"_blank\">https://wandb.ai/nar8991-new-york-university/SNN_test_optimize</a>"
      ],
      "text/plain": [
       "<IPython.core.display.HTML object>"
      ]
     },
     "metadata": {},
     "output_type": "display_data"
    },
    {
     "data": {
      "text/html": [
       " View sweep at <a href='https://wandb.ai/nar8991-new-york-university/SNN_test_optimize/sweeps/zfqum03h' target=\"_blank\">https://wandb.ai/nar8991-new-york-university/SNN_test_optimize/sweeps/zfqum03h</a>"
      ],
      "text/plain": [
       "<IPython.core.display.HTML object>"
      ]
     },
     "metadata": {},
     "output_type": "display_data"
    },
    {
     "data": {
      "text/html": [
       " View run at <a href='https://wandb.ai/nar8991-new-york-university/SNN_test_optimize/runs/dje9igj9' target=\"_blank\">https://wandb.ai/nar8991-new-york-university/SNN_test_optimize/runs/dje9igj9</a>"
      ],
      "text/plain": [
       "<IPython.core.display.HTML object>"
      ]
     },
     "metadata": {},
     "output_type": "display_data"
    },
    {
     "name": "stderr",
     "output_type": "stream",
     "text": [
      "/var/folders/7b/0zqwym191dq_5jvhhbf5lfgr0000gn/T/ipykernel_69979/3981686502.py:11: UserWarning: To copy construct from a tensor, it is recommended to use sourceTensor.clone().detach() or sourceTensor.clone().detach().requires_grad_(True), rather than torch.tensor(sourceTensor).\n",
      "  data_tensor = torch.tensor(x_data, dtype=torch.float32)\n"
     ]
    },
    {
     "name": "stdout",
     "output_type": "stream",
     "text": [
      "init done\n",
      "Final Train Accuracy: 67.97%\n",
      "Final Validation Accuracy: 63.28%\n",
      "Final Test Accuracy: 63.28%\n"
     ]
    },
    {
     "data": {
      "text/html": [],
      "text/plain": [
       "<IPython.core.display.HTML object>"
      ]
     },
     "metadata": {},
     "output_type": "display_data"
    },
    {
     "data": {
      "text/html": [
       "<br>    <style><br>        .wandb-row {<br>            display: flex;<br>            flex-direction: row;<br>            flex-wrap: wrap;<br>            justify-content: flex-start;<br>            width: 100%;<br>        }<br>        .wandb-col {<br>            display: flex;<br>            flex-direction: column;<br>            flex-basis: 100%;<br>            flex: 1;<br>            padding: 10px;<br>        }<br>    </style><br><div class=\"wandb-row\"><div class=\"wandb-col\"><h3>Run history:</h3><br/><table class=\"wandb\"><tr><td>epoch</td><td>▁▁▁▁▁▂▂▂▃▃▃▃▃▃▄▄▄▄▄▅▅▅▅▅▅▆▆▆▆▆▆▇▇▇▇▇▇▇██</td></tr><tr><td>final_test_accuracy</td><td>▁</td></tr><tr><td>final_train_accuracy</td><td>▁</td></tr><tr><td>final_val_accuracy</td><td>▁</td></tr><tr><td>spike_count_train_epoch</td><td>▁▁▁▁▁▁▁▁▁▁▁▁▁▁▁▁▁▁▁▁▁▁▁▁▁▁▁▁▁▁▁▁▁▁▁▁▁▁▁▁</td></tr><tr><td>spike_count_val_epoch</td><td>█▆▃▂▂▁▁▁▁▁▁▁▁▁▁▁▁▁▁▁▁▁▁▁▁▁▁▁▁▁▁▁▁▁▁▁▁▁▁▁</td></tr><tr><td>train_loss</td><td>██▆▆▄▁▁▁▁▁▁▁▁▁▁▁▁▁▁▁▁▁▁▁▁▁▁▁▁▁▁▁▁▁▁▁▁▁▁▁</td></tr><tr><td>val_accuracy</td><td>▇▇▆▆▄▁▃▃▃▃▃▃▃▃▃▃▄▄▄▄▅▅▅▅▅▆▆▆▆▆▇▇▇▇▇█████</td></tr><tr><td>val_loss</td><td>▁▁▁▃▄█▇▇▅▅▂▂▂▂▂▂▂▁▁▁▁▁▁▁▁▁▁▁▁▁▁▁▁▁▁▁▁▁▁▁</td></tr></table><br/></div><div class=\"wandb-col\"><h3>Run summary:</h3><br/><table class=\"wandb\"><tr><td>epoch</td><td>149</td></tr><tr><td>final_test_accuracy</td><td>0.63281</td></tr><tr><td>final_train_accuracy</td><td>0.67969</td></tr><tr><td>final_val_accuracy</td><td>0.63281</td></tr><tr><td>spike_count_train_epoch</td><td>0</td></tr><tr><td>spike_count_val_epoch</td><td>0</td></tr><tr><td>train_loss</td><td>0.72296</td></tr><tr><td>val_accuracy</td><td>0.63281</td></tr><tr><td>val_loss</td><td>0.64218</td></tr></table><br/></div></div>"
      ],
      "text/plain": [
       "<IPython.core.display.HTML object>"
      ]
     },
     "metadata": {},
     "output_type": "display_data"
    },
    {
     "data": {
      "text/html": [
       " View run <strong style=\"color:#cdcd00\">Hybrid_RNN_SNN_V1_same_layer-l1_1e-05-l2_5e-06</strong> at: <a href='https://wandb.ai/nar8991-new-york-university/SNN_test_optimize/runs/dje9igj9' target=\"_blank\">https://wandb.ai/nar8991-new-york-university/SNN_test_optimize/runs/dje9igj9</a><br> View project at: <a href='https://wandb.ai/nar8991-new-york-university/SNN_test_optimize' target=\"_blank\">https://wandb.ai/nar8991-new-york-university/SNN_test_optimize</a><br>Synced 5 W&B file(s), 0 media file(s), 0 artifact file(s) and 0 other file(s)"
      ],
      "text/plain": [
       "<IPython.core.display.HTML object>"
      ]
     },
     "metadata": {},
     "output_type": "display_data"
    },
    {
     "data": {
      "text/html": [
       "Find logs at: <code>./wandb/run-20250417_033605-dje9igj9/logs</code>"
      ],
      "text/plain": [
       "<IPython.core.display.HTML object>"
      ]
     },
     "metadata": {},
     "output_type": "display_data"
    },
    {
     "name": "stderr",
     "output_type": "stream",
     "text": [
      "\u001b[34m\u001b[1mwandb\u001b[0m: Sweep Agent: Waiting for job.\n",
      "\u001b[34m\u001b[1mwandb\u001b[0m: Network error (ConnectionError), entering retry loop.\n",
      "\u001b[34m\u001b[1mwandb\u001b[0m: Job received.\n",
      "\u001b[34m\u001b[1mwandb\u001b[0m: Agent Starting Run: s4fmovde with config:\n",
      "\u001b[34m\u001b[1mwandb\u001b[0m: \tepochs: 150\n",
      "\u001b[34m\u001b[1mwandb\u001b[0m: \tl1: 1e-05\n",
      "\u001b[34m\u001b[1mwandb\u001b[0m: \tl2: 1e-05\n",
      "\u001b[34m\u001b[1mwandb\u001b[0m: \tlearning_rate: 0.002\n",
      "\u001b[34m\u001b[1mwandb\u001b[0m: \tmodel_name: Hybrid_RNN_SNN_V1_same_layer\n",
      "\u001b[34m\u001b[1mwandb\u001b[0m: \toptimizer: Adam\n",
      "\u001b[34m\u001b[1mwandb\u001b[0m: \tregularization: True\n",
      "\u001b[34m\u001b[1mwandb\u001b[0m: W&B API key is configured. Use \u001b[1m`wandb login --relogin`\u001b[0m to force relogin\n"
     ]
    },
    {
     "data": {
      "text/html": [
       "Ignoring project 'SNN_test_optimize' when running a sweep."
      ],
      "text/plain": [
       "<IPython.core.display.HTML object>"
      ]
     },
     "metadata": {},
     "output_type": "display_data"
    },
    {
     "data": {
      "text/html": [
       "Tracking run with wandb version 0.19.9"
      ],
      "text/plain": [
       "<IPython.core.display.HTML object>"
      ]
     },
     "metadata": {},
     "output_type": "display_data"
    },
    {
     "data": {
      "text/html": [
       "Run data is saved locally in <code>/Users/naliniramanathan/projects/snn_project/spytorch/notebooks/wandb/run-20250417_062320-s4fmovde</code>"
      ],
      "text/plain": [
       "<IPython.core.display.HTML object>"
      ]
     },
     "metadata": {},
     "output_type": "display_data"
    },
    {
     "data": {
      "text/html": [
       "Syncing run <strong><a href='https://wandb.ai/nar8991-new-york-university/SNN_test_optimize/runs/s4fmovde' target=\"_blank\">serene-sweep-9</a></strong> to <a href='https://wandb.ai/nar8991-new-york-university/SNN_test_optimize' target=\"_blank\">Weights & Biases</a> (<a href='https://wandb.me/developer-guide' target=\"_blank\">docs</a>)<br>Sweep page: <a href='https://wandb.ai/nar8991-new-york-university/SNN_test_optimize/sweeps/zfqum03h' target=\"_blank\">https://wandb.ai/nar8991-new-york-university/SNN_test_optimize/sweeps/zfqum03h</a>"
      ],
      "text/plain": [
       "<IPython.core.display.HTML object>"
      ]
     },
     "metadata": {},
     "output_type": "display_data"
    },
    {
     "data": {
      "text/html": [
       " View project at <a href='https://wandb.ai/nar8991-new-york-university/SNN_test_optimize' target=\"_blank\">https://wandb.ai/nar8991-new-york-university/SNN_test_optimize</a>"
      ],
      "text/plain": [
       "<IPython.core.display.HTML object>"
      ]
     },
     "metadata": {},
     "output_type": "display_data"
    },
    {
     "data": {
      "text/html": [
       " View sweep at <a href='https://wandb.ai/nar8991-new-york-university/SNN_test_optimize/sweeps/zfqum03h' target=\"_blank\">https://wandb.ai/nar8991-new-york-university/SNN_test_optimize/sweeps/zfqum03h</a>"
      ],
      "text/plain": [
       "<IPython.core.display.HTML object>"
      ]
     },
     "metadata": {},
     "output_type": "display_data"
    },
    {
     "data": {
      "text/html": [
       " View run at <a href='https://wandb.ai/nar8991-new-york-university/SNN_test_optimize/runs/s4fmovde' target=\"_blank\">https://wandb.ai/nar8991-new-york-university/SNN_test_optimize/runs/s4fmovde</a>"
      ],
      "text/plain": [
       "<IPython.core.display.HTML object>"
      ]
     },
     "metadata": {},
     "output_type": "display_data"
    },
    {
     "name": "stderr",
     "output_type": "stream",
     "text": [
      "/var/folders/7b/0zqwym191dq_5jvhhbf5lfgr0000gn/T/ipykernel_69979/3981686502.py:11: UserWarning: To copy construct from a tensor, it is recommended to use sourceTensor.clone().detach() or sourceTensor.clone().detach().requires_grad_(True), rather than torch.tensor(sourceTensor).\n",
      "  data_tensor = torch.tensor(x_data, dtype=torch.float32)\n"
     ]
    },
    {
     "name": "stdout",
     "output_type": "stream",
     "text": [
      "init done\n"
     ]
    },
    {
     "name": "stderr",
     "output_type": "stream",
     "text": [
      "\u001b[34m\u001b[1mwandb\u001b[0m: Network error (ConnectionError), entering retry loop.\n"
     ]
    },
    {
     "name": "stdout",
     "output_type": "stream",
     "text": [
      "Final Train Accuracy: 64.84%\n",
      "Final Validation Accuracy: 63.67%\n",
      "Final Test Accuracy: 65.62%\n"
     ]
    },
    {
     "data": {
      "text/html": [],
      "text/plain": [
       "<IPython.core.display.HTML object>"
      ]
     },
     "metadata": {},
     "output_type": "display_data"
    },
    {
     "data": {
      "text/html": [
       "<br>    <style><br>        .wandb-row {<br>            display: flex;<br>            flex-direction: row;<br>            flex-wrap: wrap;<br>            justify-content: flex-start;<br>            width: 100%;<br>        }<br>        .wandb-col {<br>            display: flex;<br>            flex-direction: column;<br>            flex-basis: 100%;<br>            flex: 1;<br>            padding: 10px;<br>        }<br>    </style><br><div class=\"wandb-row\"><div class=\"wandb-col\"><h3>Run history:</h3><br/><table class=\"wandb\"><tr><td>epoch</td><td>▁▁▁▂▂▂▂▂▃▃▃▃▃▄▄▄▄▄▅▅▅▅▅▅▆▆▆▆▆▆▆▆▆▇▇▇▇▇██</td></tr><tr><td>final_test_accuracy</td><td>▁</td></tr><tr><td>final_train_accuracy</td><td>▁</td></tr><tr><td>final_val_accuracy</td><td>▁</td></tr><tr><td>spike_count_train_epoch</td><td>▁▁▁▁▁▁▁▁▁▁▁▁▁▁▁▁▁▁▁▁▁▁▁▁▁▁▁▁▁▁▁▁▁▁▁▁▁▁▁▁</td></tr><tr><td>spike_count_val_epoch</td><td>█▆▂▁▁▁▁▁▁▁▁▁▁▁▁▁▁▁▁▁▁▁▁▁▁▁▁▁▁▁▁▁▁▁▁▁▁▁▁▁</td></tr><tr><td>train_loss</td><td>█▆▁▁▁▁▁▁▁▁▁▁▁▁▁▁▁▁▁▁▁▁▁▁▁▁▁▁▁▁▁▁▁▁▁▁▁▁▁▁</td></tr><tr><td>val_accuracy</td><td>▇▄▃▁▁▃▃▃▃▃▃▃▃▃▃▄▄▅▅▅▅▅▅▆▆▆▆▆▇▇▇▇▇▇▇█████</td></tr><tr><td>val_loss</td><td>▁▁▇██▇▇▆▆▅▄▄▃▂▂▂▂▂▂▂▁▁▁▁▁▁▁▁▁▁▁▁▁▁▁▁▁▁▁▁</td></tr></table><br/></div><div class=\"wandb-col\"><h3>Run summary:</h3><br/><table class=\"wandb\"><tr><td>epoch</td><td>149</td></tr><tr><td>final_test_accuracy</td><td>0.65625</td></tr><tr><td>final_train_accuracy</td><td>0.64844</td></tr><tr><td>final_val_accuracy</td><td>0.63672</td></tr><tr><td>spike_count_train_epoch</td><td>0</td></tr><tr><td>spike_count_val_epoch</td><td>0</td></tr><tr><td>train_loss</td><td>0.65893</td></tr><tr><td>val_accuracy</td><td>0.63672</td></tr><tr><td>val_loss</td><td>0.66304</td></tr></table><br/></div></div>"
      ],
      "text/plain": [
       "<IPython.core.display.HTML object>"
      ]
     },
     "metadata": {},
     "output_type": "display_data"
    },
    {
     "data": {
      "text/html": [
       " View run <strong style=\"color:#cdcd00\">Hybrid_RNN_SNN_V1_same_layer-l1_1e-05-l2_1e-05</strong> at: <a href='https://wandb.ai/nar8991-new-york-university/SNN_test_optimize/runs/s4fmovde' target=\"_blank\">https://wandb.ai/nar8991-new-york-university/SNN_test_optimize/runs/s4fmovde</a><br> View project at: <a href='https://wandb.ai/nar8991-new-york-university/SNN_test_optimize' target=\"_blank\">https://wandb.ai/nar8991-new-york-university/SNN_test_optimize</a><br>Synced 5 W&B file(s), 0 media file(s), 0 artifact file(s) and 0 other file(s)"
      ],
      "text/plain": [
       "<IPython.core.display.HTML object>"
      ]
     },
     "metadata": {},
     "output_type": "display_data"
    },
    {
     "data": {
      "text/html": [
       "Find logs at: <code>./wandb/run-20250417_062320-s4fmovde/logs</code>"
      ],
      "text/plain": [
       "<IPython.core.display.HTML object>"
      ]
     },
     "metadata": {},
     "output_type": "display_data"
    }
   ],
   "source": [
    "# Now let's do it for all models\n",
    "sweep_config = {\n",
    "    'method': 'grid',\n",
    "    'name': 'SNN Regularization Sweep',\n",
    "    'metric': {\n",
    "        'name': 'val_accuracy',\n",
    "        'goal': 'maximize'\n",
    "    },\n",
    "    'parameters': {\n",
    "        'l1': {\n",
    "            'values': [1e-6, 5e-6, 1e-5]\n",
    "        },\n",
    "        'l2': {\n",
    "            'values': [1e-6, 5e-6, 1e-5]\n",
    "        },\n",
    "        'learning_rate': {\n",
    "            'value': 2e-3 # Keep learning rate constant for this sweep\n",
    "        },\n",
    "        'epochs': {\n",
    "            'value': 150 # Keep epochs constant for this sweep\n",
    "        },\n",
    "        'regularization':{\n",
    "            'value': True # Ensure regularization is always on for this sweep\n",
    "        },\n",
    "        'optimizer': {\n",
    "            'value': \"Adam\"\n",
    "        },\n",
    "        'model_name':{\n",
    "            'value': \"SNN\"\n",
    "        }\n",
    "    }\n",
    "}\n",
    "sweep_config['parameters']['model_name']['value'] = 'Hybrid_RNN_SNN_V1_same_layer'  # Change to the desired model name\n",
    "\n",
    "# Initialize a Wandb sweep for the current model\n",
    "sweep_id = wandb.sweep(sweep_config, project=\"SNN_test_optimize\")\n",
    "\n",
    "# Run the sweep agent\n",
    "wandb.agent(sweep_id, train_sweep, count=9)  # Run all 3 x 3 combinations"
   ]
  },
  {
   "cell_type": "code",
   "execution_count": null,
   "metadata": {},
   "outputs": [
    {
     "name": "stdout",
     "output_type": "stream",
     "text": [
      "Create sweep with ID: kg3cw864\n",
      "Sweep URL: https://wandb.ai/nar8991-new-york-university/SNN_test_optimize/sweeps/kg3cw864\n"
     ]
    },
    {
     "name": "stderr",
     "output_type": "stream",
     "text": [
      "\u001b[34m\u001b[1mwandb\u001b[0m: Agent Starting Run: 5lwektnr with config:\n",
      "\u001b[34m\u001b[1mwandb\u001b[0m: \tepochs: 150\n",
      "\u001b[34m\u001b[1mwandb\u001b[0m: \tl1: 1e-06\n",
      "\u001b[34m\u001b[1mwandb\u001b[0m: \tl2: 1e-06\n",
      "\u001b[34m\u001b[1mwandb\u001b[0m: \tlearning_rate: 0.002\n",
      "\u001b[34m\u001b[1mwandb\u001b[0m: \tmodel_name: RNN_with_LIF_output\n",
      "\u001b[34m\u001b[1mwandb\u001b[0m: \toptimizer: Adam\n",
      "\u001b[34m\u001b[1mwandb\u001b[0m: \tregularization: True\n"
     ]
    },
    {
     "data": {
      "text/html": [
       "Ignoring project 'SNN_test_optimize' when running a sweep."
      ],
      "text/plain": [
       "<IPython.core.display.HTML object>"
      ]
     },
     "metadata": {},
     "output_type": "display_data"
    },
    {
     "data": {
      "text/html": [
       "Tracking run with wandb version 0.19.9"
      ],
      "text/plain": [
       "<IPython.core.display.HTML object>"
      ]
     },
     "metadata": {},
     "output_type": "display_data"
    },
    {
     "data": {
      "text/html": [
       "Run data is saved locally in <code>/Users/naliniramanathan/projects/snn_project/spytorch/notebooks/wandb/run-20250417_110331-5lwektnr</code>"
      ],
      "text/plain": [
       "<IPython.core.display.HTML object>"
      ]
     },
     "metadata": {},
     "output_type": "display_data"
    },
    {
     "data": {
      "text/html": [
       "Syncing run <strong><a href='https://wandb.ai/nar8991-new-york-university/SNN_test_optimize/runs/5lwektnr' target=\"_blank\">kind-sweep-1</a></strong> to <a href='https://wandb.ai/nar8991-new-york-university/SNN_test_optimize' target=\"_blank\">Weights & Biases</a> (<a href='https://wandb.me/developer-guide' target=\"_blank\">docs</a>)<br>Sweep page: <a href='https://wandb.ai/nar8991-new-york-university/SNN_test_optimize/sweeps/kg3cw864' target=\"_blank\">https://wandb.ai/nar8991-new-york-university/SNN_test_optimize/sweeps/kg3cw864</a>"
      ],
      "text/plain": [
       "<IPython.core.display.HTML object>"
      ]
     },
     "metadata": {},
     "output_type": "display_data"
    },
    {
     "data": {
      "text/html": [
       " View project at <a href='https://wandb.ai/nar8991-new-york-university/SNN_test_optimize' target=\"_blank\">https://wandb.ai/nar8991-new-york-university/SNN_test_optimize</a>"
      ],
      "text/plain": [
       "<IPython.core.display.HTML object>"
      ]
     },
     "metadata": {},
     "output_type": "display_data"
    },
    {
     "data": {
      "text/html": [
       " View sweep at <a href='https://wandb.ai/nar8991-new-york-university/SNN_test_optimize/sweeps/kg3cw864' target=\"_blank\">https://wandb.ai/nar8991-new-york-university/SNN_test_optimize/sweeps/kg3cw864</a>"
      ],
      "text/plain": [
       "<IPython.core.display.HTML object>"
      ]
     },
     "metadata": {},
     "output_type": "display_data"
    },
    {
     "data": {
      "text/html": [
       " View run at <a href='https://wandb.ai/nar8991-new-york-university/SNN_test_optimize/runs/5lwektnr' target=\"_blank\">https://wandb.ai/nar8991-new-york-university/SNN_test_optimize/runs/5lwektnr</a>"
      ],
      "text/plain": [
       "<IPython.core.display.HTML object>"
      ]
     },
     "metadata": {},
     "output_type": "display_data"
    },
    {
     "name": "stderr",
     "output_type": "stream",
     "text": [
      "/var/folders/7b/0zqwym191dq_5jvhhbf5lfgr0000gn/T/ipykernel_69979/3981686502.py:11: UserWarning: To copy construct from a tensor, it is recommended to use sourceTensor.clone().detach() or sourceTensor.clone().detach().requires_grad_(True), rather than torch.tensor(sourceTensor).\n",
      "  data_tensor = torch.tensor(x_data, dtype=torch.float32)\n"
     ]
    },
    {
     "name": "stdout",
     "output_type": "stream",
     "text": [
      "init done\n",
      "Final Train Accuracy: 100.00%\n",
      "Final Validation Accuracy: 100.00%\n",
      "Final Test Accuracy: 100.00%\n"
     ]
    },
    {
     "data": {
      "text/html": [],
      "text/plain": [
       "<IPython.core.display.HTML object>"
      ]
     },
     "metadata": {},
     "output_type": "display_data"
    },
    {
     "data": {
      "text/html": [
       "<br>    <style><br>        .wandb-row {<br>            display: flex;<br>            flex-direction: row;<br>            flex-wrap: wrap;<br>            justify-content: flex-start;<br>            width: 100%;<br>        }<br>        .wandb-col {<br>            display: flex;<br>            flex-direction: column;<br>            flex-basis: 100%;<br>            flex: 1;<br>            padding: 10px;<br>        }<br>    </style><br><div class=\"wandb-row\"><div class=\"wandb-col\"><h3>Run history:</h3><br/><table class=\"wandb\"><tr><td>epoch</td><td>▁▁▁▁▂▂▂▂▂▂▃▃▃▃▃▃▃▃▄▄▄▄▄▄▅▅▅▅▅▅▆▆▆▆▆▇▇▇██</td></tr><tr><td>final_test_accuracy</td><td>▁</td></tr><tr><td>final_train_accuracy</td><td>▁</td></tr><tr><td>final_val_accuracy</td><td>▁</td></tr><tr><td>train_loss</td><td>█▇▇▆▆▆▆▅▅▃▃▃▃▃▃▂▂▂▁▁▁▁▁▁▁▁▁▁▁▁▁▁▁▁▁▁▁▁▁▁</td></tr><tr><td>val_accuracy</td><td>▁▂▄▅▅▅▅▅▆▆▇▇▇▇▇▇▇███████████████████████</td></tr><tr><td>val_loss</td><td>█▆▆▆▆▅▅▄▄▄▃▂▂▂▁▁▁▁▁▁▁▁▁▁▁▁▁▁▁▁▁▁▁▁▁▁▁▁▁▁</td></tr></table><br/></div><div class=\"wandb-col\"><h3>Run summary:</h3><br/><table class=\"wandb\"><tr><td>epoch</td><td>149</td></tr><tr><td>final_test_accuracy</td><td>1</td></tr><tr><td>final_train_accuracy</td><td>1</td></tr><tr><td>final_val_accuracy</td><td>1</td></tr><tr><td>train_loss</td><td>0.00175</td></tr><tr><td>val_accuracy</td><td>1</td></tr><tr><td>val_loss</td><td>0.00267</td></tr></table><br/></div></div>"
      ],
      "text/plain": [
       "<IPython.core.display.HTML object>"
      ]
     },
     "metadata": {},
     "output_type": "display_data"
    },
    {
     "data": {
      "text/html": [
       " View run <strong style=\"color:#cdcd00\">RNN_with_LIF_output-l1_1e-06-l2_1e-06</strong> at: <a href='https://wandb.ai/nar8991-new-york-university/SNN_test_optimize/runs/5lwektnr' target=\"_blank\">https://wandb.ai/nar8991-new-york-university/SNN_test_optimize/runs/5lwektnr</a><br> View project at: <a href='https://wandb.ai/nar8991-new-york-university/SNN_test_optimize' target=\"_blank\">https://wandb.ai/nar8991-new-york-university/SNN_test_optimize</a><br>Synced 5 W&B file(s), 0 media file(s), 0 artifact file(s) and 0 other file(s)"
      ],
      "text/plain": [
       "<IPython.core.display.HTML object>"
      ]
     },
     "metadata": {},
     "output_type": "display_data"
    },
    {
     "data": {
      "text/html": [
       "Find logs at: <code>./wandb/run-20250417_110331-5lwektnr/logs</code>"
      ],
      "text/plain": [
       "<IPython.core.display.HTML object>"
      ]
     },
     "metadata": {},
     "output_type": "display_data"
    },
    {
     "name": "stderr",
     "output_type": "stream",
     "text": [
      "\u001b[34m\u001b[1mwandb\u001b[0m: Agent Starting Run: qrlz31ua with config:\n",
      "\u001b[34m\u001b[1mwandb\u001b[0m: \tepochs: 150\n",
      "\u001b[34m\u001b[1mwandb\u001b[0m: \tl1: 1e-06\n",
      "\u001b[34m\u001b[1mwandb\u001b[0m: \tl2: 5e-06\n",
      "\u001b[34m\u001b[1mwandb\u001b[0m: \tlearning_rate: 0.002\n",
      "\u001b[34m\u001b[1mwandb\u001b[0m: \tmodel_name: RNN_with_LIF_output\n",
      "\u001b[34m\u001b[1mwandb\u001b[0m: \toptimizer: Adam\n",
      "\u001b[34m\u001b[1mwandb\u001b[0m: \tregularization: True\n"
     ]
    },
    {
     "data": {
      "text/html": [
       "Ignoring project 'SNN_test_optimize' when running a sweep."
      ],
      "text/plain": [
       "<IPython.core.display.HTML object>"
      ]
     },
     "metadata": {},
     "output_type": "display_data"
    },
    {
     "data": {
      "text/html": [
       "Tracking run with wandb version 0.19.9"
      ],
      "text/plain": [
       "<IPython.core.display.HTML object>"
      ]
     },
     "metadata": {},
     "output_type": "display_data"
    },
    {
     "data": {
      "text/html": [
       "Run data is saved locally in <code>/Users/naliniramanathan/projects/snn_project/spytorch/notebooks/wandb/run-20250417_110412-qrlz31ua</code>"
      ],
      "text/plain": [
       "<IPython.core.display.HTML object>"
      ]
     },
     "metadata": {},
     "output_type": "display_data"
    },
    {
     "data": {
      "text/html": [
       "Syncing run <strong><a href='https://wandb.ai/nar8991-new-york-university/SNN_test_optimize/runs/qrlz31ua' target=\"_blank\">fragrant-sweep-2</a></strong> to <a href='https://wandb.ai/nar8991-new-york-university/SNN_test_optimize' target=\"_blank\">Weights & Biases</a> (<a href='https://wandb.me/developer-guide' target=\"_blank\">docs</a>)<br>Sweep page: <a href='https://wandb.ai/nar8991-new-york-university/SNN_test_optimize/sweeps/kg3cw864' target=\"_blank\">https://wandb.ai/nar8991-new-york-university/SNN_test_optimize/sweeps/kg3cw864</a>"
      ],
      "text/plain": [
       "<IPython.core.display.HTML object>"
      ]
     },
     "metadata": {},
     "output_type": "display_data"
    },
    {
     "data": {
      "text/html": [
       " View project at <a href='https://wandb.ai/nar8991-new-york-university/SNN_test_optimize' target=\"_blank\">https://wandb.ai/nar8991-new-york-university/SNN_test_optimize</a>"
      ],
      "text/plain": [
       "<IPython.core.display.HTML object>"
      ]
     },
     "metadata": {},
     "output_type": "display_data"
    },
    {
     "data": {
      "text/html": [
       " View sweep at <a href='https://wandb.ai/nar8991-new-york-university/SNN_test_optimize/sweeps/kg3cw864' target=\"_blank\">https://wandb.ai/nar8991-new-york-university/SNN_test_optimize/sweeps/kg3cw864</a>"
      ],
      "text/plain": [
       "<IPython.core.display.HTML object>"
      ]
     },
     "metadata": {},
     "output_type": "display_data"
    },
    {
     "data": {
      "text/html": [
       " View run at <a href='https://wandb.ai/nar8991-new-york-university/SNN_test_optimize/runs/qrlz31ua' target=\"_blank\">https://wandb.ai/nar8991-new-york-university/SNN_test_optimize/runs/qrlz31ua</a>"
      ],
      "text/plain": [
       "<IPython.core.display.HTML object>"
      ]
     },
     "metadata": {},
     "output_type": "display_data"
    },
    {
     "name": "stderr",
     "output_type": "stream",
     "text": [
      "/var/folders/7b/0zqwym191dq_5jvhhbf5lfgr0000gn/T/ipykernel_69979/3981686502.py:11: UserWarning: To copy construct from a tensor, it is recommended to use sourceTensor.clone().detach() or sourceTensor.clone().detach().requires_grad_(True), rather than torch.tensor(sourceTensor).\n",
      "  data_tensor = torch.tensor(x_data, dtype=torch.float32)\n"
     ]
    },
    {
     "name": "stdout",
     "output_type": "stream",
     "text": [
      "init done\n",
      "Final Train Accuracy: 100.00%\n",
      "Final Validation Accuracy: 100.00%\n",
      "Final Test Accuracy: 100.00%\n"
     ]
    },
    {
     "data": {
      "text/html": [],
      "text/plain": [
       "<IPython.core.display.HTML object>"
      ]
     },
     "metadata": {},
     "output_type": "display_data"
    },
    {
     "data": {
      "text/html": [
       "<br>    <style><br>        .wandb-row {<br>            display: flex;<br>            flex-direction: row;<br>            flex-wrap: wrap;<br>            justify-content: flex-start;<br>            width: 100%;<br>        }<br>        .wandb-col {<br>            display: flex;<br>            flex-direction: column;<br>            flex-basis: 100%;<br>            flex: 1;<br>            padding: 10px;<br>        }<br>    </style><br><div class=\"wandb-row\"><div class=\"wandb-col\"><h3>Run history:</h3><br/><table class=\"wandb\"><tr><td>epoch</td><td>▁▁▁▁▂▂▂▂▂▂▃▃▃▃▃▃▄▄▄▄▄▄▄▄▅▅▅▅▅▆▇▇▇▇▇▇████</td></tr><tr><td>final_test_accuracy</td><td>▁</td></tr><tr><td>final_train_accuracy</td><td>▁</td></tr><tr><td>final_val_accuracy</td><td>▁</td></tr><tr><td>train_loss</td><td>█▇▆▆▆▆▆▅▅▅▄▃▃▃▃▂▂▂▂▁▁▁▁▁▁▁▁▁▁▁▁▁▁▁▁▁▁▁▁▁</td></tr><tr><td>val_accuracy</td><td>▁▃▃▄▅▆▆▆▇▇▇▇▇▇▇█████████████████████████</td></tr><tr><td>val_loss</td><td>█▇▆▆▆▆▆▅▅▅▅▅▄▄▃▂▂▁▁▁▁▁▁▁▁▁▁▁▁▁▁▁▁▁▁▁▁▁▁▁</td></tr></table><br/></div><div class=\"wandb-col\"><h3>Run summary:</h3><br/><table class=\"wandb\"><tr><td>epoch</td><td>149</td></tr><tr><td>final_test_accuracy</td><td>1</td></tr><tr><td>final_train_accuracy</td><td>1</td></tr><tr><td>final_val_accuracy</td><td>1</td></tr><tr><td>train_loss</td><td>0.00212</td></tr><tr><td>val_accuracy</td><td>1</td></tr><tr><td>val_loss</td><td>0.00264</td></tr></table><br/></div></div>"
      ],
      "text/plain": [
       "<IPython.core.display.HTML object>"
      ]
     },
     "metadata": {},
     "output_type": "display_data"
    },
    {
     "data": {
      "text/html": [
       " View run <strong style=\"color:#cdcd00\">RNN_with_LIF_output-l1_1e-06-l2_5e-06</strong> at: <a href='https://wandb.ai/nar8991-new-york-university/SNN_test_optimize/runs/qrlz31ua' target=\"_blank\">https://wandb.ai/nar8991-new-york-university/SNN_test_optimize/runs/qrlz31ua</a><br> View project at: <a href='https://wandb.ai/nar8991-new-york-university/SNN_test_optimize' target=\"_blank\">https://wandb.ai/nar8991-new-york-university/SNN_test_optimize</a><br>Synced 5 W&B file(s), 0 media file(s), 0 artifact file(s) and 0 other file(s)"
      ],
      "text/plain": [
       "<IPython.core.display.HTML object>"
      ]
     },
     "metadata": {},
     "output_type": "display_data"
    },
    {
     "data": {
      "text/html": [
       "Find logs at: <code>./wandb/run-20250417_110412-qrlz31ua/logs</code>"
      ],
      "text/plain": [
       "<IPython.core.display.HTML object>"
      ]
     },
     "metadata": {},
     "output_type": "display_data"
    },
    {
     "name": "stderr",
     "output_type": "stream",
     "text": [
      "\u001b[34m\u001b[1mwandb\u001b[0m: Agent Starting Run: o88mf586 with config:\n",
      "\u001b[34m\u001b[1mwandb\u001b[0m: \tepochs: 150\n",
      "\u001b[34m\u001b[1mwandb\u001b[0m: \tl1: 1e-06\n",
      "\u001b[34m\u001b[1mwandb\u001b[0m: \tl2: 1e-05\n",
      "\u001b[34m\u001b[1mwandb\u001b[0m: \tlearning_rate: 0.002\n",
      "\u001b[34m\u001b[1mwandb\u001b[0m: \tmodel_name: RNN_with_LIF_output\n",
      "\u001b[34m\u001b[1mwandb\u001b[0m: \toptimizer: Adam\n",
      "\u001b[34m\u001b[1mwandb\u001b[0m: \tregularization: True\n"
     ]
    },
    {
     "data": {
      "text/html": [
       "Ignoring project 'SNN_test_optimize' when running a sweep."
      ],
      "text/plain": [
       "<IPython.core.display.HTML object>"
      ]
     },
     "metadata": {},
     "output_type": "display_data"
    },
    {
     "data": {
      "text/html": [
       "Tracking run with wandb version 0.19.9"
      ],
      "text/plain": [
       "<IPython.core.display.HTML object>"
      ]
     },
     "metadata": {},
     "output_type": "display_data"
    },
    {
     "data": {
      "text/html": [
       "Run data is saved locally in <code>/Users/naliniramanathan/projects/snn_project/spytorch/notebooks/wandb/run-20250417_110453-o88mf586</code>"
      ],
      "text/plain": [
       "<IPython.core.display.HTML object>"
      ]
     },
     "metadata": {},
     "output_type": "display_data"
    },
    {
     "data": {
      "text/html": [
       "Syncing run <strong><a href='https://wandb.ai/nar8991-new-york-university/SNN_test_optimize/runs/o88mf586' target=\"_blank\">dauntless-sweep-3</a></strong> to <a href='https://wandb.ai/nar8991-new-york-university/SNN_test_optimize' target=\"_blank\">Weights & Biases</a> (<a href='https://wandb.me/developer-guide' target=\"_blank\">docs</a>)<br>Sweep page: <a href='https://wandb.ai/nar8991-new-york-university/SNN_test_optimize/sweeps/kg3cw864' target=\"_blank\">https://wandb.ai/nar8991-new-york-university/SNN_test_optimize/sweeps/kg3cw864</a>"
      ],
      "text/plain": [
       "<IPython.core.display.HTML object>"
      ]
     },
     "metadata": {},
     "output_type": "display_data"
    },
    {
     "data": {
      "text/html": [
       " View project at <a href='https://wandb.ai/nar8991-new-york-university/SNN_test_optimize' target=\"_blank\">https://wandb.ai/nar8991-new-york-university/SNN_test_optimize</a>"
      ],
      "text/plain": [
       "<IPython.core.display.HTML object>"
      ]
     },
     "metadata": {},
     "output_type": "display_data"
    },
    {
     "data": {
      "text/html": [
       " View sweep at <a href='https://wandb.ai/nar8991-new-york-university/SNN_test_optimize/sweeps/kg3cw864' target=\"_blank\">https://wandb.ai/nar8991-new-york-university/SNN_test_optimize/sweeps/kg3cw864</a>"
      ],
      "text/plain": [
       "<IPython.core.display.HTML object>"
      ]
     },
     "metadata": {},
     "output_type": "display_data"
    },
    {
     "data": {
      "text/html": [
       " View run at <a href='https://wandb.ai/nar8991-new-york-university/SNN_test_optimize/runs/o88mf586' target=\"_blank\">https://wandb.ai/nar8991-new-york-university/SNN_test_optimize/runs/o88mf586</a>"
      ],
      "text/plain": [
       "<IPython.core.display.HTML object>"
      ]
     },
     "metadata": {},
     "output_type": "display_data"
    },
    {
     "name": "stderr",
     "output_type": "stream",
     "text": [
      "/var/folders/7b/0zqwym191dq_5jvhhbf5lfgr0000gn/T/ipykernel_69979/3981686502.py:11: UserWarning: To copy construct from a tensor, it is recommended to use sourceTensor.clone().detach() or sourceTensor.clone().detach().requires_grad_(True), rather than torch.tensor(sourceTensor).\n",
      "  data_tensor = torch.tensor(x_data, dtype=torch.float32)\n"
     ]
    },
    {
     "name": "stdout",
     "output_type": "stream",
     "text": [
      "init done\n",
      "Final Train Accuracy: 100.00%\n",
      "Final Validation Accuracy: 100.00%\n",
      "Final Test Accuracy: 100.00%\n"
     ]
    },
    {
     "data": {
      "text/html": [],
      "text/plain": [
       "<IPython.core.display.HTML object>"
      ]
     },
     "metadata": {},
     "output_type": "display_data"
    },
    {
     "data": {
      "text/html": [
       "<br>    <style><br>        .wandb-row {<br>            display: flex;<br>            flex-direction: row;<br>            flex-wrap: wrap;<br>            justify-content: flex-start;<br>            width: 100%;<br>        }<br>        .wandb-col {<br>            display: flex;<br>            flex-direction: column;<br>            flex-basis: 100%;<br>            flex: 1;<br>            padding: 10px;<br>        }<br>    </style><br><div class=\"wandb-row\"><div class=\"wandb-col\"><h3>Run history:</h3><br/><table class=\"wandb\"><tr><td>epoch</td><td>▁▁▁▁▂▂▂▂▂▂▂▃▃▃▃▃▃▄▄▄▄▅▅▅▅▆▆▆▆▆▆▇▇▇▇▇▇▇██</td></tr><tr><td>final_test_accuracy</td><td>▁</td></tr><tr><td>final_train_accuracy</td><td>▁</td></tr><tr><td>final_val_accuracy</td><td>▁</td></tr><tr><td>train_loss</td><td>█▇▆▆▅▄▃▃▃▃▂▁▁▁▁▁▁▁▁▁▁▁▁▁▁▁▁▁▁▁▁▁▁▁▁▁▁▁▁▁</td></tr><tr><td>val_accuracy</td><td>▁▃▄▅▅▅▅▇▇▇▇▇▇▇██████████████████████████</td></tr><tr><td>val_loss</td><td>██▇▇▇▇▆▆▆▆▅▄▄▃▃▂▂▂▁▁▁▁▁▁▁▁▁▁▁▁▁▁▁▁▁▁▁▁▁▁</td></tr></table><br/></div><div class=\"wandb-col\"><h3>Run summary:</h3><br/><table class=\"wandb\"><tr><td>epoch</td><td>149</td></tr><tr><td>final_test_accuracy</td><td>1</td></tr><tr><td>final_train_accuracy</td><td>1</td></tr><tr><td>final_val_accuracy</td><td>1</td></tr><tr><td>train_loss</td><td>0.00268</td></tr><tr><td>val_accuracy</td><td>1</td></tr><tr><td>val_loss</td><td>0.0036</td></tr></table><br/></div></div>"
      ],
      "text/plain": [
       "<IPython.core.display.HTML object>"
      ]
     },
     "metadata": {},
     "output_type": "display_data"
    },
    {
     "data": {
      "text/html": [
       " View run <strong style=\"color:#cdcd00\">RNN_with_LIF_output-l1_1e-06-l2_1e-05</strong> at: <a href='https://wandb.ai/nar8991-new-york-university/SNN_test_optimize/runs/o88mf586' target=\"_blank\">https://wandb.ai/nar8991-new-york-university/SNN_test_optimize/runs/o88mf586</a><br> View project at: <a href='https://wandb.ai/nar8991-new-york-university/SNN_test_optimize' target=\"_blank\">https://wandb.ai/nar8991-new-york-university/SNN_test_optimize</a><br>Synced 5 W&B file(s), 0 media file(s), 0 artifact file(s) and 0 other file(s)"
      ],
      "text/plain": [
       "<IPython.core.display.HTML object>"
      ]
     },
     "metadata": {},
     "output_type": "display_data"
    },
    {
     "data": {
      "text/html": [
       "Find logs at: <code>./wandb/run-20250417_110453-o88mf586/logs</code>"
      ],
      "text/plain": [
       "<IPython.core.display.HTML object>"
      ]
     },
     "metadata": {},
     "output_type": "display_data"
    },
    {
     "name": "stderr",
     "output_type": "stream",
     "text": [
      "\u001b[34m\u001b[1mwandb\u001b[0m: Agent Starting Run: hl4bvm6e with config:\n",
      "\u001b[34m\u001b[1mwandb\u001b[0m: \tepochs: 150\n",
      "\u001b[34m\u001b[1mwandb\u001b[0m: \tl1: 5e-06\n",
      "\u001b[34m\u001b[1mwandb\u001b[0m: \tl2: 1e-06\n",
      "\u001b[34m\u001b[1mwandb\u001b[0m: \tlearning_rate: 0.002\n",
      "\u001b[34m\u001b[1mwandb\u001b[0m: \tmodel_name: RNN_with_LIF_output\n",
      "\u001b[34m\u001b[1mwandb\u001b[0m: \toptimizer: Adam\n",
      "\u001b[34m\u001b[1mwandb\u001b[0m: \tregularization: True\n"
     ]
    },
    {
     "data": {
      "text/html": [
       "Ignoring project 'SNN_test_optimize' when running a sweep."
      ],
      "text/plain": [
       "<IPython.core.display.HTML object>"
      ]
     },
     "metadata": {},
     "output_type": "display_data"
    },
    {
     "data": {
      "text/html": [
       "Tracking run with wandb version 0.19.9"
      ],
      "text/plain": [
       "<IPython.core.display.HTML object>"
      ]
     },
     "metadata": {},
     "output_type": "display_data"
    },
    {
     "data": {
      "text/html": [
       "Run data is saved locally in <code>/Users/naliniramanathan/projects/snn_project/spytorch/notebooks/wandb/run-20250417_110534-hl4bvm6e</code>"
      ],
      "text/plain": [
       "<IPython.core.display.HTML object>"
      ]
     },
     "metadata": {},
     "output_type": "display_data"
    },
    {
     "data": {
      "text/html": [
       "Syncing run <strong><a href='https://wandb.ai/nar8991-new-york-university/SNN_test_optimize/runs/hl4bvm6e' target=\"_blank\">noble-sweep-4</a></strong> to <a href='https://wandb.ai/nar8991-new-york-university/SNN_test_optimize' target=\"_blank\">Weights & Biases</a> (<a href='https://wandb.me/developer-guide' target=\"_blank\">docs</a>)<br>Sweep page: <a href='https://wandb.ai/nar8991-new-york-university/SNN_test_optimize/sweeps/kg3cw864' target=\"_blank\">https://wandb.ai/nar8991-new-york-university/SNN_test_optimize/sweeps/kg3cw864</a>"
      ],
      "text/plain": [
       "<IPython.core.display.HTML object>"
      ]
     },
     "metadata": {},
     "output_type": "display_data"
    },
    {
     "data": {
      "text/html": [
       " View project at <a href='https://wandb.ai/nar8991-new-york-university/SNN_test_optimize' target=\"_blank\">https://wandb.ai/nar8991-new-york-university/SNN_test_optimize</a>"
      ],
      "text/plain": [
       "<IPython.core.display.HTML object>"
      ]
     },
     "metadata": {},
     "output_type": "display_data"
    },
    {
     "data": {
      "text/html": [
       " View sweep at <a href='https://wandb.ai/nar8991-new-york-university/SNN_test_optimize/sweeps/kg3cw864' target=\"_blank\">https://wandb.ai/nar8991-new-york-university/SNN_test_optimize/sweeps/kg3cw864</a>"
      ],
      "text/plain": [
       "<IPython.core.display.HTML object>"
      ]
     },
     "metadata": {},
     "output_type": "display_data"
    },
    {
     "data": {
      "text/html": [
       " View run at <a href='https://wandb.ai/nar8991-new-york-university/SNN_test_optimize/runs/hl4bvm6e' target=\"_blank\">https://wandb.ai/nar8991-new-york-university/SNN_test_optimize/runs/hl4bvm6e</a>"
      ],
      "text/plain": [
       "<IPython.core.display.HTML object>"
      ]
     },
     "metadata": {},
     "output_type": "display_data"
    },
    {
     "name": "stderr",
     "output_type": "stream",
     "text": [
      "/var/folders/7b/0zqwym191dq_5jvhhbf5lfgr0000gn/T/ipykernel_69979/3981686502.py:11: UserWarning: To copy construct from a tensor, it is recommended to use sourceTensor.clone().detach() or sourceTensor.clone().detach().requires_grad_(True), rather than torch.tensor(sourceTensor).\n",
      "  data_tensor = torch.tensor(x_data, dtype=torch.float32)\n"
     ]
    },
    {
     "name": "stdout",
     "output_type": "stream",
     "text": [
      "init done\n",
      "Final Train Accuracy: 100.00%\n",
      "Final Validation Accuracy: 100.00%\n",
      "Final Test Accuracy: 100.00%\n"
     ]
    },
    {
     "data": {
      "text/html": [],
      "text/plain": [
       "<IPython.core.display.HTML object>"
      ]
     },
     "metadata": {},
     "output_type": "display_data"
    },
    {
     "data": {
      "text/html": [
       "<br>    <style><br>        .wandb-row {<br>            display: flex;<br>            flex-direction: row;<br>            flex-wrap: wrap;<br>            justify-content: flex-start;<br>            width: 100%;<br>        }<br>        .wandb-col {<br>            display: flex;<br>            flex-direction: column;<br>            flex-basis: 100%;<br>            flex: 1;<br>            padding: 10px;<br>        }<br>    </style><br><div class=\"wandb-row\"><div class=\"wandb-col\"><h3>Run history:</h3><br/><table class=\"wandb\"><tr><td>epoch</td><td>▁▁▁▁▂▃▃▃▃▃▄▄▄▄▄▄▄▄▄▅▅▅▅▅▆▆▆▆▆▆▇▇▇▇▇▇████</td></tr><tr><td>final_test_accuracy</td><td>▁</td></tr><tr><td>final_train_accuracy</td><td>▁</td></tr><tr><td>final_val_accuracy</td><td>▁</td></tr><tr><td>train_loss</td><td>██▇▇▇▆▆▅▅▅▄▃▃▃▃▂▂▂▂▁▁▁▁▁▁▁▁▁▁▁▁▁▁▁▁▁▁▁▁▁</td></tr><tr><td>val_accuracy</td><td>▁▂▃▃▄▆▆▇▇▇▇▇▇▇▇█████████████████████████</td></tr><tr><td>val_loss</td><td>█▇▇▆▆▆▆▆▅▄▄▃▃▃▃▂▂▂▂▁▁▁▁▁▁▁▁▁▁▁▁▁▁▁▁▁▁▁▁▁</td></tr></table><br/></div><div class=\"wandb-col\"><h3>Run summary:</h3><br/><table class=\"wandb\"><tr><td>epoch</td><td>149</td></tr><tr><td>final_test_accuracy</td><td>1</td></tr><tr><td>final_train_accuracy</td><td>1</td></tr><tr><td>final_val_accuracy</td><td>1</td></tr><tr><td>train_loss</td><td>0.00171</td></tr><tr><td>val_accuracy</td><td>1</td></tr><tr><td>val_loss</td><td>0.00274</td></tr></table><br/></div></div>"
      ],
      "text/plain": [
       "<IPython.core.display.HTML object>"
      ]
     },
     "metadata": {},
     "output_type": "display_data"
    },
    {
     "data": {
      "text/html": [
       " View run <strong style=\"color:#cdcd00\">RNN_with_LIF_output-l1_5e-06-l2_1e-06</strong> at: <a href='https://wandb.ai/nar8991-new-york-university/SNN_test_optimize/runs/hl4bvm6e' target=\"_blank\">https://wandb.ai/nar8991-new-york-university/SNN_test_optimize/runs/hl4bvm6e</a><br> View project at: <a href='https://wandb.ai/nar8991-new-york-university/SNN_test_optimize' target=\"_blank\">https://wandb.ai/nar8991-new-york-university/SNN_test_optimize</a><br>Synced 5 W&B file(s), 0 media file(s), 0 artifact file(s) and 0 other file(s)"
      ],
      "text/plain": [
       "<IPython.core.display.HTML object>"
      ]
     },
     "metadata": {},
     "output_type": "display_data"
    },
    {
     "data": {
      "text/html": [
       "Find logs at: <code>./wandb/run-20250417_110534-hl4bvm6e/logs</code>"
      ],
      "text/plain": [
       "<IPython.core.display.HTML object>"
      ]
     },
     "metadata": {},
     "output_type": "display_data"
    },
    {
     "name": "stderr",
     "output_type": "stream",
     "text": [
      "\u001b[34m\u001b[1mwandb\u001b[0m: Agent Starting Run: p46koda6 with config:\n",
      "\u001b[34m\u001b[1mwandb\u001b[0m: \tepochs: 150\n",
      "\u001b[34m\u001b[1mwandb\u001b[0m: \tl1: 5e-06\n",
      "\u001b[34m\u001b[1mwandb\u001b[0m: \tl2: 5e-06\n",
      "\u001b[34m\u001b[1mwandb\u001b[0m: \tlearning_rate: 0.002\n",
      "\u001b[34m\u001b[1mwandb\u001b[0m: \tmodel_name: RNN_with_LIF_output\n",
      "\u001b[34m\u001b[1mwandb\u001b[0m: \toptimizer: Adam\n",
      "\u001b[34m\u001b[1mwandb\u001b[0m: \tregularization: True\n"
     ]
    },
    {
     "data": {
      "text/html": [
       "Ignoring project 'SNN_test_optimize' when running a sweep."
      ],
      "text/plain": [
       "<IPython.core.display.HTML object>"
      ]
     },
     "metadata": {},
     "output_type": "display_data"
    },
    {
     "data": {
      "text/html": [
       "Tracking run with wandb version 0.19.9"
      ],
      "text/plain": [
       "<IPython.core.display.HTML object>"
      ]
     },
     "metadata": {},
     "output_type": "display_data"
    },
    {
     "data": {
      "text/html": [
       "Run data is saved locally in <code>/Users/naliniramanathan/projects/snn_project/spytorch/notebooks/wandb/run-20250417_110614-p46koda6</code>"
      ],
      "text/plain": [
       "<IPython.core.display.HTML object>"
      ]
     },
     "metadata": {},
     "output_type": "display_data"
    },
    {
     "data": {
      "text/html": [
       "Syncing run <strong><a href='https://wandb.ai/nar8991-new-york-university/SNN_test_optimize/runs/p46koda6' target=\"_blank\">ancient-sweep-5</a></strong> to <a href='https://wandb.ai/nar8991-new-york-university/SNN_test_optimize' target=\"_blank\">Weights & Biases</a> (<a href='https://wandb.me/developer-guide' target=\"_blank\">docs</a>)<br>Sweep page: <a href='https://wandb.ai/nar8991-new-york-university/SNN_test_optimize/sweeps/kg3cw864' target=\"_blank\">https://wandb.ai/nar8991-new-york-university/SNN_test_optimize/sweeps/kg3cw864</a>"
      ],
      "text/plain": [
       "<IPython.core.display.HTML object>"
      ]
     },
     "metadata": {},
     "output_type": "display_data"
    },
    {
     "data": {
      "text/html": [
       " View project at <a href='https://wandb.ai/nar8991-new-york-university/SNN_test_optimize' target=\"_blank\">https://wandb.ai/nar8991-new-york-university/SNN_test_optimize</a>"
      ],
      "text/plain": [
       "<IPython.core.display.HTML object>"
      ]
     },
     "metadata": {},
     "output_type": "display_data"
    },
    {
     "data": {
      "text/html": [
       " View sweep at <a href='https://wandb.ai/nar8991-new-york-university/SNN_test_optimize/sweeps/kg3cw864' target=\"_blank\">https://wandb.ai/nar8991-new-york-university/SNN_test_optimize/sweeps/kg3cw864</a>"
      ],
      "text/plain": [
       "<IPython.core.display.HTML object>"
      ]
     },
     "metadata": {},
     "output_type": "display_data"
    },
    {
     "data": {
      "text/html": [
       " View run at <a href='https://wandb.ai/nar8991-new-york-university/SNN_test_optimize/runs/p46koda6' target=\"_blank\">https://wandb.ai/nar8991-new-york-university/SNN_test_optimize/runs/p46koda6</a>"
      ],
      "text/plain": [
       "<IPython.core.display.HTML object>"
      ]
     },
     "metadata": {},
     "output_type": "display_data"
    },
    {
     "name": "stderr",
     "output_type": "stream",
     "text": [
      "/var/folders/7b/0zqwym191dq_5jvhhbf5lfgr0000gn/T/ipykernel_69979/3981686502.py:11: UserWarning: To copy construct from a tensor, it is recommended to use sourceTensor.clone().detach() or sourceTensor.clone().detach().requires_grad_(True), rather than torch.tensor(sourceTensor).\n",
      "  data_tensor = torch.tensor(x_data, dtype=torch.float32)\n"
     ]
    },
    {
     "name": "stdout",
     "output_type": "stream",
     "text": [
      "init done\n",
      "Final Train Accuracy: 100.00%\n",
      "Final Validation Accuracy: 100.00%\n",
      "Final Test Accuracy: 100.00%\n"
     ]
    },
    {
     "data": {
      "text/html": [],
      "text/plain": [
       "<IPython.core.display.HTML object>"
      ]
     },
     "metadata": {},
     "output_type": "display_data"
    },
    {
     "data": {
      "text/html": [
       "<br>    <style><br>        .wandb-row {<br>            display: flex;<br>            flex-direction: row;<br>            flex-wrap: wrap;<br>            justify-content: flex-start;<br>            width: 100%;<br>        }<br>        .wandb-col {<br>            display: flex;<br>            flex-direction: column;<br>            flex-basis: 100%;<br>            flex: 1;<br>            padding: 10px;<br>        }<br>    </style><br><div class=\"wandb-row\"><div class=\"wandb-col\"><h3>Run history:</h3><br/><table class=\"wandb\"><tr><td>epoch</td><td>▁▁▁▁▂▂▂▂▂▃▃▃▃▃▄▄▄▄▄▄▅▅▅▅▅▆▆▆▆▆▆▇▇▇▇▇████</td></tr><tr><td>final_test_accuracy</td><td>▁</td></tr><tr><td>final_train_accuracy</td><td>▁</td></tr><tr><td>final_val_accuracy</td><td>▁</td></tr><tr><td>train_loss</td><td>█▆▆▆▅▅▅▅▄▄▃▃▃▂▂▁▁▁▁▁▁▁▁▁▁▁▁▁▁▁▁▁▁▁▁▁▁▁▁▁</td></tr><tr><td>val_accuracy</td><td>▁▂▂▃▄▄▆▆▇▇▇▇▇▇▇█████████████████████████</td></tr><tr><td>val_loss</td><td>█▇▆▆▆▆▆▅▅▅▄▄▄▄▃▂▂▂▂▁▁▁▁▁▁▁▁▁▁▁▁▁▁▁▁▁▁▁▁▁</td></tr></table><br/></div><div class=\"wandb-col\"><h3>Run summary:</h3><br/><table class=\"wandb\"><tr><td>epoch</td><td>149</td></tr><tr><td>final_test_accuracy</td><td>1</td></tr><tr><td>final_train_accuracy</td><td>1</td></tr><tr><td>final_val_accuracy</td><td>1</td></tr><tr><td>train_loss</td><td>0.00207</td></tr><tr><td>val_accuracy</td><td>1</td></tr><tr><td>val_loss</td><td>0.00263</td></tr></table><br/></div></div>"
      ],
      "text/plain": [
       "<IPython.core.display.HTML object>"
      ]
     },
     "metadata": {},
     "output_type": "display_data"
    },
    {
     "data": {
      "text/html": [
       " View run <strong style=\"color:#cdcd00\">RNN_with_LIF_output-l1_5e-06-l2_5e-06</strong> at: <a href='https://wandb.ai/nar8991-new-york-university/SNN_test_optimize/runs/p46koda6' target=\"_blank\">https://wandb.ai/nar8991-new-york-university/SNN_test_optimize/runs/p46koda6</a><br> View project at: <a href='https://wandb.ai/nar8991-new-york-university/SNN_test_optimize' target=\"_blank\">https://wandb.ai/nar8991-new-york-university/SNN_test_optimize</a><br>Synced 5 W&B file(s), 0 media file(s), 0 artifact file(s) and 0 other file(s)"
      ],
      "text/plain": [
       "<IPython.core.display.HTML object>"
      ]
     },
     "metadata": {},
     "output_type": "display_data"
    },
    {
     "data": {
      "text/html": [
       "Find logs at: <code>./wandb/run-20250417_110614-p46koda6/logs</code>"
      ],
      "text/plain": [
       "<IPython.core.display.HTML object>"
      ]
     },
     "metadata": {},
     "output_type": "display_data"
    },
    {
     "name": "stderr",
     "output_type": "stream",
     "text": [
      "\u001b[34m\u001b[1mwandb\u001b[0m: Agent Starting Run: nvx8718e with config:\n",
      "\u001b[34m\u001b[1mwandb\u001b[0m: \tepochs: 150\n",
      "\u001b[34m\u001b[1mwandb\u001b[0m: \tl1: 5e-06\n",
      "\u001b[34m\u001b[1mwandb\u001b[0m: \tl2: 1e-05\n",
      "\u001b[34m\u001b[1mwandb\u001b[0m: \tlearning_rate: 0.002\n",
      "\u001b[34m\u001b[1mwandb\u001b[0m: \tmodel_name: RNN_with_LIF_output\n",
      "\u001b[34m\u001b[1mwandb\u001b[0m: \toptimizer: Adam\n",
      "\u001b[34m\u001b[1mwandb\u001b[0m: \tregularization: True\n"
     ]
    },
    {
     "data": {
      "text/html": [
       "Ignoring project 'SNN_test_optimize' when running a sweep."
      ],
      "text/plain": [
       "<IPython.core.display.HTML object>"
      ]
     },
     "metadata": {},
     "output_type": "display_data"
    },
    {
     "data": {
      "text/html": [
       "Tracking run with wandb version 0.19.9"
      ],
      "text/plain": [
       "<IPython.core.display.HTML object>"
      ]
     },
     "metadata": {},
     "output_type": "display_data"
    },
    {
     "data": {
      "text/html": [
       "Run data is saved locally in <code>/Users/naliniramanathan/projects/snn_project/spytorch/notebooks/wandb/run-20250417_110655-nvx8718e</code>"
      ],
      "text/plain": [
       "<IPython.core.display.HTML object>"
      ]
     },
     "metadata": {},
     "output_type": "display_data"
    },
    {
     "data": {
      "text/html": [
       "Syncing run <strong><a href='https://wandb.ai/nar8991-new-york-university/SNN_test_optimize/runs/nvx8718e' target=\"_blank\">generous-sweep-6</a></strong> to <a href='https://wandb.ai/nar8991-new-york-university/SNN_test_optimize' target=\"_blank\">Weights & Biases</a> (<a href='https://wandb.me/developer-guide' target=\"_blank\">docs</a>)<br>Sweep page: <a href='https://wandb.ai/nar8991-new-york-university/SNN_test_optimize/sweeps/kg3cw864' target=\"_blank\">https://wandb.ai/nar8991-new-york-university/SNN_test_optimize/sweeps/kg3cw864</a>"
      ],
      "text/plain": [
       "<IPython.core.display.HTML object>"
      ]
     },
     "metadata": {},
     "output_type": "display_data"
    },
    {
     "data": {
      "text/html": [
       " View project at <a href='https://wandb.ai/nar8991-new-york-university/SNN_test_optimize' target=\"_blank\">https://wandb.ai/nar8991-new-york-university/SNN_test_optimize</a>"
      ],
      "text/plain": [
       "<IPython.core.display.HTML object>"
      ]
     },
     "metadata": {},
     "output_type": "display_data"
    },
    {
     "data": {
      "text/html": [
       " View sweep at <a href='https://wandb.ai/nar8991-new-york-university/SNN_test_optimize/sweeps/kg3cw864' target=\"_blank\">https://wandb.ai/nar8991-new-york-university/SNN_test_optimize/sweeps/kg3cw864</a>"
      ],
      "text/plain": [
       "<IPython.core.display.HTML object>"
      ]
     },
     "metadata": {},
     "output_type": "display_data"
    },
    {
     "data": {
      "text/html": [
       " View run at <a href='https://wandb.ai/nar8991-new-york-university/SNN_test_optimize/runs/nvx8718e' target=\"_blank\">https://wandb.ai/nar8991-new-york-university/SNN_test_optimize/runs/nvx8718e</a>"
      ],
      "text/plain": [
       "<IPython.core.display.HTML object>"
      ]
     },
     "metadata": {},
     "output_type": "display_data"
    },
    {
     "name": "stderr",
     "output_type": "stream",
     "text": [
      "/var/folders/7b/0zqwym191dq_5jvhhbf5lfgr0000gn/T/ipykernel_69979/3981686502.py:11: UserWarning: To copy construct from a tensor, it is recommended to use sourceTensor.clone().detach() or sourceTensor.clone().detach().requires_grad_(True), rather than torch.tensor(sourceTensor).\n",
      "  data_tensor = torch.tensor(x_data, dtype=torch.float32)\n"
     ]
    },
    {
     "name": "stdout",
     "output_type": "stream",
     "text": [
      "init done\n",
      "Final Train Accuracy: 100.00%\n",
      "Final Validation Accuracy: 100.00%\n",
      "Final Test Accuracy: 100.00%\n"
     ]
    },
    {
     "data": {
      "text/html": [],
      "text/plain": [
       "<IPython.core.display.HTML object>"
      ]
     },
     "metadata": {},
     "output_type": "display_data"
    },
    {
     "data": {
      "text/html": [
       "<br>    <style><br>        .wandb-row {<br>            display: flex;<br>            flex-direction: row;<br>            flex-wrap: wrap;<br>            justify-content: flex-start;<br>            width: 100%;<br>        }<br>        .wandb-col {<br>            display: flex;<br>            flex-direction: column;<br>            flex-basis: 100%;<br>            flex: 1;<br>            padding: 10px;<br>        }<br>    </style><br><div class=\"wandb-row\"><div class=\"wandb-col\"><h3>Run history:</h3><br/><table class=\"wandb\"><tr><td>epoch</td><td>▁▁▁▁▂▂▂▂▂▂▃▃▃▃▃▃▃▃▄▄▄▄▄▄▅▅▅▅▆▆▆▆▆▇▇▇▇▇██</td></tr><tr><td>final_test_accuracy</td><td>▁</td></tr><tr><td>final_train_accuracy</td><td>▁</td></tr><tr><td>final_val_accuracy</td><td>▁</td></tr><tr><td>train_loss</td><td>█▇▆▆▆▅▃▃▃▃▂▂▂▁▁▁▁▁▁▁▁▁▁▁▁▁▁▁▁▁▁▁▁▁▁▁▁▁▁▁</td></tr><tr><td>val_accuracy</td><td>▁▃▃▄▄▅▆▇▇▇▇▇▇▇▇█████████████████████████</td></tr><tr><td>val_loss</td><td>█▇▇▇▇▇▆▆▅▅▄▃▃▂▂▁▁▁▁▁▁▁▁▁▁▁▁▁▁▁▁▁▁▁▁▁▁▁▁▁</td></tr></table><br/></div><div class=\"wandb-col\"><h3>Run summary:</h3><br/><table class=\"wandb\"><tr><td>epoch</td><td>149</td></tr><tr><td>final_test_accuracy</td><td>1</td></tr><tr><td>final_train_accuracy</td><td>1</td></tr><tr><td>final_val_accuracy</td><td>1</td></tr><tr><td>train_loss</td><td>0.00249</td></tr><tr><td>val_accuracy</td><td>1</td></tr><tr><td>val_loss</td><td>0.00405</td></tr></table><br/></div></div>"
      ],
      "text/plain": [
       "<IPython.core.display.HTML object>"
      ]
     },
     "metadata": {},
     "output_type": "display_data"
    },
    {
     "data": {
      "text/html": [
       " View run <strong style=\"color:#cdcd00\">RNN_with_LIF_output-l1_5e-06-l2_1e-05</strong> at: <a href='https://wandb.ai/nar8991-new-york-university/SNN_test_optimize/runs/nvx8718e' target=\"_blank\">https://wandb.ai/nar8991-new-york-university/SNN_test_optimize/runs/nvx8718e</a><br> View project at: <a href='https://wandb.ai/nar8991-new-york-university/SNN_test_optimize' target=\"_blank\">https://wandb.ai/nar8991-new-york-university/SNN_test_optimize</a><br>Synced 5 W&B file(s), 0 media file(s), 0 artifact file(s) and 0 other file(s)"
      ],
      "text/plain": [
       "<IPython.core.display.HTML object>"
      ]
     },
     "metadata": {},
     "output_type": "display_data"
    },
    {
     "data": {
      "text/html": [
       "Find logs at: <code>./wandb/run-20250417_110655-nvx8718e/logs</code>"
      ],
      "text/plain": [
       "<IPython.core.display.HTML object>"
      ]
     },
     "metadata": {},
     "output_type": "display_data"
    },
    {
     "name": "stderr",
     "output_type": "stream",
     "text": [
      "\u001b[34m\u001b[1mwandb\u001b[0m: Agent Starting Run: rscn8si2 with config:\n",
      "\u001b[34m\u001b[1mwandb\u001b[0m: \tepochs: 150\n",
      "\u001b[34m\u001b[1mwandb\u001b[0m: \tl1: 1e-05\n",
      "\u001b[34m\u001b[1mwandb\u001b[0m: \tl2: 1e-06\n",
      "\u001b[34m\u001b[1mwandb\u001b[0m: \tlearning_rate: 0.002\n",
      "\u001b[34m\u001b[1mwandb\u001b[0m: \tmodel_name: RNN_with_LIF_output\n",
      "\u001b[34m\u001b[1mwandb\u001b[0m: \toptimizer: Adam\n",
      "\u001b[34m\u001b[1mwandb\u001b[0m: \tregularization: True\n"
     ]
    },
    {
     "data": {
      "text/html": [
       "Ignoring project 'SNN_test_optimize' when running a sweep."
      ],
      "text/plain": [
       "<IPython.core.display.HTML object>"
      ]
     },
     "metadata": {},
     "output_type": "display_data"
    },
    {
     "data": {
      "text/html": [
       "Tracking run with wandb version 0.19.9"
      ],
      "text/plain": [
       "<IPython.core.display.HTML object>"
      ]
     },
     "metadata": {},
     "output_type": "display_data"
    },
    {
     "data": {
      "text/html": [
       "Run data is saved locally in <code>/Users/naliniramanathan/projects/snn_project/spytorch/notebooks/wandb/run-20250417_110737-rscn8si2</code>"
      ],
      "text/plain": [
       "<IPython.core.display.HTML object>"
      ]
     },
     "metadata": {},
     "output_type": "display_data"
    },
    {
     "data": {
      "text/html": [
       "Syncing run <strong><a href='https://wandb.ai/nar8991-new-york-university/SNN_test_optimize/runs/rscn8si2' target=\"_blank\">lunar-sweep-7</a></strong> to <a href='https://wandb.ai/nar8991-new-york-university/SNN_test_optimize' target=\"_blank\">Weights & Biases</a> (<a href='https://wandb.me/developer-guide' target=\"_blank\">docs</a>)<br>Sweep page: <a href='https://wandb.ai/nar8991-new-york-university/SNN_test_optimize/sweeps/kg3cw864' target=\"_blank\">https://wandb.ai/nar8991-new-york-university/SNN_test_optimize/sweeps/kg3cw864</a>"
      ],
      "text/plain": [
       "<IPython.core.display.HTML object>"
      ]
     },
     "metadata": {},
     "output_type": "display_data"
    },
    {
     "data": {
      "text/html": [
       " View project at <a href='https://wandb.ai/nar8991-new-york-university/SNN_test_optimize' target=\"_blank\">https://wandb.ai/nar8991-new-york-university/SNN_test_optimize</a>"
      ],
      "text/plain": [
       "<IPython.core.display.HTML object>"
      ]
     },
     "metadata": {},
     "output_type": "display_data"
    },
    {
     "data": {
      "text/html": [
       " View sweep at <a href='https://wandb.ai/nar8991-new-york-university/SNN_test_optimize/sweeps/kg3cw864' target=\"_blank\">https://wandb.ai/nar8991-new-york-university/SNN_test_optimize/sweeps/kg3cw864</a>"
      ],
      "text/plain": [
       "<IPython.core.display.HTML object>"
      ]
     },
     "metadata": {},
     "output_type": "display_data"
    },
    {
     "data": {
      "text/html": [
       " View run at <a href='https://wandb.ai/nar8991-new-york-university/SNN_test_optimize/runs/rscn8si2' target=\"_blank\">https://wandb.ai/nar8991-new-york-university/SNN_test_optimize/runs/rscn8si2</a>"
      ],
      "text/plain": [
       "<IPython.core.display.HTML object>"
      ]
     },
     "metadata": {},
     "output_type": "display_data"
    },
    {
     "name": "stderr",
     "output_type": "stream",
     "text": [
      "/var/folders/7b/0zqwym191dq_5jvhhbf5lfgr0000gn/T/ipykernel_69979/3981686502.py:11: UserWarning: To copy construct from a tensor, it is recommended to use sourceTensor.clone().detach() or sourceTensor.clone().detach().requires_grad_(True), rather than torch.tensor(sourceTensor).\n",
      "  data_tensor = torch.tensor(x_data, dtype=torch.float32)\n"
     ]
    },
    {
     "name": "stdout",
     "output_type": "stream",
     "text": [
      "init done\n",
      "Final Train Accuracy: 100.00%\n",
      "Final Validation Accuracy: 100.00%\n",
      "Final Test Accuracy: 100.00%\n"
     ]
    },
    {
     "data": {
      "text/html": [],
      "text/plain": [
       "<IPython.core.display.HTML object>"
      ]
     },
     "metadata": {},
     "output_type": "display_data"
    },
    {
     "data": {
      "text/html": [
       "<br>    <style><br>        .wandb-row {<br>            display: flex;<br>            flex-direction: row;<br>            flex-wrap: wrap;<br>            justify-content: flex-start;<br>            width: 100%;<br>        }<br>        .wandb-col {<br>            display: flex;<br>            flex-direction: column;<br>            flex-basis: 100%;<br>            flex: 1;<br>            padding: 10px;<br>        }<br>    </style><br><div class=\"wandb-row\"><div class=\"wandb-col\"><h3>Run history:</h3><br/><table class=\"wandb\"><tr><td>epoch</td><td>▁▁▁▁▂▂▂▂▂▂▃▃▃▃▃▃▃▃▄▄▄▅▅▅▅▅▅▅▅▆▆▆▆▆▇▇▇███</td></tr><tr><td>final_test_accuracy</td><td>▁</td></tr><tr><td>final_train_accuracy</td><td>▁</td></tr><tr><td>final_val_accuracy</td><td>▁</td></tr><tr><td>train_loss</td><td>██▇▇▅▅▃▃▃▂▂▂▂▂▂▁▁▁▁▁▁▁▁▁▁▁▁▁▁▁▁▁▁▁▁▁▁▁▁▁</td></tr><tr><td>val_accuracy</td><td>▁▂▃▃▅▇▇▇▇▇▇▇▇▇▇█████████████████████████</td></tr><tr><td>val_loss</td><td>██▇▇▇▇▇▆▅▅▄▄▄▃▃▂▁▁▁▁▁▁▁▁▁▁▁▁▁▁▁▁▁▁▁▁▁▁▁▁</td></tr></table><br/></div><div class=\"wandb-col\"><h3>Run summary:</h3><br/><table class=\"wandb\"><tr><td>epoch</td><td>149</td></tr><tr><td>final_test_accuracy</td><td>1</td></tr><tr><td>final_train_accuracy</td><td>1</td></tr><tr><td>final_val_accuracy</td><td>1</td></tr><tr><td>train_loss</td><td>0.00163</td></tr><tr><td>val_accuracy</td><td>1</td></tr><tr><td>val_loss</td><td>0.00266</td></tr></table><br/></div></div>"
      ],
      "text/plain": [
       "<IPython.core.display.HTML object>"
      ]
     },
     "metadata": {},
     "output_type": "display_data"
    },
    {
     "data": {
      "text/html": [
       " View run <strong style=\"color:#cdcd00\">RNN_with_LIF_output-l1_1e-05-l2_1e-06</strong> at: <a href='https://wandb.ai/nar8991-new-york-university/SNN_test_optimize/runs/rscn8si2' target=\"_blank\">https://wandb.ai/nar8991-new-york-university/SNN_test_optimize/runs/rscn8si2</a><br> View project at: <a href='https://wandb.ai/nar8991-new-york-university/SNN_test_optimize' target=\"_blank\">https://wandb.ai/nar8991-new-york-university/SNN_test_optimize</a><br>Synced 5 W&B file(s), 0 media file(s), 0 artifact file(s) and 0 other file(s)"
      ],
      "text/plain": [
       "<IPython.core.display.HTML object>"
      ]
     },
     "metadata": {},
     "output_type": "display_data"
    },
    {
     "data": {
      "text/html": [
       "Find logs at: <code>./wandb/run-20250417_110737-rscn8si2/logs</code>"
      ],
      "text/plain": [
       "<IPython.core.display.HTML object>"
      ]
     },
     "metadata": {},
     "output_type": "display_data"
    },
    {
     "name": "stderr",
     "output_type": "stream",
     "text": [
      "\u001b[34m\u001b[1mwandb\u001b[0m: Agent Starting Run: mqogsuk3 with config:\n",
      "\u001b[34m\u001b[1mwandb\u001b[0m: \tepochs: 150\n",
      "\u001b[34m\u001b[1mwandb\u001b[0m: \tl1: 1e-05\n",
      "\u001b[34m\u001b[1mwandb\u001b[0m: \tl2: 5e-06\n",
      "\u001b[34m\u001b[1mwandb\u001b[0m: \tlearning_rate: 0.002\n",
      "\u001b[34m\u001b[1mwandb\u001b[0m: \tmodel_name: RNN_with_LIF_output\n",
      "\u001b[34m\u001b[1mwandb\u001b[0m: \toptimizer: Adam\n",
      "\u001b[34m\u001b[1mwandb\u001b[0m: \tregularization: True\n"
     ]
    },
    {
     "data": {
      "text/html": [
       "Ignoring project 'SNN_test_optimize' when running a sweep."
      ],
      "text/plain": [
       "<IPython.core.display.HTML object>"
      ]
     },
     "metadata": {},
     "output_type": "display_data"
    },
    {
     "data": {
      "text/html": [
       "Tracking run with wandb version 0.19.9"
      ],
      "text/plain": [
       "<IPython.core.display.HTML object>"
      ]
     },
     "metadata": {},
     "output_type": "display_data"
    },
    {
     "data": {
      "text/html": [
       "Run data is saved locally in <code>/Users/naliniramanathan/projects/snn_project/spytorch/notebooks/wandb/run-20250417_110817-mqogsuk3</code>"
      ],
      "text/plain": [
       "<IPython.core.display.HTML object>"
      ]
     },
     "metadata": {},
     "output_type": "display_data"
    },
    {
     "data": {
      "text/html": [
       "Syncing run <strong><a href='https://wandb.ai/nar8991-new-york-university/SNN_test_optimize/runs/mqogsuk3' target=\"_blank\">deep-sweep-8</a></strong> to <a href='https://wandb.ai/nar8991-new-york-university/SNN_test_optimize' target=\"_blank\">Weights & Biases</a> (<a href='https://wandb.me/developer-guide' target=\"_blank\">docs</a>)<br>Sweep page: <a href='https://wandb.ai/nar8991-new-york-university/SNN_test_optimize/sweeps/kg3cw864' target=\"_blank\">https://wandb.ai/nar8991-new-york-university/SNN_test_optimize/sweeps/kg3cw864</a>"
      ],
      "text/plain": [
       "<IPython.core.display.HTML object>"
      ]
     },
     "metadata": {},
     "output_type": "display_data"
    },
    {
     "data": {
      "text/html": [
       " View project at <a href='https://wandb.ai/nar8991-new-york-university/SNN_test_optimize' target=\"_blank\">https://wandb.ai/nar8991-new-york-university/SNN_test_optimize</a>"
      ],
      "text/plain": [
       "<IPython.core.display.HTML object>"
      ]
     },
     "metadata": {},
     "output_type": "display_data"
    },
    {
     "data": {
      "text/html": [
       " View sweep at <a href='https://wandb.ai/nar8991-new-york-university/SNN_test_optimize/sweeps/kg3cw864' target=\"_blank\">https://wandb.ai/nar8991-new-york-university/SNN_test_optimize/sweeps/kg3cw864</a>"
      ],
      "text/plain": [
       "<IPython.core.display.HTML object>"
      ]
     },
     "metadata": {},
     "output_type": "display_data"
    },
    {
     "data": {
      "text/html": [
       " View run at <a href='https://wandb.ai/nar8991-new-york-university/SNN_test_optimize/runs/mqogsuk3' target=\"_blank\">https://wandb.ai/nar8991-new-york-university/SNN_test_optimize/runs/mqogsuk3</a>"
      ],
      "text/plain": [
       "<IPython.core.display.HTML object>"
      ]
     },
     "metadata": {},
     "output_type": "display_data"
    },
    {
     "name": "stderr",
     "output_type": "stream",
     "text": [
      "/var/folders/7b/0zqwym191dq_5jvhhbf5lfgr0000gn/T/ipykernel_69979/3981686502.py:11: UserWarning: To copy construct from a tensor, it is recommended to use sourceTensor.clone().detach() or sourceTensor.clone().detach().requires_grad_(True), rather than torch.tensor(sourceTensor).\n",
      "  data_tensor = torch.tensor(x_data, dtype=torch.float32)\n"
     ]
    },
    {
     "name": "stdout",
     "output_type": "stream",
     "text": [
      "init done\n",
      "Final Train Accuracy: 100.00%\n",
      "Final Validation Accuracy: 100.00%\n",
      "Final Test Accuracy: 100.00%\n"
     ]
    },
    {
     "data": {
      "text/html": [],
      "text/plain": [
       "<IPython.core.display.HTML object>"
      ]
     },
     "metadata": {},
     "output_type": "display_data"
    },
    {
     "data": {
      "text/html": [
       "<br>    <style><br>        .wandb-row {<br>            display: flex;<br>            flex-direction: row;<br>            flex-wrap: wrap;<br>            justify-content: flex-start;<br>            width: 100%;<br>        }<br>        .wandb-col {<br>            display: flex;<br>            flex-direction: column;<br>            flex-basis: 100%;<br>            flex: 1;<br>            padding: 10px;<br>        }<br>    </style><br><div class=\"wandb-row\"><div class=\"wandb-col\"><h3>Run history:</h3><br/><table class=\"wandb\"><tr><td>epoch</td><td>▁▁▁▁▁▁▂▂▂▂▂▂▃▃▃▃▃▄▄▄▄▄▄▅▅▅▅▆▆▆▆▆▆▇▇▇▇███</td></tr><tr><td>final_test_accuracy</td><td>▁</td></tr><tr><td>final_train_accuracy</td><td>▁</td></tr><tr><td>final_val_accuracy</td><td>▁</td></tr><tr><td>train_loss</td><td>█▆▆▆▄▄▃▃▃▃▂▂▁▁▁▁▁▁▁▁▁▁▁▁▁▁▁▁▁▁▁▁▁▁▁▁▁▁▁▁</td></tr><tr><td>val_accuracy</td><td>▁▂▂▂▂▃▃▅▅▆▇▇▇▇▇█████████████████████████</td></tr><tr><td>val_loss</td><td>█▇▇▆▆▆▅▅▄▄▄▃▃▂▂▁▁▁▁▁▁▁▁▁▁▁▁▁▁▁▁▁▁▁▁▁▁▁▁▁</td></tr></table><br/></div><div class=\"wandb-col\"><h3>Run summary:</h3><br/><table class=\"wandb\"><tr><td>epoch</td><td>149</td></tr><tr><td>final_test_accuracy</td><td>1</td></tr><tr><td>final_train_accuracy</td><td>1</td></tr><tr><td>final_val_accuracy</td><td>1</td></tr><tr><td>train_loss</td><td>0.00223</td></tr><tr><td>val_accuracy</td><td>1</td></tr><tr><td>val_loss</td><td>0.00372</td></tr></table><br/></div></div>"
      ],
      "text/plain": [
       "<IPython.core.display.HTML object>"
      ]
     },
     "metadata": {},
     "output_type": "display_data"
    },
    {
     "data": {
      "text/html": [
       " View run <strong style=\"color:#cdcd00\">RNN_with_LIF_output-l1_1e-05-l2_5e-06</strong> at: <a href='https://wandb.ai/nar8991-new-york-university/SNN_test_optimize/runs/mqogsuk3' target=\"_blank\">https://wandb.ai/nar8991-new-york-university/SNN_test_optimize/runs/mqogsuk3</a><br> View project at: <a href='https://wandb.ai/nar8991-new-york-university/SNN_test_optimize' target=\"_blank\">https://wandb.ai/nar8991-new-york-university/SNN_test_optimize</a><br>Synced 5 W&B file(s), 0 media file(s), 0 artifact file(s) and 0 other file(s)"
      ],
      "text/plain": [
       "<IPython.core.display.HTML object>"
      ]
     },
     "metadata": {},
     "output_type": "display_data"
    },
    {
     "data": {
      "text/html": [
       "Find logs at: <code>./wandb/run-20250417_110817-mqogsuk3/logs</code>"
      ],
      "text/plain": [
       "<IPython.core.display.HTML object>"
      ]
     },
     "metadata": {},
     "output_type": "display_data"
    },
    {
     "name": "stderr",
     "output_type": "stream",
     "text": [
      "\u001b[34m\u001b[1mwandb\u001b[0m: Sweep Agent: Waiting for job.\n",
      "\u001b[34m\u001b[1mwandb\u001b[0m: Job received.\n",
      "\u001b[34m\u001b[1mwandb\u001b[0m: Agent Starting Run: mimrjmr9 with config:\n",
      "\u001b[34m\u001b[1mwandb\u001b[0m: \tepochs: 150\n",
      "\u001b[34m\u001b[1mwandb\u001b[0m: \tl1: 1e-05\n",
      "\u001b[34m\u001b[1mwandb\u001b[0m: \tl2: 1e-05\n",
      "\u001b[34m\u001b[1mwandb\u001b[0m: \tlearning_rate: 0.002\n",
      "\u001b[34m\u001b[1mwandb\u001b[0m: \tmodel_name: RNN_with_LIF_output\n",
      "\u001b[34m\u001b[1mwandb\u001b[0m: \toptimizer: Adam\n",
      "\u001b[34m\u001b[1mwandb\u001b[0m: \tregularization: True\n"
     ]
    },
    {
     "data": {
      "text/html": [
       "Ignoring project 'SNN_test_optimize' when running a sweep."
      ],
      "text/plain": [
       "<IPython.core.display.HTML object>"
      ]
     },
     "metadata": {},
     "output_type": "display_data"
    },
    {
     "data": {
      "text/html": [
       "Tracking run with wandb version 0.19.9"
      ],
      "text/plain": [
       "<IPython.core.display.HTML object>"
      ]
     },
     "metadata": {},
     "output_type": "display_data"
    },
    {
     "data": {
      "text/html": [
       "Run data is saved locally in <code>/Users/naliniramanathan/projects/snn_project/spytorch/notebooks/wandb/run-20250417_110904-mimrjmr9</code>"
      ],
      "text/plain": [
       "<IPython.core.display.HTML object>"
      ]
     },
     "metadata": {},
     "output_type": "display_data"
    },
    {
     "data": {
      "text/html": [
       "Syncing run <strong><a href='https://wandb.ai/nar8991-new-york-university/SNN_test_optimize/runs/mimrjmr9' target=\"_blank\">proud-sweep-9</a></strong> to <a href='https://wandb.ai/nar8991-new-york-university/SNN_test_optimize' target=\"_blank\">Weights & Biases</a> (<a href='https://wandb.me/developer-guide' target=\"_blank\">docs</a>)<br>Sweep page: <a href='https://wandb.ai/nar8991-new-york-university/SNN_test_optimize/sweeps/kg3cw864' target=\"_blank\">https://wandb.ai/nar8991-new-york-university/SNN_test_optimize/sweeps/kg3cw864</a>"
      ],
      "text/plain": [
       "<IPython.core.display.HTML object>"
      ]
     },
     "metadata": {},
     "output_type": "display_data"
    },
    {
     "data": {
      "text/html": [
       " View project at <a href='https://wandb.ai/nar8991-new-york-university/SNN_test_optimize' target=\"_blank\">https://wandb.ai/nar8991-new-york-university/SNN_test_optimize</a>"
      ],
      "text/plain": [
       "<IPython.core.display.HTML object>"
      ]
     },
     "metadata": {},
     "output_type": "display_data"
    },
    {
     "data": {
      "text/html": [
       " View sweep at <a href='https://wandb.ai/nar8991-new-york-university/SNN_test_optimize/sweeps/kg3cw864' target=\"_blank\">https://wandb.ai/nar8991-new-york-university/SNN_test_optimize/sweeps/kg3cw864</a>"
      ],
      "text/plain": [
       "<IPython.core.display.HTML object>"
      ]
     },
     "metadata": {},
     "output_type": "display_data"
    },
    {
     "data": {
      "text/html": [
       " View run at <a href='https://wandb.ai/nar8991-new-york-university/SNN_test_optimize/runs/mimrjmr9' target=\"_blank\">https://wandb.ai/nar8991-new-york-university/SNN_test_optimize/runs/mimrjmr9</a>"
      ],
      "text/plain": [
       "<IPython.core.display.HTML object>"
      ]
     },
     "metadata": {},
     "output_type": "display_data"
    },
    {
     "name": "stderr",
     "output_type": "stream",
     "text": [
      "/var/folders/7b/0zqwym191dq_5jvhhbf5lfgr0000gn/T/ipykernel_69979/3981686502.py:11: UserWarning: To copy construct from a tensor, it is recommended to use sourceTensor.clone().detach() or sourceTensor.clone().detach().requires_grad_(True), rather than torch.tensor(sourceTensor).\n",
      "  data_tensor = torch.tensor(x_data, dtype=torch.float32)\n"
     ]
    },
    {
     "name": "stdout",
     "output_type": "stream",
     "text": [
      "init done\n",
      "Final Train Accuracy: 100.00%\n",
      "Final Validation Accuracy: 100.00%\n",
      "Final Test Accuracy: 100.00%\n"
     ]
    },
    {
     "data": {
      "text/html": [],
      "text/plain": [
       "<IPython.core.display.HTML object>"
      ]
     },
     "metadata": {},
     "output_type": "display_data"
    },
    {
     "data": {
      "text/html": [
       "<br>    <style><br>        .wandb-row {<br>            display: flex;<br>            flex-direction: row;<br>            flex-wrap: wrap;<br>            justify-content: flex-start;<br>            width: 100%;<br>        }<br>        .wandb-col {<br>            display: flex;<br>            flex-direction: column;<br>            flex-basis: 100%;<br>            flex: 1;<br>            padding: 10px;<br>        }<br>    </style><br><div class=\"wandb-row\"><div class=\"wandb-col\"><h3>Run history:</h3><br/><table class=\"wandb\"><tr><td>epoch</td><td>▁▁▁▂▂▂▂▂▃▃▃▃▃▃▃▄▄▄▄▅▅▅▅▅▆▆▆▆▆▆▆▇▇▇▇▇▇▇██</td></tr><tr><td>final_test_accuracy</td><td>▁</td></tr><tr><td>final_train_accuracy</td><td>▁</td></tr><tr><td>final_val_accuracy</td><td>▁</td></tr><tr><td>train_loss</td><td>███▇▇▆▆▅▅▅▄▃▃▃▃▂▂▁▁▁▁▁▁▁▁▁▁▁▁▁▁▁▁▁▁▁▁▁▁▁</td></tr><tr><td>val_accuracy</td><td>▁▃▄▄▆▇▇▇▇▇██████████████████████████████</td></tr><tr><td>val_loss</td><td>█▆▆▆▆▆▅▅▄▄▃▃▂▂▂▁▁▁▁▁▁▁▁▁▁▁▁▁▁▁▁▁▁▁▁▁▁▁▁▁</td></tr></table><br/></div><div class=\"wandb-col\"><h3>Run summary:</h3><br/><table class=\"wandb\"><tr><td>epoch</td><td>149</td></tr><tr><td>final_test_accuracy</td><td>1</td></tr><tr><td>final_train_accuracy</td><td>1</td></tr><tr><td>final_val_accuracy</td><td>1</td></tr><tr><td>train_loss</td><td>0.00252</td></tr><tr><td>val_accuracy</td><td>1</td></tr><tr><td>val_loss</td><td>0.00349</td></tr></table><br/></div></div>"
      ],
      "text/plain": [
       "<IPython.core.display.HTML object>"
      ]
     },
     "metadata": {},
     "output_type": "display_data"
    },
    {
     "data": {
      "text/html": [
       " View run <strong style=\"color:#cdcd00\">RNN_with_LIF_output-l1_1e-05-l2_1e-05</strong> at: <a href='https://wandb.ai/nar8991-new-york-university/SNN_test_optimize/runs/mimrjmr9' target=\"_blank\">https://wandb.ai/nar8991-new-york-university/SNN_test_optimize/runs/mimrjmr9</a><br> View project at: <a href='https://wandb.ai/nar8991-new-york-university/SNN_test_optimize' target=\"_blank\">https://wandb.ai/nar8991-new-york-university/SNN_test_optimize</a><br>Synced 5 W&B file(s), 0 media file(s), 0 artifact file(s) and 0 other file(s)"
      ],
      "text/plain": [
       "<IPython.core.display.HTML object>"
      ]
     },
     "metadata": {},
     "output_type": "display_data"
    },
    {
     "data": {
      "text/html": [
       "Find logs at: <code>./wandb/run-20250417_110904-mimrjmr9/logs</code>"
      ],
      "text/plain": [
       "<IPython.core.display.HTML object>"
      ]
     },
     "metadata": {},
     "output_type": "display_data"
    },
    {
     "name": "stdout",
     "output_type": "stream",
     "text": [
      "Create sweep with ID: bcuwzlkb\n",
      "Sweep URL: https://wandb.ai/nar8991-new-york-university/SNN_test_optimize/sweeps/bcuwzlkb\n"
     ]
    },
    {
     "name": "stderr",
     "output_type": "stream",
     "text": [
      "\u001b[34m\u001b[1mwandb\u001b[0m: Agent Starting Run: xpgxpomh with config:\n",
      "\u001b[34m\u001b[1mwandb\u001b[0m: \tepochs: 150\n",
      "\u001b[34m\u001b[1mwandb\u001b[0m: \tl1: 1e-06\n",
      "\u001b[34m\u001b[1mwandb\u001b[0m: \tl2: 1e-06\n",
      "\u001b[34m\u001b[1mwandb\u001b[0m: \tlearning_rate: 0.002\n",
      "\u001b[34m\u001b[1mwandb\u001b[0m: \tmodel_name: Hybrid_ANN_non_recurrent\n",
      "\u001b[34m\u001b[1mwandb\u001b[0m: \toptimizer: Adam\n",
      "\u001b[34m\u001b[1mwandb\u001b[0m: \tregularization: True\n"
     ]
    },
    {
     "data": {
      "text/html": [
       "Ignoring project 'SNN_test_optimize' when running a sweep."
      ],
      "text/plain": [
       "<IPython.core.display.HTML object>"
      ]
     },
     "metadata": {},
     "output_type": "display_data"
    },
    {
     "data": {
      "text/html": [
       "Tracking run with wandb version 0.19.9"
      ],
      "text/plain": [
       "<IPython.core.display.HTML object>"
      ]
     },
     "metadata": {},
     "output_type": "display_data"
    },
    {
     "data": {
      "text/html": [
       "Run data is saved locally in <code>/Users/naliniramanathan/projects/snn_project/spytorch/notebooks/wandb/run-20250417_110942-xpgxpomh</code>"
      ],
      "text/plain": [
       "<IPython.core.display.HTML object>"
      ]
     },
     "metadata": {},
     "output_type": "display_data"
    },
    {
     "data": {
      "text/html": [
       "Syncing run <strong><a href='https://wandb.ai/nar8991-new-york-university/SNN_test_optimize/runs/xpgxpomh' target=\"_blank\">vital-sweep-1</a></strong> to <a href='https://wandb.ai/nar8991-new-york-university/SNN_test_optimize' target=\"_blank\">Weights & Biases</a> (<a href='https://wandb.me/developer-guide' target=\"_blank\">docs</a>)<br>Sweep page: <a href='https://wandb.ai/nar8991-new-york-university/SNN_test_optimize/sweeps/bcuwzlkb' target=\"_blank\">https://wandb.ai/nar8991-new-york-university/SNN_test_optimize/sweeps/bcuwzlkb</a>"
      ],
      "text/plain": [
       "<IPython.core.display.HTML object>"
      ]
     },
     "metadata": {},
     "output_type": "display_data"
    },
    {
     "data": {
      "text/html": [
       " View project at <a href='https://wandb.ai/nar8991-new-york-university/SNN_test_optimize' target=\"_blank\">https://wandb.ai/nar8991-new-york-university/SNN_test_optimize</a>"
      ],
      "text/plain": [
       "<IPython.core.display.HTML object>"
      ]
     },
     "metadata": {},
     "output_type": "display_data"
    },
    {
     "data": {
      "text/html": [
       " View sweep at <a href='https://wandb.ai/nar8991-new-york-university/SNN_test_optimize/sweeps/bcuwzlkb' target=\"_blank\">https://wandb.ai/nar8991-new-york-university/SNN_test_optimize/sweeps/bcuwzlkb</a>"
      ],
      "text/plain": [
       "<IPython.core.display.HTML object>"
      ]
     },
     "metadata": {},
     "output_type": "display_data"
    },
    {
     "data": {
      "text/html": [
       " View run at <a href='https://wandb.ai/nar8991-new-york-university/SNN_test_optimize/runs/xpgxpomh' target=\"_blank\">https://wandb.ai/nar8991-new-york-university/SNN_test_optimize/runs/xpgxpomh</a>"
      ],
      "text/plain": [
       "<IPython.core.display.HTML object>"
      ]
     },
     "metadata": {},
     "output_type": "display_data"
    },
    {
     "name": "stderr",
     "output_type": "stream",
     "text": [
      "/var/folders/7b/0zqwym191dq_5jvhhbf5lfgr0000gn/T/ipykernel_69979/3981686502.py:11: UserWarning: To copy construct from a tensor, it is recommended to use sourceTensor.clone().detach() or sourceTensor.clone().detach().requires_grad_(True), rather than torch.tensor(sourceTensor).\n",
      "  data_tensor = torch.tensor(x_data, dtype=torch.float32)\n"
     ]
    },
    {
     "name": "stdout",
     "output_type": "stream",
     "text": [
      "init done\n",
      "Final Train Accuracy: 100.00%\n",
      "Final Validation Accuracy: 99.61%\n",
      "Final Test Accuracy: 99.61%\n"
     ]
    },
    {
     "data": {
      "text/html": [],
      "text/plain": [
       "<IPython.core.display.HTML object>"
      ]
     },
     "metadata": {},
     "output_type": "display_data"
    },
    {
     "data": {
      "text/html": [
       "<br>    <style><br>        .wandb-row {<br>            display: flex;<br>            flex-direction: row;<br>            flex-wrap: wrap;<br>            justify-content: flex-start;<br>            width: 100%;<br>        }<br>        .wandb-col {<br>            display: flex;<br>            flex-direction: column;<br>            flex-basis: 100%;<br>            flex: 1;<br>            padding: 10px;<br>        }<br>    </style><br><div class=\"wandb-row\"><div class=\"wandb-col\"><h3>Run history:</h3><br/><table class=\"wandb\"><tr><td>epoch</td><td>▁▁▂▂▂▂▃▃▃▃▃▃▄▄▄▄▄▄▅▅▅▅▅▆▆▆▇▇▇▇▇▇▇▇▇▇████</td></tr><tr><td>final_test_accuracy</td><td>▁</td></tr><tr><td>final_train_accuracy</td><td>▁</td></tr><tr><td>final_val_accuracy</td><td>▁</td></tr><tr><td>spike_count_train_epoch</td><td>▁▁▁▁▁▁▁▁▁▁▁▁▁▁▁▁▁▁▁▁▁▁▁▁▁▁▁▁▁▁▁▁▁▁▁▁▁▁▁▁</td></tr><tr><td>spike_count_val_epoch</td><td>▄▁▁▁▁▂▃▃▃▄▄▆▆▇▇▇▇▇▇▇▇▇▇▇██████▇▇▇▇▇▇▇▆▆▆</td></tr><tr><td>train_loss</td><td>█▇▇▇▇▅▅▅▅▅▄▄▄▄▃▃▃▃▃▃▂▂▂▂▂▂▂▂▂▂▁▁▁▁▁▁▁▁▁▁</td></tr><tr><td>val_accuracy</td><td>▁▂▄▄▄▅▅▆▆▆▇▇▇▇▇█████████████████████████</td></tr><tr><td>val_loss</td><td>█████▇▇▇▆▆▆▆▅▄▄▃▃▃▃▃▂▂▂▂▂▂▂▂▂▂▁▁▁▁▁▁▁▁▁▁</td></tr></table><br/></div><div class=\"wandb-col\"><h3>Run summary:</h3><br/><table class=\"wandb\"><tr><td>epoch</td><td>149</td></tr><tr><td>final_test_accuracy</td><td>0.99609</td></tr><tr><td>final_train_accuracy</td><td>1</td></tr><tr><td>final_val_accuracy</td><td>0.99609</td></tr><tr><td>spike_count_train_epoch</td><td>0</td></tr><tr><td>spike_count_val_epoch</td><td>445</td></tr><tr><td>train_loss</td><td>0.08464</td></tr><tr><td>val_accuracy</td><td>0.99609</td></tr><tr><td>val_loss</td><td>0.08158</td></tr></table><br/></div></div>"
      ],
      "text/plain": [
       "<IPython.core.display.HTML object>"
      ]
     },
     "metadata": {},
     "output_type": "display_data"
    },
    {
     "data": {
      "text/html": [
       " View run <strong style=\"color:#cdcd00\">Hybrid_ANN_non_recurrent-l1_1e-06-l2_1e-06</strong> at: <a href='https://wandb.ai/nar8991-new-york-university/SNN_test_optimize/runs/xpgxpomh' target=\"_blank\">https://wandb.ai/nar8991-new-york-university/SNN_test_optimize/runs/xpgxpomh</a><br> View project at: <a href='https://wandb.ai/nar8991-new-york-university/SNN_test_optimize' target=\"_blank\">https://wandb.ai/nar8991-new-york-university/SNN_test_optimize</a><br>Synced 5 W&B file(s), 0 media file(s), 0 artifact file(s) and 0 other file(s)"
      ],
      "text/plain": [
       "<IPython.core.display.HTML object>"
      ]
     },
     "metadata": {},
     "output_type": "display_data"
    },
    {
     "data": {
      "text/html": [
       "Find logs at: <code>./wandb/run-20250417_110942-xpgxpomh/logs</code>"
      ],
      "text/plain": [
       "<IPython.core.display.HTML object>"
      ]
     },
     "metadata": {},
     "output_type": "display_data"
    },
    {
     "name": "stderr",
     "output_type": "stream",
     "text": [
      "\u001b[34m\u001b[1mwandb\u001b[0m: Agent Starting Run: 8250idzi with config:\n",
      "\u001b[34m\u001b[1mwandb\u001b[0m: \tepochs: 150\n",
      "\u001b[34m\u001b[1mwandb\u001b[0m: \tl1: 1e-06\n",
      "\u001b[34m\u001b[1mwandb\u001b[0m: \tl2: 5e-06\n",
      "\u001b[34m\u001b[1mwandb\u001b[0m: \tlearning_rate: 0.002\n",
      "\u001b[34m\u001b[1mwandb\u001b[0m: \tmodel_name: Hybrid_ANN_non_recurrent\n",
      "\u001b[34m\u001b[1mwandb\u001b[0m: \toptimizer: Adam\n",
      "\u001b[34m\u001b[1mwandb\u001b[0m: \tregularization: True\n"
     ]
    },
    {
     "data": {
      "text/html": [
       "Ignoring project 'SNN_test_optimize' when running a sweep."
      ],
      "text/plain": [
       "<IPython.core.display.HTML object>"
      ]
     },
     "metadata": {},
     "output_type": "display_data"
    },
    {
     "data": {
      "text/html": [
       "Tracking run with wandb version 0.19.9"
      ],
      "text/plain": [
       "<IPython.core.display.HTML object>"
      ]
     },
     "metadata": {},
     "output_type": "display_data"
    },
    {
     "data": {
      "text/html": [
       "Run data is saved locally in <code>/Users/naliniramanathan/projects/snn_project/spytorch/notebooks/wandb/run-20250417_111229-8250idzi</code>"
      ],
      "text/plain": [
       "<IPython.core.display.HTML object>"
      ]
     },
     "metadata": {},
     "output_type": "display_data"
    },
    {
     "data": {
      "text/html": [
       "Syncing run <strong><a href='https://wandb.ai/nar8991-new-york-university/SNN_test_optimize/runs/8250idzi' target=\"_blank\">polar-sweep-2</a></strong> to <a href='https://wandb.ai/nar8991-new-york-university/SNN_test_optimize' target=\"_blank\">Weights & Biases</a> (<a href='https://wandb.me/developer-guide' target=\"_blank\">docs</a>)<br>Sweep page: <a href='https://wandb.ai/nar8991-new-york-university/SNN_test_optimize/sweeps/bcuwzlkb' target=\"_blank\">https://wandb.ai/nar8991-new-york-university/SNN_test_optimize/sweeps/bcuwzlkb</a>"
      ],
      "text/plain": [
       "<IPython.core.display.HTML object>"
      ]
     },
     "metadata": {},
     "output_type": "display_data"
    },
    {
     "data": {
      "text/html": [
       " View project at <a href='https://wandb.ai/nar8991-new-york-university/SNN_test_optimize' target=\"_blank\">https://wandb.ai/nar8991-new-york-university/SNN_test_optimize</a>"
      ],
      "text/plain": [
       "<IPython.core.display.HTML object>"
      ]
     },
     "metadata": {},
     "output_type": "display_data"
    },
    {
     "data": {
      "text/html": [
       " View sweep at <a href='https://wandb.ai/nar8991-new-york-university/SNN_test_optimize/sweeps/bcuwzlkb' target=\"_blank\">https://wandb.ai/nar8991-new-york-university/SNN_test_optimize/sweeps/bcuwzlkb</a>"
      ],
      "text/plain": [
       "<IPython.core.display.HTML object>"
      ]
     },
     "metadata": {},
     "output_type": "display_data"
    },
    {
     "data": {
      "text/html": [
       " View run at <a href='https://wandb.ai/nar8991-new-york-university/SNN_test_optimize/runs/8250idzi' target=\"_blank\">https://wandb.ai/nar8991-new-york-university/SNN_test_optimize/runs/8250idzi</a>"
      ],
      "text/plain": [
       "<IPython.core.display.HTML object>"
      ]
     },
     "metadata": {},
     "output_type": "display_data"
    },
    {
     "name": "stderr",
     "output_type": "stream",
     "text": [
      "/var/folders/7b/0zqwym191dq_5jvhhbf5lfgr0000gn/T/ipykernel_69979/3981686502.py:11: UserWarning: To copy construct from a tensor, it is recommended to use sourceTensor.clone().detach() or sourceTensor.clone().detach().requires_grad_(True), rather than torch.tensor(sourceTensor).\n",
      "  data_tensor = torch.tensor(x_data, dtype=torch.float32)\n"
     ]
    },
    {
     "name": "stdout",
     "output_type": "stream",
     "text": [
      "init done\n",
      "Final Train Accuracy: 100.00%\n",
      "Final Validation Accuracy: 100.00%\n",
      "Final Test Accuracy: 100.00%\n"
     ]
    },
    {
     "data": {
      "text/html": [],
      "text/plain": [
       "<IPython.core.display.HTML object>"
      ]
     },
     "metadata": {},
     "output_type": "display_data"
    },
    {
     "data": {
      "text/html": [
       "<br>    <style><br>        .wandb-row {<br>            display: flex;<br>            flex-direction: row;<br>            flex-wrap: wrap;<br>            justify-content: flex-start;<br>            width: 100%;<br>        }<br>        .wandb-col {<br>            display: flex;<br>            flex-direction: column;<br>            flex-basis: 100%;<br>            flex: 1;<br>            padding: 10px;<br>        }<br>    </style><br><div class=\"wandb-row\"><div class=\"wandb-col\"><h3>Run history:</h3><br/><table class=\"wandb\"><tr><td>epoch</td><td>▁▁▁▂▂▂▃▃▃▃▃▃▃▃▄▄▄▅▅▅▅▅▆▆▆▆▆▆▆▇▇▇▇▇▇▇▇▇▇█</td></tr><tr><td>final_test_accuracy</td><td>▁</td></tr><tr><td>final_train_accuracy</td><td>▁</td></tr><tr><td>final_val_accuracy</td><td>▁</td></tr><tr><td>spike_count_train_epoch</td><td>▁▁▁▁▁▁▁▁▁▁▁▁▁▁▁▁▁▁▁▁▁▁▁▁▁▁▁▁▁▁▁▁▁▁▁▁▁▁▁▁</td></tr><tr><td>spike_count_val_epoch</td><td>█▆▄▂▁▁▁▁▂▂▂▂▂▆▆▆▆▆▆▆▆▆▆▆▆▅▅▅▄▄▄▄▄▄▄▄▄▄▃▃</td></tr><tr><td>train_loss</td><td>████▇▇▇▆▅▅▅▅▄▄▄▄▄▄▄▃▃▃▂▂▂▂▂▂▂▁▁▁▁▁▁▁▁▁▁▁</td></tr><tr><td>val_accuracy</td><td>▁▃▃▃▃▃▃▄▄▄▅▅▆▆▇▇▇▇▇▇████████████████████</td></tr><tr><td>val_loss</td><td>█████▇▇▇▇▆▆▆▅▅▄▄▄▄▄▄▃▃▃▃▂▂▂▂▂▂▂▂▂▁▁▁▁▁▁▁</td></tr></table><br/></div><div class=\"wandb-col\"><h3>Run summary:</h3><br/><table class=\"wandb\"><tr><td>epoch</td><td>149</td></tr><tr><td>final_test_accuracy</td><td>1</td></tr><tr><td>final_train_accuracy</td><td>1</td></tr><tr><td>final_val_accuracy</td><td>1</td></tr><tr><td>spike_count_train_epoch</td><td>0</td></tr><tr><td>spike_count_val_epoch</td><td>114</td></tr><tr><td>train_loss</td><td>0.08435</td></tr><tr><td>val_accuracy</td><td>1</td></tr><tr><td>val_loss</td><td>0.10018</td></tr></table><br/></div></div>"
      ],
      "text/plain": [
       "<IPython.core.display.HTML object>"
      ]
     },
     "metadata": {},
     "output_type": "display_data"
    },
    {
     "data": {
      "text/html": [
       " View run <strong style=\"color:#cdcd00\">Hybrid_ANN_non_recurrent-l1_1e-06-l2_5e-06</strong> at: <a href='https://wandb.ai/nar8991-new-york-university/SNN_test_optimize/runs/8250idzi' target=\"_blank\">https://wandb.ai/nar8991-new-york-university/SNN_test_optimize/runs/8250idzi</a><br> View project at: <a href='https://wandb.ai/nar8991-new-york-university/SNN_test_optimize' target=\"_blank\">https://wandb.ai/nar8991-new-york-university/SNN_test_optimize</a><br>Synced 5 W&B file(s), 0 media file(s), 0 artifact file(s) and 0 other file(s)"
      ],
      "text/plain": [
       "<IPython.core.display.HTML object>"
      ]
     },
     "metadata": {},
     "output_type": "display_data"
    },
    {
     "data": {
      "text/html": [
       "Find logs at: <code>./wandb/run-20250417_111229-8250idzi/logs</code>"
      ],
      "text/plain": [
       "<IPython.core.display.HTML object>"
      ]
     },
     "metadata": {},
     "output_type": "display_data"
    },
    {
     "name": "stderr",
     "output_type": "stream",
     "text": [
      "\u001b[34m\u001b[1mwandb\u001b[0m: Agent Starting Run: hqx4jm7l with config:\n",
      "\u001b[34m\u001b[1mwandb\u001b[0m: \tepochs: 150\n",
      "\u001b[34m\u001b[1mwandb\u001b[0m: \tl1: 1e-06\n",
      "\u001b[34m\u001b[1mwandb\u001b[0m: \tl2: 1e-05\n",
      "\u001b[34m\u001b[1mwandb\u001b[0m: \tlearning_rate: 0.002\n",
      "\u001b[34m\u001b[1mwandb\u001b[0m: \tmodel_name: Hybrid_ANN_non_recurrent\n",
      "\u001b[34m\u001b[1mwandb\u001b[0m: \toptimizer: Adam\n",
      "\u001b[34m\u001b[1mwandb\u001b[0m: \tregularization: True\n"
     ]
    },
    {
     "data": {
      "text/html": [
       "Ignoring project 'SNN_test_optimize' when running a sweep."
      ],
      "text/plain": [
       "<IPython.core.display.HTML object>"
      ]
     },
     "metadata": {},
     "output_type": "display_data"
    },
    {
     "data": {
      "text/html": [
       "Tracking run with wandb version 0.19.9"
      ],
      "text/plain": [
       "<IPython.core.display.HTML object>"
      ]
     },
     "metadata": {},
     "output_type": "display_data"
    },
    {
     "data": {
      "text/html": [
       "Run data is saved locally in <code>/Users/naliniramanathan/projects/snn_project/spytorch/notebooks/wandb/run-20250417_111457-hqx4jm7l</code>"
      ],
      "text/plain": [
       "<IPython.core.display.HTML object>"
      ]
     },
     "metadata": {},
     "output_type": "display_data"
    },
    {
     "data": {
      "text/html": [
       "Syncing run <strong><a href='https://wandb.ai/nar8991-new-york-university/SNN_test_optimize/runs/hqx4jm7l' target=\"_blank\">feasible-sweep-3</a></strong> to <a href='https://wandb.ai/nar8991-new-york-university/SNN_test_optimize' target=\"_blank\">Weights & Biases</a> (<a href='https://wandb.me/developer-guide' target=\"_blank\">docs</a>)<br>Sweep page: <a href='https://wandb.ai/nar8991-new-york-university/SNN_test_optimize/sweeps/bcuwzlkb' target=\"_blank\">https://wandb.ai/nar8991-new-york-university/SNN_test_optimize/sweeps/bcuwzlkb</a>"
      ],
      "text/plain": [
       "<IPython.core.display.HTML object>"
      ]
     },
     "metadata": {},
     "output_type": "display_data"
    },
    {
     "data": {
      "text/html": [
       " View project at <a href='https://wandb.ai/nar8991-new-york-university/SNN_test_optimize' target=\"_blank\">https://wandb.ai/nar8991-new-york-university/SNN_test_optimize</a>"
      ],
      "text/plain": [
       "<IPython.core.display.HTML object>"
      ]
     },
     "metadata": {},
     "output_type": "display_data"
    },
    {
     "data": {
      "text/html": [
       " View sweep at <a href='https://wandb.ai/nar8991-new-york-university/SNN_test_optimize/sweeps/bcuwzlkb' target=\"_blank\">https://wandb.ai/nar8991-new-york-university/SNN_test_optimize/sweeps/bcuwzlkb</a>"
      ],
      "text/plain": [
       "<IPython.core.display.HTML object>"
      ]
     },
     "metadata": {},
     "output_type": "display_data"
    },
    {
     "data": {
      "text/html": [
       " View run at <a href='https://wandb.ai/nar8991-new-york-university/SNN_test_optimize/runs/hqx4jm7l' target=\"_blank\">https://wandb.ai/nar8991-new-york-university/SNN_test_optimize/runs/hqx4jm7l</a>"
      ],
      "text/plain": [
       "<IPython.core.display.HTML object>"
      ]
     },
     "metadata": {},
     "output_type": "display_data"
    },
    {
     "name": "stderr",
     "output_type": "stream",
     "text": [
      "/var/folders/7b/0zqwym191dq_5jvhhbf5lfgr0000gn/T/ipykernel_69979/3981686502.py:11: UserWarning: To copy construct from a tensor, it is recommended to use sourceTensor.clone().detach() or sourceTensor.clone().detach().requires_grad_(True), rather than torch.tensor(sourceTensor).\n",
      "  data_tensor = torch.tensor(x_data, dtype=torch.float32)\n"
     ]
    },
    {
     "name": "stdout",
     "output_type": "stream",
     "text": [
      "init done\n",
      "Final Train Accuracy: 100.00%\n",
      "Final Validation Accuracy: 99.22%\n",
      "Final Test Accuracy: 100.00%\n"
     ]
    },
    {
     "data": {
      "text/html": [],
      "text/plain": [
       "<IPython.core.display.HTML object>"
      ]
     },
     "metadata": {},
     "output_type": "display_data"
    },
    {
     "data": {
      "text/html": [
       "<br>    <style><br>        .wandb-row {<br>            display: flex;<br>            flex-direction: row;<br>            flex-wrap: wrap;<br>            justify-content: flex-start;<br>            width: 100%;<br>        }<br>        .wandb-col {<br>            display: flex;<br>            flex-direction: column;<br>            flex-basis: 100%;<br>            flex: 1;<br>            padding: 10px;<br>        }<br>    </style><br><div class=\"wandb-row\"><div class=\"wandb-col\"><h3>Run history:</h3><br/><table class=\"wandb\"><tr><td>epoch</td><td>▁▁▁▁▂▂▂▂▃▃▃▃▃▄▄▄▄▄▄▅▅▅▅▅▅▆▆▆▆▆▆▇▇▇▇▇▇███</td></tr><tr><td>final_test_accuracy</td><td>▁</td></tr><tr><td>final_train_accuracy</td><td>▁</td></tr><tr><td>final_val_accuracy</td><td>▁</td></tr><tr><td>spike_count_train_epoch</td><td>▁▁▁▁▁▁▁▁▁▁▁▁▁▁▁▁▁▁▁▁▁▁▁▁▁▁▁▁▁▁▁▁▁▁▁▁▁▁▁▁</td></tr><tr><td>spike_count_val_epoch</td><td>▇▃▂▁▁▁▂▂▂▄▅▅▅▆▆▇▇████▇▇▇▆▆▆▆▆▆▆▅▆▆▅▅▅▅▅▅</td></tr><tr><td>train_loss</td><td>█▇▆▆▆▆▆▆▅▅▅▅▅▅▄▄▄▄▄▄▃▃▃▃▃▂▂▂▂▂▂▁▁▁▁▁▁▁▁▁</td></tr><tr><td>val_accuracy</td><td>▁▂▄▄▅▅▅▅▅▆▇▇▇▇▇█████████████████████████</td></tr><tr><td>val_loss</td><td>████▇▇▇▇▇▇▆▆▆▆▅▅▅▄▄▄▄▃▃▃▃▂▂▂▂▂▂▂▂▂▂▁▁▁▁▁</td></tr></table><br/></div><div class=\"wandb-col\"><h3>Run summary:</h3><br/><table class=\"wandb\"><tr><td>epoch</td><td>149</td></tr><tr><td>final_test_accuracy</td><td>1</td></tr><tr><td>final_train_accuracy</td><td>1</td></tr><tr><td>final_val_accuracy</td><td>0.99219</td></tr><tr><td>spike_count_train_epoch</td><td>0</td></tr><tr><td>spike_count_val_epoch</td><td>61</td></tr><tr><td>train_loss</td><td>0.09575</td></tr><tr><td>val_accuracy</td><td>0.99219</td></tr><tr><td>val_loss</td><td>0.13133</td></tr></table><br/></div></div>"
      ],
      "text/plain": [
       "<IPython.core.display.HTML object>"
      ]
     },
     "metadata": {},
     "output_type": "display_data"
    },
    {
     "data": {
      "text/html": [
       " View run <strong style=\"color:#cdcd00\">Hybrid_ANN_non_recurrent-l1_1e-06-l2_1e-05</strong> at: <a href='https://wandb.ai/nar8991-new-york-university/SNN_test_optimize/runs/hqx4jm7l' target=\"_blank\">https://wandb.ai/nar8991-new-york-university/SNN_test_optimize/runs/hqx4jm7l</a><br> View project at: <a href='https://wandb.ai/nar8991-new-york-university/SNN_test_optimize' target=\"_blank\">https://wandb.ai/nar8991-new-york-university/SNN_test_optimize</a><br>Synced 5 W&B file(s), 0 media file(s), 0 artifact file(s) and 0 other file(s)"
      ],
      "text/plain": [
       "<IPython.core.display.HTML object>"
      ]
     },
     "metadata": {},
     "output_type": "display_data"
    },
    {
     "data": {
      "text/html": [
       "Find logs at: <code>./wandb/run-20250417_111457-hqx4jm7l/logs</code>"
      ],
      "text/plain": [
       "<IPython.core.display.HTML object>"
      ]
     },
     "metadata": {},
     "output_type": "display_data"
    },
    {
     "name": "stderr",
     "output_type": "stream",
     "text": [
      "\u001b[34m\u001b[1mwandb\u001b[0m: Agent Starting Run: 3abpk675 with config:\n",
      "\u001b[34m\u001b[1mwandb\u001b[0m: \tepochs: 150\n",
      "\u001b[34m\u001b[1mwandb\u001b[0m: \tl1: 5e-06\n",
      "\u001b[34m\u001b[1mwandb\u001b[0m: \tl2: 1e-06\n",
      "\u001b[34m\u001b[1mwandb\u001b[0m: \tlearning_rate: 0.002\n",
      "\u001b[34m\u001b[1mwandb\u001b[0m: \tmodel_name: Hybrid_ANN_non_recurrent\n",
      "\u001b[34m\u001b[1mwandb\u001b[0m: \toptimizer: Adam\n",
      "\u001b[34m\u001b[1mwandb\u001b[0m: \tregularization: True\n"
     ]
    },
    {
     "data": {
      "text/html": [
       "Ignoring project 'SNN_test_optimize' when running a sweep."
      ],
      "text/plain": [
       "<IPython.core.display.HTML object>"
      ]
     },
     "metadata": {},
     "output_type": "display_data"
    },
    {
     "data": {
      "text/html": [
       "Tracking run with wandb version 0.19.9"
      ],
      "text/plain": [
       "<IPython.core.display.HTML object>"
      ]
     },
     "metadata": {},
     "output_type": "display_data"
    },
    {
     "data": {
      "text/html": [
       "Run data is saved locally in <code>/Users/naliniramanathan/projects/snn_project/spytorch/notebooks/wandb/run-20250417_111714-3abpk675</code>"
      ],
      "text/plain": [
       "<IPython.core.display.HTML object>"
      ]
     },
     "metadata": {},
     "output_type": "display_data"
    },
    {
     "data": {
      "text/html": [
       "Syncing run <strong><a href='https://wandb.ai/nar8991-new-york-university/SNN_test_optimize/runs/3abpk675' target=\"_blank\">fragrant-sweep-4</a></strong> to <a href='https://wandb.ai/nar8991-new-york-university/SNN_test_optimize' target=\"_blank\">Weights & Biases</a> (<a href='https://wandb.me/developer-guide' target=\"_blank\">docs</a>)<br>Sweep page: <a href='https://wandb.ai/nar8991-new-york-university/SNN_test_optimize/sweeps/bcuwzlkb' target=\"_blank\">https://wandb.ai/nar8991-new-york-university/SNN_test_optimize/sweeps/bcuwzlkb</a>"
      ],
      "text/plain": [
       "<IPython.core.display.HTML object>"
      ]
     },
     "metadata": {},
     "output_type": "display_data"
    },
    {
     "data": {
      "text/html": [
       " View project at <a href='https://wandb.ai/nar8991-new-york-university/SNN_test_optimize' target=\"_blank\">https://wandb.ai/nar8991-new-york-university/SNN_test_optimize</a>"
      ],
      "text/plain": [
       "<IPython.core.display.HTML object>"
      ]
     },
     "metadata": {},
     "output_type": "display_data"
    },
    {
     "data": {
      "text/html": [
       " View sweep at <a href='https://wandb.ai/nar8991-new-york-university/SNN_test_optimize/sweeps/bcuwzlkb' target=\"_blank\">https://wandb.ai/nar8991-new-york-university/SNN_test_optimize/sweeps/bcuwzlkb</a>"
      ],
      "text/plain": [
       "<IPython.core.display.HTML object>"
      ]
     },
     "metadata": {},
     "output_type": "display_data"
    },
    {
     "data": {
      "text/html": [
       " View run at <a href='https://wandb.ai/nar8991-new-york-university/SNN_test_optimize/runs/3abpk675' target=\"_blank\">https://wandb.ai/nar8991-new-york-university/SNN_test_optimize/runs/3abpk675</a>"
      ],
      "text/plain": [
       "<IPython.core.display.HTML object>"
      ]
     },
     "metadata": {},
     "output_type": "display_data"
    },
    {
     "name": "stderr",
     "output_type": "stream",
     "text": [
      "/var/folders/7b/0zqwym191dq_5jvhhbf5lfgr0000gn/T/ipykernel_69979/3981686502.py:11: UserWarning: To copy construct from a tensor, it is recommended to use sourceTensor.clone().detach() or sourceTensor.clone().detach().requires_grad_(True), rather than torch.tensor(sourceTensor).\n",
      "  data_tensor = torch.tensor(x_data, dtype=torch.float32)\n"
     ]
    },
    {
     "name": "stdout",
     "output_type": "stream",
     "text": [
      "init done\n",
      "Final Train Accuracy: 100.00%\n",
      "Final Validation Accuracy: 98.44%\n",
      "Final Test Accuracy: 98.83%\n"
     ]
    },
    {
     "data": {
      "text/html": [],
      "text/plain": [
       "<IPython.core.display.HTML object>"
      ]
     },
     "metadata": {},
     "output_type": "display_data"
    },
    {
     "data": {
      "text/html": [
       "<br>    <style><br>        .wandb-row {<br>            display: flex;<br>            flex-direction: row;<br>            flex-wrap: wrap;<br>            justify-content: flex-start;<br>            width: 100%;<br>        }<br>        .wandb-col {<br>            display: flex;<br>            flex-direction: column;<br>            flex-basis: 100%;<br>            flex: 1;<br>            padding: 10px;<br>        }<br>    </style><br><div class=\"wandb-row\"><div class=\"wandb-col\"><h3>Run history:</h3><br/><table class=\"wandb\"><tr><td>epoch</td><td>▁▁▁▁▁▁▂▂▂▂▂▂▃▃▃▃▃▃▄▄▄▄▄▅▅▅▆▆▆▆▆▆▆▇▇▇▇▇██</td></tr><tr><td>final_test_accuracy</td><td>▁</td></tr><tr><td>final_train_accuracy</td><td>▁</td></tr><tr><td>final_val_accuracy</td><td>▁</td></tr><tr><td>spike_count_train_epoch</td><td>▁▁▁▁▁▁▁▁▁▁▁▁▁▁▁▁▁▁▁▁▁▁▁▁▁▁▁▁▁▁▁▁▁▁▁▁▁▁▁▁</td></tr><tr><td>spike_count_val_epoch</td><td>▄▁▁▁▁▃▃▃▄▄▅▆▆▆▆▇▇▇▇▇▇███████▇▇▇▇▇▇▆▆▆▆▆▆</td></tr><tr><td>train_loss</td><td>█████▇▇▇▇▆▅▅▄▄▄▃▃▃▃▃▂▂▂▂▂▂▂▂▁▁▁▁▁▁▁▁▁▁▁▁</td></tr><tr><td>val_accuracy</td><td>▁▂▂▃▄▄▅▅▆▆▆▆▆▆▇█████████████████████████</td></tr><tr><td>val_loss</td><td>█████▇▇▇▆▆▆▅▅▅▅▄▃▃▃▃▂▂▂▂▂▂▂▂▂▂▁▁▁▁▁▁▁▁▁▁</td></tr></table><br/></div><div class=\"wandb-col\"><h3>Run summary:</h3><br/><table class=\"wandb\"><tr><td>epoch</td><td>149</td></tr><tr><td>final_test_accuracy</td><td>0.98828</td></tr><tr><td>final_train_accuracy</td><td>1</td></tr><tr><td>final_val_accuracy</td><td>0.98438</td></tr><tr><td>spike_count_train_epoch</td><td>0</td></tr><tr><td>spike_count_val_epoch</td><td>382</td></tr><tr><td>train_loss</td><td>0.08536</td></tr><tr><td>val_accuracy</td><td>0.98438</td></tr><tr><td>val_loss</td><td>0.09448</td></tr></table><br/></div></div>"
      ],
      "text/plain": [
       "<IPython.core.display.HTML object>"
      ]
     },
     "metadata": {},
     "output_type": "display_data"
    },
    {
     "data": {
      "text/html": [
       " View run <strong style=\"color:#cdcd00\">Hybrid_ANN_non_recurrent-l1_5e-06-l2_1e-06</strong> at: <a href='https://wandb.ai/nar8991-new-york-university/SNN_test_optimize/runs/3abpk675' target=\"_blank\">https://wandb.ai/nar8991-new-york-university/SNN_test_optimize/runs/3abpk675</a><br> View project at: <a href='https://wandb.ai/nar8991-new-york-university/SNN_test_optimize' target=\"_blank\">https://wandb.ai/nar8991-new-york-university/SNN_test_optimize</a><br>Synced 5 W&B file(s), 0 media file(s), 0 artifact file(s) and 0 other file(s)"
      ],
      "text/plain": [
       "<IPython.core.display.HTML object>"
      ]
     },
     "metadata": {},
     "output_type": "display_data"
    },
    {
     "data": {
      "text/html": [
       "Find logs at: <code>./wandb/run-20250417_111714-3abpk675/logs</code>"
      ],
      "text/plain": [
       "<IPython.core.display.HTML object>"
      ]
     },
     "metadata": {},
     "output_type": "display_data"
    },
    {
     "name": "stderr",
     "output_type": "stream",
     "text": [
      "\u001b[34m\u001b[1mwandb\u001b[0m: Agent Starting Run: b2jhtslt with config:\n",
      "\u001b[34m\u001b[1mwandb\u001b[0m: \tepochs: 150\n",
      "\u001b[34m\u001b[1mwandb\u001b[0m: \tl1: 5e-06\n",
      "\u001b[34m\u001b[1mwandb\u001b[0m: \tl2: 5e-06\n",
      "\u001b[34m\u001b[1mwandb\u001b[0m: \tlearning_rate: 0.002\n",
      "\u001b[34m\u001b[1mwandb\u001b[0m: \tmodel_name: Hybrid_ANN_non_recurrent\n",
      "\u001b[34m\u001b[1mwandb\u001b[0m: \toptimizer: Adam\n",
      "\u001b[34m\u001b[1mwandb\u001b[0m: \tregularization: True\n"
     ]
    },
    {
     "data": {
      "text/html": [
       "Ignoring project 'SNN_test_optimize' when running a sweep."
      ],
      "text/plain": [
       "<IPython.core.display.HTML object>"
      ]
     },
     "metadata": {},
     "output_type": "display_data"
    },
    {
     "data": {
      "text/html": [
       "Tracking run with wandb version 0.19.9"
      ],
      "text/plain": [
       "<IPython.core.display.HTML object>"
      ]
     },
     "metadata": {},
     "output_type": "display_data"
    },
    {
     "data": {
      "text/html": [
       "Run data is saved locally in <code>/Users/naliniramanathan/projects/snn_project/spytorch/notebooks/wandb/run-20250417_111958-b2jhtslt</code>"
      ],
      "text/plain": [
       "<IPython.core.display.HTML object>"
      ]
     },
     "metadata": {},
     "output_type": "display_data"
    },
    {
     "data": {
      "text/html": [
       "Syncing run <strong><a href='https://wandb.ai/nar8991-new-york-university/SNN_test_optimize/runs/b2jhtslt' target=\"_blank\">cosmic-sweep-5</a></strong> to <a href='https://wandb.ai/nar8991-new-york-university/SNN_test_optimize' target=\"_blank\">Weights & Biases</a> (<a href='https://wandb.me/developer-guide' target=\"_blank\">docs</a>)<br>Sweep page: <a href='https://wandb.ai/nar8991-new-york-university/SNN_test_optimize/sweeps/bcuwzlkb' target=\"_blank\">https://wandb.ai/nar8991-new-york-university/SNN_test_optimize/sweeps/bcuwzlkb</a>"
      ],
      "text/plain": [
       "<IPython.core.display.HTML object>"
      ]
     },
     "metadata": {},
     "output_type": "display_data"
    },
    {
     "data": {
      "text/html": [
       " View project at <a href='https://wandb.ai/nar8991-new-york-university/SNN_test_optimize' target=\"_blank\">https://wandb.ai/nar8991-new-york-university/SNN_test_optimize</a>"
      ],
      "text/plain": [
       "<IPython.core.display.HTML object>"
      ]
     },
     "metadata": {},
     "output_type": "display_data"
    },
    {
     "data": {
      "text/html": [
       " View sweep at <a href='https://wandb.ai/nar8991-new-york-university/SNN_test_optimize/sweeps/bcuwzlkb' target=\"_blank\">https://wandb.ai/nar8991-new-york-university/SNN_test_optimize/sweeps/bcuwzlkb</a>"
      ],
      "text/plain": [
       "<IPython.core.display.HTML object>"
      ]
     },
     "metadata": {},
     "output_type": "display_data"
    },
    {
     "data": {
      "text/html": [
       " View run at <a href='https://wandb.ai/nar8991-new-york-university/SNN_test_optimize/runs/b2jhtslt' target=\"_blank\">https://wandb.ai/nar8991-new-york-university/SNN_test_optimize/runs/b2jhtslt</a>"
      ],
      "text/plain": [
       "<IPython.core.display.HTML object>"
      ]
     },
     "metadata": {},
     "output_type": "display_data"
    },
    {
     "name": "stderr",
     "output_type": "stream",
     "text": [
      "/var/folders/7b/0zqwym191dq_5jvhhbf5lfgr0000gn/T/ipykernel_69979/3981686502.py:11: UserWarning: To copy construct from a tensor, it is recommended to use sourceTensor.clone().detach() or sourceTensor.clone().detach().requires_grad_(True), rather than torch.tensor(sourceTensor).\n",
      "  data_tensor = torch.tensor(x_data, dtype=torch.float32)\n"
     ]
    },
    {
     "name": "stdout",
     "output_type": "stream",
     "text": [
      "init done\n",
      "Final Train Accuracy: 100.00%\n",
      "Final Validation Accuracy: 100.00%\n",
      "Final Test Accuracy: 100.00%\n"
     ]
    },
    {
     "data": {
      "text/html": [],
      "text/plain": [
       "<IPython.core.display.HTML object>"
      ]
     },
     "metadata": {},
     "output_type": "display_data"
    },
    {
     "data": {
      "text/html": [
       "<br>    <style><br>        .wandb-row {<br>            display: flex;<br>            flex-direction: row;<br>            flex-wrap: wrap;<br>            justify-content: flex-start;<br>            width: 100%;<br>        }<br>        .wandb-col {<br>            display: flex;<br>            flex-direction: column;<br>            flex-basis: 100%;<br>            flex: 1;<br>            padding: 10px;<br>        }<br>    </style><br><div class=\"wandb-row\"><div class=\"wandb-col\"><h3>Run history:</h3><br/><table class=\"wandb\"><tr><td>epoch</td><td>▁▂▂▂▂▂▂▃▃▃▃▃▃▃▃▄▄▄▄▄▅▅▅▅▆▆▆▆▆▆▇▇▇▇▇█████</td></tr><tr><td>final_test_accuracy</td><td>▁</td></tr><tr><td>final_train_accuracy</td><td>▁</td></tr><tr><td>final_val_accuracy</td><td>▁</td></tr><tr><td>spike_count_train_epoch</td><td>▁▁▁▁▁▁▁▁▁▁▁▁▁▁▁▁▁▁▁▁▁▁▁▁▁▁▁▁▁▁▁▁▁▁▁▁▁▁▁▁</td></tr><tr><td>spike_count_val_epoch</td><td>▄▁▁▁▁▁▂▂▂▂▃▄▄▅▅▇████▇▇██▇▇▇▆▆▅▄▄▄▄▄▄▄▄▄▄</td></tr><tr><td>train_loss</td><td>██▇▇▇▆▆▆▆▆▅▅▅▅▅▄▄▄▄▄▃▃▃▃▂▂▂▂▂▂▂▂▂▂▂▁▁▁▁▁</td></tr><tr><td>val_accuracy</td><td>▁▂▂▃▄▄▅▅▆▆▆▆▆▇▇▇▇▇▇▇████████████████████</td></tr><tr><td>val_loss</td><td>████▇▇▇▇▆▆▆▆▆▅▅▄▄▄▃▃▃▃▃▃▃▂▂▂▂▂▂▂▂▂▁▁▁▁▁▁</td></tr></table><br/></div><div class=\"wandb-col\"><h3>Run summary:</h3><br/><table class=\"wandb\"><tr><td>epoch</td><td>149</td></tr><tr><td>final_test_accuracy</td><td>1</td></tr><tr><td>final_train_accuracy</td><td>1</td></tr><tr><td>final_val_accuracy</td><td>1</td></tr><tr><td>spike_count_train_epoch</td><td>0</td></tr><tr><td>spike_count_val_epoch</td><td>102</td></tr><tr><td>train_loss</td><td>0.0833</td></tr><tr><td>val_accuracy</td><td>1</td></tr><tr><td>val_loss</td><td>0.10246</td></tr></table><br/></div></div>"
      ],
      "text/plain": [
       "<IPython.core.display.HTML object>"
      ]
     },
     "metadata": {},
     "output_type": "display_data"
    },
    {
     "data": {
      "text/html": [
       " View run <strong style=\"color:#cdcd00\">Hybrid_ANN_non_recurrent-l1_5e-06-l2_5e-06</strong> at: <a href='https://wandb.ai/nar8991-new-york-university/SNN_test_optimize/runs/b2jhtslt' target=\"_blank\">https://wandb.ai/nar8991-new-york-university/SNN_test_optimize/runs/b2jhtslt</a><br> View project at: <a href='https://wandb.ai/nar8991-new-york-university/SNN_test_optimize' target=\"_blank\">https://wandb.ai/nar8991-new-york-university/SNN_test_optimize</a><br>Synced 5 W&B file(s), 0 media file(s), 0 artifact file(s) and 0 other file(s)"
      ],
      "text/plain": [
       "<IPython.core.display.HTML object>"
      ]
     },
     "metadata": {},
     "output_type": "display_data"
    },
    {
     "data": {
      "text/html": [
       "Find logs at: <code>./wandb/run-20250417_111958-b2jhtslt/logs</code>"
      ],
      "text/plain": [
       "<IPython.core.display.HTML object>"
      ]
     },
     "metadata": {},
     "output_type": "display_data"
    },
    {
     "name": "stderr",
     "output_type": "stream",
     "text": [
      "\u001b[34m\u001b[1mwandb\u001b[0m: Agent Starting Run: 27wrwj5c with config:\n",
      "\u001b[34m\u001b[1mwandb\u001b[0m: \tepochs: 150\n",
      "\u001b[34m\u001b[1mwandb\u001b[0m: \tl1: 5e-06\n",
      "\u001b[34m\u001b[1mwandb\u001b[0m: \tl2: 1e-05\n",
      "\u001b[34m\u001b[1mwandb\u001b[0m: \tlearning_rate: 0.002\n",
      "\u001b[34m\u001b[1mwandb\u001b[0m: \tmodel_name: Hybrid_ANN_non_recurrent\n",
      "\u001b[34m\u001b[1mwandb\u001b[0m: \toptimizer: Adam\n",
      "\u001b[34m\u001b[1mwandb\u001b[0m: \tregularization: True\n"
     ]
    },
    {
     "data": {
      "text/html": [
       "Ignoring project 'SNN_test_optimize' when running a sweep."
      ],
      "text/plain": [
       "<IPython.core.display.HTML object>"
      ]
     },
     "metadata": {},
     "output_type": "display_data"
    },
    {
     "data": {
      "text/html": [
       "Tracking run with wandb version 0.19.9"
      ],
      "text/plain": [
       "<IPython.core.display.HTML object>"
      ]
     },
     "metadata": {},
     "output_type": "display_data"
    },
    {
     "data": {
      "text/html": [
       "Run data is saved locally in <code>/Users/naliniramanathan/projects/snn_project/spytorch/notebooks/wandb/run-20250417_112221-27wrwj5c</code>"
      ],
      "text/plain": [
       "<IPython.core.display.HTML object>"
      ]
     },
     "metadata": {},
     "output_type": "display_data"
    },
    {
     "data": {
      "text/html": [
       "Syncing run <strong><a href='https://wandb.ai/nar8991-new-york-university/SNN_test_optimize/runs/27wrwj5c' target=\"_blank\">rose-sweep-6</a></strong> to <a href='https://wandb.ai/nar8991-new-york-university/SNN_test_optimize' target=\"_blank\">Weights & Biases</a> (<a href='https://wandb.me/developer-guide' target=\"_blank\">docs</a>)<br>Sweep page: <a href='https://wandb.ai/nar8991-new-york-university/SNN_test_optimize/sweeps/bcuwzlkb' target=\"_blank\">https://wandb.ai/nar8991-new-york-university/SNN_test_optimize/sweeps/bcuwzlkb</a>"
      ],
      "text/plain": [
       "<IPython.core.display.HTML object>"
      ]
     },
     "metadata": {},
     "output_type": "display_data"
    },
    {
     "data": {
      "text/html": [
       " View project at <a href='https://wandb.ai/nar8991-new-york-university/SNN_test_optimize' target=\"_blank\">https://wandb.ai/nar8991-new-york-university/SNN_test_optimize</a>"
      ],
      "text/plain": [
       "<IPython.core.display.HTML object>"
      ]
     },
     "metadata": {},
     "output_type": "display_data"
    },
    {
     "data": {
      "text/html": [
       " View sweep at <a href='https://wandb.ai/nar8991-new-york-university/SNN_test_optimize/sweeps/bcuwzlkb' target=\"_blank\">https://wandb.ai/nar8991-new-york-university/SNN_test_optimize/sweeps/bcuwzlkb</a>"
      ],
      "text/plain": [
       "<IPython.core.display.HTML object>"
      ]
     },
     "metadata": {},
     "output_type": "display_data"
    },
    {
     "data": {
      "text/html": [
       " View run at <a href='https://wandb.ai/nar8991-new-york-university/SNN_test_optimize/runs/27wrwj5c' target=\"_blank\">https://wandb.ai/nar8991-new-york-university/SNN_test_optimize/runs/27wrwj5c</a>"
      ],
      "text/plain": [
       "<IPython.core.display.HTML object>"
      ]
     },
     "metadata": {},
     "output_type": "display_data"
    },
    {
     "name": "stderr",
     "output_type": "stream",
     "text": [
      "/var/folders/7b/0zqwym191dq_5jvhhbf5lfgr0000gn/T/ipykernel_69979/3981686502.py:11: UserWarning: To copy construct from a tensor, it is recommended to use sourceTensor.clone().detach() or sourceTensor.clone().detach().requires_grad_(True), rather than torch.tensor(sourceTensor).\n",
      "  data_tensor = torch.tensor(x_data, dtype=torch.float32)\n"
     ]
    },
    {
     "name": "stdout",
     "output_type": "stream",
     "text": [
      "init done\n",
      "Final Train Accuracy: 100.00%\n",
      "Final Validation Accuracy: 99.22%\n",
      "Final Test Accuracy: 100.00%\n"
     ]
    },
    {
     "data": {
      "text/html": [],
      "text/plain": [
       "<IPython.core.display.HTML object>"
      ]
     },
     "metadata": {},
     "output_type": "display_data"
    },
    {
     "data": {
      "text/html": [
       "<br>    <style><br>        .wandb-row {<br>            display: flex;<br>            flex-direction: row;<br>            flex-wrap: wrap;<br>            justify-content: flex-start;<br>            width: 100%;<br>        }<br>        .wandb-col {<br>            display: flex;<br>            flex-direction: column;<br>            flex-basis: 100%;<br>            flex: 1;<br>            padding: 10px;<br>        }<br>    </style><br><div class=\"wandb-row\"><div class=\"wandb-col\"><h3>Run history:</h3><br/><table class=\"wandb\"><tr><td>epoch</td><td>▁▁▁▁▁▂▂▂▃▃▃▃▃▄▄▄▄▄▅▅▅▅▅▅▅▆▆▆▆▆▆▇▇▇▇▇▇▇██</td></tr><tr><td>final_test_accuracy</td><td>▁</td></tr><tr><td>final_train_accuracy</td><td>▁</td></tr><tr><td>final_val_accuracy</td><td>▁</td></tr><tr><td>spike_count_train_epoch</td><td>▁▁▁▁▁▁▁▁▁▁▁▁▁▁▁▁▁▁▁▁▁▁▁▁▁▁▁▁▁▁▁▁▁▁▁▁▁▁▁▁</td></tr><tr><td>spike_count_val_epoch</td><td>█▄▂▂▁▁▁▁▁▁▂▂▂▂▂▃▃▃▃▃▃▃▃▃▃▃▃▃▃▃▃▃▂▂▂▂▂▂▂▂</td></tr><tr><td>train_loss</td><td>█▇▆▆▆▆▆▆▆▆▅▅▄▄▄▄▄▄▄▃▃▃▃▃▂▂▂▂▂▂▂▁▁▁▁▁▁▁▁▁</td></tr><tr><td>val_accuracy</td><td>▁▃▄▄▄▄▅▆▆▇▇▇████████████████████████████</td></tr><tr><td>val_loss</td><td>█████▇▇▇▇▆▆▅▅▄▄▃▃▃▃▃▃▃▂▂▂▂▂▂▂▂▂▁▁▁▁▁▁▁▁▁</td></tr></table><br/></div><div class=\"wandb-col\"><h3>Run summary:</h3><br/><table class=\"wandb\"><tr><td>epoch</td><td>149</td></tr><tr><td>final_test_accuracy</td><td>1</td></tr><tr><td>final_train_accuracy</td><td>1</td></tr><tr><td>final_val_accuracy</td><td>0.99219</td></tr><tr><td>spike_count_train_epoch</td><td>0</td></tr><tr><td>spike_count_val_epoch</td><td>59</td></tr><tr><td>train_loss</td><td>0.09574</td></tr><tr><td>val_accuracy</td><td>0.99219</td></tr><tr><td>val_loss</td><td>0.13188</td></tr></table><br/></div></div>"
      ],
      "text/plain": [
       "<IPython.core.display.HTML object>"
      ]
     },
     "metadata": {},
     "output_type": "display_data"
    },
    {
     "data": {
      "text/html": [
       " View run <strong style=\"color:#cdcd00\">Hybrid_ANN_non_recurrent-l1_5e-06-l2_1e-05</strong> at: <a href='https://wandb.ai/nar8991-new-york-university/SNN_test_optimize/runs/27wrwj5c' target=\"_blank\">https://wandb.ai/nar8991-new-york-university/SNN_test_optimize/runs/27wrwj5c</a><br> View project at: <a href='https://wandb.ai/nar8991-new-york-university/SNN_test_optimize' target=\"_blank\">https://wandb.ai/nar8991-new-york-university/SNN_test_optimize</a><br>Synced 5 W&B file(s), 0 media file(s), 0 artifact file(s) and 0 other file(s)"
      ],
      "text/plain": [
       "<IPython.core.display.HTML object>"
      ]
     },
     "metadata": {},
     "output_type": "display_data"
    },
    {
     "data": {
      "text/html": [
       "Find logs at: <code>./wandb/run-20250417_112221-27wrwj5c/logs</code>"
      ],
      "text/plain": [
       "<IPython.core.display.HTML object>"
      ]
     },
     "metadata": {},
     "output_type": "display_data"
    },
    {
     "name": "stderr",
     "output_type": "stream",
     "text": [
      "\u001b[34m\u001b[1mwandb\u001b[0m: Agent Starting Run: nu1cd9gw with config:\n",
      "\u001b[34m\u001b[1mwandb\u001b[0m: \tepochs: 150\n",
      "\u001b[34m\u001b[1mwandb\u001b[0m: \tl1: 1e-05\n",
      "\u001b[34m\u001b[1mwandb\u001b[0m: \tl2: 1e-06\n",
      "\u001b[34m\u001b[1mwandb\u001b[0m: \tlearning_rate: 0.002\n",
      "\u001b[34m\u001b[1mwandb\u001b[0m: \tmodel_name: Hybrid_ANN_non_recurrent\n",
      "\u001b[34m\u001b[1mwandb\u001b[0m: \toptimizer: Adam\n",
      "\u001b[34m\u001b[1mwandb\u001b[0m: \tregularization: True\n"
     ]
    },
    {
     "data": {
      "text/html": [
       "Ignoring project 'SNN_test_optimize' when running a sweep."
      ],
      "text/plain": [
       "<IPython.core.display.HTML object>"
      ]
     },
     "metadata": {},
     "output_type": "display_data"
    },
    {
     "data": {
      "text/html": [
       "Tracking run with wandb version 0.19.9"
      ],
      "text/plain": [
       "<IPython.core.display.HTML object>"
      ]
     },
     "metadata": {},
     "output_type": "display_data"
    },
    {
     "data": {
      "text/html": [
       "Run data is saved locally in <code>/Users/naliniramanathan/projects/snn_project/spytorch/notebooks/wandb/run-20250417_112444-nu1cd9gw</code>"
      ],
      "text/plain": [
       "<IPython.core.display.HTML object>"
      ]
     },
     "metadata": {},
     "output_type": "display_data"
    },
    {
     "data": {
      "text/html": [
       "Syncing run <strong><a href='https://wandb.ai/nar8991-new-york-university/SNN_test_optimize/runs/nu1cd9gw' target=\"_blank\">rich-sweep-7</a></strong> to <a href='https://wandb.ai/nar8991-new-york-university/SNN_test_optimize' target=\"_blank\">Weights & Biases</a> (<a href='https://wandb.me/developer-guide' target=\"_blank\">docs</a>)<br>Sweep page: <a href='https://wandb.ai/nar8991-new-york-university/SNN_test_optimize/sweeps/bcuwzlkb' target=\"_blank\">https://wandb.ai/nar8991-new-york-university/SNN_test_optimize/sweeps/bcuwzlkb</a>"
      ],
      "text/plain": [
       "<IPython.core.display.HTML object>"
      ]
     },
     "metadata": {},
     "output_type": "display_data"
    },
    {
     "data": {
      "text/html": [
       " View project at <a href='https://wandb.ai/nar8991-new-york-university/SNN_test_optimize' target=\"_blank\">https://wandb.ai/nar8991-new-york-university/SNN_test_optimize</a>"
      ],
      "text/plain": [
       "<IPython.core.display.HTML object>"
      ]
     },
     "metadata": {},
     "output_type": "display_data"
    },
    {
     "data": {
      "text/html": [
       " View sweep at <a href='https://wandb.ai/nar8991-new-york-university/SNN_test_optimize/sweeps/bcuwzlkb' target=\"_blank\">https://wandb.ai/nar8991-new-york-university/SNN_test_optimize/sweeps/bcuwzlkb</a>"
      ],
      "text/plain": [
       "<IPython.core.display.HTML object>"
      ]
     },
     "metadata": {},
     "output_type": "display_data"
    },
    {
     "data": {
      "text/html": [
       " View run at <a href='https://wandb.ai/nar8991-new-york-university/SNN_test_optimize/runs/nu1cd9gw' target=\"_blank\">https://wandb.ai/nar8991-new-york-university/SNN_test_optimize/runs/nu1cd9gw</a>"
      ],
      "text/plain": [
       "<IPython.core.display.HTML object>"
      ]
     },
     "metadata": {},
     "output_type": "display_data"
    },
    {
     "name": "stderr",
     "output_type": "stream",
     "text": [
      "/var/folders/7b/0zqwym191dq_5jvhhbf5lfgr0000gn/T/ipykernel_69979/3981686502.py:11: UserWarning: To copy construct from a tensor, it is recommended to use sourceTensor.clone().detach() or sourceTensor.clone().detach().requires_grad_(True), rather than torch.tensor(sourceTensor).\n",
      "  data_tensor = torch.tensor(x_data, dtype=torch.float32)\n"
     ]
    },
    {
     "name": "stdout",
     "output_type": "stream",
     "text": [
      "init done\n",
      "Final Train Accuracy: 100.00%\n",
      "Final Validation Accuracy: 98.44%\n",
      "Final Test Accuracy: 98.83%\n"
     ]
    },
    {
     "data": {
      "text/html": [],
      "text/plain": [
       "<IPython.core.display.HTML object>"
      ]
     },
     "metadata": {},
     "output_type": "display_data"
    },
    {
     "data": {
      "text/html": [
       "<br>    <style><br>        .wandb-row {<br>            display: flex;<br>            flex-direction: row;<br>            flex-wrap: wrap;<br>            justify-content: flex-start;<br>            width: 100%;<br>        }<br>        .wandb-col {<br>            display: flex;<br>            flex-direction: column;<br>            flex-basis: 100%;<br>            flex: 1;<br>            padding: 10px;<br>        }<br>    </style><br><div class=\"wandb-row\"><div class=\"wandb-col\"><h3>Run history:</h3><br/><table class=\"wandb\"><tr><td>epoch</td><td>▁▁▁▁▂▂▃▃▃▃▃▃▄▄▄▅▅▅▅▅▅▅▅▅▆▆▆▆▆▆▆▇▇▇▇▇▇███</td></tr><tr><td>final_test_accuracy</td><td>▁</td></tr><tr><td>final_train_accuracy</td><td>▁</td></tr><tr><td>final_val_accuracy</td><td>▁</td></tr><tr><td>spike_count_train_epoch</td><td>▁▁▁▁▁▁▁▁▁▁▁▁▁▁▁▁▁▁▁▁▁▁▁▁▁▁▁▁▁▁▁▁▁▁▁▁▁▁▁▁</td></tr><tr><td>spike_count_val_epoch</td><td>▃▃▂▁▁▅▅▆▆▆▇▇▇▇██████▇▇▇▇▇▇▇▇▇▇▇▇▇▆▆▆▆▆▆▆</td></tr><tr><td>train_loss</td><td>██▇▇▇▆▆▆▆▆▆▆▆▅▅▄▄▄▄▄▃▃▃▃▃▂▂▂▂▂▂▂▂▁▁▁▁▁▁▁</td></tr><tr><td>val_accuracy</td><td>▁▂▂▃▃▅▅▅▅▅▆▆▇███████████████████████████</td></tr><tr><td>val_loss</td><td>██▇▇▇▇▆▆▆▆▅▅▅▅▄▄▄▃▃▃▂▂▂▂▂▂▁▁▁▁▁▁▁▁▁▁▁▁▁▁</td></tr></table><br/></div><div class=\"wandb-col\"><h3>Run summary:</h3><br/><table class=\"wandb\"><tr><td>epoch</td><td>149</td></tr><tr><td>final_test_accuracy</td><td>0.98828</td></tr><tr><td>final_train_accuracy</td><td>1</td></tr><tr><td>final_val_accuracy</td><td>0.98438</td></tr><tr><td>spike_count_train_epoch</td><td>0</td></tr><tr><td>spike_count_val_epoch</td><td>382</td></tr><tr><td>train_loss</td><td>0.08762</td></tr><tr><td>val_accuracy</td><td>0.98438</td></tr><tr><td>val_loss</td><td>0.08972</td></tr></table><br/></div></div>"
      ],
      "text/plain": [
       "<IPython.core.display.HTML object>"
      ]
     },
     "metadata": {},
     "output_type": "display_data"
    },
    {
     "data": {
      "text/html": [
       " View run <strong style=\"color:#cdcd00\">Hybrid_ANN_non_recurrent-l1_1e-05-l2_1e-06</strong> at: <a href='https://wandb.ai/nar8991-new-york-university/SNN_test_optimize/runs/nu1cd9gw' target=\"_blank\">https://wandb.ai/nar8991-new-york-university/SNN_test_optimize/runs/nu1cd9gw</a><br> View project at: <a href='https://wandb.ai/nar8991-new-york-university/SNN_test_optimize' target=\"_blank\">https://wandb.ai/nar8991-new-york-university/SNN_test_optimize</a><br>Synced 5 W&B file(s), 0 media file(s), 0 artifact file(s) and 0 other file(s)"
      ],
      "text/plain": [
       "<IPython.core.display.HTML object>"
      ]
     },
     "metadata": {},
     "output_type": "display_data"
    },
    {
     "data": {
      "text/html": [
       "Find logs at: <code>./wandb/run-20250417_112444-nu1cd9gw/logs</code>"
      ],
      "text/plain": [
       "<IPython.core.display.HTML object>"
      ]
     },
     "metadata": {},
     "output_type": "display_data"
    },
    {
     "name": "stderr",
     "output_type": "stream",
     "text": [
      "\u001b[34m\u001b[1mwandb\u001b[0m: Agent Starting Run: 85wfsbc4 with config:\n",
      "\u001b[34m\u001b[1mwandb\u001b[0m: \tepochs: 150\n",
      "\u001b[34m\u001b[1mwandb\u001b[0m: \tl1: 1e-05\n",
      "\u001b[34m\u001b[1mwandb\u001b[0m: \tl2: 5e-06\n",
      "\u001b[34m\u001b[1mwandb\u001b[0m: \tlearning_rate: 0.002\n",
      "\u001b[34m\u001b[1mwandb\u001b[0m: \tmodel_name: Hybrid_ANN_non_recurrent\n",
      "\u001b[34m\u001b[1mwandb\u001b[0m: \toptimizer: Adam\n",
      "\u001b[34m\u001b[1mwandb\u001b[0m: \tregularization: True\n"
     ]
    },
    {
     "data": {
      "text/html": [
       "Ignoring project 'SNN_test_optimize' when running a sweep."
      ],
      "text/plain": [
       "<IPython.core.display.HTML object>"
      ]
     },
     "metadata": {},
     "output_type": "display_data"
    },
    {
     "data": {
      "text/html": [
       "Tracking run with wandb version 0.19.9"
      ],
      "text/plain": [
       "<IPython.core.display.HTML object>"
      ]
     },
     "metadata": {},
     "output_type": "display_data"
    },
    {
     "data": {
      "text/html": [
       "Run data is saved locally in <code>/Users/naliniramanathan/projects/snn_project/spytorch/notebooks/wandb/run-20250417_112733-85wfsbc4</code>"
      ],
      "text/plain": [
       "<IPython.core.display.HTML object>"
      ]
     },
     "metadata": {},
     "output_type": "display_data"
    },
    {
     "data": {
      "text/html": [
       "Syncing run <strong><a href='https://wandb.ai/nar8991-new-york-university/SNN_test_optimize/runs/85wfsbc4' target=\"_blank\">blooming-sweep-8</a></strong> to <a href='https://wandb.ai/nar8991-new-york-university/SNN_test_optimize' target=\"_blank\">Weights & Biases</a> (<a href='https://wandb.me/developer-guide' target=\"_blank\">docs</a>)<br>Sweep page: <a href='https://wandb.ai/nar8991-new-york-university/SNN_test_optimize/sweeps/bcuwzlkb' target=\"_blank\">https://wandb.ai/nar8991-new-york-university/SNN_test_optimize/sweeps/bcuwzlkb</a>"
      ],
      "text/plain": [
       "<IPython.core.display.HTML object>"
      ]
     },
     "metadata": {},
     "output_type": "display_data"
    },
    {
     "data": {
      "text/html": [
       " View project at <a href='https://wandb.ai/nar8991-new-york-university/SNN_test_optimize' target=\"_blank\">https://wandb.ai/nar8991-new-york-university/SNN_test_optimize</a>"
      ],
      "text/plain": [
       "<IPython.core.display.HTML object>"
      ]
     },
     "metadata": {},
     "output_type": "display_data"
    },
    {
     "data": {
      "text/html": [
       " View sweep at <a href='https://wandb.ai/nar8991-new-york-university/SNN_test_optimize/sweeps/bcuwzlkb' target=\"_blank\">https://wandb.ai/nar8991-new-york-university/SNN_test_optimize/sweeps/bcuwzlkb</a>"
      ],
      "text/plain": [
       "<IPython.core.display.HTML object>"
      ]
     },
     "metadata": {},
     "output_type": "display_data"
    },
    {
     "data": {
      "text/html": [
       " View run at <a href='https://wandb.ai/nar8991-new-york-university/SNN_test_optimize/runs/85wfsbc4' target=\"_blank\">https://wandb.ai/nar8991-new-york-university/SNN_test_optimize/runs/85wfsbc4</a>"
      ],
      "text/plain": [
       "<IPython.core.display.HTML object>"
      ]
     },
     "metadata": {},
     "output_type": "display_data"
    },
    {
     "name": "stderr",
     "output_type": "stream",
     "text": [
      "/var/folders/7b/0zqwym191dq_5jvhhbf5lfgr0000gn/T/ipykernel_69979/3981686502.py:11: UserWarning: To copy construct from a tensor, it is recommended to use sourceTensor.clone().detach() or sourceTensor.clone().detach().requires_grad_(True), rather than torch.tensor(sourceTensor).\n",
      "  data_tensor = torch.tensor(x_data, dtype=torch.float32)\n"
     ]
    },
    {
     "name": "stdout",
     "output_type": "stream",
     "text": [
      "init done\n",
      "Final Train Accuracy: 100.00%\n",
      "Final Validation Accuracy: 100.00%\n",
      "Final Test Accuracy: 100.00%\n"
     ]
    },
    {
     "data": {
      "text/html": [],
      "text/plain": [
       "<IPython.core.display.HTML object>"
      ]
     },
     "metadata": {},
     "output_type": "display_data"
    },
    {
     "data": {
      "text/html": [
       "<br>    <style><br>        .wandb-row {<br>            display: flex;<br>            flex-direction: row;<br>            flex-wrap: wrap;<br>            justify-content: flex-start;<br>            width: 100%;<br>        }<br>        .wandb-col {<br>            display: flex;<br>            flex-direction: column;<br>            flex-basis: 100%;<br>            flex: 1;<br>            padding: 10px;<br>        }<br>    </style><br><div class=\"wandb-row\"><div class=\"wandb-col\"><h3>Run history:</h3><br/><table class=\"wandb\"><tr><td>epoch</td><td>▁▁▂▂▂▃▃▃▃▃▃▃▄▄▄▅▅▅▅▅▅▅▅▆▆▆▇▇▇▇▇▇▇▇▇█████</td></tr><tr><td>final_test_accuracy</td><td>▁</td></tr><tr><td>final_train_accuracy</td><td>▁</td></tr><tr><td>final_val_accuracy</td><td>▁</td></tr><tr><td>spike_count_train_epoch</td><td>▁▁▁▁▁▁▁▁▁▁▁▁▁▁▁▁▁▁▁▁▁▁▁▁▁▁▁▁▁▁▁▁▁▁▁▁▁▁▁▁</td></tr><tr><td>spike_count_val_epoch</td><td>▄▃▂▁▁▁▂▂▂▄▄▆▆▆▇▇███▇▇▇▆▆▅▅▅▅▅▅▄▄▄▄▄▄▄▄▄▄</td></tr><tr><td>train_loss</td><td>█▇▇▇▇▆▆▆▆▆▅▅▅▅▅▄▄▃▃▃▃▂▂▂▂▂▂▂▂▂▁▁▁▁▁▁▁▁▁▁</td></tr><tr><td>val_accuracy</td><td>▁▂▄▄▄▄▄▅▅▆▆▆▇▇▇▇▇▇▇▇████████████████████</td></tr><tr><td>val_loss</td><td>█████▇▇▇▇▆▆▆▆▆▆▅▅▄▄▄▃▃▃▃▃▃▂▂▂▂▂▂▂▂▂▁▁▁▁▁</td></tr></table><br/></div><div class=\"wandb-col\"><h3>Run summary:</h3><br/><table class=\"wandb\"><tr><td>epoch</td><td>149</td></tr><tr><td>final_test_accuracy</td><td>1</td></tr><tr><td>final_train_accuracy</td><td>1</td></tr><tr><td>final_val_accuracy</td><td>1</td></tr><tr><td>spike_count_train_epoch</td><td>0</td></tr><tr><td>spike_count_val_epoch</td><td>100</td></tr><tr><td>train_loss</td><td>0.08525</td></tr><tr><td>val_accuracy</td><td>1</td></tr><tr><td>val_loss</td><td>0.10436</td></tr></table><br/></div></div>"
      ],
      "text/plain": [
       "<IPython.core.display.HTML object>"
      ]
     },
     "metadata": {},
     "output_type": "display_data"
    },
    {
     "data": {
      "text/html": [
       " View run <strong style=\"color:#cdcd00\">Hybrid_ANN_non_recurrent-l1_1e-05-l2_5e-06</strong> at: <a href='https://wandb.ai/nar8991-new-york-university/SNN_test_optimize/runs/85wfsbc4' target=\"_blank\">https://wandb.ai/nar8991-new-york-university/SNN_test_optimize/runs/85wfsbc4</a><br> View project at: <a href='https://wandb.ai/nar8991-new-york-university/SNN_test_optimize' target=\"_blank\">https://wandb.ai/nar8991-new-york-university/SNN_test_optimize</a><br>Synced 5 W&B file(s), 0 media file(s), 0 artifact file(s) and 0 other file(s)"
      ],
      "text/plain": [
       "<IPython.core.display.HTML object>"
      ]
     },
     "metadata": {},
     "output_type": "display_data"
    },
    {
     "data": {
      "text/html": [
       "Find logs at: <code>./wandb/run-20250417_112733-85wfsbc4/logs</code>"
      ],
      "text/plain": [
       "<IPython.core.display.HTML object>"
      ]
     },
     "metadata": {},
     "output_type": "display_data"
    },
    {
     "name": "stderr",
     "output_type": "stream",
     "text": [
      "\u001b[34m\u001b[1mwandb\u001b[0m: Agent Starting Run: 4uqgjk99 with config:\n",
      "\u001b[34m\u001b[1mwandb\u001b[0m: \tepochs: 150\n",
      "\u001b[34m\u001b[1mwandb\u001b[0m: \tl1: 1e-05\n",
      "\u001b[34m\u001b[1mwandb\u001b[0m: \tl2: 1e-05\n",
      "\u001b[34m\u001b[1mwandb\u001b[0m: \tlearning_rate: 0.002\n",
      "\u001b[34m\u001b[1mwandb\u001b[0m: \tmodel_name: Hybrid_ANN_non_recurrent\n",
      "\u001b[34m\u001b[1mwandb\u001b[0m: \toptimizer: Adam\n",
      "\u001b[34m\u001b[1mwandb\u001b[0m: \tregularization: True\n"
     ]
    },
    {
     "data": {
      "text/html": [
       "Ignoring project 'SNN_test_optimize' when running a sweep."
      ],
      "text/plain": [
       "<IPython.core.display.HTML object>"
      ]
     },
     "metadata": {},
     "output_type": "display_data"
    },
    {
     "data": {
      "text/html": [
       "Tracking run with wandb version 0.19.9"
      ],
      "text/plain": [
       "<IPython.core.display.HTML object>"
      ]
     },
     "metadata": {},
     "output_type": "display_data"
    },
    {
     "data": {
      "text/html": [
       "Run data is saved locally in <code>/Users/naliniramanathan/projects/snn_project/spytorch/notebooks/wandb/run-20250417_113012-4uqgjk99</code>"
      ],
      "text/plain": [
       "<IPython.core.display.HTML object>"
      ]
     },
     "metadata": {},
     "output_type": "display_data"
    },
    {
     "data": {
      "text/html": [
       "Syncing run <strong><a href='https://wandb.ai/nar8991-new-york-university/SNN_test_optimize/runs/4uqgjk99' target=\"_blank\">dashing-sweep-9</a></strong> to <a href='https://wandb.ai/nar8991-new-york-university/SNN_test_optimize' target=\"_blank\">Weights & Biases</a> (<a href='https://wandb.me/developer-guide' target=\"_blank\">docs</a>)<br>Sweep page: <a href='https://wandb.ai/nar8991-new-york-university/SNN_test_optimize/sweeps/bcuwzlkb' target=\"_blank\">https://wandb.ai/nar8991-new-york-university/SNN_test_optimize/sweeps/bcuwzlkb</a>"
      ],
      "text/plain": [
       "<IPython.core.display.HTML object>"
      ]
     },
     "metadata": {},
     "output_type": "display_data"
    },
    {
     "data": {
      "text/html": [
       " View project at <a href='https://wandb.ai/nar8991-new-york-university/SNN_test_optimize' target=\"_blank\">https://wandb.ai/nar8991-new-york-university/SNN_test_optimize</a>"
      ],
      "text/plain": [
       "<IPython.core.display.HTML object>"
      ]
     },
     "metadata": {},
     "output_type": "display_data"
    },
    {
     "data": {
      "text/html": [
       " View sweep at <a href='https://wandb.ai/nar8991-new-york-university/SNN_test_optimize/sweeps/bcuwzlkb' target=\"_blank\">https://wandb.ai/nar8991-new-york-university/SNN_test_optimize/sweeps/bcuwzlkb</a>"
      ],
      "text/plain": [
       "<IPython.core.display.HTML object>"
      ]
     },
     "metadata": {},
     "output_type": "display_data"
    },
    {
     "data": {
      "text/html": [
       " View run at <a href='https://wandb.ai/nar8991-new-york-university/SNN_test_optimize/runs/4uqgjk99' target=\"_blank\">https://wandb.ai/nar8991-new-york-university/SNN_test_optimize/runs/4uqgjk99</a>"
      ],
      "text/plain": [
       "<IPython.core.display.HTML object>"
      ]
     },
     "metadata": {},
     "output_type": "display_data"
    },
    {
     "name": "stderr",
     "output_type": "stream",
     "text": [
      "/var/folders/7b/0zqwym191dq_5jvhhbf5lfgr0000gn/T/ipykernel_69979/3981686502.py:11: UserWarning: To copy construct from a tensor, it is recommended to use sourceTensor.clone().detach() or sourceTensor.clone().detach().requires_grad_(True), rather than torch.tensor(sourceTensor).\n",
      "  data_tensor = torch.tensor(x_data, dtype=torch.float32)\n"
     ]
    },
    {
     "name": "stdout",
     "output_type": "stream",
     "text": [
      "init done\n",
      "Final Train Accuracy: 100.00%\n",
      "Final Validation Accuracy: 99.22%\n",
      "Final Test Accuracy: 100.00%\n"
     ]
    },
    {
     "data": {
      "text/html": [],
      "text/plain": [
       "<IPython.core.display.HTML object>"
      ]
     },
     "metadata": {},
     "output_type": "display_data"
    },
    {
     "data": {
      "text/html": [
       "<br>    <style><br>        .wandb-row {<br>            display: flex;<br>            flex-direction: row;<br>            flex-wrap: wrap;<br>            justify-content: flex-start;<br>            width: 100%;<br>        }<br>        .wandb-col {<br>            display: flex;<br>            flex-direction: column;<br>            flex-basis: 100%;<br>            flex: 1;<br>            padding: 10px;<br>        }<br>    </style><br><div class=\"wandb-row\"><div class=\"wandb-col\"><h3>Run history:</h3><br/><table class=\"wandb\"><tr><td>epoch</td><td>▁▁▁▁▂▂▂▂▂▃▃▃▃▃▃▃▃▄▄▄▅▅▅▅▅▅▅▅▅▅▆▆▆▆▆▇▇▇▇█</td></tr><tr><td>final_test_accuracy</td><td>▁</td></tr><tr><td>final_train_accuracy</td><td>▁</td></tr><tr><td>final_val_accuracy</td><td>▁</td></tr><tr><td>spike_count_train_epoch</td><td>▁▁▁▁▁▁▁▁▁▁▁▁▁▁▁▁▁▁▁▁▁▁▁▁▁▁▁▁▁▁▁▁▁▁▁▁▁▁▁▁</td></tr><tr><td>spike_count_val_epoch</td><td>█▆▂▁▁▁▁▂▃▄▄▄▄▅▅▆▆▆▅▅▅▅▅▅▅▅▅▅▄▄▄▄▄▄▄▄▄▄▄▄</td></tr><tr><td>train_loss</td><td>█████▇▇▇▇▇▇▇▆▆▆▅▅▅▄▄▄▄▄▃▃▂▂▂▂▂▂▂▂▁▁▁▁▁▁▁</td></tr><tr><td>val_accuracy</td><td>▁▂▃▃▄▅▆▆▆▇▇▇▇███████████████████████████</td></tr><tr><td>val_loss</td><td>██▇▇▇▇▇▆▆▆▆▆▅▅▅▅▄▄▄▄▄▃▃▃▃▃▃▂▂▂▂▂▂▂▂▁▁▁▁▁</td></tr></table><br/></div><div class=\"wandb-col\"><h3>Run summary:</h3><br/><table class=\"wandb\"><tr><td>epoch</td><td>149</td></tr><tr><td>final_test_accuracy</td><td>1</td></tr><tr><td>final_train_accuracy</td><td>1</td></tr><tr><td>final_val_accuracy</td><td>0.99219</td></tr><tr><td>spike_count_train_epoch</td><td>0</td></tr><tr><td>spike_count_val_epoch</td><td>56</td></tr><tr><td>train_loss</td><td>0.09579</td></tr><tr><td>val_accuracy</td><td>0.99219</td></tr><tr><td>val_loss</td><td>0.13302</td></tr></table><br/></div></div>"
      ],
      "text/plain": [
       "<IPython.core.display.HTML object>"
      ]
     },
     "metadata": {},
     "output_type": "display_data"
    },
    {
     "data": {
      "text/html": [
       " View run <strong style=\"color:#cdcd00\">Hybrid_ANN_non_recurrent-l1_1e-05-l2_1e-05</strong> at: <a href='https://wandb.ai/nar8991-new-york-university/SNN_test_optimize/runs/4uqgjk99' target=\"_blank\">https://wandb.ai/nar8991-new-york-university/SNN_test_optimize/runs/4uqgjk99</a><br> View project at: <a href='https://wandb.ai/nar8991-new-york-university/SNN_test_optimize' target=\"_blank\">https://wandb.ai/nar8991-new-york-university/SNN_test_optimize</a><br>Synced 5 W&B file(s), 0 media file(s), 0 artifact file(s) and 0 other file(s)"
      ],
      "text/plain": [
       "<IPython.core.display.HTML object>"
      ]
     },
     "metadata": {},
     "output_type": "display_data"
    },
    {
     "data": {
      "text/html": [
       "Find logs at: <code>./wandb/run-20250417_113012-4uqgjk99/logs</code>"
      ],
      "text/plain": [
       "<IPython.core.display.HTML object>"
      ]
     },
     "metadata": {},
     "output_type": "display_data"
    },
    {
     "name": "stdout",
     "output_type": "stream",
     "text": [
      "Create sweep with ID: ri4yhfyp\n",
      "Sweep URL: https://wandb.ai/nar8991-new-york-university/SNN_test_optimize/sweeps/ri4yhfyp\n"
     ]
    },
    {
     "name": "stderr",
     "output_type": "stream",
     "text": [
      "\u001b[34m\u001b[1mwandb\u001b[0m: Agent Starting Run: py8ia8yz with config:\n",
      "\u001b[34m\u001b[1mwandb\u001b[0m: \tepochs: 150\n",
      "\u001b[34m\u001b[1mwandb\u001b[0m: \tl1: 1e-06\n",
      "\u001b[34m\u001b[1mwandb\u001b[0m: \tl2: 1e-06\n",
      "\u001b[34m\u001b[1mwandb\u001b[0m: \tlearning_rate: 0.002\n",
      "\u001b[34m\u001b[1mwandb\u001b[0m: \tmodel_name: Hybrid_RNN\n",
      "\u001b[34m\u001b[1mwandb\u001b[0m: \toptimizer: Adam\n",
      "\u001b[34m\u001b[1mwandb\u001b[0m: \tregularization: True\n"
     ]
    },
    {
     "data": {
      "text/html": [
       "Ignoring project 'SNN_test_optimize' when running a sweep."
      ],
      "text/plain": [
       "<IPython.core.display.HTML object>"
      ]
     },
     "metadata": {},
     "output_type": "display_data"
    },
    {
     "data": {
      "text/html": [
       "Tracking run with wandb version 0.19.9"
      ],
      "text/plain": [
       "<IPython.core.display.HTML object>"
      ]
     },
     "metadata": {},
     "output_type": "display_data"
    },
    {
     "data": {
      "text/html": [
       "Run data is saved locally in <code>/Users/naliniramanathan/projects/snn_project/spytorch/notebooks/wandb/run-20250417_113246-py8ia8yz</code>"
      ],
      "text/plain": [
       "<IPython.core.display.HTML object>"
      ]
     },
     "metadata": {},
     "output_type": "display_data"
    },
    {
     "data": {
      "text/html": [
       "Syncing run <strong><a href='https://wandb.ai/nar8991-new-york-university/SNN_test_optimize/runs/py8ia8yz' target=\"_blank\">sleek-sweep-1</a></strong> to <a href='https://wandb.ai/nar8991-new-york-university/SNN_test_optimize' target=\"_blank\">Weights & Biases</a> (<a href='https://wandb.me/developer-guide' target=\"_blank\">docs</a>)<br>Sweep page: <a href='https://wandb.ai/nar8991-new-york-university/SNN_test_optimize/sweeps/ri4yhfyp' target=\"_blank\">https://wandb.ai/nar8991-new-york-university/SNN_test_optimize/sweeps/ri4yhfyp</a>"
      ],
      "text/plain": [
       "<IPython.core.display.HTML object>"
      ]
     },
     "metadata": {},
     "output_type": "display_data"
    },
    {
     "data": {
      "text/html": [
       " View project at <a href='https://wandb.ai/nar8991-new-york-university/SNN_test_optimize' target=\"_blank\">https://wandb.ai/nar8991-new-york-university/SNN_test_optimize</a>"
      ],
      "text/plain": [
       "<IPython.core.display.HTML object>"
      ]
     },
     "metadata": {},
     "output_type": "display_data"
    },
    {
     "data": {
      "text/html": [
       " View sweep at <a href='https://wandb.ai/nar8991-new-york-university/SNN_test_optimize/sweeps/ri4yhfyp' target=\"_blank\">https://wandb.ai/nar8991-new-york-university/SNN_test_optimize/sweeps/ri4yhfyp</a>"
      ],
      "text/plain": [
       "<IPython.core.display.HTML object>"
      ]
     },
     "metadata": {},
     "output_type": "display_data"
    },
    {
     "data": {
      "text/html": [
       " View run at <a href='https://wandb.ai/nar8991-new-york-university/SNN_test_optimize/runs/py8ia8yz' target=\"_blank\">https://wandb.ai/nar8991-new-york-university/SNN_test_optimize/runs/py8ia8yz</a>"
      ],
      "text/plain": [
       "<IPython.core.display.HTML object>"
      ]
     },
     "metadata": {},
     "output_type": "display_data"
    },
    {
     "name": "stderr",
     "output_type": "stream",
     "text": [
      "/var/folders/7b/0zqwym191dq_5jvhhbf5lfgr0000gn/T/ipykernel_69979/3981686502.py:11: UserWarning: To copy construct from a tensor, it is recommended to use sourceTensor.clone().detach() or sourceTensor.clone().detach().requires_grad_(True), rather than torch.tensor(sourceTensor).\n",
      "  data_tensor = torch.tensor(x_data, dtype=torch.float32)\n"
     ]
    },
    {
     "name": "stdout",
     "output_type": "stream",
     "text": [
      "init done\n",
      "Final Train Accuracy: 100.00%\n",
      "Final Validation Accuracy: 100.00%\n",
      "Final Test Accuracy: 99.61%\n"
     ]
    },
    {
     "data": {
      "text/html": [],
      "text/plain": [
       "<IPython.core.display.HTML object>"
      ]
     },
     "metadata": {},
     "output_type": "display_data"
    },
    {
     "data": {
      "text/html": [
       "<br>    <style><br>        .wandb-row {<br>            display: flex;<br>            flex-direction: row;<br>            flex-wrap: wrap;<br>            justify-content: flex-start;<br>            width: 100%;<br>        }<br>        .wandb-col {<br>            display: flex;<br>            flex-direction: column;<br>            flex-basis: 100%;<br>            flex: 1;<br>            padding: 10px;<br>        }<br>    </style><br><div class=\"wandb-row\"><div class=\"wandb-col\"><h3>Run history:</h3><br/><table class=\"wandb\"><tr><td>epoch</td><td>▁▁▁▁▁▂▂▂▂▃▃▃▃▃▃▄▄▄▄▄▅▅▅▅▅▆▆▆▆▆▆▆▇▇▇▇▇▇▇█</td></tr><tr><td>final_test_accuracy</td><td>▁</td></tr><tr><td>final_train_accuracy</td><td>▁</td></tr><tr><td>final_val_accuracy</td><td>▁</td></tr><tr><td>spike_count_train_epoch</td><td>▁▁▁▁▁▁▁▁▁▁▁▁▁▁▁▁▁▁▁▁▁▁▁▁▁▁▁▁▁▁▁▁▁▁▁▁▁▁▁▁</td></tr><tr><td>spike_count_val_epoch</td><td>▄▄▄▄▄▅▅▅▅▆▆▆▇▇██████▆▆▆▆▆▄▄▄▄▄▃▂▂▂▁▁▁▁▁▁</td></tr><tr><td>train_loss</td><td>██▇▆▆▄▄▄▃▃▃▂▂▂▂▂▁▁▁▁▁▁▁▁▁▁▁▁▁▁▁▁▁▁▁▁▁▁▁▁</td></tr><tr><td>val_accuracy</td><td>▁▃▅▅▅▇▇▇▇▇██████████████████████████████</td></tr><tr><td>val_loss</td><td>█▇▆▆▅▄▃▃▂▂▂▂▂▂▁▁▁▁▁▁▁▁▁▁▁▁▁▁▁▁▁▁▁▁▁▁▁▁▁▁</td></tr></table><br/></div><div class=\"wandb-col\"><h3>Run summary:</h3><br/><table class=\"wandb\"><tr><td>epoch</td><td>149</td></tr><tr><td>final_test_accuracy</td><td>0.99609</td></tr><tr><td>final_train_accuracy</td><td>1</td></tr><tr><td>final_val_accuracy</td><td>1</td></tr><tr><td>spike_count_train_epoch</td><td>0</td></tr><tr><td>spike_count_val_epoch</td><td>77</td></tr><tr><td>train_loss</td><td>0.00246</td></tr><tr><td>val_accuracy</td><td>1</td></tr><tr><td>val_loss</td><td>0.00125</td></tr></table><br/></div></div>"
      ],
      "text/plain": [
       "<IPython.core.display.HTML object>"
      ]
     },
     "metadata": {},
     "output_type": "display_data"
    },
    {
     "data": {
      "text/html": [
       " View run <strong style=\"color:#cdcd00\">Hybrid_RNN-l1_1e-06-l2_1e-06</strong> at: <a href='https://wandb.ai/nar8991-new-york-university/SNN_test_optimize/runs/py8ia8yz' target=\"_blank\">https://wandb.ai/nar8991-new-york-university/SNN_test_optimize/runs/py8ia8yz</a><br> View project at: <a href='https://wandb.ai/nar8991-new-york-university/SNN_test_optimize' target=\"_blank\">https://wandb.ai/nar8991-new-york-university/SNN_test_optimize</a><br>Synced 5 W&B file(s), 0 media file(s), 0 artifact file(s) and 0 other file(s)"
      ],
      "text/plain": [
       "<IPython.core.display.HTML object>"
      ]
     },
     "metadata": {},
     "output_type": "display_data"
    },
    {
     "data": {
      "text/html": [
       "Find logs at: <code>./wandb/run-20250417_113246-py8ia8yz/logs</code>"
      ],
      "text/plain": [
       "<IPython.core.display.HTML object>"
      ]
     },
     "metadata": {},
     "output_type": "display_data"
    },
    {
     "name": "stderr",
     "output_type": "stream",
     "text": [
      "\u001b[34m\u001b[1mwandb\u001b[0m: Agent Starting Run: wua4d0gv with config:\n",
      "\u001b[34m\u001b[1mwandb\u001b[0m: \tepochs: 150\n",
      "\u001b[34m\u001b[1mwandb\u001b[0m: \tl1: 1e-06\n",
      "\u001b[34m\u001b[1mwandb\u001b[0m: \tl2: 5e-06\n",
      "\u001b[34m\u001b[1mwandb\u001b[0m: \tlearning_rate: 0.002\n",
      "\u001b[34m\u001b[1mwandb\u001b[0m: \tmodel_name: Hybrid_RNN\n",
      "\u001b[34m\u001b[1mwandb\u001b[0m: \toptimizer: Adam\n",
      "\u001b[34m\u001b[1mwandb\u001b[0m: \tregularization: True\n"
     ]
    },
    {
     "data": {
      "text/html": [
       "Ignoring project 'SNN_test_optimize' when running a sweep."
      ],
      "text/plain": [
       "<IPython.core.display.HTML object>"
      ]
     },
     "metadata": {},
     "output_type": "display_data"
    },
    {
     "data": {
      "text/html": [
       "Tracking run with wandb version 0.19.9"
      ],
      "text/plain": [
       "<IPython.core.display.HTML object>"
      ]
     },
     "metadata": {},
     "output_type": "display_data"
    },
    {
     "data": {
      "text/html": [
       "Run data is saved locally in <code>/Users/naliniramanathan/projects/snn_project/spytorch/notebooks/wandb/run-20250417_113549-wua4d0gv</code>"
      ],
      "text/plain": [
       "<IPython.core.display.HTML object>"
      ]
     },
     "metadata": {},
     "output_type": "display_data"
    },
    {
     "data": {
      "text/html": [
       "Syncing run <strong><a href='https://wandb.ai/nar8991-new-york-university/SNN_test_optimize/runs/wua4d0gv' target=\"_blank\">spring-sweep-2</a></strong> to <a href='https://wandb.ai/nar8991-new-york-university/SNN_test_optimize' target=\"_blank\">Weights & Biases</a> (<a href='https://wandb.me/developer-guide' target=\"_blank\">docs</a>)<br>Sweep page: <a href='https://wandb.ai/nar8991-new-york-university/SNN_test_optimize/sweeps/ri4yhfyp' target=\"_blank\">https://wandb.ai/nar8991-new-york-university/SNN_test_optimize/sweeps/ri4yhfyp</a>"
      ],
      "text/plain": [
       "<IPython.core.display.HTML object>"
      ]
     },
     "metadata": {},
     "output_type": "display_data"
    },
    {
     "data": {
      "text/html": [
       " View project at <a href='https://wandb.ai/nar8991-new-york-university/SNN_test_optimize' target=\"_blank\">https://wandb.ai/nar8991-new-york-university/SNN_test_optimize</a>"
      ],
      "text/plain": [
       "<IPython.core.display.HTML object>"
      ]
     },
     "metadata": {},
     "output_type": "display_data"
    },
    {
     "data": {
      "text/html": [
       " View sweep at <a href='https://wandb.ai/nar8991-new-york-university/SNN_test_optimize/sweeps/ri4yhfyp' target=\"_blank\">https://wandb.ai/nar8991-new-york-university/SNN_test_optimize/sweeps/ri4yhfyp</a>"
      ],
      "text/plain": [
       "<IPython.core.display.HTML object>"
      ]
     },
     "metadata": {},
     "output_type": "display_data"
    },
    {
     "data": {
      "text/html": [
       " View run at <a href='https://wandb.ai/nar8991-new-york-university/SNN_test_optimize/runs/wua4d0gv' target=\"_blank\">https://wandb.ai/nar8991-new-york-university/SNN_test_optimize/runs/wua4d0gv</a>"
      ],
      "text/plain": [
       "<IPython.core.display.HTML object>"
      ]
     },
     "metadata": {},
     "output_type": "display_data"
    },
    {
     "name": "stderr",
     "output_type": "stream",
     "text": [
      "/var/folders/7b/0zqwym191dq_5jvhhbf5lfgr0000gn/T/ipykernel_69979/3981686502.py:11: UserWarning: To copy construct from a tensor, it is recommended to use sourceTensor.clone().detach() or sourceTensor.clone().detach().requires_grad_(True), rather than torch.tensor(sourceTensor).\n",
      "  data_tensor = torch.tensor(x_data, dtype=torch.float32)\n"
     ]
    },
    {
     "name": "stdout",
     "output_type": "stream",
     "text": [
      "init done\n",
      "Final Train Accuracy: 100.00%\n",
      "Final Validation Accuracy: 100.00%\n",
      "Final Test Accuracy: 99.61%\n"
     ]
    },
    {
     "data": {
      "text/html": [],
      "text/plain": [
       "<IPython.core.display.HTML object>"
      ]
     },
     "metadata": {},
     "output_type": "display_data"
    },
    {
     "data": {
      "text/html": [
       "<br>    <style><br>        .wandb-row {<br>            display: flex;<br>            flex-direction: row;<br>            flex-wrap: wrap;<br>            justify-content: flex-start;<br>            width: 100%;<br>        }<br>        .wandb-col {<br>            display: flex;<br>            flex-direction: column;<br>            flex-basis: 100%;<br>            flex: 1;<br>            padding: 10px;<br>        }<br>    </style><br><div class=\"wandb-row\"><div class=\"wandb-col\"><h3>Run history:</h3><br/><table class=\"wandb\"><tr><td>epoch</td><td>▁▁▁▂▂▂▂▂▂▃▃▃▃▃▃▄▄▄▄▄▄▄▄▅▅▅▅▆▆▆▆▆▆▆▇▇▇▇██</td></tr><tr><td>final_test_accuracy</td><td>▁</td></tr><tr><td>final_train_accuracy</td><td>▁</td></tr><tr><td>final_val_accuracy</td><td>▁</td></tr><tr><td>spike_count_train_epoch</td><td>▁▁▁▁▁▁▁▁▁▁▁▁▁▁▁▁▁▁▁▁▁▁▁▁▁▁▁▁▁▁▁▁▁▁▁▁▁▁▁▁</td></tr><tr><td>spike_count_val_epoch</td><td>█▇▆▄▄▄▄▄▆▆▆▆▆▆▆▆▅▄▄▃▂▂▂▂▂▁▁▁▁▁▁▁▁▁▁▁▁▁▁▁</td></tr><tr><td>train_loss</td><td>█▇▇▆▆▅▄▄▃▃▂▂▂▂▂▁▁▁▁▁▁▁▁▁▁▁▁▁▁▁▁▁▁▁▁▁▁▁▁▁</td></tr><tr><td>val_accuracy</td><td>▁▃▃▄▅▅▅▆▆▆▆▇▇▇▇█████████████████████████</td></tr><tr><td>val_loss</td><td>██▇▇▆▆▆▅▅▄▃▃▃▂▂▂▁▁▁▁▁▁▁▁▁▁▁▁▁▁▁▁▁▁▁▁▁▁▁▁</td></tr></table><br/></div><div class=\"wandb-col\"><h3>Run summary:</h3><br/><table class=\"wandb\"><tr><td>epoch</td><td>149</td></tr><tr><td>final_test_accuracy</td><td>0.99609</td></tr><tr><td>final_train_accuracy</td><td>1</td></tr><tr><td>final_val_accuracy</td><td>1</td></tr><tr><td>spike_count_train_epoch</td><td>0</td></tr><tr><td>spike_count_val_epoch</td><td>10</td></tr><tr><td>train_loss</td><td>0.00122</td></tr><tr><td>val_accuracy</td><td>1</td></tr><tr><td>val_loss</td><td>0.00199</td></tr></table><br/></div></div>"
      ],
      "text/plain": [
       "<IPython.core.display.HTML object>"
      ]
     },
     "metadata": {},
     "output_type": "display_data"
    },
    {
     "data": {
      "text/html": [
       " View run <strong style=\"color:#cdcd00\">Hybrid_RNN-l1_1e-06-l2_5e-06</strong> at: <a href='https://wandb.ai/nar8991-new-york-university/SNN_test_optimize/runs/wua4d0gv' target=\"_blank\">https://wandb.ai/nar8991-new-york-university/SNN_test_optimize/runs/wua4d0gv</a><br> View project at: <a href='https://wandb.ai/nar8991-new-york-university/SNN_test_optimize' target=\"_blank\">https://wandb.ai/nar8991-new-york-university/SNN_test_optimize</a><br>Synced 5 W&B file(s), 0 media file(s), 0 artifact file(s) and 0 other file(s)"
      ],
      "text/plain": [
       "<IPython.core.display.HTML object>"
      ]
     },
     "metadata": {},
     "output_type": "display_data"
    },
    {
     "data": {
      "text/html": [
       "Find logs at: <code>./wandb/run-20250417_113549-wua4d0gv/logs</code>"
      ],
      "text/plain": [
       "<IPython.core.display.HTML object>"
      ]
     },
     "metadata": {},
     "output_type": "display_data"
    },
    {
     "name": "stderr",
     "output_type": "stream",
     "text": [
      "\u001b[34m\u001b[1mwandb\u001b[0m: Agent Starting Run: xaeawu13 with config:\n",
      "\u001b[34m\u001b[1mwandb\u001b[0m: \tepochs: 150\n",
      "\u001b[34m\u001b[1mwandb\u001b[0m: \tl1: 1e-06\n",
      "\u001b[34m\u001b[1mwandb\u001b[0m: \tl2: 1e-05\n",
      "\u001b[34m\u001b[1mwandb\u001b[0m: \tlearning_rate: 0.002\n",
      "\u001b[34m\u001b[1mwandb\u001b[0m: \tmodel_name: Hybrid_RNN\n",
      "\u001b[34m\u001b[1mwandb\u001b[0m: \toptimizer: Adam\n",
      "\u001b[34m\u001b[1mwandb\u001b[0m: \tregularization: True\n"
     ]
    },
    {
     "data": {
      "text/html": [
       "Ignoring project 'SNN_test_optimize' when running a sweep."
      ],
      "text/plain": [
       "<IPython.core.display.HTML object>"
      ]
     },
     "metadata": {},
     "output_type": "display_data"
    },
    {
     "data": {
      "text/html": [
       "Tracking run with wandb version 0.19.9"
      ],
      "text/plain": [
       "<IPython.core.display.HTML object>"
      ]
     },
     "metadata": {},
     "output_type": "display_data"
    },
    {
     "data": {
      "text/html": [
       "Run data is saved locally in <code>/Users/naliniramanathan/projects/snn_project/spytorch/notebooks/wandb/run-20250417_113837-xaeawu13</code>"
      ],
      "text/plain": [
       "<IPython.core.display.HTML object>"
      ]
     },
     "metadata": {},
     "output_type": "display_data"
    },
    {
     "data": {
      "text/html": [
       "Syncing run <strong><a href='https://wandb.ai/nar8991-new-york-university/SNN_test_optimize/runs/xaeawu13' target=\"_blank\">fearless-sweep-3</a></strong> to <a href='https://wandb.ai/nar8991-new-york-university/SNN_test_optimize' target=\"_blank\">Weights & Biases</a> (<a href='https://wandb.me/developer-guide' target=\"_blank\">docs</a>)<br>Sweep page: <a href='https://wandb.ai/nar8991-new-york-university/SNN_test_optimize/sweeps/ri4yhfyp' target=\"_blank\">https://wandb.ai/nar8991-new-york-university/SNN_test_optimize/sweeps/ri4yhfyp</a>"
      ],
      "text/plain": [
       "<IPython.core.display.HTML object>"
      ]
     },
     "metadata": {},
     "output_type": "display_data"
    },
    {
     "data": {
      "text/html": [
       " View project at <a href='https://wandb.ai/nar8991-new-york-university/SNN_test_optimize' target=\"_blank\">https://wandb.ai/nar8991-new-york-university/SNN_test_optimize</a>"
      ],
      "text/plain": [
       "<IPython.core.display.HTML object>"
      ]
     },
     "metadata": {},
     "output_type": "display_data"
    },
    {
     "data": {
      "text/html": [
       " View sweep at <a href='https://wandb.ai/nar8991-new-york-university/SNN_test_optimize/sweeps/ri4yhfyp' target=\"_blank\">https://wandb.ai/nar8991-new-york-university/SNN_test_optimize/sweeps/ri4yhfyp</a>"
      ],
      "text/plain": [
       "<IPython.core.display.HTML object>"
      ]
     },
     "metadata": {},
     "output_type": "display_data"
    },
    {
     "data": {
      "text/html": [
       " View run at <a href='https://wandb.ai/nar8991-new-york-university/SNN_test_optimize/runs/xaeawu13' target=\"_blank\">https://wandb.ai/nar8991-new-york-university/SNN_test_optimize/runs/xaeawu13</a>"
      ],
      "text/plain": [
       "<IPython.core.display.HTML object>"
      ]
     },
     "metadata": {},
     "output_type": "display_data"
    },
    {
     "name": "stderr",
     "output_type": "stream",
     "text": [
      "/var/folders/7b/0zqwym191dq_5jvhhbf5lfgr0000gn/T/ipykernel_69979/3981686502.py:11: UserWarning: To copy construct from a tensor, it is recommended to use sourceTensor.clone().detach() or sourceTensor.clone().detach().requires_grad_(True), rather than torch.tensor(sourceTensor).\n",
      "  data_tensor = torch.tensor(x_data, dtype=torch.float32)\n"
     ]
    },
    {
     "name": "stdout",
     "output_type": "stream",
     "text": [
      "init done\n",
      "Final Train Accuracy: 100.00%\n",
      "Final Validation Accuracy: 100.00%\n",
      "Final Test Accuracy: 99.61%\n"
     ]
    },
    {
     "data": {
      "text/html": [],
      "text/plain": [
       "<IPython.core.display.HTML object>"
      ]
     },
     "metadata": {},
     "output_type": "display_data"
    },
    {
     "data": {
      "text/html": [
       "<br>    <style><br>        .wandb-row {<br>            display: flex;<br>            flex-direction: row;<br>            flex-wrap: wrap;<br>            justify-content: flex-start;<br>            width: 100%;<br>        }<br>        .wandb-col {<br>            display: flex;<br>            flex-direction: column;<br>            flex-basis: 100%;<br>            flex: 1;<br>            padding: 10px;<br>        }<br>    </style><br><div class=\"wandb-row\"><div class=\"wandb-col\"><h3>Run history:</h3><br/><table class=\"wandb\"><tr><td>epoch</td><td>▁▁▁▁▂▂▂▂▂▂▃▃▃▃▃▄▄▄▄▄▄▄▅▅▅▅▅▆▆▆▆▆▇▇▇▇▇███</td></tr><tr><td>final_test_accuracy</td><td>▁</td></tr><tr><td>final_train_accuracy</td><td>▁</td></tr><tr><td>final_val_accuracy</td><td>▁</td></tr><tr><td>spike_count_train_epoch</td><td>▁▁▁▁▁▁▁▁▁▁▁▁▁▁▁▁▁▁▁▁▁▁▁▁▁▁▁▁▁▁▁▁▁▁▁▁▁▁▁▁</td></tr><tr><td>spike_count_val_epoch</td><td>█▅▅▂▂▂▃▃▄▄▄▄▄▃▃▃▃▂▂▂▁▁▁▁▁▁▁▁▁▁▁▁▁▁▁▁▁▁▁▁</td></tr><tr><td>train_loss</td><td>██▇▆▆▅▅▅▅▅▅▄▄▄▃▂▂▂▂▁▁▁▁▁▁▁▁▁▁▁▁▁▁▁▁▁▁▁▁▁</td></tr><tr><td>val_accuracy</td><td>▁▃▃▄▅▆▆▆▆▆▆▇▇▇▇█████████████████████████</td></tr><tr><td>val_loss</td><td>█▇▇▇▆▆▅▅▅▄▄▄▄▄▃▃▃▃▂▂▂▂▁▁▁▁▁▁▁▁▁▁▁▁▁▁▁▁▁▁</td></tr></table><br/></div><div class=\"wandb-col\"><h3>Run summary:</h3><br/><table class=\"wandb\"><tr><td>epoch</td><td>149</td></tr><tr><td>final_test_accuracy</td><td>0.99609</td></tr><tr><td>final_train_accuracy</td><td>1</td></tr><tr><td>final_val_accuracy</td><td>1</td></tr><tr><td>spike_count_train_epoch</td><td>0</td></tr><tr><td>spike_count_val_epoch</td><td>9</td></tr><tr><td>train_loss</td><td>0.00242</td></tr><tr><td>val_accuracy</td><td>1</td></tr><tr><td>val_loss</td><td>0.00342</td></tr></table><br/></div></div>"
      ],
      "text/plain": [
       "<IPython.core.display.HTML object>"
      ]
     },
     "metadata": {},
     "output_type": "display_data"
    },
    {
     "data": {
      "text/html": [
       " View run <strong style=\"color:#cdcd00\">Hybrid_RNN-l1_1e-06-l2_1e-05</strong> at: <a href='https://wandb.ai/nar8991-new-york-university/SNN_test_optimize/runs/xaeawu13' target=\"_blank\">https://wandb.ai/nar8991-new-york-university/SNN_test_optimize/runs/xaeawu13</a><br> View project at: <a href='https://wandb.ai/nar8991-new-york-university/SNN_test_optimize' target=\"_blank\">https://wandb.ai/nar8991-new-york-university/SNN_test_optimize</a><br>Synced 5 W&B file(s), 0 media file(s), 0 artifact file(s) and 0 other file(s)"
      ],
      "text/plain": [
       "<IPython.core.display.HTML object>"
      ]
     },
     "metadata": {},
     "output_type": "display_data"
    },
    {
     "data": {
      "text/html": [
       "Find logs at: <code>./wandb/run-20250417_113837-xaeawu13/logs</code>"
      ],
      "text/plain": [
       "<IPython.core.display.HTML object>"
      ]
     },
     "metadata": {},
     "output_type": "display_data"
    },
    {
     "name": "stderr",
     "output_type": "stream",
     "text": [
      "\u001b[34m\u001b[1mwandb\u001b[0m: Agent Starting Run: jzh21mt4 with config:\n",
      "\u001b[34m\u001b[1mwandb\u001b[0m: \tepochs: 150\n",
      "\u001b[34m\u001b[1mwandb\u001b[0m: \tl1: 5e-06\n",
      "\u001b[34m\u001b[1mwandb\u001b[0m: \tl2: 1e-06\n",
      "\u001b[34m\u001b[1mwandb\u001b[0m: \tlearning_rate: 0.002\n",
      "\u001b[34m\u001b[1mwandb\u001b[0m: \tmodel_name: Hybrid_RNN\n",
      "\u001b[34m\u001b[1mwandb\u001b[0m: \toptimizer: Adam\n",
      "\u001b[34m\u001b[1mwandb\u001b[0m: \tregularization: True\n"
     ]
    },
    {
     "data": {
      "text/html": [
       "Ignoring project 'SNN_test_optimize' when running a sweep."
      ],
      "text/plain": [
       "<IPython.core.display.HTML object>"
      ]
     },
     "metadata": {},
     "output_type": "display_data"
    },
    {
     "data": {
      "text/html": [
       "Tracking run with wandb version 0.19.9"
      ],
      "text/plain": [
       "<IPython.core.display.HTML object>"
      ]
     },
     "metadata": {},
     "output_type": "display_data"
    },
    {
     "data": {
      "text/html": [
       "Run data is saved locally in <code>/Users/naliniramanathan/projects/snn_project/spytorch/notebooks/wandb/run-20250417_114109-jzh21mt4</code>"
      ],
      "text/plain": [
       "<IPython.core.display.HTML object>"
      ]
     },
     "metadata": {},
     "output_type": "display_data"
    },
    {
     "data": {
      "text/html": [
       "Syncing run <strong><a href='https://wandb.ai/nar8991-new-york-university/SNN_test_optimize/runs/jzh21mt4' target=\"_blank\">proud-sweep-4</a></strong> to <a href='https://wandb.ai/nar8991-new-york-university/SNN_test_optimize' target=\"_blank\">Weights & Biases</a> (<a href='https://wandb.me/developer-guide' target=\"_blank\">docs</a>)<br>Sweep page: <a href='https://wandb.ai/nar8991-new-york-university/SNN_test_optimize/sweeps/ri4yhfyp' target=\"_blank\">https://wandb.ai/nar8991-new-york-university/SNN_test_optimize/sweeps/ri4yhfyp</a>"
      ],
      "text/plain": [
       "<IPython.core.display.HTML object>"
      ]
     },
     "metadata": {},
     "output_type": "display_data"
    },
    {
     "data": {
      "text/html": [
       " View project at <a href='https://wandb.ai/nar8991-new-york-university/SNN_test_optimize' target=\"_blank\">https://wandb.ai/nar8991-new-york-university/SNN_test_optimize</a>"
      ],
      "text/plain": [
       "<IPython.core.display.HTML object>"
      ]
     },
     "metadata": {},
     "output_type": "display_data"
    },
    {
     "data": {
      "text/html": [
       " View sweep at <a href='https://wandb.ai/nar8991-new-york-university/SNN_test_optimize/sweeps/ri4yhfyp' target=\"_blank\">https://wandb.ai/nar8991-new-york-university/SNN_test_optimize/sweeps/ri4yhfyp</a>"
      ],
      "text/plain": [
       "<IPython.core.display.HTML object>"
      ]
     },
     "metadata": {},
     "output_type": "display_data"
    },
    {
     "data": {
      "text/html": [
       " View run at <a href='https://wandb.ai/nar8991-new-york-university/SNN_test_optimize/runs/jzh21mt4' target=\"_blank\">https://wandb.ai/nar8991-new-york-university/SNN_test_optimize/runs/jzh21mt4</a>"
      ],
      "text/plain": [
       "<IPython.core.display.HTML object>"
      ]
     },
     "metadata": {},
     "output_type": "display_data"
    },
    {
     "name": "stderr",
     "output_type": "stream",
     "text": [
      "/var/folders/7b/0zqwym191dq_5jvhhbf5lfgr0000gn/T/ipykernel_69979/3981686502.py:11: UserWarning: To copy construct from a tensor, it is recommended to use sourceTensor.clone().detach() or sourceTensor.clone().detach().requires_grad_(True), rather than torch.tensor(sourceTensor).\n",
      "  data_tensor = torch.tensor(x_data, dtype=torch.float32)\n"
     ]
    },
    {
     "name": "stdout",
     "output_type": "stream",
     "text": [
      "init done\n",
      "Final Train Accuracy: 100.00%\n",
      "Final Validation Accuracy: 100.00%\n",
      "Final Test Accuracy: 99.61%\n"
     ]
    },
    {
     "data": {
      "text/html": [],
      "text/plain": [
       "<IPython.core.display.HTML object>"
      ]
     },
     "metadata": {},
     "output_type": "display_data"
    },
    {
     "data": {
      "text/html": [
       "<br>    <style><br>        .wandb-row {<br>            display: flex;<br>            flex-direction: row;<br>            flex-wrap: wrap;<br>            justify-content: flex-start;<br>            width: 100%;<br>        }<br>        .wandb-col {<br>            display: flex;<br>            flex-direction: column;<br>            flex-basis: 100%;<br>            flex: 1;<br>            padding: 10px;<br>        }<br>    </style><br><div class=\"wandb-row\"><div class=\"wandb-col\"><h3>Run history:</h3><br/><table class=\"wandb\"><tr><td>epoch</td><td>▁▁▁▁▁▂▂▂▂▂▃▃▄▄▄▄▄▄▅▅▅▅▆▆▆▆▆▆▆▇▇▇▇▇▇█████</td></tr><tr><td>final_test_accuracy</td><td>▁</td></tr><tr><td>final_train_accuracy</td><td>▁</td></tr><tr><td>final_val_accuracy</td><td>▁</td></tr><tr><td>spike_count_train_epoch</td><td>▁▁▁▁▁▁▁▁▁▁▁▁▁▁▁▁▁▁▁▁▁▁▁▁▁▁▁▁▁▁▁▁▁▁▁▁▁▁▁▁</td></tr><tr><td>spike_count_val_epoch</td><td>▄▄▄▄▄▄▄▄▆▆▇██████▇▇▆▆▅▅▅▄▃▃▂▂▂▂▂▁▁▁▁▁▁▁▁</td></tr><tr><td>train_loss</td><td>██▆▆▅▄▄▄▄▄▃▂▂▂▂▂▂▂▂▂▁▁▁▁▁▁▁▁▁▁▁▁▁▁▁▁▁▁▁▁</td></tr><tr><td>val_accuracy</td><td>▁▄▅▅▆▇██████████████████████████████████</td></tr><tr><td>val_loss</td><td>██▆▅▅▅▅▅▄▄▄▃▂▂▂▂▂▂▂▁▁▁▁▁▁▁▁▁▁▁▁▁▁▁▁▁▁▁▁▁</td></tr></table><br/></div><div class=\"wandb-col\"><h3>Run summary:</h3><br/><table class=\"wandb\"><tr><td>epoch</td><td>149</td></tr><tr><td>final_test_accuracy</td><td>0.99609</td></tr><tr><td>final_train_accuracy</td><td>1</td></tr><tr><td>final_val_accuracy</td><td>1</td></tr><tr><td>spike_count_train_epoch</td><td>0</td></tr><tr><td>spike_count_val_epoch</td><td>60</td></tr><tr><td>train_loss</td><td>0.00183</td></tr><tr><td>val_accuracy</td><td>1</td></tr><tr><td>val_loss</td><td>0.00111</td></tr></table><br/></div></div>"
      ],
      "text/plain": [
       "<IPython.core.display.HTML object>"
      ]
     },
     "metadata": {},
     "output_type": "display_data"
    },
    {
     "data": {
      "text/html": [
       " View run <strong style=\"color:#cdcd00\">Hybrid_RNN-l1_5e-06-l2_1e-06</strong> at: <a href='https://wandb.ai/nar8991-new-york-university/SNN_test_optimize/runs/jzh21mt4' target=\"_blank\">https://wandb.ai/nar8991-new-york-university/SNN_test_optimize/runs/jzh21mt4</a><br> View project at: <a href='https://wandb.ai/nar8991-new-york-university/SNN_test_optimize' target=\"_blank\">https://wandb.ai/nar8991-new-york-university/SNN_test_optimize</a><br>Synced 5 W&B file(s), 0 media file(s), 0 artifact file(s) and 0 other file(s)"
      ],
      "text/plain": [
       "<IPython.core.display.HTML object>"
      ]
     },
     "metadata": {},
     "output_type": "display_data"
    },
    {
     "data": {
      "text/html": [
       "Find logs at: <code>./wandb/run-20250417_114109-jzh21mt4/logs</code>"
      ],
      "text/plain": [
       "<IPython.core.display.HTML object>"
      ]
     },
     "metadata": {},
     "output_type": "display_data"
    },
    {
     "name": "stderr",
     "output_type": "stream",
     "text": [
      "\u001b[34m\u001b[1mwandb\u001b[0m: Sweep Agent: Waiting for job.\n",
      "\u001b[34m\u001b[1mwandb\u001b[0m: Job received.\n",
      "\u001b[34m\u001b[1mwandb\u001b[0m: Agent Starting Run: idf1jdtf with config:\n",
      "\u001b[34m\u001b[1mwandb\u001b[0m: \tepochs: 150\n",
      "\u001b[34m\u001b[1mwandb\u001b[0m: \tl1: 5e-06\n",
      "\u001b[34m\u001b[1mwandb\u001b[0m: \tl2: 5e-06\n",
      "\u001b[34m\u001b[1mwandb\u001b[0m: \tlearning_rate: 0.002\n",
      "\u001b[34m\u001b[1mwandb\u001b[0m: \tmodel_name: Hybrid_RNN\n",
      "\u001b[34m\u001b[1mwandb\u001b[0m: \toptimizer: Adam\n",
      "\u001b[34m\u001b[1mwandb\u001b[0m: \tregularization: True\n"
     ]
    },
    {
     "data": {
      "text/html": [
       "Ignoring project 'SNN_test_optimize' when running a sweep."
      ],
      "text/plain": [
       "<IPython.core.display.HTML object>"
      ]
     },
     "metadata": {},
     "output_type": "display_data"
    },
    {
     "data": {
      "text/html": [
       "Tracking run with wandb version 0.19.9"
      ],
      "text/plain": [
       "<IPython.core.display.HTML object>"
      ]
     },
     "metadata": {},
     "output_type": "display_data"
    },
    {
     "data": {
      "text/html": [
       "Run data is saved locally in <code>/Users/naliniramanathan/projects/snn_project/spytorch/notebooks/wandb/run-20250417_114418-idf1jdtf</code>"
      ],
      "text/plain": [
       "<IPython.core.display.HTML object>"
      ]
     },
     "metadata": {},
     "output_type": "display_data"
    },
    {
     "data": {
      "text/html": [
       "Syncing run <strong><a href='https://wandb.ai/nar8991-new-york-university/SNN_test_optimize/runs/idf1jdtf' target=\"_blank\">deep-sweep-5</a></strong> to <a href='https://wandb.ai/nar8991-new-york-university/SNN_test_optimize' target=\"_blank\">Weights & Biases</a> (<a href='https://wandb.me/developer-guide' target=\"_blank\">docs</a>)<br>Sweep page: <a href='https://wandb.ai/nar8991-new-york-university/SNN_test_optimize/sweeps/ri4yhfyp' target=\"_blank\">https://wandb.ai/nar8991-new-york-university/SNN_test_optimize/sweeps/ri4yhfyp</a>"
      ],
      "text/plain": [
       "<IPython.core.display.HTML object>"
      ]
     },
     "metadata": {},
     "output_type": "display_data"
    },
    {
     "data": {
      "text/html": [
       " View project at <a href='https://wandb.ai/nar8991-new-york-university/SNN_test_optimize' target=\"_blank\">https://wandb.ai/nar8991-new-york-university/SNN_test_optimize</a>"
      ],
      "text/plain": [
       "<IPython.core.display.HTML object>"
      ]
     },
     "metadata": {},
     "output_type": "display_data"
    },
    {
     "data": {
      "text/html": [
       " View sweep at <a href='https://wandb.ai/nar8991-new-york-university/SNN_test_optimize/sweeps/ri4yhfyp' target=\"_blank\">https://wandb.ai/nar8991-new-york-university/SNN_test_optimize/sweeps/ri4yhfyp</a>"
      ],
      "text/plain": [
       "<IPython.core.display.HTML object>"
      ]
     },
     "metadata": {},
     "output_type": "display_data"
    },
    {
     "data": {
      "text/html": [
       " View run at <a href='https://wandb.ai/nar8991-new-york-university/SNN_test_optimize/runs/idf1jdtf' target=\"_blank\">https://wandb.ai/nar8991-new-york-university/SNN_test_optimize/runs/idf1jdtf</a>"
      ],
      "text/plain": [
       "<IPython.core.display.HTML object>"
      ]
     },
     "metadata": {},
     "output_type": "display_data"
    },
    {
     "name": "stderr",
     "output_type": "stream",
     "text": [
      "/var/folders/7b/0zqwym191dq_5jvhhbf5lfgr0000gn/T/ipykernel_69979/3981686502.py:11: UserWarning: To copy construct from a tensor, it is recommended to use sourceTensor.clone().detach() or sourceTensor.clone().detach().requires_grad_(True), rather than torch.tensor(sourceTensor).\n",
      "  data_tensor = torch.tensor(x_data, dtype=torch.float32)\n"
     ]
    },
    {
     "name": "stdout",
     "output_type": "stream",
     "text": [
      "init done\n",
      "Final Train Accuracy: 100.00%\n",
      "Final Validation Accuracy: 100.00%\n",
      "Final Test Accuracy: 99.61%\n"
     ]
    },
    {
     "data": {
      "text/html": [],
      "text/plain": [
       "<IPython.core.display.HTML object>"
      ]
     },
     "metadata": {},
     "output_type": "display_data"
    },
    {
     "data": {
      "text/html": [
       "<br>    <style><br>        .wandb-row {<br>            display: flex;<br>            flex-direction: row;<br>            flex-wrap: wrap;<br>            justify-content: flex-start;<br>            width: 100%;<br>        }<br>        .wandb-col {<br>            display: flex;<br>            flex-direction: column;<br>            flex-basis: 100%;<br>            flex: 1;<br>            padding: 10px;<br>        }<br>    </style><br><div class=\"wandb-row\"><div class=\"wandb-col\"><h3>Run history:</h3><br/><table class=\"wandb\"><tr><td>epoch</td><td>▁▁▂▂▂▂▂▂▃▃▃▃▃▄▄▄▄▄▄▄▅▅▅▅▅▅▅▅▆▆▆▆▆▇▇▇████</td></tr><tr><td>final_test_accuracy</td><td>▁</td></tr><tr><td>final_train_accuracy</td><td>▁</td></tr><tr><td>final_val_accuracy</td><td>▁</td></tr><tr><td>spike_count_train_epoch</td><td>▁▁▁▁▁▁▁▁▁▁▁▁▁▁▁▁▁▁▁▁▁▁▁▁▁▁▁▁▁▁▁▁▁▁▁▁▁▁▁▁</td></tr><tr><td>spike_count_val_epoch</td><td>█▄▄▄▄▇█████▇▇▆▅▄▃▂▂▂▁▁▁▁▁▁▁▁▁▁▁▁▁▁▁▁▁▁▁▁</td></tr><tr><td>train_loss</td><td>██▇▆▆▅▅▅▄▄▃▃▃▃▃▃▂▂▂▂▁▁▁▁▁▁▁▁▁▁▁▁▁▁▁▁▁▁▁▁</td></tr><tr><td>val_accuracy</td><td>▁▃▄▅▅▆▆▆▆▆▇▇▇███████████████████████████</td></tr><tr><td>val_loss</td><td>██▇▇▆▆▅▅▅▄▃▃▂▂▂▂▂▂▁▁▁▁▁▁▁▁▁▁▁▁▁▁▁▁▁▁▁▁▁▁</td></tr></table><br/></div><div class=\"wandb-col\"><h3>Run summary:</h3><br/><table class=\"wandb\"><tr><td>epoch</td><td>149</td></tr><tr><td>final_test_accuracy</td><td>0.99609</td></tr><tr><td>final_train_accuracy</td><td>1</td></tr><tr><td>final_val_accuracy</td><td>1</td></tr><tr><td>spike_count_train_epoch</td><td>0</td></tr><tr><td>spike_count_val_epoch</td><td>12</td></tr><tr><td>train_loss</td><td>0.00126</td></tr><tr><td>val_accuracy</td><td>1</td></tr><tr><td>val_loss</td><td>0.00214</td></tr></table><br/></div></div>"
      ],
      "text/plain": [
       "<IPython.core.display.HTML object>"
      ]
     },
     "metadata": {},
     "output_type": "display_data"
    },
    {
     "data": {
      "text/html": [
       " View run <strong style=\"color:#cdcd00\">Hybrid_RNN-l1_5e-06-l2_5e-06</strong> at: <a href='https://wandb.ai/nar8991-new-york-university/SNN_test_optimize/runs/idf1jdtf' target=\"_blank\">https://wandb.ai/nar8991-new-york-university/SNN_test_optimize/runs/idf1jdtf</a><br> View project at: <a href='https://wandb.ai/nar8991-new-york-university/SNN_test_optimize' target=\"_blank\">https://wandb.ai/nar8991-new-york-university/SNN_test_optimize</a><br>Synced 5 W&B file(s), 0 media file(s), 0 artifact file(s) and 0 other file(s)"
      ],
      "text/plain": [
       "<IPython.core.display.HTML object>"
      ]
     },
     "metadata": {},
     "output_type": "display_data"
    },
    {
     "data": {
      "text/html": [
       "Find logs at: <code>./wandb/run-20250417_114418-idf1jdtf/logs</code>"
      ],
      "text/plain": [
       "<IPython.core.display.HTML object>"
      ]
     },
     "metadata": {},
     "output_type": "display_data"
    },
    {
     "name": "stderr",
     "output_type": "stream",
     "text": [
      "\u001b[34m\u001b[1mwandb\u001b[0m: Sweep Agent: Waiting for job.\n",
      "\u001b[34m\u001b[1mwandb\u001b[0m: Job received.\n",
      "\u001b[34m\u001b[1mwandb\u001b[0m: Agent Starting Run: f0txyjxo with config:\n",
      "\u001b[34m\u001b[1mwandb\u001b[0m: \tepochs: 150\n",
      "\u001b[34m\u001b[1mwandb\u001b[0m: \tl1: 5e-06\n",
      "\u001b[34m\u001b[1mwandb\u001b[0m: \tl2: 1e-05\n",
      "\u001b[34m\u001b[1mwandb\u001b[0m: \tlearning_rate: 0.002\n",
      "\u001b[34m\u001b[1mwandb\u001b[0m: \tmodel_name: Hybrid_RNN\n",
      "\u001b[34m\u001b[1mwandb\u001b[0m: \toptimizer: Adam\n",
      "\u001b[34m\u001b[1mwandb\u001b[0m: \tregularization: True\n"
     ]
    },
    {
     "data": {
      "text/html": [
       "Ignoring project 'SNN_test_optimize' when running a sweep."
      ],
      "text/plain": [
       "<IPython.core.display.HTML object>"
      ]
     },
     "metadata": {},
     "output_type": "display_data"
    },
    {
     "data": {
      "text/html": [
       "Tracking run with wandb version 0.19.9"
      ],
      "text/plain": [
       "<IPython.core.display.HTML object>"
      ]
     },
     "metadata": {},
     "output_type": "display_data"
    },
    {
     "data": {
      "text/html": [
       "Run data is saved locally in <code>/Users/naliniramanathan/projects/snn_project/spytorch/notebooks/wandb/run-20250417_114706-f0txyjxo</code>"
      ],
      "text/plain": [
       "<IPython.core.display.HTML object>"
      ]
     },
     "metadata": {},
     "output_type": "display_data"
    },
    {
     "data": {
      "text/html": [
       "Syncing run <strong><a href='https://wandb.ai/nar8991-new-york-university/SNN_test_optimize/runs/f0txyjxo' target=\"_blank\">earnest-sweep-6</a></strong> to <a href='https://wandb.ai/nar8991-new-york-university/SNN_test_optimize' target=\"_blank\">Weights & Biases</a> (<a href='https://wandb.me/developer-guide' target=\"_blank\">docs</a>)<br>Sweep page: <a href='https://wandb.ai/nar8991-new-york-university/SNN_test_optimize/sweeps/ri4yhfyp' target=\"_blank\">https://wandb.ai/nar8991-new-york-university/SNN_test_optimize/sweeps/ri4yhfyp</a>"
      ],
      "text/plain": [
       "<IPython.core.display.HTML object>"
      ]
     },
     "metadata": {},
     "output_type": "display_data"
    },
    {
     "data": {
      "text/html": [
       " View project at <a href='https://wandb.ai/nar8991-new-york-university/SNN_test_optimize' target=\"_blank\">https://wandb.ai/nar8991-new-york-university/SNN_test_optimize</a>"
      ],
      "text/plain": [
       "<IPython.core.display.HTML object>"
      ]
     },
     "metadata": {},
     "output_type": "display_data"
    },
    {
     "data": {
      "text/html": [
       " View sweep at <a href='https://wandb.ai/nar8991-new-york-university/SNN_test_optimize/sweeps/ri4yhfyp' target=\"_blank\">https://wandb.ai/nar8991-new-york-university/SNN_test_optimize/sweeps/ri4yhfyp</a>"
      ],
      "text/plain": [
       "<IPython.core.display.HTML object>"
      ]
     },
     "metadata": {},
     "output_type": "display_data"
    },
    {
     "data": {
      "text/html": [
       " View run at <a href='https://wandb.ai/nar8991-new-york-university/SNN_test_optimize/runs/f0txyjxo' target=\"_blank\">https://wandb.ai/nar8991-new-york-university/SNN_test_optimize/runs/f0txyjxo</a>"
      ],
      "text/plain": [
       "<IPython.core.display.HTML object>"
      ]
     },
     "metadata": {},
     "output_type": "display_data"
    },
    {
     "name": "stderr",
     "output_type": "stream",
     "text": [
      "/var/folders/7b/0zqwym191dq_5jvhhbf5lfgr0000gn/T/ipykernel_69979/3981686502.py:11: UserWarning: To copy construct from a tensor, it is recommended to use sourceTensor.clone().detach() or sourceTensor.clone().detach().requires_grad_(True), rather than torch.tensor(sourceTensor).\n",
      "  data_tensor = torch.tensor(x_data, dtype=torch.float32)\n"
     ]
    },
    {
     "name": "stdout",
     "output_type": "stream",
     "text": [
      "init done\n",
      "Final Train Accuracy: 100.00%\n",
      "Final Validation Accuracy: 100.00%\n",
      "Final Test Accuracy: 99.61%\n"
     ]
    },
    {
     "data": {
      "text/html": [],
      "text/plain": [
       "<IPython.core.display.HTML object>"
      ]
     },
     "metadata": {},
     "output_type": "display_data"
    },
    {
     "data": {
      "text/html": [
       "<br>    <style><br>        .wandb-row {<br>            display: flex;<br>            flex-direction: row;<br>            flex-wrap: wrap;<br>            justify-content: flex-start;<br>            width: 100%;<br>        }<br>        .wandb-col {<br>            display: flex;<br>            flex-direction: column;<br>            flex-basis: 100%;<br>            flex: 1;<br>            padding: 10px;<br>        }<br>    </style><br><div class=\"wandb-row\"><div class=\"wandb-col\"><h3>Run history:</h3><br/><table class=\"wandb\"><tr><td>epoch</td><td>▁▁▁▁▁▂▂▂▂▂▃▃▃▃▄▄▄▄▄▅▅▅▅▅▅▅▅▆▆▆▆▆▆▇▇▇████</td></tr><tr><td>final_test_accuracy</td><td>▁</td></tr><tr><td>final_train_accuracy</td><td>▁</td></tr><tr><td>final_val_accuracy</td><td>▁</td></tr><tr><td>spike_count_train_epoch</td><td>▁▁▁▁▁▁▁▁▁▁▁▁▁▁▁▁▁▁▁▁▁▁▁▁▁▁▁▁▁▁▁▁▁▁▁▁▁▁▁▁</td></tr><tr><td>spike_count_val_epoch</td><td>█▅▄▄▄▅▅▇███▇▇▇▇▆▆▅▅▄▄▄▂▂▂▂▂▂▁▁▁▁▁▁▁▁▁▁▁▁</td></tr><tr><td>train_loss</td><td>█▇▇▇▆▅▅▄▄▄▃▃▃▃▂▁▂▁▁▁▁▁▁▁▁▁▁▁▁▁▁▁▁▁▁▁▁▁▁▁</td></tr><tr><td>val_accuracy</td><td>▁▂▂▄▄▅▅▅▅▆▆▇▇▇██████████████████████████</td></tr><tr><td>val_loss</td><td>██▇▇▇▆▆▆▆▆▅▅▄▄▄▃▃▃▂▂▁▁▁▁▁▁▁▁▁▁▁▁▁▁▁▁▁▁▁▁</td></tr></table><br/></div><div class=\"wandb-col\"><h3>Run summary:</h3><br/><table class=\"wandb\"><tr><td>epoch</td><td>149</td></tr><tr><td>final_test_accuracy</td><td>0.99609</td></tr><tr><td>final_train_accuracy</td><td>1</td></tr><tr><td>final_val_accuracy</td><td>1</td></tr><tr><td>spike_count_train_epoch</td><td>0</td></tr><tr><td>spike_count_val_epoch</td><td>7</td></tr><tr><td>train_loss</td><td>0.00241</td></tr><tr><td>val_accuracy</td><td>1</td></tr><tr><td>val_loss</td><td>0.00307</td></tr></table><br/></div></div>"
      ],
      "text/plain": [
       "<IPython.core.display.HTML object>"
      ]
     },
     "metadata": {},
     "output_type": "display_data"
    },
    {
     "data": {
      "text/html": [
       " View run <strong style=\"color:#cdcd00\">Hybrid_RNN-l1_5e-06-l2_1e-05</strong> at: <a href='https://wandb.ai/nar8991-new-york-university/SNN_test_optimize/runs/f0txyjxo' target=\"_blank\">https://wandb.ai/nar8991-new-york-university/SNN_test_optimize/runs/f0txyjxo</a><br> View project at: <a href='https://wandb.ai/nar8991-new-york-university/SNN_test_optimize' target=\"_blank\">https://wandb.ai/nar8991-new-york-university/SNN_test_optimize</a><br>Synced 5 W&B file(s), 0 media file(s), 0 artifact file(s) and 0 other file(s)"
      ],
      "text/plain": [
       "<IPython.core.display.HTML object>"
      ]
     },
     "metadata": {},
     "output_type": "display_data"
    },
    {
     "data": {
      "text/html": [
       "Find logs at: <code>./wandb/run-20250417_114706-f0txyjxo/logs</code>"
      ],
      "text/plain": [
       "<IPython.core.display.HTML object>"
      ]
     },
     "metadata": {},
     "output_type": "display_data"
    },
    {
     "name": "stderr",
     "output_type": "stream",
     "text": [
      "\u001b[34m\u001b[1mwandb\u001b[0m: Agent Starting Run: jsg8mp4b with config:\n",
      "\u001b[34m\u001b[1mwandb\u001b[0m: \tepochs: 150\n",
      "\u001b[34m\u001b[1mwandb\u001b[0m: \tl1: 1e-05\n",
      "\u001b[34m\u001b[1mwandb\u001b[0m: \tl2: 1e-06\n",
      "\u001b[34m\u001b[1mwandb\u001b[0m: \tlearning_rate: 0.002\n",
      "\u001b[34m\u001b[1mwandb\u001b[0m: \tmodel_name: Hybrid_RNN\n",
      "\u001b[34m\u001b[1mwandb\u001b[0m: \toptimizer: Adam\n",
      "\u001b[34m\u001b[1mwandb\u001b[0m: \tregularization: True\n"
     ]
    },
    {
     "data": {
      "text/html": [
       "Ignoring project 'SNN_test_optimize' when running a sweep."
      ],
      "text/plain": [
       "<IPython.core.display.HTML object>"
      ]
     },
     "metadata": {},
     "output_type": "display_data"
    },
    {
     "data": {
      "text/html": [
       "creating run (8.4s)"
      ],
      "text/plain": [
       "<IPython.core.display.HTML object>"
      ]
     },
     "metadata": {},
     "output_type": "display_data"
    },
    {
     "data": {
      "text/html": [
       "Tracking run with wandb version 0.19.9"
      ],
      "text/plain": [
       "<IPython.core.display.HTML object>"
      ]
     },
     "metadata": {},
     "output_type": "display_data"
    },
    {
     "data": {
      "text/html": [
       "Run data is saved locally in <code>/Users/naliniramanathan/projects/snn_project/spytorch/notebooks/wandb/run-20250417_114950-jsg8mp4b</code>"
      ],
      "text/plain": [
       "<IPython.core.display.HTML object>"
      ]
     },
     "metadata": {},
     "output_type": "display_data"
    },
    {
     "data": {
      "text/html": [
       "Syncing run <strong><a href='https://wandb.ai/nar8991-new-york-university/SNN_test_optimize/runs/jsg8mp4b' target=\"_blank\">splendid-sweep-7</a></strong> to <a href='https://wandb.ai/nar8991-new-york-university/SNN_test_optimize' target=\"_blank\">Weights & Biases</a> (<a href='https://wandb.me/developer-guide' target=\"_blank\">docs</a>)<br>Sweep page: <a href='https://wandb.ai/nar8991-new-york-university/SNN_test_optimize/sweeps/ri4yhfyp' target=\"_blank\">https://wandb.ai/nar8991-new-york-university/SNN_test_optimize/sweeps/ri4yhfyp</a>"
      ],
      "text/plain": [
       "<IPython.core.display.HTML object>"
      ]
     },
     "metadata": {},
     "output_type": "display_data"
    },
    {
     "data": {
      "text/html": [
       " View project at <a href='https://wandb.ai/nar8991-new-york-university/SNN_test_optimize' target=\"_blank\">https://wandb.ai/nar8991-new-york-university/SNN_test_optimize</a>"
      ],
      "text/plain": [
       "<IPython.core.display.HTML object>"
      ]
     },
     "metadata": {},
     "output_type": "display_data"
    },
    {
     "data": {
      "text/html": [
       " View sweep at <a href='https://wandb.ai/nar8991-new-york-university/SNN_test_optimize/sweeps/ri4yhfyp' target=\"_blank\">https://wandb.ai/nar8991-new-york-university/SNN_test_optimize/sweeps/ri4yhfyp</a>"
      ],
      "text/plain": [
       "<IPython.core.display.HTML object>"
      ]
     },
     "metadata": {},
     "output_type": "display_data"
    },
    {
     "data": {
      "text/html": [
       " View run at <a href='https://wandb.ai/nar8991-new-york-university/SNN_test_optimize/runs/jsg8mp4b' target=\"_blank\">https://wandb.ai/nar8991-new-york-university/SNN_test_optimize/runs/jsg8mp4b</a>"
      ],
      "text/plain": [
       "<IPython.core.display.HTML object>"
      ]
     },
     "metadata": {},
     "output_type": "display_data"
    },
    {
     "name": "stderr",
     "output_type": "stream",
     "text": [
      "/var/folders/7b/0zqwym191dq_5jvhhbf5lfgr0000gn/T/ipykernel_69979/3981686502.py:11: UserWarning: To copy construct from a tensor, it is recommended to use sourceTensor.clone().detach() or sourceTensor.clone().detach().requires_grad_(True), rather than torch.tensor(sourceTensor).\n",
      "  data_tensor = torch.tensor(x_data, dtype=torch.float32)\n"
     ]
    },
    {
     "name": "stdout",
     "output_type": "stream",
     "text": [
      "init done\n",
      "Final Train Accuracy: 100.00%\n",
      "Final Validation Accuracy: 100.00%\n",
      "Final Test Accuracy: 99.61%\n"
     ]
    },
    {
     "data": {
      "text/html": [],
      "text/plain": [
       "<IPython.core.display.HTML object>"
      ]
     },
     "metadata": {},
     "output_type": "display_data"
    },
    {
     "data": {
      "text/html": [
       "<br>    <style><br>        .wandb-row {<br>            display: flex;<br>            flex-direction: row;<br>            flex-wrap: wrap;<br>            justify-content: flex-start;<br>            width: 100%;<br>        }<br>        .wandb-col {<br>            display: flex;<br>            flex-direction: column;<br>            flex-basis: 100%;<br>            flex: 1;<br>            padding: 10px;<br>        }<br>    </style><br><div class=\"wandb-row\"><div class=\"wandb-col\"><h3>Run history:</h3><br/><table class=\"wandb\"><tr><td>epoch</td><td>▁▁▂▂▂▂▂▂▃▃▃▃▃▃▃▄▄▄▄▄▄▅▅▅▅▅▅▅▅▆▆▆▆▆▇▇▇███</td></tr><tr><td>final_test_accuracy</td><td>▁</td></tr><tr><td>final_train_accuracy</td><td>▁</td></tr><tr><td>final_val_accuracy</td><td>▁</td></tr><tr><td>spike_count_train_epoch</td><td>▁▁▁▁▁▁▁▁▁▁▁▁▁▁▁▁▁▁▁▁▁▁▁▁▁▁▁▁▁▁▁▁▁▁▁▁▁▁▁▁</td></tr><tr><td>spike_count_val_epoch</td><td>▅▄▄▄▄▄▄▄▅▆▇██████▇▇▇▇▆▅▅▅▄▄▄▃▃▂▂▂▂▂▁▁▁▁▁</td></tr><tr><td>train_loss</td><td>█▇▆▆▆▅▄▄▄▃▃▂▂▂▂▂▂▁▁▁▁▁▁▁▁▁▁▁▁▁▁▁▁▁▁▁▁▁▁▁</td></tr><tr><td>val_accuracy</td><td>▁▁▂▃▄▆▆▆▆▆▇▇▇▇██████████████████████████</td></tr><tr><td>val_loss</td><td>█▆▅▅▅▃▃▂▂▂▂▂▂▂▂▂▁▁▁▁▁▁▁▁▁▁▁▁▁▁▁▁▁▁▁▁▁▁▁▁</td></tr></table><br/></div><div class=\"wandb-col\"><h3>Run summary:</h3><br/><table class=\"wandb\"><tr><td>epoch</td><td>149</td></tr><tr><td>final_test_accuracy</td><td>0.99609</td></tr><tr><td>final_train_accuracy</td><td>1</td></tr><tr><td>final_val_accuracy</td><td>1</td></tr><tr><td>spike_count_train_epoch</td><td>0</td></tr><tr><td>spike_count_val_epoch</td><td>56</td></tr><tr><td>train_loss</td><td>0.00289</td></tr><tr><td>val_accuracy</td><td>1</td></tr><tr><td>val_loss</td><td>0.0018</td></tr></table><br/></div></div>"
      ],
      "text/plain": [
       "<IPython.core.display.HTML object>"
      ]
     },
     "metadata": {},
     "output_type": "display_data"
    },
    {
     "data": {
      "text/html": [
       " View run <strong style=\"color:#cdcd00\">Hybrid_RNN-l1_1e-05-l2_1e-06</strong> at: <a href='https://wandb.ai/nar8991-new-york-university/SNN_test_optimize/runs/jsg8mp4b' target=\"_blank\">https://wandb.ai/nar8991-new-york-university/SNN_test_optimize/runs/jsg8mp4b</a><br> View project at: <a href='https://wandb.ai/nar8991-new-york-university/SNN_test_optimize' target=\"_blank\">https://wandb.ai/nar8991-new-york-university/SNN_test_optimize</a><br>Synced 5 W&B file(s), 0 media file(s), 0 artifact file(s) and 0 other file(s)"
      ],
      "text/plain": [
       "<IPython.core.display.HTML object>"
      ]
     },
     "metadata": {},
     "output_type": "display_data"
    },
    {
     "data": {
      "text/html": [
       "Find logs at: <code>./wandb/run-20250417_114950-jsg8mp4b/logs</code>"
      ],
      "text/plain": [
       "<IPython.core.display.HTML object>"
      ]
     },
     "metadata": {},
     "output_type": "display_data"
    },
    {
     "name": "stderr",
     "output_type": "stream",
     "text": [
      "\u001b[34m\u001b[1mwandb\u001b[0m: Agent Starting Run: 22tknehf with config:\n",
      "\u001b[34m\u001b[1mwandb\u001b[0m: \tepochs: 150\n",
      "\u001b[34m\u001b[1mwandb\u001b[0m: \tl1: 1e-05\n",
      "\u001b[34m\u001b[1mwandb\u001b[0m: \tl2: 5e-06\n",
      "\u001b[34m\u001b[1mwandb\u001b[0m: \tlearning_rate: 0.002\n",
      "\u001b[34m\u001b[1mwandb\u001b[0m: \tmodel_name: Hybrid_RNN\n",
      "\u001b[34m\u001b[1mwandb\u001b[0m: \toptimizer: Adam\n",
      "\u001b[34m\u001b[1mwandb\u001b[0m: \tregularization: True\n"
     ]
    },
    {
     "data": {
      "text/html": [
       "Ignoring project 'SNN_test_optimize' when running a sweep."
      ],
      "text/plain": [
       "<IPython.core.display.HTML object>"
      ]
     },
     "metadata": {},
     "output_type": "display_data"
    },
    {
     "data": {
      "text/html": [
       "Tracking run with wandb version 0.19.9"
      ],
      "text/plain": [
       "<IPython.core.display.HTML object>"
      ]
     },
     "metadata": {},
     "output_type": "display_data"
    },
    {
     "data": {
      "text/html": [
       "Run data is saved locally in <code>/Users/naliniramanathan/projects/snn_project/spytorch/notebooks/wandb/run-20250417_115253-22tknehf</code>"
      ],
      "text/plain": [
       "<IPython.core.display.HTML object>"
      ]
     },
     "metadata": {},
     "output_type": "display_data"
    },
    {
     "data": {
      "text/html": [
       "Syncing run <strong><a href='https://wandb.ai/nar8991-new-york-university/SNN_test_optimize/runs/22tknehf' target=\"_blank\">fanciful-sweep-8</a></strong> to <a href='https://wandb.ai/nar8991-new-york-university/SNN_test_optimize' target=\"_blank\">Weights & Biases</a> (<a href='https://wandb.me/developer-guide' target=\"_blank\">docs</a>)<br>Sweep page: <a href='https://wandb.ai/nar8991-new-york-university/SNN_test_optimize/sweeps/ri4yhfyp' target=\"_blank\">https://wandb.ai/nar8991-new-york-university/SNN_test_optimize/sweeps/ri4yhfyp</a>"
      ],
      "text/plain": [
       "<IPython.core.display.HTML object>"
      ]
     },
     "metadata": {},
     "output_type": "display_data"
    },
    {
     "data": {
      "text/html": [
       " View project at <a href='https://wandb.ai/nar8991-new-york-university/SNN_test_optimize' target=\"_blank\">https://wandb.ai/nar8991-new-york-university/SNN_test_optimize</a>"
      ],
      "text/plain": [
       "<IPython.core.display.HTML object>"
      ]
     },
     "metadata": {},
     "output_type": "display_data"
    },
    {
     "data": {
      "text/html": [
       " View sweep at <a href='https://wandb.ai/nar8991-new-york-university/SNN_test_optimize/sweeps/ri4yhfyp' target=\"_blank\">https://wandb.ai/nar8991-new-york-university/SNN_test_optimize/sweeps/ri4yhfyp</a>"
      ],
      "text/plain": [
       "<IPython.core.display.HTML object>"
      ]
     },
     "metadata": {},
     "output_type": "display_data"
    },
    {
     "data": {
      "text/html": [
       " View run at <a href='https://wandb.ai/nar8991-new-york-university/SNN_test_optimize/runs/22tknehf' target=\"_blank\">https://wandb.ai/nar8991-new-york-university/SNN_test_optimize/runs/22tknehf</a>"
      ],
      "text/plain": [
       "<IPython.core.display.HTML object>"
      ]
     },
     "metadata": {},
     "output_type": "display_data"
    },
    {
     "name": "stderr",
     "output_type": "stream",
     "text": [
      "/var/folders/7b/0zqwym191dq_5jvhhbf5lfgr0000gn/T/ipykernel_69979/3981686502.py:11: UserWarning: To copy construct from a tensor, it is recommended to use sourceTensor.clone().detach() or sourceTensor.clone().detach().requires_grad_(True), rather than torch.tensor(sourceTensor).\n",
      "  data_tensor = torch.tensor(x_data, dtype=torch.float32)\n"
     ]
    },
    {
     "name": "stdout",
     "output_type": "stream",
     "text": [
      "init done\n",
      "Final Train Accuracy: 100.00%\n",
      "Final Validation Accuracy: 100.00%\n",
      "Final Test Accuracy: 99.61%\n"
     ]
    },
    {
     "data": {
      "text/html": [],
      "text/plain": [
       "<IPython.core.display.HTML object>"
      ]
     },
     "metadata": {},
     "output_type": "display_data"
    },
    {
     "data": {
      "text/html": [
       "<br>    <style><br>        .wandb-row {<br>            display: flex;<br>            flex-direction: row;<br>            flex-wrap: wrap;<br>            justify-content: flex-start;<br>            width: 100%;<br>        }<br>        .wandb-col {<br>            display: flex;<br>            flex-direction: column;<br>            flex-basis: 100%;<br>            flex: 1;<br>            padding: 10px;<br>        }<br>    </style><br><div class=\"wandb-row\"><div class=\"wandb-col\"><h3>Run history:</h3><br/><table class=\"wandb\"><tr><td>epoch</td><td>▁▁▁▁▂▂▃▃▃▃▃▃▃▃▄▄▄▄▄▄▅▅▅▅▅▅▆▆▆▆▆▇▇▇▇▇████</td></tr><tr><td>final_test_accuracy</td><td>▁</td></tr><tr><td>final_train_accuracy</td><td>▁</td></tr><tr><td>final_val_accuracy</td><td>▁</td></tr><tr><td>spike_count_train_epoch</td><td>▁▁▁▁▁▁▁▁▁▁▁▁▁▁▁▁▁▁▁▁▁▁▁▁▁▁▁▁▁▁▁▁▁▁▁▁▁▁▁▁</td></tr><tr><td>spike_count_val_epoch</td><td>▄▄▄▄▅▆█████▇▇▆▆▅▅▄▄▄▂▂▂▂▂▁▁▁▁▁▁▁▁▁▁▁▁▁▁▁</td></tr><tr><td>train_loss</td><td>█▇▅▅▅▅▅▄▄▄▃▃▂▂▂▂▁▁▁▁▁▁▁▁▁▁▁▁▁▁▁▁▁▁▁▁▁▁▁▁</td></tr><tr><td>val_accuracy</td><td>▁▂▂▃▄▅▅▆▆▆▇▇████████████████████████████</td></tr><tr><td>val_loss</td><td>██▆▆▆▆▅▄▄▄▃▃▃▂▂▂▁▁▁▁▁▁▁▁▁▁▁▁▁▁▁▁▁▁▁▁▁▁▁▁</td></tr></table><br/></div><div class=\"wandb-col\"><h3>Run summary:</h3><br/><table class=\"wandb\"><tr><td>epoch</td><td>149</td></tr><tr><td>final_test_accuracy</td><td>0.99609</td></tr><tr><td>final_train_accuracy</td><td>1</td></tr><tr><td>final_val_accuracy</td><td>1</td></tr><tr><td>spike_count_train_epoch</td><td>0</td></tr><tr><td>spike_count_val_epoch</td><td>12</td></tr><tr><td>train_loss</td><td>0.00154</td></tr><tr><td>val_accuracy</td><td>1</td></tr><tr><td>val_loss</td><td>0.00318</td></tr></table><br/></div></div>"
      ],
      "text/plain": [
       "<IPython.core.display.HTML object>"
      ]
     },
     "metadata": {},
     "output_type": "display_data"
    },
    {
     "data": {
      "text/html": [
       " View run <strong style=\"color:#cdcd00\">Hybrid_RNN-l1_1e-05-l2_5e-06</strong> at: <a href='https://wandb.ai/nar8991-new-york-university/SNN_test_optimize/runs/22tknehf' target=\"_blank\">https://wandb.ai/nar8991-new-york-university/SNN_test_optimize/runs/22tknehf</a><br> View project at: <a href='https://wandb.ai/nar8991-new-york-university/SNN_test_optimize' target=\"_blank\">https://wandb.ai/nar8991-new-york-university/SNN_test_optimize</a><br>Synced 5 W&B file(s), 0 media file(s), 0 artifact file(s) and 0 other file(s)"
      ],
      "text/plain": [
       "<IPython.core.display.HTML object>"
      ]
     },
     "metadata": {},
     "output_type": "display_data"
    },
    {
     "data": {
      "text/html": [
       "Find logs at: <code>./wandb/run-20250417_115253-22tknehf/logs</code>"
      ],
      "text/plain": [
       "<IPython.core.display.HTML object>"
      ]
     },
     "metadata": {},
     "output_type": "display_data"
    },
    {
     "name": "stderr",
     "output_type": "stream",
     "text": [
      "\u001b[34m\u001b[1mwandb\u001b[0m: Agent Starting Run: p2tmbklk with config:\n",
      "\u001b[34m\u001b[1mwandb\u001b[0m: \tepochs: 150\n",
      "\u001b[34m\u001b[1mwandb\u001b[0m: \tl1: 1e-05\n",
      "\u001b[34m\u001b[1mwandb\u001b[0m: \tl2: 1e-05\n",
      "\u001b[34m\u001b[1mwandb\u001b[0m: \tlearning_rate: 0.002\n",
      "\u001b[34m\u001b[1mwandb\u001b[0m: \tmodel_name: Hybrid_RNN\n",
      "\u001b[34m\u001b[1mwandb\u001b[0m: \toptimizer: Adam\n",
      "\u001b[34m\u001b[1mwandb\u001b[0m: \tregularization: True\n"
     ]
    },
    {
     "data": {
      "text/html": [
       "Ignoring project 'SNN_test_optimize' when running a sweep."
      ],
      "text/plain": [
       "<IPython.core.display.HTML object>"
      ]
     },
     "metadata": {},
     "output_type": "display_data"
    },
    {
     "data": {
      "text/html": [
       "Tracking run with wandb version 0.19.9"
      ],
      "text/plain": [
       "<IPython.core.display.HTML object>"
      ]
     },
     "metadata": {},
     "output_type": "display_data"
    },
    {
     "data": {
      "text/html": [
       "Run data is saved locally in <code>/Users/naliniramanathan/projects/snn_project/spytorch/notebooks/wandb/run-20250417_115538-p2tmbklk</code>"
      ],
      "text/plain": [
       "<IPython.core.display.HTML object>"
      ]
     },
     "metadata": {},
     "output_type": "display_data"
    },
    {
     "data": {
      "text/html": [
       "Syncing run <strong><a href='https://wandb.ai/nar8991-new-york-university/SNN_test_optimize/runs/p2tmbklk' target=\"_blank\">fine-sweep-9</a></strong> to <a href='https://wandb.ai/nar8991-new-york-university/SNN_test_optimize' target=\"_blank\">Weights & Biases</a> (<a href='https://wandb.me/developer-guide' target=\"_blank\">docs</a>)<br>Sweep page: <a href='https://wandb.ai/nar8991-new-york-university/SNN_test_optimize/sweeps/ri4yhfyp' target=\"_blank\">https://wandb.ai/nar8991-new-york-university/SNN_test_optimize/sweeps/ri4yhfyp</a>"
      ],
      "text/plain": [
       "<IPython.core.display.HTML object>"
      ]
     },
     "metadata": {},
     "output_type": "display_data"
    },
    {
     "data": {
      "text/html": [
       " View project at <a href='https://wandb.ai/nar8991-new-york-university/SNN_test_optimize' target=\"_blank\">https://wandb.ai/nar8991-new-york-university/SNN_test_optimize</a>"
      ],
      "text/plain": [
       "<IPython.core.display.HTML object>"
      ]
     },
     "metadata": {},
     "output_type": "display_data"
    },
    {
     "data": {
      "text/html": [
       " View sweep at <a href='https://wandb.ai/nar8991-new-york-university/SNN_test_optimize/sweeps/ri4yhfyp' target=\"_blank\">https://wandb.ai/nar8991-new-york-university/SNN_test_optimize/sweeps/ri4yhfyp</a>"
      ],
      "text/plain": [
       "<IPython.core.display.HTML object>"
      ]
     },
     "metadata": {},
     "output_type": "display_data"
    },
    {
     "data": {
      "text/html": [
       " View run at <a href='https://wandb.ai/nar8991-new-york-university/SNN_test_optimize/runs/p2tmbklk' target=\"_blank\">https://wandb.ai/nar8991-new-york-university/SNN_test_optimize/runs/p2tmbklk</a>"
      ],
      "text/plain": [
       "<IPython.core.display.HTML object>"
      ]
     },
     "metadata": {},
     "output_type": "display_data"
    },
    {
     "name": "stderr",
     "output_type": "stream",
     "text": [
      "/var/folders/7b/0zqwym191dq_5jvhhbf5lfgr0000gn/T/ipykernel_69979/3981686502.py:11: UserWarning: To copy construct from a tensor, it is recommended to use sourceTensor.clone().detach() or sourceTensor.clone().detach().requires_grad_(True), rather than torch.tensor(sourceTensor).\n",
      "  data_tensor = torch.tensor(x_data, dtype=torch.float32)\n"
     ]
    },
    {
     "name": "stdout",
     "output_type": "stream",
     "text": [
      "init done\n",
      "Final Train Accuracy: 100.00%\n",
      "Final Validation Accuracy: 100.00%\n",
      "Final Test Accuracy: 99.61%\n"
     ]
    },
    {
     "data": {
      "text/html": [],
      "text/plain": [
       "<IPython.core.display.HTML object>"
      ]
     },
     "metadata": {},
     "output_type": "display_data"
    },
    {
     "data": {
      "text/html": [
       "<br>    <style><br>        .wandb-row {<br>            display: flex;<br>            flex-direction: row;<br>            flex-wrap: wrap;<br>            justify-content: flex-start;<br>            width: 100%;<br>        }<br>        .wandb-col {<br>            display: flex;<br>            flex-direction: column;<br>            flex-basis: 100%;<br>            flex: 1;<br>            padding: 10px;<br>        }<br>    </style><br><div class=\"wandb-row\"><div class=\"wandb-col\"><h3>Run history:</h3><br/><table class=\"wandb\"><tr><td>epoch</td><td>▁▁▁▁▂▂▂▂▂▂▂▂▃▃▃▃▃▃▄▄▄▄▅▅▅▆▆▆▆▆▇▇▇▇▇█████</td></tr><tr><td>final_test_accuracy</td><td>▁</td></tr><tr><td>final_train_accuracy</td><td>▁</td></tr><tr><td>final_val_accuracy</td><td>▁</td></tr><tr><td>spike_count_train_epoch</td><td>▁▁▁▁▁▁▁▁▁▁▁▁▁▁▁▁▁▁▁▁▁▁▁▁▁▁▁▁▁▁▁▁▁▁▁▁▁▁▁▁</td></tr><tr><td>spike_count_val_epoch</td><td>█▆▅▄▄▃▃▄▄▄▅▅▆▆▅▅▄▄▄▃▂▂▂▂▂▁▁▁▁▁▁▁▁▁▁▁▁▁▁▁</td></tr><tr><td>train_loss</td><td>█▆▆▅▅▄▄▃▃▃▃▂▂▂▂▁▁▁▁▁▁▁▁▁▁▁▁▁▁▁▁▁▁▁▁▁▁▁▁▁</td></tr><tr><td>val_accuracy</td><td>▁▁▃▄▅▅▆▆▆▆▇▇▇▇██████████████████████████</td></tr><tr><td>val_loss</td><td>█▇▇▇▆▅▅▅▃▃▂▂▂▂▂▂▁▁▁▁▁▁▁▁▁▁▁▁▁▁▁▁▁▁▁▁▁▁▁▁</td></tr></table><br/></div><div class=\"wandb-col\"><h3>Run summary:</h3><br/><table class=\"wandb\"><tr><td>epoch</td><td>149</td></tr><tr><td>final_test_accuracy</td><td>0.99609</td></tr><tr><td>final_train_accuracy</td><td>1</td></tr><tr><td>final_val_accuracy</td><td>1</td></tr><tr><td>spike_count_train_epoch</td><td>0</td></tr><tr><td>spike_count_val_epoch</td><td>7</td></tr><tr><td>train_loss</td><td>0.00253</td></tr><tr><td>val_accuracy</td><td>1</td></tr><tr><td>val_loss</td><td>0.00321</td></tr></table><br/></div></div>"
      ],
      "text/plain": [
       "<IPython.core.display.HTML object>"
      ]
     },
     "metadata": {},
     "output_type": "display_data"
    },
    {
     "data": {
      "text/html": [
       " View run <strong style=\"color:#cdcd00\">Hybrid_RNN-l1_1e-05-l2_1e-05</strong> at: <a href='https://wandb.ai/nar8991-new-york-university/SNN_test_optimize/runs/p2tmbklk' target=\"_blank\">https://wandb.ai/nar8991-new-york-university/SNN_test_optimize/runs/p2tmbklk</a><br> View project at: <a href='https://wandb.ai/nar8991-new-york-university/SNN_test_optimize' target=\"_blank\">https://wandb.ai/nar8991-new-york-university/SNN_test_optimize</a><br>Synced 5 W&B file(s), 0 media file(s), 0 artifact file(s) and 0 other file(s)"
      ],
      "text/plain": [
       "<IPython.core.display.HTML object>"
      ]
     },
     "metadata": {},
     "output_type": "display_data"
    },
    {
     "data": {
      "text/html": [
       "Find logs at: <code>./wandb/run-20250417_115538-p2tmbklk/logs</code>"
      ],
      "text/plain": [
       "<IPython.core.display.HTML object>"
      ]
     },
     "metadata": {},
     "output_type": "display_data"
    },
    {
     "name": "stdout",
     "output_type": "stream",
     "text": [
      "Create sweep with ID: kesigm24\n",
      "Sweep URL: https://wandb.ai/nar8991-new-york-university/SNN_test_optimize/sweeps/kesigm24\n"
     ]
    },
    {
     "name": "stderr",
     "output_type": "stream",
     "text": [
      "\u001b[34m\u001b[1mwandb\u001b[0m: Agent Starting Run: ppme22fn with config:\n",
      "\u001b[34m\u001b[1mwandb\u001b[0m: \tepochs: 150\n",
      "\u001b[34m\u001b[1mwandb\u001b[0m: \tl1: 1e-06\n",
      "\u001b[34m\u001b[1mwandb\u001b[0m: \tl2: 1e-06\n",
      "\u001b[34m\u001b[1mwandb\u001b[0m: \tlearning_rate: 0.002\n",
      "\u001b[34m\u001b[1mwandb\u001b[0m: \tmodel_name: Hybrid_RNN_SNN_rec\n",
      "\u001b[34m\u001b[1mwandb\u001b[0m: \toptimizer: Adam\n",
      "\u001b[34m\u001b[1mwandb\u001b[0m: \tregularization: True\n"
     ]
    },
    {
     "data": {
      "text/html": [
       "Ignoring project 'SNN_test_optimize' when running a sweep."
      ],
      "text/plain": [
       "<IPython.core.display.HTML object>"
      ]
     },
     "metadata": {},
     "output_type": "display_data"
    },
    {
     "data": {
      "text/html": [
       "Tracking run with wandb version 0.19.9"
      ],
      "text/plain": [
       "<IPython.core.display.HTML object>"
      ]
     },
     "metadata": {},
     "output_type": "display_data"
    },
    {
     "data": {
      "text/html": [
       "Run data is saved locally in <code>/Users/naliniramanathan/projects/snn_project/spytorch/notebooks/wandb/run-20250417_115817-ppme22fn</code>"
      ],
      "text/plain": [
       "<IPython.core.display.HTML object>"
      ]
     },
     "metadata": {},
     "output_type": "display_data"
    },
    {
     "data": {
      "text/html": [
       "Syncing run <strong><a href='https://wandb.ai/nar8991-new-york-university/SNN_test_optimize/runs/ppme22fn' target=\"_blank\">jumping-sweep-1</a></strong> to <a href='https://wandb.ai/nar8991-new-york-university/SNN_test_optimize' target=\"_blank\">Weights & Biases</a> (<a href='https://wandb.me/developer-guide' target=\"_blank\">docs</a>)<br>Sweep page: <a href='https://wandb.ai/nar8991-new-york-university/SNN_test_optimize/sweeps/kesigm24' target=\"_blank\">https://wandb.ai/nar8991-new-york-university/SNN_test_optimize/sweeps/kesigm24</a>"
      ],
      "text/plain": [
       "<IPython.core.display.HTML object>"
      ]
     },
     "metadata": {},
     "output_type": "display_data"
    },
    {
     "data": {
      "text/html": [
       " View project at <a href='https://wandb.ai/nar8991-new-york-university/SNN_test_optimize' target=\"_blank\">https://wandb.ai/nar8991-new-york-university/SNN_test_optimize</a>"
      ],
      "text/plain": [
       "<IPython.core.display.HTML object>"
      ]
     },
     "metadata": {},
     "output_type": "display_data"
    },
    {
     "data": {
      "text/html": [
       " View sweep at <a href='https://wandb.ai/nar8991-new-york-university/SNN_test_optimize/sweeps/kesigm24' target=\"_blank\">https://wandb.ai/nar8991-new-york-university/SNN_test_optimize/sweeps/kesigm24</a>"
      ],
      "text/plain": [
       "<IPython.core.display.HTML object>"
      ]
     },
     "metadata": {},
     "output_type": "display_data"
    },
    {
     "data": {
      "text/html": [
       " View run at <a href='https://wandb.ai/nar8991-new-york-university/SNN_test_optimize/runs/ppme22fn' target=\"_blank\">https://wandb.ai/nar8991-new-york-university/SNN_test_optimize/runs/ppme22fn</a>"
      ],
      "text/plain": [
       "<IPython.core.display.HTML object>"
      ]
     },
     "metadata": {},
     "output_type": "display_data"
    },
    {
     "name": "stderr",
     "output_type": "stream",
     "text": [
      "/var/folders/7b/0zqwym191dq_5jvhhbf5lfgr0000gn/T/ipykernel_69979/3981686502.py:11: UserWarning: To copy construct from a tensor, it is recommended to use sourceTensor.clone().detach() or sourceTensor.clone().detach().requires_grad_(True), rather than torch.tensor(sourceTensor).\n",
      "  data_tensor = torch.tensor(x_data, dtype=torch.float32)\n"
     ]
    },
    {
     "name": "stdout",
     "output_type": "stream",
     "text": [
      "init done\n",
      "Final Train Accuracy: 100.00%\n",
      "Final Validation Accuracy: 100.00%\n",
      "Final Test Accuracy: 99.61%\n"
     ]
    },
    {
     "data": {
      "text/html": [],
      "text/plain": [
       "<IPython.core.display.HTML object>"
      ]
     },
     "metadata": {},
     "output_type": "display_data"
    },
    {
     "data": {
      "text/html": [
       "<br>    <style><br>        .wandb-row {<br>            display: flex;<br>            flex-direction: row;<br>            flex-wrap: wrap;<br>            justify-content: flex-start;<br>            width: 100%;<br>        }<br>        .wandb-col {<br>            display: flex;<br>            flex-direction: column;<br>            flex-basis: 100%;<br>            flex: 1;<br>            padding: 10px;<br>        }<br>    </style><br><div class=\"wandb-row\"><div class=\"wandb-col\"><h3>Run history:</h3><br/><table class=\"wandb\"><tr><td>epoch</td><td>▁▁▁▁▂▂▂▂▂▂▃▃▃▃▃▃▄▄▄▄▄▄▄▅▅▅▅▆▆▆▆▆▇▇▇▇████</td></tr><tr><td>final_test_accuracy</td><td>▁</td></tr><tr><td>final_train_accuracy</td><td>▁</td></tr><tr><td>final_val_accuracy</td><td>▁</td></tr><tr><td>spike_count_train_epoch</td><td>▁▁▁▁▁▁▁▁▁▁▁▁▁▁▁▁▁▁▁▁▁▁▁▁▁▁▁▁▁▁▁▁▁▁▁▁▁▁▁▁</td></tr><tr><td>spike_count_val_epoch</td><td>█▃▄▄▅▆▆▆▆▅▅▅▅▅▅▄▄▃▃▃▃▃▃▃▃▂▂▂▂▂▂▁▁▁▁▁▁▁▁▁</td></tr><tr><td>train_loss</td><td>█▆▆▅▅▅▅▄▄▄▃▃▃▃▂▂▂▂▂▂▂▁▁▁▁▁▁▁▁▁▁▁▁▁▁▁▁▁▁▁</td></tr><tr><td>val_accuracy</td><td>▁▁▂▂▄▆▆▇▇▇██████████████████████████████</td></tr><tr><td>val_loss</td><td>██▇▆▆▄▄▄▄▃▃▂▂▂▂▂▂▂▁▁▁▁▁▁▁▁▁▁▁▁▁▁▁▁▁▁▁▁▁▁</td></tr></table><br/></div><div class=\"wandb-col\"><h3>Run summary:</h3><br/><table class=\"wandb\"><tr><td>epoch</td><td>149</td></tr><tr><td>final_test_accuracy</td><td>0.99609</td></tr><tr><td>final_train_accuracy</td><td>1</td></tr><tr><td>final_val_accuracy</td><td>1</td></tr><tr><td>spike_count_train_epoch</td><td>0</td></tr><tr><td>spike_count_val_epoch</td><td>65</td></tr><tr><td>train_loss</td><td>0.00257</td></tr><tr><td>val_accuracy</td><td>1</td></tr><tr><td>val_loss</td><td>0.00147</td></tr></table><br/></div></div>"
      ],
      "text/plain": [
       "<IPython.core.display.HTML object>"
      ]
     },
     "metadata": {},
     "output_type": "display_data"
    },
    {
     "data": {
      "text/html": [
       " View run <strong style=\"color:#cdcd00\">Hybrid_RNN_SNN_rec-l1_1e-06-l2_1e-06</strong> at: <a href='https://wandb.ai/nar8991-new-york-university/SNN_test_optimize/runs/ppme22fn' target=\"_blank\">https://wandb.ai/nar8991-new-york-university/SNN_test_optimize/runs/ppme22fn</a><br> View project at: <a href='https://wandb.ai/nar8991-new-york-university/SNN_test_optimize' target=\"_blank\">https://wandb.ai/nar8991-new-york-university/SNN_test_optimize</a><br>Synced 5 W&B file(s), 0 media file(s), 0 artifact file(s) and 0 other file(s)"
      ],
      "text/plain": [
       "<IPython.core.display.HTML object>"
      ]
     },
     "metadata": {},
     "output_type": "display_data"
    },
    {
     "data": {
      "text/html": [
       "Find logs at: <code>./wandb/run-20250417_115817-ppme22fn/logs</code>"
      ],
      "text/plain": [
       "<IPython.core.display.HTML object>"
      ]
     },
     "metadata": {},
     "output_type": "display_data"
    },
    {
     "name": "stderr",
     "output_type": "stream",
     "text": [
      "\u001b[34m\u001b[1mwandb\u001b[0m: Sweep Agent: Waiting for job.\n",
      "\u001b[34m\u001b[1mwandb\u001b[0m: Job received.\n",
      "\u001b[34m\u001b[1mwandb\u001b[0m: Agent Starting Run: sjvem1zo with config:\n",
      "\u001b[34m\u001b[1mwandb\u001b[0m: \tepochs: 150\n",
      "\u001b[34m\u001b[1mwandb\u001b[0m: \tl1: 1e-06\n",
      "\u001b[34m\u001b[1mwandb\u001b[0m: \tl2: 5e-06\n",
      "\u001b[34m\u001b[1mwandb\u001b[0m: \tlearning_rate: 0.002\n",
      "\u001b[34m\u001b[1mwandb\u001b[0m: \tmodel_name: Hybrid_RNN_SNN_rec\n",
      "\u001b[34m\u001b[1mwandb\u001b[0m: \toptimizer: Adam\n",
      "\u001b[34m\u001b[1mwandb\u001b[0m: \tregularization: True\n"
     ]
    },
    {
     "data": {
      "text/html": [
       "Ignoring project 'SNN_test_optimize' when running a sweep."
      ],
      "text/plain": [
       "<IPython.core.display.HTML object>"
      ]
     },
     "metadata": {},
     "output_type": "display_data"
    },
    {
     "data": {
      "text/html": [
       "Tracking run with wandb version 0.19.9"
      ],
      "text/plain": [
       "<IPython.core.display.HTML object>"
      ]
     },
     "metadata": {},
     "output_type": "display_data"
    },
    {
     "data": {
      "text/html": [
       "Run data is saved locally in <code>/Users/naliniramanathan/projects/snn_project/spytorch/notebooks/wandb/run-20250417_120137-sjvem1zo</code>"
      ],
      "text/plain": [
       "<IPython.core.display.HTML object>"
      ]
     },
     "metadata": {},
     "output_type": "display_data"
    },
    {
     "data": {
      "text/html": [
       "Syncing run <strong><a href='https://wandb.ai/nar8991-new-york-university/SNN_test_optimize/runs/sjvem1zo' target=\"_blank\">graceful-sweep-2</a></strong> to <a href='https://wandb.ai/nar8991-new-york-university/SNN_test_optimize' target=\"_blank\">Weights & Biases</a> (<a href='https://wandb.me/developer-guide' target=\"_blank\">docs</a>)<br>Sweep page: <a href='https://wandb.ai/nar8991-new-york-university/SNN_test_optimize/sweeps/kesigm24' target=\"_blank\">https://wandb.ai/nar8991-new-york-university/SNN_test_optimize/sweeps/kesigm24</a>"
      ],
      "text/plain": [
       "<IPython.core.display.HTML object>"
      ]
     },
     "metadata": {},
     "output_type": "display_data"
    },
    {
     "data": {
      "text/html": [
       " View project at <a href='https://wandb.ai/nar8991-new-york-university/SNN_test_optimize' target=\"_blank\">https://wandb.ai/nar8991-new-york-university/SNN_test_optimize</a>"
      ],
      "text/plain": [
       "<IPython.core.display.HTML object>"
      ]
     },
     "metadata": {},
     "output_type": "display_data"
    },
    {
     "data": {
      "text/html": [
       " View sweep at <a href='https://wandb.ai/nar8991-new-york-university/SNN_test_optimize/sweeps/kesigm24' target=\"_blank\">https://wandb.ai/nar8991-new-york-university/SNN_test_optimize/sweeps/kesigm24</a>"
      ],
      "text/plain": [
       "<IPython.core.display.HTML object>"
      ]
     },
     "metadata": {},
     "output_type": "display_data"
    },
    {
     "data": {
      "text/html": [
       " View run at <a href='https://wandb.ai/nar8991-new-york-university/SNN_test_optimize/runs/sjvem1zo' target=\"_blank\">https://wandb.ai/nar8991-new-york-university/SNN_test_optimize/runs/sjvem1zo</a>"
      ],
      "text/plain": [
       "<IPython.core.display.HTML object>"
      ]
     },
     "metadata": {},
     "output_type": "display_data"
    },
    {
     "name": "stderr",
     "output_type": "stream",
     "text": [
      "/var/folders/7b/0zqwym191dq_5jvhhbf5lfgr0000gn/T/ipykernel_69979/3981686502.py:11: UserWarning: To copy construct from a tensor, it is recommended to use sourceTensor.clone().detach() or sourceTensor.clone().detach().requires_grad_(True), rather than torch.tensor(sourceTensor).\n",
      "  data_tensor = torch.tensor(x_data, dtype=torch.float32)\n"
     ]
    },
    {
     "name": "stdout",
     "output_type": "stream",
     "text": [
      "init done\n",
      "Final Train Accuracy: 100.00%\n",
      "Final Validation Accuracy: 100.00%\n",
      "Final Test Accuracy: 99.61%\n"
     ]
    },
    {
     "data": {
      "text/html": [],
      "text/plain": [
       "<IPython.core.display.HTML object>"
      ]
     },
     "metadata": {},
     "output_type": "display_data"
    },
    {
     "data": {
      "text/html": [
       "<br>    <style><br>        .wandb-row {<br>            display: flex;<br>            flex-direction: row;<br>            flex-wrap: wrap;<br>            justify-content: flex-start;<br>            width: 100%;<br>        }<br>        .wandb-col {<br>            display: flex;<br>            flex-direction: column;<br>            flex-basis: 100%;<br>            flex: 1;<br>            padding: 10px;<br>        }<br>    </style><br><div class=\"wandb-row\"><div class=\"wandb-col\"><h3>Run history:</h3><br/><table class=\"wandb\"><tr><td>epoch</td><td>▁▁▁▁▁▂▂▂▂▂▂▃▃▃▃▃▄▄▄▄▄▄▅▅▅▅▅▅▅▆▆▆▆▇▇▇▇███</td></tr><tr><td>final_test_accuracy</td><td>▁</td></tr><tr><td>final_train_accuracy</td><td>▁</td></tr><tr><td>final_val_accuracy</td><td>▁</td></tr><tr><td>spike_count_train_epoch</td><td>▁▁▁▁▁▁▁▁▁▁▁▁▁▁▁▁▁▁▁▁▁▁▁▁▁▁▁▁▁▁▁▁▁▁▁▁▁▁▁▁</td></tr><tr><td>spike_count_val_epoch</td><td>█▇▆▄▃▄▅▅▆▇▇▇▇▆▆▅▅▄▃▃▂▂▂▂▂▁▁▁▁▁▁▁▁▁▁▁▁▁▁▁</td></tr><tr><td>train_loss</td><td>█▅▄▃▃▃▃▃▃▂▂▂▂▂▂▁▁▁▁▁▁▁▁▁▁▁▁▁▁▁▁▁▁▁▁▁▁▁▁▁</td></tr><tr><td>val_accuracy</td><td>▁▂▄▄▄▆▆▆▆▇▇▇▇▇▇▇████████████████████████</td></tr><tr><td>val_loss</td><td>██▇▇▇▇▆▆▆▆▆▅▅▅▄▃▃▃▃▃▂▁▁▁▁▁▁▁▁▁▁▁▁▁▁▁▁▁▁▁</td></tr></table><br/></div><div class=\"wandb-col\"><h3>Run summary:</h3><br/><table class=\"wandb\"><tr><td>epoch</td><td>149</td></tr><tr><td>final_test_accuracy</td><td>0.99609</td></tr><tr><td>final_train_accuracy</td><td>1</td></tr><tr><td>final_val_accuracy</td><td>1</td></tr><tr><td>spike_count_train_epoch</td><td>0</td></tr><tr><td>spike_count_val_epoch</td><td>20</td></tr><tr><td>train_loss</td><td>0.00158</td></tr><tr><td>val_accuracy</td><td>1</td></tr><tr><td>val_loss</td><td>0.0027</td></tr></table><br/></div></div>"
      ],
      "text/plain": [
       "<IPython.core.display.HTML object>"
      ]
     },
     "metadata": {},
     "output_type": "display_data"
    },
    {
     "data": {
      "text/html": [
       " View run <strong style=\"color:#cdcd00\">Hybrid_RNN_SNN_rec-l1_1e-06-l2_5e-06</strong> at: <a href='https://wandb.ai/nar8991-new-york-university/SNN_test_optimize/runs/sjvem1zo' target=\"_blank\">https://wandb.ai/nar8991-new-york-university/SNN_test_optimize/runs/sjvem1zo</a><br> View project at: <a href='https://wandb.ai/nar8991-new-york-university/SNN_test_optimize' target=\"_blank\">https://wandb.ai/nar8991-new-york-university/SNN_test_optimize</a><br>Synced 5 W&B file(s), 0 media file(s), 0 artifact file(s) and 0 other file(s)"
      ],
      "text/plain": [
       "<IPython.core.display.HTML object>"
      ]
     },
     "metadata": {},
     "output_type": "display_data"
    },
    {
     "data": {
      "text/html": [
       "Find logs at: <code>./wandb/run-20250417_120137-sjvem1zo/logs</code>"
      ],
      "text/plain": [
       "<IPython.core.display.HTML object>"
      ]
     },
     "metadata": {},
     "output_type": "display_data"
    },
    {
     "name": "stderr",
     "output_type": "stream",
     "text": [
      "\u001b[34m\u001b[1mwandb\u001b[0m: Agent Starting Run: pq7qf696 with config:\n",
      "\u001b[34m\u001b[1mwandb\u001b[0m: \tepochs: 150\n",
      "\u001b[34m\u001b[1mwandb\u001b[0m: \tl1: 1e-06\n",
      "\u001b[34m\u001b[1mwandb\u001b[0m: \tl2: 1e-05\n",
      "\u001b[34m\u001b[1mwandb\u001b[0m: \tlearning_rate: 0.002\n",
      "\u001b[34m\u001b[1mwandb\u001b[0m: \tmodel_name: Hybrid_RNN_SNN_rec\n",
      "\u001b[34m\u001b[1mwandb\u001b[0m: \toptimizer: Adam\n",
      "\u001b[34m\u001b[1mwandb\u001b[0m: \tregularization: True\n"
     ]
    },
    {
     "data": {
      "text/html": [
       "Ignoring project 'SNN_test_optimize' when running a sweep."
      ],
      "text/plain": [
       "<IPython.core.display.HTML object>"
      ]
     },
     "metadata": {},
     "output_type": "display_data"
    },
    {
     "data": {
      "text/html": [
       "Tracking run with wandb version 0.19.9"
      ],
      "text/plain": [
       "<IPython.core.display.HTML object>"
      ]
     },
     "metadata": {},
     "output_type": "display_data"
    },
    {
     "data": {
      "text/html": [
       "Run data is saved locally in <code>/Users/naliniramanathan/projects/snn_project/spytorch/notebooks/wandb/run-20250417_120443-pq7qf696</code>"
      ],
      "text/plain": [
       "<IPython.core.display.HTML object>"
      ]
     },
     "metadata": {},
     "output_type": "display_data"
    },
    {
     "data": {
      "text/html": [
       "Syncing run <strong><a href='https://wandb.ai/nar8991-new-york-university/SNN_test_optimize/runs/pq7qf696' target=\"_blank\">balmy-sweep-3</a></strong> to <a href='https://wandb.ai/nar8991-new-york-university/SNN_test_optimize' target=\"_blank\">Weights & Biases</a> (<a href='https://wandb.me/developer-guide' target=\"_blank\">docs</a>)<br>Sweep page: <a href='https://wandb.ai/nar8991-new-york-university/SNN_test_optimize/sweeps/kesigm24' target=\"_blank\">https://wandb.ai/nar8991-new-york-university/SNN_test_optimize/sweeps/kesigm24</a>"
      ],
      "text/plain": [
       "<IPython.core.display.HTML object>"
      ]
     },
     "metadata": {},
     "output_type": "display_data"
    },
    {
     "data": {
      "text/html": [
       " View project at <a href='https://wandb.ai/nar8991-new-york-university/SNN_test_optimize' target=\"_blank\">https://wandb.ai/nar8991-new-york-university/SNN_test_optimize</a>"
      ],
      "text/plain": [
       "<IPython.core.display.HTML object>"
      ]
     },
     "metadata": {},
     "output_type": "display_data"
    },
    {
     "data": {
      "text/html": [
       " View sweep at <a href='https://wandb.ai/nar8991-new-york-university/SNN_test_optimize/sweeps/kesigm24' target=\"_blank\">https://wandb.ai/nar8991-new-york-university/SNN_test_optimize/sweeps/kesigm24</a>"
      ],
      "text/plain": [
       "<IPython.core.display.HTML object>"
      ]
     },
     "metadata": {},
     "output_type": "display_data"
    },
    {
     "data": {
      "text/html": [
       " View run at <a href='https://wandb.ai/nar8991-new-york-university/SNN_test_optimize/runs/pq7qf696' target=\"_blank\">https://wandb.ai/nar8991-new-york-university/SNN_test_optimize/runs/pq7qf696</a>"
      ],
      "text/plain": [
       "<IPython.core.display.HTML object>"
      ]
     },
     "metadata": {},
     "output_type": "display_data"
    },
    {
     "name": "stderr",
     "output_type": "stream",
     "text": [
      "/var/folders/7b/0zqwym191dq_5jvhhbf5lfgr0000gn/T/ipykernel_69979/3981686502.py:11: UserWarning: To copy construct from a tensor, it is recommended to use sourceTensor.clone().detach() or sourceTensor.clone().detach().requires_grad_(True), rather than torch.tensor(sourceTensor).\n",
      "  data_tensor = torch.tensor(x_data, dtype=torch.float32)\n"
     ]
    },
    {
     "name": "stdout",
     "output_type": "stream",
     "text": [
      "init done\n",
      "Final Train Accuracy: 100.00%\n",
      "Final Validation Accuracy: 100.00%\n",
      "Final Test Accuracy: 99.61%\n"
     ]
    },
    {
     "data": {
      "text/html": [],
      "text/plain": [
       "<IPython.core.display.HTML object>"
      ]
     },
     "metadata": {},
     "output_type": "display_data"
    },
    {
     "data": {
      "text/html": [
       "<br>    <style><br>        .wandb-row {<br>            display: flex;<br>            flex-direction: row;<br>            flex-wrap: wrap;<br>            justify-content: flex-start;<br>            width: 100%;<br>        }<br>        .wandb-col {<br>            display: flex;<br>            flex-direction: column;<br>            flex-basis: 100%;<br>            flex: 1;<br>            padding: 10px;<br>        }<br>    </style><br><div class=\"wandb-row\"><div class=\"wandb-col\"><h3>Run history:</h3><br/><table class=\"wandb\"><tr><td>epoch</td><td>▁▁▁▁▂▂▂▂▃▃▃▄▄▄▄▄▅▅▅▅▅▅▅▅▅▆▆▆▆▆▇▇▇▇▇▇▇███</td></tr><tr><td>final_test_accuracy</td><td>▁</td></tr><tr><td>final_train_accuracy</td><td>▁</td></tr><tr><td>final_val_accuracy</td><td>▁</td></tr><tr><td>spike_count_train_epoch</td><td>▁▁▁▁▁▁▁▁▁▁▁▁▁▁▁▁▁▁▁▁▁▁▁▁▁▁▁▁▁▁▁▁▁▁▁▁▁▁▁▁</td></tr><tr><td>spike_count_val_epoch</td><td>█▆▅▃▃▂▂▂▂▂▃▃▃▃▃▃▃▃▂▂▂▂▁▁▁▁▁▁▁▁▁▁▁▁▁▁▁▁▁▁</td></tr><tr><td>train_loss</td><td>███▇▇▆▅▄▄▄▃▃▃▃▂▂▂▂▁▁▁▁▁▁▁▁▁▁▁▁▁▁▁▁▁▁▁▁▁▁</td></tr><tr><td>val_accuracy</td><td>▁▄▄▅▅▆▆▇▇▇▇▇▇▇██████████████████████████</td></tr><tr><td>val_loss</td><td>█▇▆▆▆▆▅▅▄▄▃▂▂▂▂▂▁▁▁▁▁▁▁▁▁▁▁▁▁▁▁▁▁▁▁▁▁▁▁▁</td></tr></table><br/></div><div class=\"wandb-col\"><h3>Run summary:</h3><br/><table class=\"wandb\"><tr><td>epoch</td><td>149</td></tr><tr><td>final_test_accuracy</td><td>0.99609</td></tr><tr><td>final_train_accuracy</td><td>1</td></tr><tr><td>final_val_accuracy</td><td>1</td></tr><tr><td>spike_count_train_epoch</td><td>0</td></tr><tr><td>spike_count_val_epoch</td><td>12</td></tr><tr><td>train_loss</td><td>0.0016</td></tr><tr><td>val_accuracy</td><td>1</td></tr><tr><td>val_loss</td><td>0.0025</td></tr></table><br/></div></div>"
      ],
      "text/plain": [
       "<IPython.core.display.HTML object>"
      ]
     },
     "metadata": {},
     "output_type": "display_data"
    },
    {
     "data": {
      "text/html": [
       " View run <strong style=\"color:#cdcd00\">Hybrid_RNN_SNN_rec-l1_1e-06-l2_1e-05</strong> at: <a href='https://wandb.ai/nar8991-new-york-university/SNN_test_optimize/runs/pq7qf696' target=\"_blank\">https://wandb.ai/nar8991-new-york-university/SNN_test_optimize/runs/pq7qf696</a><br> View project at: <a href='https://wandb.ai/nar8991-new-york-university/SNN_test_optimize' target=\"_blank\">https://wandb.ai/nar8991-new-york-university/SNN_test_optimize</a><br>Synced 5 W&B file(s), 0 media file(s), 0 artifact file(s) and 0 other file(s)"
      ],
      "text/plain": [
       "<IPython.core.display.HTML object>"
      ]
     },
     "metadata": {},
     "output_type": "display_data"
    },
    {
     "data": {
      "text/html": [
       "Find logs at: <code>./wandb/run-20250417_120443-pq7qf696/logs</code>"
      ],
      "text/plain": [
       "<IPython.core.display.HTML object>"
      ]
     },
     "metadata": {},
     "output_type": "display_data"
    },
    {
     "name": "stderr",
     "output_type": "stream",
     "text": [
      "\u001b[34m\u001b[1mwandb\u001b[0m: Agent Starting Run: cbidz7ei with config:\n",
      "\u001b[34m\u001b[1mwandb\u001b[0m: \tepochs: 150\n",
      "\u001b[34m\u001b[1mwandb\u001b[0m: \tl1: 5e-06\n",
      "\u001b[34m\u001b[1mwandb\u001b[0m: \tl2: 1e-06\n",
      "\u001b[34m\u001b[1mwandb\u001b[0m: \tlearning_rate: 0.002\n",
      "\u001b[34m\u001b[1mwandb\u001b[0m: \tmodel_name: Hybrid_RNN_SNN_rec\n",
      "\u001b[34m\u001b[1mwandb\u001b[0m: \toptimizer: Adam\n",
      "\u001b[34m\u001b[1mwandb\u001b[0m: \tregularization: True\n"
     ]
    },
    {
     "data": {
      "text/html": [
       "Ignoring project 'SNN_test_optimize' when running a sweep."
      ],
      "text/plain": [
       "<IPython.core.display.HTML object>"
      ]
     },
     "metadata": {},
     "output_type": "display_data"
    },
    {
     "data": {
      "text/html": [
       "Tracking run with wandb version 0.19.9"
      ],
      "text/plain": [
       "<IPython.core.display.HTML object>"
      ]
     },
     "metadata": {},
     "output_type": "display_data"
    },
    {
     "data": {
      "text/html": [
       "Run data is saved locally in <code>/Users/naliniramanathan/projects/snn_project/spytorch/notebooks/wandb/run-20250417_120734-cbidz7ei</code>"
      ],
      "text/plain": [
       "<IPython.core.display.HTML object>"
      ]
     },
     "metadata": {},
     "output_type": "display_data"
    },
    {
     "data": {
      "text/html": [
       "Syncing run <strong><a href='https://wandb.ai/nar8991-new-york-university/SNN_test_optimize/runs/cbidz7ei' target=\"_blank\">fiery-sweep-4</a></strong> to <a href='https://wandb.ai/nar8991-new-york-university/SNN_test_optimize' target=\"_blank\">Weights & Biases</a> (<a href='https://wandb.me/developer-guide' target=\"_blank\">docs</a>)<br>Sweep page: <a href='https://wandb.ai/nar8991-new-york-university/SNN_test_optimize/sweeps/kesigm24' target=\"_blank\">https://wandb.ai/nar8991-new-york-university/SNN_test_optimize/sweeps/kesigm24</a>"
      ],
      "text/plain": [
       "<IPython.core.display.HTML object>"
      ]
     },
     "metadata": {},
     "output_type": "display_data"
    },
    {
     "data": {
      "text/html": [
       " View project at <a href='https://wandb.ai/nar8991-new-york-university/SNN_test_optimize' target=\"_blank\">https://wandb.ai/nar8991-new-york-university/SNN_test_optimize</a>"
      ],
      "text/plain": [
       "<IPython.core.display.HTML object>"
      ]
     },
     "metadata": {},
     "output_type": "display_data"
    },
    {
     "data": {
      "text/html": [
       " View sweep at <a href='https://wandb.ai/nar8991-new-york-university/SNN_test_optimize/sweeps/kesigm24' target=\"_blank\">https://wandb.ai/nar8991-new-york-university/SNN_test_optimize/sweeps/kesigm24</a>"
      ],
      "text/plain": [
       "<IPython.core.display.HTML object>"
      ]
     },
     "metadata": {},
     "output_type": "display_data"
    },
    {
     "data": {
      "text/html": [
       " View run at <a href='https://wandb.ai/nar8991-new-york-university/SNN_test_optimize/runs/cbidz7ei' target=\"_blank\">https://wandb.ai/nar8991-new-york-university/SNN_test_optimize/runs/cbidz7ei</a>"
      ],
      "text/plain": [
       "<IPython.core.display.HTML object>"
      ]
     },
     "metadata": {},
     "output_type": "display_data"
    },
    {
     "name": "stderr",
     "output_type": "stream",
     "text": [
      "/var/folders/7b/0zqwym191dq_5jvhhbf5lfgr0000gn/T/ipykernel_69979/3981686502.py:11: UserWarning: To copy construct from a tensor, it is recommended to use sourceTensor.clone().detach() or sourceTensor.clone().detach().requires_grad_(True), rather than torch.tensor(sourceTensor).\n",
      "  data_tensor = torch.tensor(x_data, dtype=torch.float32)\n"
     ]
    },
    {
     "name": "stdout",
     "output_type": "stream",
     "text": [
      "init done\n",
      "Final Train Accuracy: 100.00%\n",
      "Final Validation Accuracy: 100.00%\n",
      "Final Test Accuracy: 99.61%\n"
     ]
    },
    {
     "data": {
      "text/html": [],
      "text/plain": [
       "<IPython.core.display.HTML object>"
      ]
     },
     "metadata": {},
     "output_type": "display_data"
    },
    {
     "data": {
      "text/html": [
       "<br>    <style><br>        .wandb-row {<br>            display: flex;<br>            flex-direction: row;<br>            flex-wrap: wrap;<br>            justify-content: flex-start;<br>            width: 100%;<br>        }<br>        .wandb-col {<br>            display: flex;<br>            flex-direction: column;<br>            flex-basis: 100%;<br>            flex: 1;<br>            padding: 10px;<br>        }<br>    </style><br><div class=\"wandb-row\"><div class=\"wandb-col\"><h3>Run history:</h3><br/><table class=\"wandb\"><tr><td>epoch</td><td>▁▁▁▁▂▂▂▂▂▂▃▃▃▃▃▄▄▅▅▅▅▅▅▅▅▆▆▆▆▆▇▇▇▇▇█████</td></tr><tr><td>final_test_accuracy</td><td>▁</td></tr><tr><td>final_train_accuracy</td><td>▁</td></tr><tr><td>final_val_accuracy</td><td>▁</td></tr><tr><td>spike_count_train_epoch</td><td>▁▁▁▁▁▁▁▁▁▁▁▁▁▁▁▁▁▁▁▁▁▁▁▁▁▁▁▁▁▁▁▁▁▁▁▁▁▁▁▁</td></tr><tr><td>spike_count_val_epoch</td><td>█▅▃▃▃▄▄▅▅▆▆▆▆▆▆▅▅▅▄▄▃▃▃▂▂▂▂▂▂▂▂▂▁▁▁▁▁▁▁▁</td></tr><tr><td>train_loss</td><td>█▅▅▄▄▄▃▃▃▃▃▂▂▂▂▂▂▂▂▂▂▁▁▁▁▁▁▁▁▁▁▁▁▁▁▁▁▁▁▁</td></tr><tr><td>val_accuracy</td><td>▁▁▂▄▅▆▇▇▇▇▇█████████████████████████████</td></tr><tr><td>val_loss</td><td>█▇▆▅▅▅▄▄▄▃▂▂▂▂▂▂▁▁▁▁▁▁▁▁▁▁▁▁▁▁▁▁▁▁▁▁▁▁▁▁</td></tr></table><br/></div><div class=\"wandb-col\"><h3>Run summary:</h3><br/><table class=\"wandb\"><tr><td>epoch</td><td>149</td></tr><tr><td>final_test_accuracy</td><td>0.99609</td></tr><tr><td>final_train_accuracy</td><td>1</td></tr><tr><td>final_val_accuracy</td><td>1</td></tr><tr><td>spike_count_train_epoch</td><td>0</td></tr><tr><td>spike_count_val_epoch</td><td>60</td></tr><tr><td>train_loss</td><td>0.00324</td></tr><tr><td>val_accuracy</td><td>1</td></tr><tr><td>val_loss</td><td>0.00187</td></tr></table><br/></div></div>"
      ],
      "text/plain": [
       "<IPython.core.display.HTML object>"
      ]
     },
     "metadata": {},
     "output_type": "display_data"
    },
    {
     "data": {
      "text/html": [
       " View run <strong style=\"color:#cdcd00\">Hybrid_RNN_SNN_rec-l1_5e-06-l2_1e-06</strong> at: <a href='https://wandb.ai/nar8991-new-york-university/SNN_test_optimize/runs/cbidz7ei' target=\"_blank\">https://wandb.ai/nar8991-new-york-university/SNN_test_optimize/runs/cbidz7ei</a><br> View project at: <a href='https://wandb.ai/nar8991-new-york-university/SNN_test_optimize' target=\"_blank\">https://wandb.ai/nar8991-new-york-university/SNN_test_optimize</a><br>Synced 5 W&B file(s), 0 media file(s), 0 artifact file(s) and 0 other file(s)"
      ],
      "text/plain": [
       "<IPython.core.display.HTML object>"
      ]
     },
     "metadata": {},
     "output_type": "display_data"
    },
    {
     "data": {
      "text/html": [
       "Find logs at: <code>./wandb/run-20250417_120734-cbidz7ei/logs</code>"
      ],
      "text/plain": [
       "<IPython.core.display.HTML object>"
      ]
     },
     "metadata": {},
     "output_type": "display_data"
    },
    {
     "name": "stderr",
     "output_type": "stream",
     "text": [
      "\u001b[34m\u001b[1mwandb\u001b[0m: Sweep Agent: Waiting for job.\n",
      "\u001b[34m\u001b[1mwandb\u001b[0m: Job received.\n",
      "\u001b[34m\u001b[1mwandb\u001b[0m: Agent Starting Run: u9u3yuyo with config:\n",
      "\u001b[34m\u001b[1mwandb\u001b[0m: \tepochs: 150\n",
      "\u001b[34m\u001b[1mwandb\u001b[0m: \tl1: 5e-06\n",
      "\u001b[34m\u001b[1mwandb\u001b[0m: \tl2: 5e-06\n",
      "\u001b[34m\u001b[1mwandb\u001b[0m: \tlearning_rate: 0.002\n",
      "\u001b[34m\u001b[1mwandb\u001b[0m: \tmodel_name: Hybrid_RNN_SNN_rec\n",
      "\u001b[34m\u001b[1mwandb\u001b[0m: \toptimizer: Adam\n",
      "\u001b[34m\u001b[1mwandb\u001b[0m: \tregularization: True\n"
     ]
    },
    {
     "data": {
      "text/html": [
       "Ignoring project 'SNN_test_optimize' when running a sweep."
      ],
      "text/plain": [
       "<IPython.core.display.HTML object>"
      ]
     },
     "metadata": {},
     "output_type": "display_data"
    },
    {
     "data": {
      "text/html": [
       "Tracking run with wandb version 0.19.9"
      ],
      "text/plain": [
       "<IPython.core.display.HTML object>"
      ]
     },
     "metadata": {},
     "output_type": "display_data"
    },
    {
     "data": {
      "text/html": [
       "Run data is saved locally in <code>/Users/naliniramanathan/projects/snn_project/spytorch/notebooks/wandb/run-20250417_121047-u9u3yuyo</code>"
      ],
      "text/plain": [
       "<IPython.core.display.HTML object>"
      ]
     },
     "metadata": {},
     "output_type": "display_data"
    },
    {
     "data": {
      "text/html": [
       "Syncing run <strong><a href='https://wandb.ai/nar8991-new-york-university/SNN_test_optimize/runs/u9u3yuyo' target=\"_blank\">snowy-sweep-5</a></strong> to <a href='https://wandb.ai/nar8991-new-york-university/SNN_test_optimize' target=\"_blank\">Weights & Biases</a> (<a href='https://wandb.me/developer-guide' target=\"_blank\">docs</a>)<br>Sweep page: <a href='https://wandb.ai/nar8991-new-york-university/SNN_test_optimize/sweeps/kesigm24' target=\"_blank\">https://wandb.ai/nar8991-new-york-university/SNN_test_optimize/sweeps/kesigm24</a>"
      ],
      "text/plain": [
       "<IPython.core.display.HTML object>"
      ]
     },
     "metadata": {},
     "output_type": "display_data"
    },
    {
     "data": {
      "text/html": [
       " View project at <a href='https://wandb.ai/nar8991-new-york-university/SNN_test_optimize' target=\"_blank\">https://wandb.ai/nar8991-new-york-university/SNN_test_optimize</a>"
      ],
      "text/plain": [
       "<IPython.core.display.HTML object>"
      ]
     },
     "metadata": {},
     "output_type": "display_data"
    },
    {
     "data": {
      "text/html": [
       " View sweep at <a href='https://wandb.ai/nar8991-new-york-university/SNN_test_optimize/sweeps/kesigm24' target=\"_blank\">https://wandb.ai/nar8991-new-york-university/SNN_test_optimize/sweeps/kesigm24</a>"
      ],
      "text/plain": [
       "<IPython.core.display.HTML object>"
      ]
     },
     "metadata": {},
     "output_type": "display_data"
    },
    {
     "data": {
      "text/html": [
       " View run at <a href='https://wandb.ai/nar8991-new-york-university/SNN_test_optimize/runs/u9u3yuyo' target=\"_blank\">https://wandb.ai/nar8991-new-york-university/SNN_test_optimize/runs/u9u3yuyo</a>"
      ],
      "text/plain": [
       "<IPython.core.display.HTML object>"
      ]
     },
     "metadata": {},
     "output_type": "display_data"
    },
    {
     "name": "stderr",
     "output_type": "stream",
     "text": [
      "/var/folders/7b/0zqwym191dq_5jvhhbf5lfgr0000gn/T/ipykernel_69979/3981686502.py:11: UserWarning: To copy construct from a tensor, it is recommended to use sourceTensor.clone().detach() or sourceTensor.clone().detach().requires_grad_(True), rather than torch.tensor(sourceTensor).\n",
      "  data_tensor = torch.tensor(x_data, dtype=torch.float32)\n"
     ]
    },
    {
     "name": "stdout",
     "output_type": "stream",
     "text": [
      "init done\n",
      "Final Train Accuracy: 100.00%\n",
      "Final Validation Accuracy: 100.00%\n",
      "Final Test Accuracy: 99.61%\n"
     ]
    },
    {
     "data": {
      "text/html": [],
      "text/plain": [
       "<IPython.core.display.HTML object>"
      ]
     },
     "metadata": {},
     "output_type": "display_data"
    },
    {
     "data": {
      "text/html": [
       "<br>    <style><br>        .wandb-row {<br>            display: flex;<br>            flex-direction: row;<br>            flex-wrap: wrap;<br>            justify-content: flex-start;<br>            width: 100%;<br>        }<br>        .wandb-col {<br>            display: flex;<br>            flex-direction: column;<br>            flex-basis: 100%;<br>            flex: 1;<br>            padding: 10px;<br>        }<br>    </style><br><div class=\"wandb-row\"><div class=\"wandb-col\"><h3>Run history:</h3><br/><table class=\"wandb\"><tr><td>epoch</td><td>▁▁▁▁▂▂▂▂▂▂▂▃▃▃▃▃▃▃▄▄▄▄▄▅▅▅▅▅▅▆▆▆▆▆▇▇▇▇██</td></tr><tr><td>final_test_accuracy</td><td>▁</td></tr><tr><td>final_train_accuracy</td><td>▁</td></tr><tr><td>final_val_accuracy</td><td>▁</td></tr><tr><td>spike_count_train_epoch</td><td>▁▁▁▁▁▁▁▁▁▁▁▁▁▁▁▁▁▁▁▁▁▁▁▁▁▁▁▁▁▁▁▁▁▁▁▁▁▁▁▁</td></tr><tr><td>spike_count_val_epoch</td><td>█▃▃▃▃▃▃▄▄▅▅▅▄▄▄▃▂▂▂▂▁▁▁▁▁▁▁▁▁▁▁▁▁▁▁▁▁▁▁▁</td></tr><tr><td>train_loss</td><td>█▆▅▅▅▄▄▄▃▃▃▂▂▂▂▂▂▂▂▂▁▁▁▁▁▁▁▁▁▁▁▁▁▁▁▁▁▁▁▁</td></tr><tr><td>val_accuracy</td><td>▁▂▄▄▄▆▆▆▆▇██████████████████████████████</td></tr><tr><td>val_loss</td><td>██▇▇▇▆▆▅▅▄▃▂▂▂▂▁▁▁▁▁▁▁▁▁▁▁▁▁▁▁▁▁▁▁▁▁▁▁▁▁</td></tr></table><br/></div><div class=\"wandb-col\"><h3>Run summary:</h3><br/><table class=\"wandb\"><tr><td>epoch</td><td>149</td></tr><tr><td>final_test_accuracy</td><td>0.99609</td></tr><tr><td>final_train_accuracy</td><td>1</td></tr><tr><td>final_val_accuracy</td><td>1</td></tr><tr><td>spike_count_train_epoch</td><td>0</td></tr><tr><td>spike_count_val_epoch</td><td>18</td></tr><tr><td>train_loss</td><td>0.00151</td></tr><tr><td>val_accuracy</td><td>1</td></tr><tr><td>val_loss</td><td>0.00144</td></tr></table><br/></div></div>"
      ],
      "text/plain": [
       "<IPython.core.display.HTML object>"
      ]
     },
     "metadata": {},
     "output_type": "display_data"
    },
    {
     "data": {
      "text/html": [
       " View run <strong style=\"color:#cdcd00\">Hybrid_RNN_SNN_rec-l1_5e-06-l2_5e-06</strong> at: <a href='https://wandb.ai/nar8991-new-york-university/SNN_test_optimize/runs/u9u3yuyo' target=\"_blank\">https://wandb.ai/nar8991-new-york-university/SNN_test_optimize/runs/u9u3yuyo</a><br> View project at: <a href='https://wandb.ai/nar8991-new-york-university/SNN_test_optimize' target=\"_blank\">https://wandb.ai/nar8991-new-york-university/SNN_test_optimize</a><br>Synced 5 W&B file(s), 0 media file(s), 0 artifact file(s) and 0 other file(s)"
      ],
      "text/plain": [
       "<IPython.core.display.HTML object>"
      ]
     },
     "metadata": {},
     "output_type": "display_data"
    },
    {
     "data": {
      "text/html": [
       "Find logs at: <code>./wandb/run-20250417_121047-u9u3yuyo/logs</code>"
      ],
      "text/plain": [
       "<IPython.core.display.HTML object>"
      ]
     },
     "metadata": {},
     "output_type": "display_data"
    },
    {
     "name": "stderr",
     "output_type": "stream",
     "text": [
      "\u001b[34m\u001b[1mwandb\u001b[0m: Agent Starting Run: omruvwnp with config:\n",
      "\u001b[34m\u001b[1mwandb\u001b[0m: \tepochs: 150\n",
      "\u001b[34m\u001b[1mwandb\u001b[0m: \tl1: 5e-06\n",
      "\u001b[34m\u001b[1mwandb\u001b[0m: \tl2: 1e-05\n",
      "\u001b[34m\u001b[1mwandb\u001b[0m: \tlearning_rate: 0.002\n",
      "\u001b[34m\u001b[1mwandb\u001b[0m: \tmodel_name: Hybrid_RNN_SNN_rec\n",
      "\u001b[34m\u001b[1mwandb\u001b[0m: \toptimizer: Adam\n",
      "\u001b[34m\u001b[1mwandb\u001b[0m: \tregularization: True\n"
     ]
    },
    {
     "data": {
      "text/html": [
       "Ignoring project 'SNN_test_optimize' when running a sweep."
      ],
      "text/plain": [
       "<IPython.core.display.HTML object>"
      ]
     },
     "metadata": {},
     "output_type": "display_data"
    },
    {
     "data": {
      "text/html": [
       "Tracking run with wandb version 0.19.9"
      ],
      "text/plain": [
       "<IPython.core.display.HTML object>"
      ]
     },
     "metadata": {},
     "output_type": "display_data"
    },
    {
     "data": {
      "text/html": [
       "Run data is saved locally in <code>/Users/naliniramanathan/projects/snn_project/spytorch/notebooks/wandb/run-20250417_121337-omruvwnp</code>"
      ],
      "text/plain": [
       "<IPython.core.display.HTML object>"
      ]
     },
     "metadata": {},
     "output_type": "display_data"
    },
    {
     "data": {
      "text/html": [
       "Syncing run <strong><a href='https://wandb.ai/nar8991-new-york-university/SNN_test_optimize/runs/omruvwnp' target=\"_blank\">gentle-sweep-6</a></strong> to <a href='https://wandb.ai/nar8991-new-york-university/SNN_test_optimize' target=\"_blank\">Weights & Biases</a> (<a href='https://wandb.me/developer-guide' target=\"_blank\">docs</a>)<br>Sweep page: <a href='https://wandb.ai/nar8991-new-york-university/SNN_test_optimize/sweeps/kesigm24' target=\"_blank\">https://wandb.ai/nar8991-new-york-university/SNN_test_optimize/sweeps/kesigm24</a>"
      ],
      "text/plain": [
       "<IPython.core.display.HTML object>"
      ]
     },
     "metadata": {},
     "output_type": "display_data"
    },
    {
     "data": {
      "text/html": [
       " View project at <a href='https://wandb.ai/nar8991-new-york-university/SNN_test_optimize' target=\"_blank\">https://wandb.ai/nar8991-new-york-university/SNN_test_optimize</a>"
      ],
      "text/plain": [
       "<IPython.core.display.HTML object>"
      ]
     },
     "metadata": {},
     "output_type": "display_data"
    },
    {
     "data": {
      "text/html": [
       " View sweep at <a href='https://wandb.ai/nar8991-new-york-university/SNN_test_optimize/sweeps/kesigm24' target=\"_blank\">https://wandb.ai/nar8991-new-york-university/SNN_test_optimize/sweeps/kesigm24</a>"
      ],
      "text/plain": [
       "<IPython.core.display.HTML object>"
      ]
     },
     "metadata": {},
     "output_type": "display_data"
    },
    {
     "data": {
      "text/html": [
       " View run at <a href='https://wandb.ai/nar8991-new-york-university/SNN_test_optimize/runs/omruvwnp' target=\"_blank\">https://wandb.ai/nar8991-new-york-university/SNN_test_optimize/runs/omruvwnp</a>"
      ],
      "text/plain": [
       "<IPython.core.display.HTML object>"
      ]
     },
     "metadata": {},
     "output_type": "display_data"
    },
    {
     "name": "stderr",
     "output_type": "stream",
     "text": [
      "/var/folders/7b/0zqwym191dq_5jvhhbf5lfgr0000gn/T/ipykernel_69979/3981686502.py:11: UserWarning: To copy construct from a tensor, it is recommended to use sourceTensor.clone().detach() or sourceTensor.clone().detach().requires_grad_(True), rather than torch.tensor(sourceTensor).\n",
      "  data_tensor = torch.tensor(x_data, dtype=torch.float32)\n"
     ]
    },
    {
     "name": "stdout",
     "output_type": "stream",
     "text": [
      "init done\n",
      "Final Train Accuracy: 100.00%\n",
      "Final Validation Accuracy: 100.00%\n",
      "Final Test Accuracy: 99.61%\n"
     ]
    },
    {
     "data": {
      "text/html": [],
      "text/plain": [
       "<IPython.core.display.HTML object>"
      ]
     },
     "metadata": {},
     "output_type": "display_data"
    },
    {
     "data": {
      "text/html": [
       "<br>    <style><br>        .wandb-row {<br>            display: flex;<br>            flex-direction: row;<br>            flex-wrap: wrap;<br>            justify-content: flex-start;<br>            width: 100%;<br>        }<br>        .wandb-col {<br>            display: flex;<br>            flex-direction: column;<br>            flex-basis: 100%;<br>            flex: 1;<br>            padding: 10px;<br>        }<br>    </style><br><div class=\"wandb-row\"><div class=\"wandb-col\"><h3>Run history:</h3><br/><table class=\"wandb\"><tr><td>epoch</td><td>▁▁▁▂▂▂▂▂▂▂▃▃▃▃▃▃▃▄▄▄▄▅▅▅▅▅▅▆▆▆▆▆▆▇▇▇▇███</td></tr><tr><td>final_test_accuracy</td><td>▁</td></tr><tr><td>final_train_accuracy</td><td>▁</td></tr><tr><td>final_val_accuracy</td><td>▁</td></tr><tr><td>spike_count_train_epoch</td><td>▁▁▁▁▁▁▁▁▁▁▁▁▁▁▁▁▁▁▁▁▁▁▁▁▁▁▁▁▁▁▁▁▁▁▁▁▁▁▁▁</td></tr><tr><td>spike_count_val_epoch</td><td>█▇▃▃▃▃▃▃▃▄▄▄▄▄▃▃▃▂▂▂▁▁▁▁▁▁▁▁▁▁▁▁▁▁▁▁▁▁▁▁</td></tr><tr><td>train_loss</td><td>█▅▄▄▄▄▃▃▃▃▃▃▂▂▂▂▂▂▂▂▁▁▁▁▁▁▁▁▁▁▁▁▁▁▁▁▁▁▁▁</td></tr><tr><td>val_accuracy</td><td>▁▃▄▅▅▆▆▇▇▇▇▇▇▇██████████████████████████</td></tr><tr><td>val_loss</td><td>█▇▇▆▆▆▄▄▃▃▃▃▃▂▂▁▁▁▁▁▁▁▁▁▁▁▁▁▁▁▁▁▁▁▁▁▁▁▁▁</td></tr></table><br/></div><div class=\"wandb-col\"><h3>Run summary:</h3><br/><table class=\"wandb\"><tr><td>epoch</td><td>149</td></tr><tr><td>final_test_accuracy</td><td>0.99609</td></tr><tr><td>final_train_accuracy</td><td>1</td></tr><tr><td>final_val_accuracy</td><td>1</td></tr><tr><td>spike_count_train_epoch</td><td>0</td></tr><tr><td>spike_count_val_epoch</td><td>8</td></tr><tr><td>train_loss</td><td>0.00165</td></tr><tr><td>val_accuracy</td><td>1</td></tr><tr><td>val_loss</td><td>0.00264</td></tr></table><br/></div></div>"
      ],
      "text/plain": [
       "<IPython.core.display.HTML object>"
      ]
     },
     "metadata": {},
     "output_type": "display_data"
    },
    {
     "data": {
      "text/html": [
       " View run <strong style=\"color:#cdcd00\">Hybrid_RNN_SNN_rec-l1_5e-06-l2_1e-05</strong> at: <a href='https://wandb.ai/nar8991-new-york-university/SNN_test_optimize/runs/omruvwnp' target=\"_blank\">https://wandb.ai/nar8991-new-york-university/SNN_test_optimize/runs/omruvwnp</a><br> View project at: <a href='https://wandb.ai/nar8991-new-york-university/SNN_test_optimize' target=\"_blank\">https://wandb.ai/nar8991-new-york-university/SNN_test_optimize</a><br>Synced 5 W&B file(s), 0 media file(s), 0 artifact file(s) and 0 other file(s)"
      ],
      "text/plain": [
       "<IPython.core.display.HTML object>"
      ]
     },
     "metadata": {},
     "output_type": "display_data"
    },
    {
     "data": {
      "text/html": [
       "Find logs at: <code>./wandb/run-20250417_121337-omruvwnp/logs</code>"
      ],
      "text/plain": [
       "<IPython.core.display.HTML object>"
      ]
     },
     "metadata": {},
     "output_type": "display_data"
    },
    {
     "name": "stderr",
     "output_type": "stream",
     "text": [
      "\u001b[34m\u001b[1mwandb\u001b[0m: Agent Starting Run: 56bl3sdp with config:\n",
      "\u001b[34m\u001b[1mwandb\u001b[0m: \tepochs: 150\n",
      "\u001b[34m\u001b[1mwandb\u001b[0m: \tl1: 1e-05\n",
      "\u001b[34m\u001b[1mwandb\u001b[0m: \tl2: 1e-06\n",
      "\u001b[34m\u001b[1mwandb\u001b[0m: \tlearning_rate: 0.002\n",
      "\u001b[34m\u001b[1mwandb\u001b[0m: \tmodel_name: Hybrid_RNN_SNN_rec\n",
      "\u001b[34m\u001b[1mwandb\u001b[0m: \toptimizer: Adam\n",
      "\u001b[34m\u001b[1mwandb\u001b[0m: \tregularization: True\n"
     ]
    },
    {
     "data": {
      "text/html": [
       "Ignoring project 'SNN_test_optimize' when running a sweep."
      ],
      "text/plain": [
       "<IPython.core.display.HTML object>"
      ]
     },
     "metadata": {},
     "output_type": "display_data"
    },
    {
     "data": {
      "text/html": [
       "Tracking run with wandb version 0.19.9"
      ],
      "text/plain": [
       "<IPython.core.display.HTML object>"
      ]
     },
     "metadata": {},
     "output_type": "display_data"
    },
    {
     "data": {
      "text/html": [
       "Run data is saved locally in <code>/Users/naliniramanathan/projects/snn_project/spytorch/notebooks/wandb/run-20250417_121623-56bl3sdp</code>"
      ],
      "text/plain": [
       "<IPython.core.display.HTML object>"
      ]
     },
     "metadata": {},
     "output_type": "display_data"
    },
    {
     "data": {
      "text/html": [
       "Syncing run <strong><a href='https://wandb.ai/nar8991-new-york-university/SNN_test_optimize/runs/56bl3sdp' target=\"_blank\">generous-sweep-7</a></strong> to <a href='https://wandb.ai/nar8991-new-york-university/SNN_test_optimize' target=\"_blank\">Weights & Biases</a> (<a href='https://wandb.me/developer-guide' target=\"_blank\">docs</a>)<br>Sweep page: <a href='https://wandb.ai/nar8991-new-york-university/SNN_test_optimize/sweeps/kesigm24' target=\"_blank\">https://wandb.ai/nar8991-new-york-university/SNN_test_optimize/sweeps/kesigm24</a>"
      ],
      "text/plain": [
       "<IPython.core.display.HTML object>"
      ]
     },
     "metadata": {},
     "output_type": "display_data"
    },
    {
     "data": {
      "text/html": [
       " View project at <a href='https://wandb.ai/nar8991-new-york-university/SNN_test_optimize' target=\"_blank\">https://wandb.ai/nar8991-new-york-university/SNN_test_optimize</a>"
      ],
      "text/plain": [
       "<IPython.core.display.HTML object>"
      ]
     },
     "metadata": {},
     "output_type": "display_data"
    },
    {
     "data": {
      "text/html": [
       " View sweep at <a href='https://wandb.ai/nar8991-new-york-university/SNN_test_optimize/sweeps/kesigm24' target=\"_blank\">https://wandb.ai/nar8991-new-york-university/SNN_test_optimize/sweeps/kesigm24</a>"
      ],
      "text/plain": [
       "<IPython.core.display.HTML object>"
      ]
     },
     "metadata": {},
     "output_type": "display_data"
    },
    {
     "data": {
      "text/html": [
       " View run at <a href='https://wandb.ai/nar8991-new-york-university/SNN_test_optimize/runs/56bl3sdp' target=\"_blank\">https://wandb.ai/nar8991-new-york-university/SNN_test_optimize/runs/56bl3sdp</a>"
      ],
      "text/plain": [
       "<IPython.core.display.HTML object>"
      ]
     },
     "metadata": {},
     "output_type": "display_data"
    },
    {
     "name": "stderr",
     "output_type": "stream",
     "text": [
      "/var/folders/7b/0zqwym191dq_5jvhhbf5lfgr0000gn/T/ipykernel_69979/3981686502.py:11: UserWarning: To copy construct from a tensor, it is recommended to use sourceTensor.clone().detach() or sourceTensor.clone().detach().requires_grad_(True), rather than torch.tensor(sourceTensor).\n",
      "  data_tensor = torch.tensor(x_data, dtype=torch.float32)\n"
     ]
    },
    {
     "name": "stdout",
     "output_type": "stream",
     "text": [
      "init done\n",
      "Final Train Accuracy: 100.00%\n",
      "Final Validation Accuracy: 100.00%\n",
      "Final Test Accuracy: 99.61%\n"
     ]
    },
    {
     "data": {
      "text/html": [],
      "text/plain": [
       "<IPython.core.display.HTML object>"
      ]
     },
     "metadata": {},
     "output_type": "display_data"
    },
    {
     "data": {
      "text/html": [
       "<br>    <style><br>        .wandb-row {<br>            display: flex;<br>            flex-direction: row;<br>            flex-wrap: wrap;<br>            justify-content: flex-start;<br>            width: 100%;<br>        }<br>        .wandb-col {<br>            display: flex;<br>            flex-direction: column;<br>            flex-basis: 100%;<br>            flex: 1;<br>            padding: 10px;<br>        }<br>    </style><br><div class=\"wandb-row\"><div class=\"wandb-col\"><h3>Run history:</h3><br/><table class=\"wandb\"><tr><td>epoch</td><td>▁▁▁▁▂▂▂▂▃▃▃▃▃▃▄▄▅▅▅▅▅▅▅▆▆▆▆▆▆▆▇▇▇▇▇▇▇▇██</td></tr><tr><td>final_test_accuracy</td><td>▁</td></tr><tr><td>final_train_accuracy</td><td>▁</td></tr><tr><td>final_val_accuracy</td><td>▁</td></tr><tr><td>spike_count_train_epoch</td><td>▁▁▁▁▁▁▁▁▁▁▁▁▁▁▁▁▁▁▁▁▁▁▁▁▁▁▁▁▁▁▁▁▁▁▁▁▁▁▁▁</td></tr><tr><td>spike_count_val_epoch</td><td>▆▅▄▄▃▄▄▅▇▇██▇▇▇▆▆▆▆▅▄▄▄▃▃▃▂▂▂▂▁▁▁▁▁▁▁▁▁▁</td></tr><tr><td>train_loss</td><td>█▆▆▆▆▅▅▅▄▄▃▃▃▃▃▂▂▂▂▂▁▁▁▁▁▁▁▁▁▁▁▁▁▁▁▁▁▁▁▁</td></tr><tr><td>val_accuracy</td><td>▁▁▂▂▅▆▇▇▇▇▇▇████████████████████████████</td></tr><tr><td>val_loss</td><td>███▇▆▆▆▅▄▄▄▃▃▂▂▂▂▂▂▂▁▁▁▁▁▁▁▁▁▁▁▁▁▁▁▁▁▁▁▁</td></tr></table><br/></div><div class=\"wandb-col\"><h3>Run summary:</h3><br/><table class=\"wandb\"><tr><td>epoch</td><td>149</td></tr><tr><td>final_test_accuracy</td><td>0.99609</td></tr><tr><td>final_train_accuracy</td><td>1</td></tr><tr><td>final_val_accuracy</td><td>1</td></tr><tr><td>spike_count_train_epoch</td><td>0</td></tr><tr><td>spike_count_val_epoch</td><td>51</td></tr><tr><td>train_loss</td><td>0.00241</td></tr><tr><td>val_accuracy</td><td>1</td></tr><tr><td>val_loss</td><td>0.00189</td></tr></table><br/></div></div>"
      ],
      "text/plain": [
       "<IPython.core.display.HTML object>"
      ]
     },
     "metadata": {},
     "output_type": "display_data"
    },
    {
     "data": {
      "text/html": [
       " View run <strong style=\"color:#cdcd00\">Hybrid_RNN_SNN_rec-l1_1e-05-l2_1e-06</strong> at: <a href='https://wandb.ai/nar8991-new-york-university/SNN_test_optimize/runs/56bl3sdp' target=\"_blank\">https://wandb.ai/nar8991-new-york-university/SNN_test_optimize/runs/56bl3sdp</a><br> View project at: <a href='https://wandb.ai/nar8991-new-york-university/SNN_test_optimize' target=\"_blank\">https://wandb.ai/nar8991-new-york-university/SNN_test_optimize</a><br>Synced 5 W&B file(s), 0 media file(s), 0 artifact file(s) and 0 other file(s)"
      ],
      "text/plain": [
       "<IPython.core.display.HTML object>"
      ]
     },
     "metadata": {},
     "output_type": "display_data"
    },
    {
     "data": {
      "text/html": [
       "Find logs at: <code>./wandb/run-20250417_121623-56bl3sdp/logs</code>"
      ],
      "text/plain": [
       "<IPython.core.display.HTML object>"
      ]
     },
     "metadata": {},
     "output_type": "display_data"
    },
    {
     "name": "stderr",
     "output_type": "stream",
     "text": [
      "\u001b[34m\u001b[1mwandb\u001b[0m: Agent Starting Run: bktuvw3g with config:\n",
      "\u001b[34m\u001b[1mwandb\u001b[0m: \tepochs: 150\n",
      "\u001b[34m\u001b[1mwandb\u001b[0m: \tl1: 1e-05\n",
      "\u001b[34m\u001b[1mwandb\u001b[0m: \tl2: 5e-06\n",
      "\u001b[34m\u001b[1mwandb\u001b[0m: \tlearning_rate: 0.002\n",
      "\u001b[34m\u001b[1mwandb\u001b[0m: \tmodel_name: Hybrid_RNN_SNN_rec\n",
      "\u001b[34m\u001b[1mwandb\u001b[0m: \toptimizer: Adam\n",
      "\u001b[34m\u001b[1mwandb\u001b[0m: \tregularization: True\n"
     ]
    },
    {
     "data": {
      "text/html": [
       "Ignoring project 'SNN_test_optimize' when running a sweep."
      ],
      "text/plain": [
       "<IPython.core.display.HTML object>"
      ]
     },
     "metadata": {},
     "output_type": "display_data"
    },
    {
     "data": {
      "text/html": [
       "Tracking run with wandb version 0.19.9"
      ],
      "text/plain": [
       "<IPython.core.display.HTML object>"
      ]
     },
     "metadata": {},
     "output_type": "display_data"
    },
    {
     "data": {
      "text/html": [
       "Run data is saved locally in <code>/Users/naliniramanathan/projects/snn_project/spytorch/notebooks/wandb/run-20250417_121921-bktuvw3g</code>"
      ],
      "text/plain": [
       "<IPython.core.display.HTML object>"
      ]
     },
     "metadata": {},
     "output_type": "display_data"
    },
    {
     "data": {
      "text/html": [
       "Syncing run <strong><a href='https://wandb.ai/nar8991-new-york-university/SNN_test_optimize/runs/bktuvw3g' target=\"_blank\">upbeat-sweep-8</a></strong> to <a href='https://wandb.ai/nar8991-new-york-university/SNN_test_optimize' target=\"_blank\">Weights & Biases</a> (<a href='https://wandb.me/developer-guide' target=\"_blank\">docs</a>)<br>Sweep page: <a href='https://wandb.ai/nar8991-new-york-university/SNN_test_optimize/sweeps/kesigm24' target=\"_blank\">https://wandb.ai/nar8991-new-york-university/SNN_test_optimize/sweeps/kesigm24</a>"
      ],
      "text/plain": [
       "<IPython.core.display.HTML object>"
      ]
     },
     "metadata": {},
     "output_type": "display_data"
    },
    {
     "data": {
      "text/html": [
       " View project at <a href='https://wandb.ai/nar8991-new-york-university/SNN_test_optimize' target=\"_blank\">https://wandb.ai/nar8991-new-york-university/SNN_test_optimize</a>"
      ],
      "text/plain": [
       "<IPython.core.display.HTML object>"
      ]
     },
     "metadata": {},
     "output_type": "display_data"
    },
    {
     "data": {
      "text/html": [
       " View sweep at <a href='https://wandb.ai/nar8991-new-york-university/SNN_test_optimize/sweeps/kesigm24' target=\"_blank\">https://wandb.ai/nar8991-new-york-university/SNN_test_optimize/sweeps/kesigm24</a>"
      ],
      "text/plain": [
       "<IPython.core.display.HTML object>"
      ]
     },
     "metadata": {},
     "output_type": "display_data"
    },
    {
     "data": {
      "text/html": [
       " View run at <a href='https://wandb.ai/nar8991-new-york-university/SNN_test_optimize/runs/bktuvw3g' target=\"_blank\">https://wandb.ai/nar8991-new-york-university/SNN_test_optimize/runs/bktuvw3g</a>"
      ],
      "text/plain": [
       "<IPython.core.display.HTML object>"
      ]
     },
     "metadata": {},
     "output_type": "display_data"
    },
    {
     "name": "stderr",
     "output_type": "stream",
     "text": [
      "/var/folders/7b/0zqwym191dq_5jvhhbf5lfgr0000gn/T/ipykernel_69979/3981686502.py:11: UserWarning: To copy construct from a tensor, it is recommended to use sourceTensor.clone().detach() or sourceTensor.clone().detach().requires_grad_(True), rather than torch.tensor(sourceTensor).\n",
      "  data_tensor = torch.tensor(x_data, dtype=torch.float32)\n"
     ]
    },
    {
     "name": "stdout",
     "output_type": "stream",
     "text": [
      "init done\n",
      "Final Train Accuracy: 100.00%\n",
      "Final Validation Accuracy: 100.00%\n",
      "Final Test Accuracy: 99.61%\n"
     ]
    },
    {
     "data": {
      "text/html": [],
      "text/plain": [
       "<IPython.core.display.HTML object>"
      ]
     },
     "metadata": {},
     "output_type": "display_data"
    },
    {
     "data": {
      "text/html": [
       "<br>    <style><br>        .wandb-row {<br>            display: flex;<br>            flex-direction: row;<br>            flex-wrap: wrap;<br>            justify-content: flex-start;<br>            width: 100%;<br>        }<br>        .wandb-col {<br>            display: flex;<br>            flex-direction: column;<br>            flex-basis: 100%;<br>            flex: 1;<br>            padding: 10px;<br>        }<br>    </style><br><div class=\"wandb-row\"><div class=\"wandb-col\"><h3>Run history:</h3><br/><table class=\"wandb\"><tr><td>epoch</td><td>▁▁▁▁▁▂▂▂▂▂▂▂▃▃▃▃▃▄▄▄▄▄▄▄▅▅▅▅▅▆▆▆▇▇▇▇▇▇██</td></tr><tr><td>final_test_accuracy</td><td>▁</td></tr><tr><td>final_train_accuracy</td><td>▁</td></tr><tr><td>final_val_accuracy</td><td>▁</td></tr><tr><td>spike_count_train_epoch</td><td>▁▁▁▁▁▁▁▁▁▁▁▁▁▁▁▁▁▁▁▁▁▁▁▁▁▁▁▁▁▁▁▁▁▁▁▁▁▁▁▁</td></tr><tr><td>spike_count_val_epoch</td><td>█▇▅▃▃▃▃▃▄▅▅▅▅▅▅▅▅▄▄▄▂▂▁▁▁▁▁▁▁▁▁▁▁▁▁▁▁▁▁▁</td></tr><tr><td>train_loss</td><td>█▆▆▅▅▅▄▄▃▃▂▂▂▂▂▁▁▁▁▁▁▁▁▁▁▁▁▁▁▁▁▁▁▁▁▁▁▁▁▁</td></tr><tr><td>val_accuracy</td><td>▁▃▄▄▄▅▆▆▆▆▇▇▇▇▇█████████████████████████</td></tr><tr><td>val_loss</td><td>███▇▇▆▆▆▆▆▅▄▄▃▃▂▂▂▂▂▁▁▁▁▁▁▁▁▁▁▁▁▁▁▁▁▁▁▁▁</td></tr></table><br/></div><div class=\"wandb-col\"><h3>Run summary:</h3><br/><table class=\"wandb\"><tr><td>epoch</td><td>149</td></tr><tr><td>final_test_accuracy</td><td>0.99609</td></tr><tr><td>final_train_accuracy</td><td>1</td></tr><tr><td>final_val_accuracy</td><td>1</td></tr><tr><td>spike_count_train_epoch</td><td>0</td></tr><tr><td>spike_count_val_epoch</td><td>17</td></tr><tr><td>train_loss</td><td>0.00195</td></tr><tr><td>val_accuracy</td><td>1</td></tr><tr><td>val_loss</td><td>0.00248</td></tr></table><br/></div></div>"
      ],
      "text/plain": [
       "<IPython.core.display.HTML object>"
      ]
     },
     "metadata": {},
     "output_type": "display_data"
    },
    {
     "data": {
      "text/html": [
       " View run <strong style=\"color:#cdcd00\">Hybrid_RNN_SNN_rec-l1_1e-05-l2_5e-06</strong> at: <a href='https://wandb.ai/nar8991-new-york-university/SNN_test_optimize/runs/bktuvw3g' target=\"_blank\">https://wandb.ai/nar8991-new-york-university/SNN_test_optimize/runs/bktuvw3g</a><br> View project at: <a href='https://wandb.ai/nar8991-new-york-university/SNN_test_optimize' target=\"_blank\">https://wandb.ai/nar8991-new-york-university/SNN_test_optimize</a><br>Synced 5 W&B file(s), 0 media file(s), 0 artifact file(s) and 0 other file(s)"
      ],
      "text/plain": [
       "<IPython.core.display.HTML object>"
      ]
     },
     "metadata": {},
     "output_type": "display_data"
    },
    {
     "data": {
      "text/html": [
       "Find logs at: <code>./wandb/run-20250417_121921-bktuvw3g/logs</code>"
      ],
      "text/plain": [
       "<IPython.core.display.HTML object>"
      ]
     },
     "metadata": {},
     "output_type": "display_data"
    },
    {
     "name": "stderr",
     "output_type": "stream",
     "text": [
      "\u001b[34m\u001b[1mwandb\u001b[0m: Agent Starting Run: 8rt98cnp with config:\n",
      "\u001b[34m\u001b[1mwandb\u001b[0m: \tepochs: 150\n",
      "\u001b[34m\u001b[1mwandb\u001b[0m: \tl1: 1e-05\n",
      "\u001b[34m\u001b[1mwandb\u001b[0m: \tl2: 1e-05\n",
      "\u001b[34m\u001b[1mwandb\u001b[0m: \tlearning_rate: 0.002\n",
      "\u001b[34m\u001b[1mwandb\u001b[0m: \tmodel_name: Hybrid_RNN_SNN_rec\n",
      "\u001b[34m\u001b[1mwandb\u001b[0m: \toptimizer: Adam\n",
      "\u001b[34m\u001b[1mwandb\u001b[0m: \tregularization: True\n"
     ]
    },
    {
     "data": {
      "text/html": [
       "Ignoring project 'SNN_test_optimize' when running a sweep."
      ],
      "text/plain": [
       "<IPython.core.display.HTML object>"
      ]
     },
     "metadata": {},
     "output_type": "display_data"
    },
    {
     "data": {
      "text/html": [
       "Tracking run with wandb version 0.19.9"
      ],
      "text/plain": [
       "<IPython.core.display.HTML object>"
      ]
     },
     "metadata": {},
     "output_type": "display_data"
    },
    {
     "data": {
      "text/html": [
       "Run data is saved locally in <code>/Users/naliniramanathan/projects/snn_project/spytorch/notebooks/wandb/run-20250417_122209-8rt98cnp</code>"
      ],
      "text/plain": [
       "<IPython.core.display.HTML object>"
      ]
     },
     "metadata": {},
     "output_type": "display_data"
    },
    {
     "data": {
      "text/html": [
       "Syncing run <strong><a href='https://wandb.ai/nar8991-new-york-university/SNN_test_optimize/runs/8rt98cnp' target=\"_blank\">skilled-sweep-9</a></strong> to <a href='https://wandb.ai/nar8991-new-york-university/SNN_test_optimize' target=\"_blank\">Weights & Biases</a> (<a href='https://wandb.me/developer-guide' target=\"_blank\">docs</a>)<br>Sweep page: <a href='https://wandb.ai/nar8991-new-york-university/SNN_test_optimize/sweeps/kesigm24' target=\"_blank\">https://wandb.ai/nar8991-new-york-university/SNN_test_optimize/sweeps/kesigm24</a>"
      ],
      "text/plain": [
       "<IPython.core.display.HTML object>"
      ]
     },
     "metadata": {},
     "output_type": "display_data"
    },
    {
     "data": {
      "text/html": [
       " View project at <a href='https://wandb.ai/nar8991-new-york-university/SNN_test_optimize' target=\"_blank\">https://wandb.ai/nar8991-new-york-university/SNN_test_optimize</a>"
      ],
      "text/plain": [
       "<IPython.core.display.HTML object>"
      ]
     },
     "metadata": {},
     "output_type": "display_data"
    },
    {
     "data": {
      "text/html": [
       " View sweep at <a href='https://wandb.ai/nar8991-new-york-university/SNN_test_optimize/sweeps/kesigm24' target=\"_blank\">https://wandb.ai/nar8991-new-york-university/SNN_test_optimize/sweeps/kesigm24</a>"
      ],
      "text/plain": [
       "<IPython.core.display.HTML object>"
      ]
     },
     "metadata": {},
     "output_type": "display_data"
    },
    {
     "data": {
      "text/html": [
       " View run at <a href='https://wandb.ai/nar8991-new-york-university/SNN_test_optimize/runs/8rt98cnp' target=\"_blank\">https://wandb.ai/nar8991-new-york-university/SNN_test_optimize/runs/8rt98cnp</a>"
      ],
      "text/plain": [
       "<IPython.core.display.HTML object>"
      ]
     },
     "metadata": {},
     "output_type": "display_data"
    },
    {
     "name": "stderr",
     "output_type": "stream",
     "text": [
      "/var/folders/7b/0zqwym191dq_5jvhhbf5lfgr0000gn/T/ipykernel_69979/3981686502.py:11: UserWarning: To copy construct from a tensor, it is recommended to use sourceTensor.clone().detach() or sourceTensor.clone().detach().requires_grad_(True), rather than torch.tensor(sourceTensor).\n",
      "  data_tensor = torch.tensor(x_data, dtype=torch.float32)\n"
     ]
    },
    {
     "name": "stdout",
     "output_type": "stream",
     "text": [
      "init done\n",
      "Final Train Accuracy: 100.00%\n",
      "Final Validation Accuracy: 100.00%\n",
      "Final Test Accuracy: 99.61%\n"
     ]
    },
    {
     "data": {
      "text/html": [],
      "text/plain": [
       "<IPython.core.display.HTML object>"
      ]
     },
     "metadata": {},
     "output_type": "display_data"
    },
    {
     "data": {
      "text/html": [
       "<br>    <style><br>        .wandb-row {<br>            display: flex;<br>            flex-direction: row;<br>            flex-wrap: wrap;<br>            justify-content: flex-start;<br>            width: 100%;<br>        }<br>        .wandb-col {<br>            display: flex;<br>            flex-direction: column;<br>            flex-basis: 100%;<br>            flex: 1;<br>            padding: 10px;<br>        }<br>    </style><br><div class=\"wandb-row\"><div class=\"wandb-col\"><h3>Run history:</h3><br/><table class=\"wandb\"><tr><td>epoch</td><td>▁▁▁▂▂▃▃▃▃▃▃▃▄▄▄▄▅▅▅▅▅▅▅▅▅▆▆▆▆▆▆▆▆▇▇▇▇▇▇█</td></tr><tr><td>final_test_accuracy</td><td>▁</td></tr><tr><td>final_train_accuracy</td><td>▁</td></tr><tr><td>final_val_accuracy</td><td>▁</td></tr><tr><td>spike_count_train_epoch</td><td>▁▁▁▁▁▁▁▁▁▁▁▁▁▁▁▁▁▁▁▁▁▁▁▁▁▁▁▁▁▁▁▁▁▁▁▁▁▁▁▁</td></tr><tr><td>spike_count_val_epoch</td><td>█▂▂▂▂▂▂▂▂▂▂▂▂▂▂▂▁▁▁▁▁▁▁▁▁▁▁▁▁▁▁▁▁▁▁▁▁▁▁▁</td></tr><tr><td>train_loss</td><td>█▆▆▅▅▄▄▃▃▃▂▂▂▂▂▂▂▂▁▁▁▁▁▁▁▁▁▁▁▁▁▁▁▁▁▁▁▁▁▁</td></tr><tr><td>val_accuracy</td><td>▁▂▃▃▄▅▅▆▆▆▇▇████████████████████████████</td></tr><tr><td>val_loss</td><td>█▇▇▇▆▆▆▅▅▅▃▃▃▃▃▂▂▂▂▁▁▁▁▁▁▁▁▁▁▁▁▁▁▁▁▁▁▁▁▁</td></tr></table><br/></div><div class=\"wandb-col\"><h3>Run summary:</h3><br/><table class=\"wandb\"><tr><td>epoch</td><td>149</td></tr><tr><td>final_test_accuracy</td><td>0.99609</td></tr><tr><td>final_train_accuracy</td><td>1</td></tr><tr><td>final_val_accuracy</td><td>1</td></tr><tr><td>spike_count_train_epoch</td><td>0</td></tr><tr><td>spike_count_val_epoch</td><td>10</td></tr><tr><td>train_loss</td><td>0.00252</td></tr><tr><td>val_accuracy</td><td>1</td></tr><tr><td>val_loss</td><td>0.00326</td></tr></table><br/></div></div>"
      ],
      "text/plain": [
       "<IPython.core.display.HTML object>"
      ]
     },
     "metadata": {},
     "output_type": "display_data"
    },
    {
     "data": {
      "text/html": [
       " View run <strong style=\"color:#cdcd00\">Hybrid_RNN_SNN_rec-l1_1e-05-l2_1e-05</strong> at: <a href='https://wandb.ai/nar8991-new-york-university/SNN_test_optimize/runs/8rt98cnp' target=\"_blank\">https://wandb.ai/nar8991-new-york-university/SNN_test_optimize/runs/8rt98cnp</a><br> View project at: <a href='https://wandb.ai/nar8991-new-york-university/SNN_test_optimize' target=\"_blank\">https://wandb.ai/nar8991-new-york-university/SNN_test_optimize</a><br>Synced 5 W&B file(s), 0 media file(s), 0 artifact file(s) and 0 other file(s)"
      ],
      "text/plain": [
       "<IPython.core.display.HTML object>"
      ]
     },
     "metadata": {},
     "output_type": "display_data"
    },
    {
     "data": {
      "text/html": [
       "Find logs at: <code>./wandb/run-20250417_122209-8rt98cnp/logs</code>"
      ],
      "text/plain": [
       "<IPython.core.display.HTML object>"
      ]
     },
     "metadata": {},
     "output_type": "display_data"
    },
    {
     "name": "stdout",
     "output_type": "stream",
     "text": [
      "Create sweep with ID: gv49xpkt\n",
      "Sweep URL: https://wandb.ai/nar8991-new-york-university/SNN_test_optimize/sweeps/gv49xpkt\n"
     ]
    },
    {
     "name": "stderr",
     "output_type": "stream",
     "text": [
      "\u001b[34m\u001b[1mwandb\u001b[0m: Agent Starting Run: hzjsnia7 with config:\n",
      "\u001b[34m\u001b[1mwandb\u001b[0m: \tepochs: 150\n",
      "\u001b[34m\u001b[1mwandb\u001b[0m: \tl1: 1e-06\n",
      "\u001b[34m\u001b[1mwandb\u001b[0m: \tl2: 1e-06\n",
      "\u001b[34m\u001b[1mwandb\u001b[0m: \tlearning_rate: 0.002\n",
      "\u001b[34m\u001b[1mwandb\u001b[0m: \tmodel_name: Hybrid_RNN_SNN_V1_same_layer\n",
      "\u001b[34m\u001b[1mwandb\u001b[0m: \toptimizer: Adam\n",
      "\u001b[34m\u001b[1mwandb\u001b[0m: \tregularization: True\n"
     ]
    },
    {
     "data": {
      "text/html": [
       "Ignoring project 'SNN_test_optimize' when running a sweep."
      ],
      "text/plain": [
       "<IPython.core.display.HTML object>"
      ]
     },
     "metadata": {},
     "output_type": "display_data"
    },
    {
     "data": {
      "text/html": [
       "Tracking run with wandb version 0.19.9"
      ],
      "text/plain": [
       "<IPython.core.display.HTML object>"
      ]
     },
     "metadata": {},
     "output_type": "display_data"
    },
    {
     "data": {
      "text/html": [
       "Run data is saved locally in <code>/Users/naliniramanathan/projects/snn_project/spytorch/notebooks/wandb/run-20250417_122503-hzjsnia7</code>"
      ],
      "text/plain": [
       "<IPython.core.display.HTML object>"
      ]
     },
     "metadata": {},
     "output_type": "display_data"
    },
    {
     "data": {
      "text/html": [
       "Syncing run <strong><a href='https://wandb.ai/nar8991-new-york-university/SNN_test_optimize/runs/hzjsnia7' target=\"_blank\">flowing-sweep-1</a></strong> to <a href='https://wandb.ai/nar8991-new-york-university/SNN_test_optimize' target=\"_blank\">Weights & Biases</a> (<a href='https://wandb.me/developer-guide' target=\"_blank\">docs</a>)<br>Sweep page: <a href='https://wandb.ai/nar8991-new-york-university/SNN_test_optimize/sweeps/gv49xpkt' target=\"_blank\">https://wandb.ai/nar8991-new-york-university/SNN_test_optimize/sweeps/gv49xpkt</a>"
      ],
      "text/plain": [
       "<IPython.core.display.HTML object>"
      ]
     },
     "metadata": {},
     "output_type": "display_data"
    },
    {
     "data": {
      "text/html": [
       " View project at <a href='https://wandb.ai/nar8991-new-york-university/SNN_test_optimize' target=\"_blank\">https://wandb.ai/nar8991-new-york-university/SNN_test_optimize</a>"
      ],
      "text/plain": [
       "<IPython.core.display.HTML object>"
      ]
     },
     "metadata": {},
     "output_type": "display_data"
    },
    {
     "data": {
      "text/html": [
       " View sweep at <a href='https://wandb.ai/nar8991-new-york-university/SNN_test_optimize/sweeps/gv49xpkt' target=\"_blank\">https://wandb.ai/nar8991-new-york-university/SNN_test_optimize/sweeps/gv49xpkt</a>"
      ],
      "text/plain": [
       "<IPython.core.display.HTML object>"
      ]
     },
     "metadata": {},
     "output_type": "display_data"
    },
    {
     "data": {
      "text/html": [
       " View run at <a href='https://wandb.ai/nar8991-new-york-university/SNN_test_optimize/runs/hzjsnia7' target=\"_blank\">https://wandb.ai/nar8991-new-york-university/SNN_test_optimize/runs/hzjsnia7</a>"
      ],
      "text/plain": [
       "<IPython.core.display.HTML object>"
      ]
     },
     "metadata": {},
     "output_type": "display_data"
    },
    {
     "name": "stderr",
     "output_type": "stream",
     "text": [
      "/var/folders/7b/0zqwym191dq_5jvhhbf5lfgr0000gn/T/ipykernel_69979/3981686502.py:11: UserWarning: To copy construct from a tensor, it is recommended to use sourceTensor.clone().detach() or sourceTensor.clone().detach().requires_grad_(True), rather than torch.tensor(sourceTensor).\n",
      "  data_tensor = torch.tensor(x_data, dtype=torch.float32)\n"
     ]
    },
    {
     "name": "stdout",
     "output_type": "stream",
     "text": [
      "init done\n"
     ]
    },
    {
     "name": "stderr",
     "output_type": "stream",
     "text": [
      "\u001b[34m\u001b[1mwandb\u001b[0m: Network error (ConnectionError), entering retry loop.\n"
     ]
    },
    {
     "name": "stdout",
     "output_type": "stream",
     "text": [
      "Final Train Accuracy: 89.45%\n",
      "Final Validation Accuracy: 79.69%\n",
      "Final Test Accuracy: 78.52%\n"
     ]
    },
    {
     "data": {
      "text/html": [],
      "text/plain": [
       "<IPython.core.display.HTML object>"
      ]
     },
     "metadata": {},
     "output_type": "display_data"
    },
    {
     "data": {
      "text/html": [
       "<br>    <style><br>        .wandb-row {<br>            display: flex;<br>            flex-direction: row;<br>            flex-wrap: wrap;<br>            justify-content: flex-start;<br>            width: 100%;<br>        }<br>        .wandb-col {<br>            display: flex;<br>            flex-direction: column;<br>            flex-basis: 100%;<br>            flex: 1;<br>            padding: 10px;<br>        }<br>    </style><br><div class=\"wandb-row\"><div class=\"wandb-col\"><h3>Run history:</h3><br/><table class=\"wandb\"><tr><td>epoch</td><td>▁▁▁▁▁▂▂▂▂▂▃▃▃▃▃▄▄▄▄▄▄▄▄▄▅▅▆▆▆▆▆▆▆▇▇▇▇▇▇█</td></tr><tr><td>final_test_accuracy</td><td>▁</td></tr><tr><td>final_train_accuracy</td><td>▁</td></tr><tr><td>final_val_accuracy</td><td>▁</td></tr><tr><td>spike_count_train_epoch</td><td>▁▁▁▁▁▁▁▁▁▁▁▁▁▁▁▁▁▁▁▁▁▁▁▁▁▁▁▁▁▁▁▁▁▁▁▁▁▁▁▁</td></tr><tr><td>spike_count_val_epoch</td><td>█▄▂▂▂▂▂▃▂▂▁▁▁▁▁▁▁▁▁▁▁▁▁▁▁▁▁▁▁▁▁▁▁▁▁▁▁▁▁▁</td></tr><tr><td>train_loss</td><td>█▇▇▄▃▁▁▁▁▁▁▁▁▁▁▁▁▁▁▁▁▁▁▁▁▁▁▁▁▁▁▁▁▁▁▁▁▁▁▁</td></tr><tr><td>val_accuracy</td><td>▄▄▁▁▁▁▁▁▂▂▂▃▃▃▃▄▅▆▆▆▆▇▇▇▇▇▇▇▇▇▇▇▇▇▇▇▇███</td></tr><tr><td>val_loss</td><td>▂▅█▄▄▃▃▃▂▂▂▂▂▂▂▂▂▂▂▂▂▂▂▂▂▂▂▂▂▁▁▁▁▁▁▁▁▁▁▁</td></tr></table><br/></div><div class=\"wandb-col\"><h3>Run summary:</h3><br/><table class=\"wandb\"><tr><td>epoch</td><td>149</td></tr><tr><td>final_test_accuracy</td><td>0.78516</td></tr><tr><td>final_train_accuracy</td><td>0.89453</td></tr><tr><td>final_val_accuracy</td><td>0.79688</td></tr><tr><td>spike_count_train_epoch</td><td>0</td></tr><tr><td>spike_count_val_epoch</td><td>3532</td></tr><tr><td>train_loss</td><td>1.64293</td></tr><tr><td>val_accuracy</td><td>0.79688</td></tr><tr><td>val_loss</td><td>0.52382</td></tr></table><br/></div></div>"
      ],
      "text/plain": [
       "<IPython.core.display.HTML object>"
      ]
     },
     "metadata": {},
     "output_type": "display_data"
    },
    {
     "data": {
      "text/html": [
       " View run <strong style=\"color:#cdcd00\">Hybrid_RNN_SNN_V1_same_layer-l1_1e-06-l2_1e-06</strong> at: <a href='https://wandb.ai/nar8991-new-york-university/SNN_test_optimize/runs/hzjsnia7' target=\"_blank\">https://wandb.ai/nar8991-new-york-university/SNN_test_optimize/runs/hzjsnia7</a><br> View project at: <a href='https://wandb.ai/nar8991-new-york-university/SNN_test_optimize' target=\"_blank\">https://wandb.ai/nar8991-new-york-university/SNN_test_optimize</a><br>Synced 5 W&B file(s), 0 media file(s), 0 artifact file(s) and 0 other file(s)"
      ],
      "text/plain": [
       "<IPython.core.display.HTML object>"
      ]
     },
     "metadata": {},
     "output_type": "display_data"
    },
    {
     "data": {
      "text/html": [
       "Find logs at: <code>./wandb/run-20250417_122503-hzjsnia7/logs</code>"
      ],
      "text/plain": [
       "<IPython.core.display.HTML object>"
      ]
     },
     "metadata": {},
     "output_type": "display_data"
    },
    {
     "name": "stderr",
     "output_type": "stream",
     "text": [
      "\u001b[34m\u001b[1mwandb\u001b[0m: Sweep Agent: Waiting for job.\n",
      "\u001b[34m\u001b[1mwandb\u001b[0m: Job received.\n",
      "\u001b[34m\u001b[1mwandb\u001b[0m: Agent Starting Run: 7k46bjvq with config:\n",
      "\u001b[34m\u001b[1mwandb\u001b[0m: \tepochs: 150\n",
      "\u001b[34m\u001b[1mwandb\u001b[0m: \tl1: 1e-06\n",
      "\u001b[34m\u001b[1mwandb\u001b[0m: \tl2: 5e-06\n",
      "\u001b[34m\u001b[1mwandb\u001b[0m: \tlearning_rate: 0.002\n",
      "\u001b[34m\u001b[1mwandb\u001b[0m: \tmodel_name: Hybrid_RNN_SNN_V1_same_layer\n",
      "\u001b[34m\u001b[1mwandb\u001b[0m: \toptimizer: Adam\n",
      "\u001b[34m\u001b[1mwandb\u001b[0m: \tregularization: True\n"
     ]
    },
    {
     "data": {
      "text/html": [
       "Ignoring project 'SNN_test_optimize' when running a sweep."
      ],
      "text/plain": [
       "<IPython.core.display.HTML object>"
      ]
     },
     "metadata": {},
     "output_type": "display_data"
    },
    {
     "data": {
      "text/html": [
       "Tracking run with wandb version 0.19.9"
      ],
      "text/plain": [
       "<IPython.core.display.HTML object>"
      ]
     },
     "metadata": {},
     "output_type": "display_data"
    },
    {
     "data": {
      "text/html": [
       "Run data is saved locally in <code>/Users/naliniramanathan/projects/snn_project/spytorch/notebooks/wandb/run-20250417_131459-7k46bjvq</code>"
      ],
      "text/plain": [
       "<IPython.core.display.HTML object>"
      ]
     },
     "metadata": {},
     "output_type": "display_data"
    },
    {
     "data": {
      "text/html": [
       "Syncing run <strong><a href='https://wandb.ai/nar8991-new-york-university/SNN_test_optimize/runs/7k46bjvq' target=\"_blank\">blooming-sweep-2</a></strong> to <a href='https://wandb.ai/nar8991-new-york-university/SNN_test_optimize' target=\"_blank\">Weights & Biases</a> (<a href='https://wandb.me/developer-guide' target=\"_blank\">docs</a>)<br>Sweep page: <a href='https://wandb.ai/nar8991-new-york-university/SNN_test_optimize/sweeps/gv49xpkt' target=\"_blank\">https://wandb.ai/nar8991-new-york-university/SNN_test_optimize/sweeps/gv49xpkt</a>"
      ],
      "text/plain": [
       "<IPython.core.display.HTML object>"
      ]
     },
     "metadata": {},
     "output_type": "display_data"
    },
    {
     "data": {
      "text/html": [
       " View project at <a href='https://wandb.ai/nar8991-new-york-university/SNN_test_optimize' target=\"_blank\">https://wandb.ai/nar8991-new-york-university/SNN_test_optimize</a>"
      ],
      "text/plain": [
       "<IPython.core.display.HTML object>"
      ]
     },
     "metadata": {},
     "output_type": "display_data"
    },
    {
     "data": {
      "text/html": [
       " View sweep at <a href='https://wandb.ai/nar8991-new-york-university/SNN_test_optimize/sweeps/gv49xpkt' target=\"_blank\">https://wandb.ai/nar8991-new-york-university/SNN_test_optimize/sweeps/gv49xpkt</a>"
      ],
      "text/plain": [
       "<IPython.core.display.HTML object>"
      ]
     },
     "metadata": {},
     "output_type": "display_data"
    },
    {
     "data": {
      "text/html": [
       " View run at <a href='https://wandb.ai/nar8991-new-york-university/SNN_test_optimize/runs/7k46bjvq' target=\"_blank\">https://wandb.ai/nar8991-new-york-university/SNN_test_optimize/runs/7k46bjvq</a>"
      ],
      "text/plain": [
       "<IPython.core.display.HTML object>"
      ]
     },
     "metadata": {},
     "output_type": "display_data"
    },
    {
     "name": "stderr",
     "output_type": "stream",
     "text": [
      "/var/folders/7b/0zqwym191dq_5jvhhbf5lfgr0000gn/T/ipykernel_69979/3981686502.py:11: UserWarning: To copy construct from a tensor, it is recommended to use sourceTensor.clone().detach() or sourceTensor.clone().detach().requires_grad_(True), rather than torch.tensor(sourceTensor).\n",
      "  data_tensor = torch.tensor(x_data, dtype=torch.float32)\n"
     ]
    },
    {
     "name": "stdout",
     "output_type": "stream",
     "text": [
      "init done\n"
     ]
    },
    {
     "name": "stderr",
     "output_type": "stream",
     "text": [
      "\u001b[34m\u001b[1mwandb\u001b[0m: Network error (ConnectionError), entering retry loop.\n"
     ]
    },
    {
     "name": "stdout",
     "output_type": "stream",
     "text": [
      "Final Train Accuracy: 68.36%\n",
      "Final Validation Accuracy: 63.28%\n",
      "Final Test Accuracy: 63.28%\n"
     ]
    },
    {
     "data": {
      "text/html": [],
      "text/plain": [
       "<IPython.core.display.HTML object>"
      ]
     },
     "metadata": {},
     "output_type": "display_data"
    },
    {
     "data": {
      "text/html": [
       "<br>    <style><br>        .wandb-row {<br>            display: flex;<br>            flex-direction: row;<br>            flex-wrap: wrap;<br>            justify-content: flex-start;<br>            width: 100%;<br>        }<br>        .wandb-col {<br>            display: flex;<br>            flex-direction: column;<br>            flex-basis: 100%;<br>            flex: 1;<br>            padding: 10px;<br>        }<br>    </style><br><div class=\"wandb-row\"><div class=\"wandb-col\"><h3>Run history:</h3><br/><table class=\"wandb\"><tr><td>epoch</td><td>▁▁▂▂▂▂▂▂▂▃▃▃▃▃▄▄▄▄▄▄▅▅▅▅▆▆▆▆▆▆▇▇▇▇▇▇▇███</td></tr><tr><td>final_test_accuracy</td><td>▁</td></tr><tr><td>final_train_accuracy</td><td>▁</td></tr><tr><td>final_val_accuracy</td><td>▁</td></tr><tr><td>spike_count_train_epoch</td><td>▁▁▁▁▁▁▁▁▁▁▁▁▁▁▁▁▁▁▁▁▁▁▁▁▁▁▁▁▁▁▁▁▁▁▁▁▁▁▁▁</td></tr><tr><td>spike_count_val_epoch</td><td>█▇▅▄▁▁▁▁▁▁▁▁▁▁▁▁▁▁▁▁▁▁▁▁▁▁▁▁▁▁▁▁▁▁▁▁▁▁▁▁</td></tr><tr><td>train_loss</td><td>█▂▁▁▁▁▁▁▁▁▁▁▁▁▁▁▁▁▁▁▁▁▁▁▁▁▁▁▁▁▁▁▁▁▁▁▁▁▁▁</td></tr><tr><td>val_accuracy</td><td>▆▂▁▃▃▃▃▃▃▃▃▃▃▃▃▄▄▄▅▅▆▆▆▆▆▆▇▇▇▇▇▇▇███████</td></tr><tr><td>val_loss</td><td>▁▁██▇▆▆▅▄▄▃▂▂▂▂▂▂▂▂▂▁▁▁▁▁▁▁▁▁▁▁▁▁▁▁▁▁▁▁▁</td></tr></table><br/></div><div class=\"wandb-col\"><h3>Run summary:</h3><br/><table class=\"wandb\"><tr><td>epoch</td><td>149</td></tr><tr><td>final_test_accuracy</td><td>0.63281</td></tr><tr><td>final_train_accuracy</td><td>0.68359</td></tr><tr><td>final_val_accuracy</td><td>0.63281</td></tr><tr><td>spike_count_train_epoch</td><td>0</td></tr><tr><td>spike_count_val_epoch</td><td>0</td></tr><tr><td>train_loss</td><td>0.71962</td></tr><tr><td>val_accuracy</td><td>0.63281</td></tr><tr><td>val_loss</td><td>0.64217</td></tr></table><br/></div></div>"
      ],
      "text/plain": [
       "<IPython.core.display.HTML object>"
      ]
     },
     "metadata": {},
     "output_type": "display_data"
    },
    {
     "data": {
      "text/html": [
       " View run <strong style=\"color:#cdcd00\">Hybrid_RNN_SNN_V1_same_layer-l1_1e-06-l2_5e-06</strong> at: <a href='https://wandb.ai/nar8991-new-york-university/SNN_test_optimize/runs/7k46bjvq' target=\"_blank\">https://wandb.ai/nar8991-new-york-university/SNN_test_optimize/runs/7k46bjvq</a><br> View project at: <a href='https://wandb.ai/nar8991-new-york-university/SNN_test_optimize' target=\"_blank\">https://wandb.ai/nar8991-new-york-university/SNN_test_optimize</a><br>Synced 5 W&B file(s), 0 media file(s), 0 artifact file(s) and 0 other file(s)"
      ],
      "text/plain": [
       "<IPython.core.display.HTML object>"
      ]
     },
     "metadata": {},
     "output_type": "display_data"
    },
    {
     "data": {
      "text/html": [
       "Find logs at: <code>./wandb/run-20250417_131459-7k46bjvq/logs</code>"
      ],
      "text/plain": [
       "<IPython.core.display.HTML object>"
      ]
     },
     "metadata": {},
     "output_type": "display_data"
    },
    {
     "name": "stderr",
     "output_type": "stream",
     "text": [
      "\u001b[34m\u001b[1mwandb\u001b[0m: Agent Starting Run: i8alz35o with config:\n",
      "\u001b[34m\u001b[1mwandb\u001b[0m: \tepochs: 150\n",
      "\u001b[34m\u001b[1mwandb\u001b[0m: \tl1: 1e-06\n",
      "\u001b[34m\u001b[1mwandb\u001b[0m: \tl2: 1e-05\n",
      "\u001b[34m\u001b[1mwandb\u001b[0m: \tlearning_rate: 0.002\n",
      "\u001b[34m\u001b[1mwandb\u001b[0m: \tmodel_name: Hybrid_RNN_SNN_V1_same_layer\n",
      "\u001b[34m\u001b[1mwandb\u001b[0m: \toptimizer: Adam\n",
      "\u001b[34m\u001b[1mwandb\u001b[0m: \tregularization: True\n"
     ]
    },
    {
     "data": {
      "text/html": [
       "Ignoring project 'SNN_test_optimize' when running a sweep."
      ],
      "text/plain": [
       "<IPython.core.display.HTML object>"
      ]
     },
     "metadata": {},
     "output_type": "display_data"
    },
    {
     "data": {
      "text/html": [
       "Tracking run with wandb version 0.19.9"
      ],
      "text/plain": [
       "<IPython.core.display.HTML object>"
      ]
     },
     "metadata": {},
     "output_type": "display_data"
    },
    {
     "data": {
      "text/html": [
       "Run data is saved locally in <code>/Users/naliniramanathan/projects/snn_project/spytorch/notebooks/wandb/run-20250417_142350-i8alz35o</code>"
      ],
      "text/plain": [
       "<IPython.core.display.HTML object>"
      ]
     },
     "metadata": {},
     "output_type": "display_data"
    },
    {
     "data": {
      "text/html": [
       "Syncing run <strong><a href='https://wandb.ai/nar8991-new-york-university/SNN_test_optimize/runs/i8alz35o' target=\"_blank\">kind-sweep-3</a></strong> to <a href='https://wandb.ai/nar8991-new-york-university/SNN_test_optimize' target=\"_blank\">Weights & Biases</a> (<a href='https://wandb.me/developer-guide' target=\"_blank\">docs</a>)<br>Sweep page: <a href='https://wandb.ai/nar8991-new-york-university/SNN_test_optimize/sweeps/gv49xpkt' target=\"_blank\">https://wandb.ai/nar8991-new-york-university/SNN_test_optimize/sweeps/gv49xpkt</a>"
      ],
      "text/plain": [
       "<IPython.core.display.HTML object>"
      ]
     },
     "metadata": {},
     "output_type": "display_data"
    },
    {
     "data": {
      "text/html": [
       " View project at <a href='https://wandb.ai/nar8991-new-york-university/SNN_test_optimize' target=\"_blank\">https://wandb.ai/nar8991-new-york-university/SNN_test_optimize</a>"
      ],
      "text/plain": [
       "<IPython.core.display.HTML object>"
      ]
     },
     "metadata": {},
     "output_type": "display_data"
    },
    {
     "data": {
      "text/html": [
       " View sweep at <a href='https://wandb.ai/nar8991-new-york-university/SNN_test_optimize/sweeps/gv49xpkt' target=\"_blank\">https://wandb.ai/nar8991-new-york-university/SNN_test_optimize/sweeps/gv49xpkt</a>"
      ],
      "text/plain": [
       "<IPython.core.display.HTML object>"
      ]
     },
     "metadata": {},
     "output_type": "display_data"
    },
    {
     "data": {
      "text/html": [
       " View run at <a href='https://wandb.ai/nar8991-new-york-university/SNN_test_optimize/runs/i8alz35o' target=\"_blank\">https://wandb.ai/nar8991-new-york-university/SNN_test_optimize/runs/i8alz35o</a>"
      ],
      "text/plain": [
       "<IPython.core.display.HTML object>"
      ]
     },
     "metadata": {},
     "output_type": "display_data"
    },
    {
     "name": "stderr",
     "output_type": "stream",
     "text": [
      "/var/folders/7b/0zqwym191dq_5jvhhbf5lfgr0000gn/T/ipykernel_69979/3981686502.py:11: UserWarning: To copy construct from a tensor, it is recommended to use sourceTensor.clone().detach() or sourceTensor.clone().detach().requires_grad_(True), rather than torch.tensor(sourceTensor).\n",
      "  data_tensor = torch.tensor(x_data, dtype=torch.float32)\n"
     ]
    },
    {
     "name": "stdout",
     "output_type": "stream",
     "text": [
      "init done\n",
      "Final Train Accuracy: 64.84%\n",
      "Final Validation Accuracy: 63.67%\n",
      "Final Test Accuracy: 65.62%\n"
     ]
    },
    {
     "data": {
      "text/html": [],
      "text/plain": [
       "<IPython.core.display.HTML object>"
      ]
     },
     "metadata": {},
     "output_type": "display_data"
    },
    {
     "data": {
      "text/html": [
       "<br>    <style><br>        .wandb-row {<br>            display: flex;<br>            flex-direction: row;<br>            flex-wrap: wrap;<br>            justify-content: flex-start;<br>            width: 100%;<br>        }<br>        .wandb-col {<br>            display: flex;<br>            flex-direction: column;<br>            flex-basis: 100%;<br>            flex: 1;<br>            padding: 10px;<br>        }<br>    </style><br><div class=\"wandb-row\"><div class=\"wandb-col\"><h3>Run history:</h3><br/><table class=\"wandb\"><tr><td>epoch</td><td>▁▁▁▁▁▂▂▂▂▂▂▃▃▃▃▄▄▄▄▅▅▅▅▆▆▆▆▆▆▆▇▇▇▇▇▇▇███</td></tr><tr><td>final_test_accuracy</td><td>▁</td></tr><tr><td>final_train_accuracy</td><td>▁</td></tr><tr><td>final_val_accuracy</td><td>▁</td></tr><tr><td>spike_count_train_epoch</td><td>▁▁▁▁▁▁▁▁▁▁▁▁▁▁▁▁▁▁▁▁▁▁▁▁▁▁▁▁▁▁▁▁▁▁▁▁▁▁▁▁</td></tr><tr><td>spike_count_val_epoch</td><td>█▆▃▂▁▁▁▁▁▁▁▁▁▁▁▁▁▁▁▁▁▁▁▁▁▁▁▁▁▁▁▁▁▁▁▁▁▁▁▁</td></tr><tr><td>train_loss</td><td>█▄▂▂▁▁▁▁▁▁▁▁▁▁▁▁▁▁▁▁▁▁▁▁▁▁▁▁▁▁▁▁▁▁▁▁▁▁▁▁</td></tr><tr><td>val_accuracy</td><td>▆▆▅▃▁▃▃▃▃▃▃▃▃▃▃▃▃▃▃▃▄▅▅▅▆▆▆▆▆▆▇▇▇▇▇▇████</td></tr><tr><td>val_loss</td><td>▁▂█▆▅▄▃▃▃▃▂▂▂▂▂▂▂▂▂▂▂▂▂▂▂▂▂▂▂▂▂▂▂▂▂▂▂▂▂▂</td></tr></table><br/></div><div class=\"wandb-col\"><h3>Run summary:</h3><br/><table class=\"wandb\"><tr><td>epoch</td><td>149</td></tr><tr><td>final_test_accuracy</td><td>0.65625</td></tr><tr><td>final_train_accuracy</td><td>0.64844</td></tr><tr><td>final_val_accuracy</td><td>0.63672</td></tr><tr><td>spike_count_train_epoch</td><td>0</td></tr><tr><td>spike_count_val_epoch</td><td>0</td></tr><tr><td>train_loss</td><td>0.65893</td></tr><tr><td>val_accuracy</td><td>0.63672</td></tr><tr><td>val_loss</td><td>0.66304</td></tr></table><br/></div></div>"
      ],
      "text/plain": [
       "<IPython.core.display.HTML object>"
      ]
     },
     "metadata": {},
     "output_type": "display_data"
    },
    {
     "data": {
      "text/html": [
       " View run <strong style=\"color:#cdcd00\">Hybrid_RNN_SNN_V1_same_layer-l1_1e-06-l2_1e-05</strong> at: <a href='https://wandb.ai/nar8991-new-york-university/SNN_test_optimize/runs/i8alz35o' target=\"_blank\">https://wandb.ai/nar8991-new-york-university/SNN_test_optimize/runs/i8alz35o</a><br> View project at: <a href='https://wandb.ai/nar8991-new-york-university/SNN_test_optimize' target=\"_blank\">https://wandb.ai/nar8991-new-york-university/SNN_test_optimize</a><br>Synced 5 W&B file(s), 0 media file(s), 0 artifact file(s) and 0 other file(s)"
      ],
      "text/plain": [
       "<IPython.core.display.HTML object>"
      ]
     },
     "metadata": {},
     "output_type": "display_data"
    },
    {
     "data": {
      "text/html": [
       "Find logs at: <code>./wandb/run-20250417_142350-i8alz35o/logs</code>"
      ],
      "text/plain": [
       "<IPython.core.display.HTML object>"
      ]
     },
     "metadata": {},
     "output_type": "display_data"
    },
    {
     "name": "stderr",
     "output_type": "stream",
     "text": [
      "\u001b[34m\u001b[1mwandb\u001b[0m: Agent Starting Run: k25tlpat with config:\n",
      "\u001b[34m\u001b[1mwandb\u001b[0m: \tepochs: 150\n",
      "\u001b[34m\u001b[1mwandb\u001b[0m: \tl1: 5e-06\n",
      "\u001b[34m\u001b[1mwandb\u001b[0m: \tl2: 1e-06\n",
      "\u001b[34m\u001b[1mwandb\u001b[0m: \tlearning_rate: 0.002\n",
      "\u001b[34m\u001b[1mwandb\u001b[0m: \tmodel_name: Hybrid_RNN_SNN_V1_same_layer\n",
      "\u001b[34m\u001b[1mwandb\u001b[0m: \toptimizer: Adam\n",
      "\u001b[34m\u001b[1mwandb\u001b[0m: \tregularization: True\n"
     ]
    },
    {
     "data": {
      "text/html": [
       "Ignoring project 'SNN_test_optimize' when running a sweep."
      ],
      "text/plain": [
       "<IPython.core.display.HTML object>"
      ]
     },
     "metadata": {},
     "output_type": "display_data"
    },
    {
     "data": {
      "text/html": [
       "Tracking run with wandb version 0.19.9"
      ],
      "text/plain": [
       "<IPython.core.display.HTML object>"
      ]
     },
     "metadata": {},
     "output_type": "display_data"
    },
    {
     "data": {
      "text/html": [
       "Run data is saved locally in <code>/Users/naliniramanathan/projects/snn_project/spytorch/notebooks/wandb/run-20250417_142658-k25tlpat</code>"
      ],
      "text/plain": [
       "<IPython.core.display.HTML object>"
      ]
     },
     "metadata": {},
     "output_type": "display_data"
    },
    {
     "data": {
      "text/html": [
       "Syncing run <strong><a href='https://wandb.ai/nar8991-new-york-university/SNN_test_optimize/runs/k25tlpat' target=\"_blank\">dauntless-sweep-4</a></strong> to <a href='https://wandb.ai/nar8991-new-york-university/SNN_test_optimize' target=\"_blank\">Weights & Biases</a> (<a href='https://wandb.me/developer-guide' target=\"_blank\">docs</a>)<br>Sweep page: <a href='https://wandb.ai/nar8991-new-york-university/SNN_test_optimize/sweeps/gv49xpkt' target=\"_blank\">https://wandb.ai/nar8991-new-york-university/SNN_test_optimize/sweeps/gv49xpkt</a>"
      ],
      "text/plain": [
       "<IPython.core.display.HTML object>"
      ]
     },
     "metadata": {},
     "output_type": "display_data"
    },
    {
     "data": {
      "text/html": [
       " View project at <a href='https://wandb.ai/nar8991-new-york-university/SNN_test_optimize' target=\"_blank\">https://wandb.ai/nar8991-new-york-university/SNN_test_optimize</a>"
      ],
      "text/plain": [
       "<IPython.core.display.HTML object>"
      ]
     },
     "metadata": {},
     "output_type": "display_data"
    },
    {
     "data": {
      "text/html": [
       " View sweep at <a href='https://wandb.ai/nar8991-new-york-university/SNN_test_optimize/sweeps/gv49xpkt' target=\"_blank\">https://wandb.ai/nar8991-new-york-university/SNN_test_optimize/sweeps/gv49xpkt</a>"
      ],
      "text/plain": [
       "<IPython.core.display.HTML object>"
      ]
     },
     "metadata": {},
     "output_type": "display_data"
    },
    {
     "data": {
      "text/html": [
       " View run at <a href='https://wandb.ai/nar8991-new-york-university/SNN_test_optimize/runs/k25tlpat' target=\"_blank\">https://wandb.ai/nar8991-new-york-university/SNN_test_optimize/runs/k25tlpat</a>"
      ],
      "text/plain": [
       "<IPython.core.display.HTML object>"
      ]
     },
     "metadata": {},
     "output_type": "display_data"
    },
    {
     "name": "stderr",
     "output_type": "stream",
     "text": [
      "/var/folders/7b/0zqwym191dq_5jvhhbf5lfgr0000gn/T/ipykernel_69979/3981686502.py:11: UserWarning: To copy construct from a tensor, it is recommended to use sourceTensor.clone().detach() or sourceTensor.clone().detach().requires_grad_(True), rather than torch.tensor(sourceTensor).\n",
      "  data_tensor = torch.tensor(x_data, dtype=torch.float32)\n"
     ]
    },
    {
     "name": "stdout",
     "output_type": "stream",
     "text": [
      "init done\n"
     ]
    }
   ],
   "source": [
    "# Now let's do it for all models\n",
    "sweep_config = {\n",
    "    'method': 'grid',\n",
    "    'name': 'SNN Regularization Sweep',\n",
    "    'metric': {\n",
    "        'name': 'val_accuracy',\n",
    "        'goal': 'maximize'\n",
    "    },\n",
    "    'parameters': {\n",
    "        'l1': {\n",
    "            'values': [1e-6, 5e-6, 1e-5]\n",
    "        },\n",
    "        'l2': {\n",
    "            'values': [1e-6, 5e-6, 1e-5]\n",
    "        },\n",
    "        'learning_rate': {\n",
    "            'value': 2e-3 # Keep learning rate constant for this sweep\n",
    "        },\n",
    "        'epochs': {\n",
    "            'value': 150 # Keep epochs constant for this sweep\n",
    "        },\n",
    "        'regularization':{\n",
    "            'value': True # Ensure regularization is always on for this sweep\n",
    "        },\n",
    "        'optimizer': {\n",
    "            'value': \"Adam\"\n",
    "        },\n",
    "        'model_name':{\n",
    "            'value': \"SNN\"\n",
    "        }\n",
    "    }\n",
    "}\n",
    "\n",
    "for model_name, model_func in function_mappings.items():\n",
    "    # sweep_config['name'] = f'Regularization Sweep - {model_name}'\n",
    "    if model_name == \"SNN\":\n",
    "        continue\n",
    "    if model_name == \"SNN_recurrent\":\n",
    "        continue\n",
    "    if model_name == \"ANN_non_recurrent_with_LIF_output\":\n",
    "        continue\n",
    "    # Set the model name in the sweep config\n",
    "    sweep_config['parameters']['model_name']['value'] = model_name\n",
    "\n",
    "    # Initialize a Wandb sweep for the current model\n",
    "    sweep_id = wandb.sweep(sweep_config, project=\"SNN_test_optimize\")\n",
    "\n",
    "    # Run the sweep agent\n",
    "    wandb.agent(sweep_id, train_sweep, count=9)  # Run all 3 x 3 combinations"
   ]
  }
 ],
 "metadata": {
  "kernelspec": {
   "display_name": "snn_hybrid",
   "language": "python",
   "name": "python3"
  },
  "language_info": {
   "codemirror_mode": {
    "name": "ipython",
    "version": 3
   },
   "file_extension": ".py",
   "mimetype": "text/x-python",
   "name": "python",
   "nbconvert_exporter": "python",
   "pygments_lexer": "ipython3",
   "version": "3.13.2"
  }
 },
 "nbformat": 4,
 "nbformat_minor": 2
}
